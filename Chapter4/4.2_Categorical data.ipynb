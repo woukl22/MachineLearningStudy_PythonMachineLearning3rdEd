{
  "nbformat": 4,
  "nbformat_minor": 0,
  "metadata": {
    "colab": {
      "name": "4.2_범주형 데이터 다루기.ipynb",
      "provenance": [],
      "collapsed_sections": [],
      "toc_visible": true,
      "authorship_tag": "ABX9TyMjqIrHXtxhRSse5H8UvyK4"
    },
    "kernelspec": {
      "name": "python3",
      "display_name": "Python 3"
    },
    "language_info": {
      "name": "python"
    }
  },
  "cells": [
    {
      "cell_type": "markdown",
      "metadata": {
        "id": "XaJjF-kslCEK"
      },
      "source": [
        "# 4.2 범주형 데이터 다루기"
      ]
    },
    {
      "cell_type": "markdown",
      "metadata": {
        "id": "do55bKAalHMQ"
      },
      "source": [
        "4.1절에서는 수치형 데이터만 사용했지만, **실제 데이터 셋에는 범주형 데이터도 포함**되어 있다.<br>\n",
        "\n",
        "범주형 데이터는 순서가 있는 것과 없는 것을 구분해야 한다.\n",
        "- **순서가 있는 특성**: 정렬하거나 차례대로 놓을 수 있다.\n",
        "      ex) '최상 > 상 > 중 > 하 > 최하'\n",
        "- **순서가 없는 특성**: 차례를 부여할 수 없다.\n",
        "      ex) 축구 팀 이름: 맨체스터 유나이티드, 첼시, 리버풀, 아스날\n",
        "---"
      ]
    },
    {
      "cell_type": "markdown",
      "metadata": {
        "id": "xYtfkxcFnR65"
      },
      "source": [
        "#### 예제를 위한 범주형 데이터가 포함된 DataFrame"
      ]
    },
    {
      "cell_type": "markdown",
      "metadata": {
        "id": "GRbAWis-nRTI"
      },
      "source": [
        "새로운 DataFrame에는 다양한 특성을 가진 데이터가 준비되어 있다.<br>\n",
        "- **순서가 없는 특성**: ```color```\n",
        "- **순서가 있는 특성**: ```size```\n",
        "- **수치형 특성**: ```price```\n",
        "- **클래스 레이블**: ```classlabel```"
      ]
    },
    {
      "cell_type": "code",
      "metadata": {
        "colab": {
          "base_uri": "https://localhost:8080/",
          "height": 142
        },
        "id": "vO_abMsxmtlA",
        "outputId": "7b9ff10b-b370-40e1-d624-f2255fa1cf47"
      },
      "source": [
        "import pandas as pd\n",
        "df = pd.DataFrame([\n",
        "                   ['green', 'M', 10.1, 'class1'],\n",
        "                   ['red', 'L', 13.5, 'class2'],\n",
        "                   ['blue', 'XL', 15.3, 'class1']])\n",
        "df.columns = ['color', 'size', 'price', 'classlabel']\n",
        "df"
      ],
      "execution_count": 25,
      "outputs": [
        {
          "output_type": "execute_result",
          "data": {
            "text/html": [
              "<div>\n",
              "<style scoped>\n",
              "    .dataframe tbody tr th:only-of-type {\n",
              "        vertical-align: middle;\n",
              "    }\n",
              "\n",
              "    .dataframe tbody tr th {\n",
              "        vertical-align: top;\n",
              "    }\n",
              "\n",
              "    .dataframe thead th {\n",
              "        text-align: right;\n",
              "    }\n",
              "</style>\n",
              "<table border=\"1\" class=\"dataframe\">\n",
              "  <thead>\n",
              "    <tr style=\"text-align: right;\">\n",
              "      <th></th>\n",
              "      <th>color</th>\n",
              "      <th>size</th>\n",
              "      <th>price</th>\n",
              "      <th>classlabel</th>\n",
              "    </tr>\n",
              "  </thead>\n",
              "  <tbody>\n",
              "    <tr>\n",
              "      <th>0</th>\n",
              "      <td>green</td>\n",
              "      <td>M</td>\n",
              "      <td>10.1</td>\n",
              "      <td>class1</td>\n",
              "    </tr>\n",
              "    <tr>\n",
              "      <th>1</th>\n",
              "      <td>red</td>\n",
              "      <td>L</td>\n",
              "      <td>13.5</td>\n",
              "      <td>class2</td>\n",
              "    </tr>\n",
              "    <tr>\n",
              "      <th>2</th>\n",
              "      <td>blue</td>\n",
              "      <td>XL</td>\n",
              "      <td>15.3</td>\n",
              "      <td>class1</td>\n",
              "    </tr>\n",
              "  </tbody>\n",
              "</table>\n",
              "</div>"
            ],
            "text/plain": [
              "   color size  price classlabel\n",
              "0  green    M   10.1     class1\n",
              "1    red    L   13.5     class2\n",
              "2   blue   XL   15.3     class1"
            ]
          },
          "metadata": {},
          "execution_count": 25
        }
      ]
    },
    {
      "cell_type": "markdown",
      "metadata": {
        "id": "GjB0Y19PoA0J"
      },
      "source": [
        "## 4.2.1 순서가 있는 특성 매핑"
      ]
    },
    {
      "cell_type": "markdown",
      "metadata": {
        "id": "nodiv6KnoT4a"
      },
      "source": [
        "학습 알고리즘이 순서가 있는 특성을 제대로 인식하려면 범주형 문자열 값을 정수형으로 바꿔야 한다.<br>\n",
        "\n",
        "                                          XL = L + 1 = M + 2"
      ]
    },
    {
      "cell_type": "code",
      "metadata": {
        "colab": {
          "base_uri": "https://localhost:8080/",
          "height": 142
        },
        "id": "n9xUFYBHnPzw",
        "outputId": "41084cbd-1958-4617-bcdc-92e37bede09b"
      },
      "source": [
        "size_mapping = {\n",
        "                'XL': 3,\n",
        "                'L': 2,\n",
        "                'M': 1}\n",
        "df['size'] = df['size'].map(size_mapping)\n",
        "df"
      ],
      "execution_count": 26,
      "outputs": [
        {
          "output_type": "execute_result",
          "data": {
            "text/html": [
              "<div>\n",
              "<style scoped>\n",
              "    .dataframe tbody tr th:only-of-type {\n",
              "        vertical-align: middle;\n",
              "    }\n",
              "\n",
              "    .dataframe tbody tr th {\n",
              "        vertical-align: top;\n",
              "    }\n",
              "\n",
              "    .dataframe thead th {\n",
              "        text-align: right;\n",
              "    }\n",
              "</style>\n",
              "<table border=\"1\" class=\"dataframe\">\n",
              "  <thead>\n",
              "    <tr style=\"text-align: right;\">\n",
              "      <th></th>\n",
              "      <th>color</th>\n",
              "      <th>size</th>\n",
              "      <th>price</th>\n",
              "      <th>classlabel</th>\n",
              "    </tr>\n",
              "  </thead>\n",
              "  <tbody>\n",
              "    <tr>\n",
              "      <th>0</th>\n",
              "      <td>green</td>\n",
              "      <td>1</td>\n",
              "      <td>10.1</td>\n",
              "      <td>class1</td>\n",
              "    </tr>\n",
              "    <tr>\n",
              "      <th>1</th>\n",
              "      <td>red</td>\n",
              "      <td>2</td>\n",
              "      <td>13.5</td>\n",
              "      <td>class2</td>\n",
              "    </tr>\n",
              "    <tr>\n",
              "      <th>2</th>\n",
              "      <td>blue</td>\n",
              "      <td>3</td>\n",
              "      <td>15.3</td>\n",
              "      <td>class1</td>\n",
              "    </tr>\n",
              "  </tbody>\n",
              "</table>\n",
              "</div>"
            ],
            "text/plain": [
              "   color  size  price classlabel\n",
              "0  green     1   10.1     class1\n",
              "1    red     2   13.5     class2\n",
              "2   blue     3   15.3     class1"
            ]
          },
          "metadata": {},
          "execution_count": 26
        }
      ]
    },
    {
      "cell_type": "markdown",
      "metadata": {
        "id": "IMTi6Vf3o1J4"
      },
      "source": [
        "---\n",
        "만약 정수 값을 **다시 원래 문자열로 바꾸고 싶다면** 거꾸로 매핑하는 딕셔너리를 정의하면 된다.<br><br>\n",
        "\n",
        "```inv_size_mapping = {v: k for k, v in size_mapping.items()}```\n",
        "\n",
        "<br>\n",
        "\n",
        "```size_mapping``` 딕셔너리와 비슷하게 **판다스의 map 메소드를 사용**하여 변환된 특성 열에 적용할 수 있다."
      ]
    },
    {
      "cell_type": "code",
      "metadata": {
        "colab": {
          "base_uri": "https://localhost:8080/"
        },
        "id": "W9FFvrCEoSxU",
        "outputId": "1de4261e-d555-4722-c4fb-b9cabc66453d"
      },
      "source": [
        "inv_size_mapping = {v: k for k, v in size_mapping.items()}\n",
        "df['size'].map(inv_size_mapping)"
      ],
      "execution_count": 27,
      "outputs": [
        {
          "output_type": "execute_result",
          "data": {
            "text/plain": [
              "0     M\n",
              "1     L\n",
              "2    XL\n",
              "Name: size, dtype: object"
            ]
          },
          "metadata": {},
          "execution_count": 27
        }
      ]
    },
    {
      "cell_type": "markdown",
      "metadata": {
        "id": "Oe3L5T_dpZHx"
      },
      "source": [
        "## 4.2.2 클래스 레이블 인코딩"
      ]
    },
    {
      "cell_type": "markdown",
      "metadata": {
        "id": "L-9fxUgcqCDt"
      },
      "source": [
        "사이킷런은 대부분 클래스 레이블을 정수로 변환해 주지만, 실수를 방지하기 위해서 **클래스 레이블을 정수 배열로 전달하는 것이 좋다**.<br>\n",
        "\n",
        "클래스 레이블은 순서가 없기 때문에 특정 클래스 레이블에 할당한 **숫자는 의미가 없다.**"
      ]
    },
    {
      "cell_type": "markdown",
      "metadata": {
        "id": "pjDQ7u8Js5FU"
      },
      "source": [
        "1. ```enumerate```를 사용하여 클래스 레이블을 0부터 할당한다.<br>\n",
        "(```enumerate```는 반복 가능한 객체(문자열, 리스트, 넘파이 배열 등)를 입력으로 받아 인덱스와 값의 튜플을 차례대로 반환하는 파이썬 내장 함수이다.)"
      ]
    },
    {
      "cell_type": "code",
      "metadata": {
        "colab": {
          "base_uri": "https://localhost:8080/"
        },
        "id": "9MSlRYhJozBt",
        "outputId": "8a50c2c3-1c22-41e2-9555-8e6d66774ff8"
      },
      "source": [
        "import numpy as np\n",
        "class_mapping = {label:idx for idx, label in enumerate(np.unique(df['classlabel']))}\n",
        "class_mapping"
      ],
      "execution_count": 28,
      "outputs": [
        {
          "output_type": "execute_result",
          "data": {
            "text/plain": [
              "{'class1': 0, 'class2': 1}"
            ]
          },
          "metadata": {},
          "execution_count": 28
        }
      ]
    },
    {
      "cell_type": "markdown",
      "metadata": {
        "id": "EetZVNQIrmkM"
      },
      "source": [
        "2. 매핑 딕셔너리를 사용하여 클래스 레이블을 정수로 변환한다."
      ]
    },
    {
      "cell_type": "code",
      "metadata": {
        "colab": {
          "base_uri": "https://localhost:8080/",
          "height": 142
        },
        "id": "gvBeREEbqAfM",
        "outputId": "1fefa7de-d995-40a9-8671-336e3bfeef25"
      },
      "source": [
        "df['classlabel'] = df['classlabel'].map(class_mapping)\n",
        "df"
      ],
      "execution_count": 29,
      "outputs": [
        {
          "output_type": "execute_result",
          "data": {
            "text/html": [
              "<div>\n",
              "<style scoped>\n",
              "    .dataframe tbody tr th:only-of-type {\n",
              "        vertical-align: middle;\n",
              "    }\n",
              "\n",
              "    .dataframe tbody tr th {\n",
              "        vertical-align: top;\n",
              "    }\n",
              "\n",
              "    .dataframe thead th {\n",
              "        text-align: right;\n",
              "    }\n",
              "</style>\n",
              "<table border=\"1\" class=\"dataframe\">\n",
              "  <thead>\n",
              "    <tr style=\"text-align: right;\">\n",
              "      <th></th>\n",
              "      <th>color</th>\n",
              "      <th>size</th>\n",
              "      <th>price</th>\n",
              "      <th>classlabel</th>\n",
              "    </tr>\n",
              "  </thead>\n",
              "  <tbody>\n",
              "    <tr>\n",
              "      <th>0</th>\n",
              "      <td>green</td>\n",
              "      <td>1</td>\n",
              "      <td>10.1</td>\n",
              "      <td>0</td>\n",
              "    </tr>\n",
              "    <tr>\n",
              "      <th>1</th>\n",
              "      <td>red</td>\n",
              "      <td>2</td>\n",
              "      <td>13.5</td>\n",
              "      <td>1</td>\n",
              "    </tr>\n",
              "    <tr>\n",
              "      <th>2</th>\n",
              "      <td>blue</td>\n",
              "      <td>3</td>\n",
              "      <td>15.3</td>\n",
              "      <td>0</td>\n",
              "    </tr>\n",
              "  </tbody>\n",
              "</table>\n",
              "</div>"
            ],
            "text/plain": [
              "   color  size  price  classlabel\n",
              "0  green     1   10.1           0\n",
              "1    red     2   13.5           1\n",
              "2   blue     3   15.3           0"
            ]
          },
          "metadata": {},
          "execution_count": 29
        }
      ]
    },
    {
      "cell_type": "markdown",
      "metadata": {
        "id": "sud9oYclr6jj"
      },
      "source": [
        "---\n",
        "####원본 문자열로 바꾸는 방법"
      ]
    },
    {
      "cell_type": "markdown",
      "metadata": {
        "id": "B_w-i64Pt6eA"
      },
      "source": [
        "1. 다음과 같이 **매핑 딕셔너리의 키-값 쌍을 뒤집**는다."
      ]
    },
    {
      "cell_type": "code",
      "metadata": {
        "colab": {
          "base_uri": "https://localhost:8080/",
          "height": 142
        },
        "id": "bRpkqXxfrOPB",
        "outputId": "31b10b90-0bfb-4973-b8c1-f7fe7f67a814"
      },
      "source": [
        "inv_class_mapping = {v: k for k, v in class_mapping.items()}\n",
        "df['classlabel'] = df['classlabel'].map(inv_class_mapping)\n",
        "df"
      ],
      "execution_count": 30,
      "outputs": [
        {
          "output_type": "execute_result",
          "data": {
            "text/html": [
              "<div>\n",
              "<style scoped>\n",
              "    .dataframe tbody tr th:only-of-type {\n",
              "        vertical-align: middle;\n",
              "    }\n",
              "\n",
              "    .dataframe tbody tr th {\n",
              "        vertical-align: top;\n",
              "    }\n",
              "\n",
              "    .dataframe thead th {\n",
              "        text-align: right;\n",
              "    }\n",
              "</style>\n",
              "<table border=\"1\" class=\"dataframe\">\n",
              "  <thead>\n",
              "    <tr style=\"text-align: right;\">\n",
              "      <th></th>\n",
              "      <th>color</th>\n",
              "      <th>size</th>\n",
              "      <th>price</th>\n",
              "      <th>classlabel</th>\n",
              "    </tr>\n",
              "  </thead>\n",
              "  <tbody>\n",
              "    <tr>\n",
              "      <th>0</th>\n",
              "      <td>green</td>\n",
              "      <td>1</td>\n",
              "      <td>10.1</td>\n",
              "      <td>class1</td>\n",
              "    </tr>\n",
              "    <tr>\n",
              "      <th>1</th>\n",
              "      <td>red</td>\n",
              "      <td>2</td>\n",
              "      <td>13.5</td>\n",
              "      <td>class2</td>\n",
              "    </tr>\n",
              "    <tr>\n",
              "      <th>2</th>\n",
              "      <td>blue</td>\n",
              "      <td>3</td>\n",
              "      <td>15.3</td>\n",
              "      <td>class1</td>\n",
              "    </tr>\n",
              "  </tbody>\n",
              "</table>\n",
              "</div>"
            ],
            "text/plain": [
              "   color  size  price classlabel\n",
              "0  green     1   10.1     class1\n",
              "1    red     2   13.5     class2\n",
              "2   blue     3   15.3     class1"
            ]
          },
          "metadata": {},
          "execution_count": 30
        }
      ]
    },
    {
      "cell_type": "markdown",
      "metadata": {
        "id": "SZepGY_NtHwZ"
      },
      "source": [
        "2. 사이킷런에 구현된 **```LabelEncoder```를 사용**한다.<br>\n",
        "(```LabelEncoder``` 객체의 ```classes_```속성에 각 클래스의 레이블이 저장되어 있다.)"
      ]
    },
    {
      "cell_type": "code",
      "metadata": {
        "colab": {
          "base_uri": "https://localhost:8080/"
        },
        "id": "h9oSUJMnrXIC",
        "outputId": "97ca928f-8f45-4ad2-b62b-aa9e052468ca"
      },
      "source": [
        "from sklearn.preprocessing import LabelEncoder\n",
        "class_le = LabelEncoder()\n",
        "y = class_le.fit_transform(df['classlabel'].values)\n",
        "y"
      ],
      "execution_count": 31,
      "outputs": [
        {
          "output_type": "execute_result",
          "data": {
            "text/plain": [
              "array([0, 1, 0])"
            ]
          },
          "metadata": {},
          "execution_count": 31
        }
      ]
    },
    {
      "cell_type": "markdown",
      "metadata": {
        "id": "TbEc0znvvcyS"
      },
      "source": [
        "    - fit_transform 메소드는 fit 메소드와 transform 메소드를 합쳐 놓은 단축 메소드이다."
      ]
    },
    {
      "cell_type": "markdown",
      "metadata": {
        "id": "P8If_e5ht_wI"
      },
      "source": [
        "3. **```inverse_transform``` 메소드를 사용**한다."
      ]
    },
    {
      "cell_type": "code",
      "metadata": {
        "colab": {
          "base_uri": "https://localhost:8080/"
        },
        "id": "dmMcAiidrhMS",
        "outputId": "4d6a35b4-85c4-48d0-fb9c-822b172f9dd2"
      },
      "source": [
        "class_le.inverse_transform(y)"
      ],
      "execution_count": 32,
      "outputs": [
        {
          "output_type": "execute_result",
          "data": {
            "text/plain": [
              "array(['class1', 'class2', 'class1'], dtype=object)"
            ]
          },
          "metadata": {},
          "execution_count": 32
        }
      ]
    },
    {
      "cell_type": "markdown",
      "metadata": {
        "id": "D8Xy6KO2uxRa"
      },
      "source": [
        "## 4.2.3 순서가 없는 특성에 원-핫 인코딩 적용"
      ]
    },
    {
      "cell_type": "markdown",
      "metadata": {
        "id": "f_NqyHd7wGqv"
      },
      "source": [
        "순서가 없는 ```color``` 열에도 ```LabelEncoder```를 사용하여 문자열 레이블을 정수로 바꿀 수 있다."
      ]
    },
    {
      "cell_type": "code",
      "metadata": {
        "colab": {
          "base_uri": "https://localhost:8080/"
        },
        "id": "OlMjiHqhrjea",
        "outputId": "249adc42-ffa5-4aa3-fc38-0af301f14653"
      },
      "source": [
        "X = df[['color', 'size', 'price']].values\n",
        "color_le = LabelEncoder()\n",
        "X[:, 0] = color_le.fit_transform(X[:, 0])\n",
        "X"
      ],
      "execution_count": 33,
      "outputs": [
        {
          "output_type": "execute_result",
          "data": {
            "text/plain": [
              "array([[1, 1, 10.1],\n",
              "       [2, 2, 13.5],\n",
              "       [0, 3, 15.3]], dtype=object)"
            ]
          },
          "metadata": {},
          "execution_count": 33
        }
      ]
    },
    {
      "cell_type": "markdown",
      "metadata": {
        "id": "GnH7DkcHwECT"
      },
      "source": [
        "- blue = 0\n",
        "- green = 1\n",
        "- red = 2\n",
        "---"
      ]
    },
    {
      "cell_type": "markdown",
      "metadata": {
        "id": "xi0f3witwzU5"
      },
      "source": [
        "### LabelEncoder"
      ]
    },
    {
      "cell_type": "markdown",
      "metadata": {
        "id": "-96fti0tw1zq"
      },
      "source": [
        "위의 코드에서 ```color``` 열만 추출해서 주입한 이유는 **```LabelEncoder```는 입력 데이터로 1차원 배열을 받기 때문**이다.<br>\n",
        "\n",
        "1차원 배열을 받는 이유는 **타깃 레이블을 인코딩하기 위해** 만들어진 클래스이기 때문이다."
      ]
    },
    {
      "cell_type": "markdown",
      "metadata": {
        "id": "9OAQv7nexaNv"
      },
      "source": [
        "### OrdinalEncoder & ColumnTransformer"
      ]
    },
    {
      "cell_type": "markdown",
      "metadata": {
        "id": "KxgchFbjxgYE"
      },
      "source": [
        "```OrdinalEncoder```와 ```ColumnTransformer```를 함께 사용하면 **여러 개의 열을 한 번에 정수로 변환**할 수 있다.\n",
        "- **```OrdinalEncoder```**: 범주형 데이터를 정수로 인코딩하는 클래스\n",
        "\n",
        "- **```ColumnTransformer```**: pandas 데이터프레임의 열마다 다른 변환을 적용하도록 도와주는 클래스"
      ]
    },
    {
      "cell_type": "markdown",
      "metadata": {
        "id": "4bkNpltq1v80"
      },
      "source": [
        "#### ```ColumnTransformer``` 클래스"
      ]
    },
    {
      "cell_type": "code",
      "metadata": {
        "colab": {
          "base_uri": "https://localhost:8080/"
        },
        "id": "qKyt_j2zv6or",
        "outputId": "a6dae5aa-ee24-46a6-a19d-b1bdbc842d43"
      },
      "source": [
        "from sklearn.compose import ColumnTransformer\n",
        "from sklearn.preprocessing import OrdinalEncoder\n",
        "ord_enc = OrdinalEncoder(dtype=np.int)\n",
        "col_trans = ColumnTransformer([('ord_enc', ord_enc, ['color'])])\n",
        "X_trans = col_trans.fit_transform(df)\n",
        "X_trans"
      ],
      "execution_count": 34,
      "outputs": [
        {
          "output_type": "execute_result",
          "data": {
            "text/plain": [
              "array([[1],\n",
              "       [2],\n",
              "       [0]])"
            ]
          },
          "metadata": {},
          "execution_count": 34
        }
      ]
    },
    {
      "cell_type": "markdown",
      "metadata": {
        "id": "_K5l0jL8yhv_"
      },
      "source": [
        "```ColumnTransformer```는 첫 번째 매개변수로 트랜스포머(transformer)의 리스트를 받는다.<br>\n",
        "\n",
        "    def __init__(transformers, remainder='drop', sparse_threshold=0.3, n_jobs=None, transformer_weights=None, verbose=False)\n",
        "\n",
        "**트랜스포머(transformer)**: 이름, 변환기, 변환할 열의 리스트로 이루어진 튜플\n",
        "- 이름: ```ord_enc```<br>\n",
        "\n",
        "- 변환기: ```OrdinalEncoder``` 객체<br>\n",
        "\n",
        "- 변환할 열: ```color```\n",
        "\n",
        "<br>\n",
        "\n",
        "위 코드의 결과는 ```color``` 열이 정수 값으로 변환되었다.<br><br>\n",
        "\n",
        "\n",
        "```ColumnTransformer```에 사용한 변환기는 ```named_transformers_``` 속성에서 앞서 지정한 ord_enc 이름으로 참조할 수 있다.<br>\n",
        "\n",
        "정수로 인코딩된 값을 **다시 문자열로 변환**하려면 ```inverse_transform``` 메소드를 호출하면 된다."
      ]
    },
    {
      "cell_type": "code",
      "metadata": {
        "colab": {
          "base_uri": "https://localhost:8080/"
        },
        "id": "0jM2hI4AyWud",
        "outputId": "29e70e3c-c6ed-46a0-f054-fff0fbfc9610"
      },
      "source": [
        "col_trans.named_transformers_['ord_enc'].inverse_transform(X_trans)"
      ],
      "execution_count": 35,
      "outputs": [
        {
          "output_type": "execute_result",
          "data": {
            "text/plain": [
              "array([['green'],\n",
              "       ['red'],\n",
              "       ['blue']], dtype=object)"
            ]
          },
          "metadata": {},
          "execution_count": 35
        }
      ]
    },
    {
      "cell_type": "markdown",
      "metadata": {
        "id": "uSeWHHPI1qXg"
      },
      "source": [
        "#### ```OrdinalEncoder``` 클래스"
      ]
    },
    {
      "cell_type": "markdown",
      "metadata": {
        "id": "T7Q26LnS2GHA"
      },
      "source": [
        "    def __init__(categories='auto', dtype=np.float64)\n",
        "**```dtype```** 매개변수:\n",
        "- 기본값: **```np.float64```**, 실수로 인코딩한다.\n",
        "- **정수**로 인코딩하고 싶으면 **```np.int```를 지정**하면 된다.\n",
        "\n",
        "<br>\n",
        "\n",
        "**```categories```** 매개변수:\n",
        "- 기본값: ```auto```, 훈련 데이터셋에서 **자동으로 범주를 인식**한다.\n",
        "- ```categories``` 매개변수에 **직접 범주 리스트를 전달**할 수 있다.\n",
        "- 인식된 범주는 **```categories_``` 속성에 저장**된다.\n"
      ]
    }
  ]
}