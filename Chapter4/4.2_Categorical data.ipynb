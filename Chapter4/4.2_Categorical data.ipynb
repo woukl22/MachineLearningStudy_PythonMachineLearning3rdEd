{
  "nbformat": 4,
  "nbformat_minor": 0,
  "metadata": {
    "colab": {
      "name": "4.2_범주형 데이터 다루기.ipynb",
      "provenance": [],
      "collapsed_sections": [],
      "authorship_tag": "ABX9TyOByjhVa0FC++PMYQPMdm7d"
    },
    "kernelspec": {
      "name": "python3",
      "display_name": "Python 3"
    },
    "language_info": {
      "name": "python"
    }
  },
  "cells": [
    {
      "cell_type": "markdown",
      "metadata": {
        "id": "XaJjF-kslCEK"
      },
      "source": [
        "# **4.2 범주형 데이터 다루기**"
      ]
    },
    {
      "cell_type": "markdown",
      "metadata": {
        "id": "do55bKAalHMQ"
      },
      "source": [
        "4.1절에서는 수치형 데이터만 사용했지만, **실제 데이터 셋에는 범주형 데이터도 포함**되어 있다.<br>\n",
        "\n",
        "범주형 데이터는 순서가 있는 것과 없는 것을 구분해야 한다.\n",
        "- **순서가 있는 특성**: 정렬하거나 차례대로 놓을 수 있다.\n",
        "      ex) '최상 > 상 > 중 > 하 > 최하'\n",
        "- **순서가 없는 특성**: 차례를 부여할 수 없다.\n",
        "      ex) 축구 팀 이름: 맨체스터 유나이티드, 첼시, 리버풀, 아스날\n",
        "---"
      ]
    },
    {
      "cell_type": "markdown",
      "metadata": {
        "id": "xYtfkxcFnR65"
      },
      "source": [
        "#### 예제를 위한 범주형 데이터가 포함된 DataFrame"
      ]
    },
    {
      "cell_type": "markdown",
      "metadata": {
        "id": "GRbAWis-nRTI"
      },
      "source": [
        "새로운 DataFrame에는 다양한 특성을 가진 데이터가 준비되어 있다.<br>\n",
        "- **순서가 없는 특성**: ```color```\n",
        "- **순서가 있는 특성**: ```size```\n",
        "- **수치형 특성**: ```price```\n",
        "- **클래스 레이블**: ```classlabel```"
      ]
    },
    {
      "cell_type": "code",
      "metadata": {
        "colab": {
          "base_uri": "https://localhost:8080/",
          "height": 142
        },
        "id": "vO_abMsxmtlA",
        "outputId": "c428e6f7-b918-44b9-a7b4-787a50056d88"
      },
      "source": [
        "import pandas as pd\n",
        "df = pd.DataFrame([\n",
        "                   ['green', 'M', 10.1, 'class1'],\n",
        "                   ['red', 'L', 13.5, 'class2'],\n",
        "                   ['blue', 'XL', 15.3, 'class1']])\n",
        "df.columns = ['color', 'size', 'price', 'classlabel']\n",
        "df"
      ],
      "execution_count": 1,
      "outputs": [
        {
          "output_type": "execute_result",
          "data": {
            "text/html": [
              "<div>\n",
              "<style scoped>\n",
              "    .dataframe tbody tr th:only-of-type {\n",
              "        vertical-align: middle;\n",
              "    }\n",
              "\n",
              "    .dataframe tbody tr th {\n",
              "        vertical-align: top;\n",
              "    }\n",
              "\n",
              "    .dataframe thead th {\n",
              "        text-align: right;\n",
              "    }\n",
              "</style>\n",
              "<table border=\"1\" class=\"dataframe\">\n",
              "  <thead>\n",
              "    <tr style=\"text-align: right;\">\n",
              "      <th></th>\n",
              "      <th>color</th>\n",
              "      <th>size</th>\n",
              "      <th>price</th>\n",
              "      <th>classlabel</th>\n",
              "    </tr>\n",
              "  </thead>\n",
              "  <tbody>\n",
              "    <tr>\n",
              "      <th>0</th>\n",
              "      <td>green</td>\n",
              "      <td>M</td>\n",
              "      <td>10.1</td>\n",
              "      <td>class1</td>\n",
              "    </tr>\n",
              "    <tr>\n",
              "      <th>1</th>\n",
              "      <td>red</td>\n",
              "      <td>L</td>\n",
              "      <td>13.5</td>\n",
              "      <td>class2</td>\n",
              "    </tr>\n",
              "    <tr>\n",
              "      <th>2</th>\n",
              "      <td>blue</td>\n",
              "      <td>XL</td>\n",
              "      <td>15.3</td>\n",
              "      <td>class1</td>\n",
              "    </tr>\n",
              "  </tbody>\n",
              "</table>\n",
              "</div>"
            ],
            "text/plain": [
              "   color size  price classlabel\n",
              "0  green    M   10.1     class1\n",
              "1    red    L   13.5     class2\n",
              "2   blue   XL   15.3     class1"
            ]
          },
          "metadata": {},
          "execution_count": 1
        }
      ]
    },
    {
      "cell_type": "markdown",
      "metadata": {
        "id": "gKOrNkRKtOlG"
      },
      "source": [
        "---"
      ]
    },
    {
      "cell_type": "markdown",
      "metadata": {
        "id": "GjB0Y19PoA0J"
      },
      "source": [
        "## **4.2.1 순서가 있는 특성 매핑**"
      ]
    },
    {
      "cell_type": "markdown",
      "metadata": {
        "id": "nodiv6KnoT4a"
      },
      "source": [
        "학습 알고리즘이 순서가 있는 특성을 제대로 인식하려면 범주형 문자열 값을 정수형으로 바꿔야 한다.<br>\n",
        "\n",
        "                                          XL = L + 1 = M + 2"
      ]
    },
    {
      "cell_type": "code",
      "metadata": {
        "colab": {
          "base_uri": "https://localhost:8080/",
          "height": 142
        },
        "id": "n9xUFYBHnPzw",
        "outputId": "5d74d30e-b0b1-4f22-fb22-9e7715601992"
      },
      "source": [
        "size_mapping = {\n",
        "                'XL': 3,\n",
        "                'L': 2,\n",
        "                'M': 1}\n",
        "df['size'] = df['size'].map(size_mapping)\n",
        "df"
      ],
      "execution_count": 2,
      "outputs": [
        {
          "output_type": "execute_result",
          "data": {
            "text/html": [
              "<div>\n",
              "<style scoped>\n",
              "    .dataframe tbody tr th:only-of-type {\n",
              "        vertical-align: middle;\n",
              "    }\n",
              "\n",
              "    .dataframe tbody tr th {\n",
              "        vertical-align: top;\n",
              "    }\n",
              "\n",
              "    .dataframe thead th {\n",
              "        text-align: right;\n",
              "    }\n",
              "</style>\n",
              "<table border=\"1\" class=\"dataframe\">\n",
              "  <thead>\n",
              "    <tr style=\"text-align: right;\">\n",
              "      <th></th>\n",
              "      <th>color</th>\n",
              "      <th>size</th>\n",
              "      <th>price</th>\n",
              "      <th>classlabel</th>\n",
              "    </tr>\n",
              "  </thead>\n",
              "  <tbody>\n",
              "    <tr>\n",
              "      <th>0</th>\n",
              "      <td>green</td>\n",
              "      <td>1</td>\n",
              "      <td>10.1</td>\n",
              "      <td>class1</td>\n",
              "    </tr>\n",
              "    <tr>\n",
              "      <th>1</th>\n",
              "      <td>red</td>\n",
              "      <td>2</td>\n",
              "      <td>13.5</td>\n",
              "      <td>class2</td>\n",
              "    </tr>\n",
              "    <tr>\n",
              "      <th>2</th>\n",
              "      <td>blue</td>\n",
              "      <td>3</td>\n",
              "      <td>15.3</td>\n",
              "      <td>class1</td>\n",
              "    </tr>\n",
              "  </tbody>\n",
              "</table>\n",
              "</div>"
            ],
            "text/plain": [
              "   color  size  price classlabel\n",
              "0  green     1   10.1     class1\n",
              "1    red     2   13.5     class2\n",
              "2   blue     3   15.3     class1"
            ]
          },
          "metadata": {},
          "execution_count": 2
        }
      ]
    },
    {
      "cell_type": "markdown",
      "metadata": {
        "id": "9kRWqLDitD3F"
      },
      "source": [
        "---"
      ]
    },
    {
      "cell_type": "markdown",
      "metadata": {
        "id": "IMTi6Vf3o1J4"
      },
      "source": [
        "만약 정수 값을 **다시 원래 문자열로 바꾸고 싶다면** 거꾸로 매핑하는 딕셔너리를 정의하면 된다.<br><br>\n",
        "\n",
        "```inv_size_mapping = {v: k for k, v in size_mapping.items()}```\n",
        "\n",
        "<br>\n",
        "\n",
        "```size_mapping``` 딕셔너리와 비슷하게 **판다스의 map 메소드를 사용**하여 변환된 특성 열에 적용할 수 있다."
      ]
    },
    {
      "cell_type": "code",
      "metadata": {
        "colab": {
          "base_uri": "https://localhost:8080/"
        },
        "id": "W9FFvrCEoSxU",
        "outputId": "abd17aa8-42e4-4c6c-ee29-b810adf787c1"
      },
      "source": [
        "inv_size_mapping = {v: k for k, v in size_mapping.items()}\n",
        "df['size'].map(inv_size_mapping)"
      ],
      "execution_count": 3,
      "outputs": [
        {
          "output_type": "execute_result",
          "data": {
            "text/plain": [
              "0     M\n",
              "1     L\n",
              "2    XL\n",
              "Name: size, dtype: object"
            ]
          },
          "metadata": {},
          "execution_count": 3
        }
      ]
    },
    {
      "cell_type": "markdown",
      "metadata": {
        "id": "ZSHD8w8etN1_"
      },
      "source": [
        "---"
      ]
    },
    {
      "cell_type": "markdown",
      "metadata": {
        "id": "JpbMBFUkubgK"
      },
      "source": [
        "수치적 **크기에 대해 확신이 없**거나 두 범주 사이의 **순서를 정의할 수 없다**면 임계 값을 사용하여 **0/1로 인코딩**할 수 있다.<br>\n",
        "\n",
        "      - 임계값: 모델이 분류의 답을 결정할 때 기준 값\n",
        "\n",
        "\n",
        "ex) ```M, L, XL 값을 가진 특성 size를 두 개의 새로운 특성 'x > M'과 'x > L'로 나눌 수 있다.```"
      ]
    },
    {
      "cell_type": "code",
      "metadata": {
        "colab": {
          "base_uri": "https://localhost:8080/",
          "height": 142
        },
        "id": "qB-LTxSlt3o1",
        "outputId": "cf02518c-eae6-4436-827d-120eb28ec1f1"
      },
      "source": [
        "import pandas as pd\n",
        "test_df = pd.DataFrame([\n",
        "                   ['green', 'M', 10.1, 'class2'],\n",
        "                   ['red', 'L', 13.5, 'class1'],\n",
        "                   ['blue', 'XL', 15.3, 'class2']])\n",
        "test_df.columns = ['color', 'size', 'price', 'classlabel']\n",
        "test_df"
      ],
      "execution_count": 20,
      "outputs": [
        {
          "output_type": "execute_result",
          "data": {
            "text/html": [
              "<div>\n",
              "<style scoped>\n",
              "    .dataframe tbody tr th:only-of-type {\n",
              "        vertical-align: middle;\n",
              "    }\n",
              "\n",
              "    .dataframe tbody tr th {\n",
              "        vertical-align: top;\n",
              "    }\n",
              "\n",
              "    .dataframe thead th {\n",
              "        text-align: right;\n",
              "    }\n",
              "</style>\n",
              "<table border=\"1\" class=\"dataframe\">\n",
              "  <thead>\n",
              "    <tr style=\"text-align: right;\">\n",
              "      <th></th>\n",
              "      <th>color</th>\n",
              "      <th>size</th>\n",
              "      <th>price</th>\n",
              "      <th>classlabel</th>\n",
              "    </tr>\n",
              "  </thead>\n",
              "  <tbody>\n",
              "    <tr>\n",
              "      <th>0</th>\n",
              "      <td>green</td>\n",
              "      <td>M</td>\n",
              "      <td>10.1</td>\n",
              "      <td>class2</td>\n",
              "    </tr>\n",
              "    <tr>\n",
              "      <th>1</th>\n",
              "      <td>red</td>\n",
              "      <td>L</td>\n",
              "      <td>13.5</td>\n",
              "      <td>class1</td>\n",
              "    </tr>\n",
              "    <tr>\n",
              "      <th>2</th>\n",
              "      <td>blue</td>\n",
              "      <td>XL</td>\n",
              "      <td>15.3</td>\n",
              "      <td>class2</td>\n",
              "    </tr>\n",
              "  </tbody>\n",
              "</table>\n",
              "</div>"
            ],
            "text/plain": [
              "   color size  price classlabel\n",
              "0  green    M   10.1     class2\n",
              "1    red    L   13.5     class1\n",
              "2   blue   XL   15.3     class2"
            ]
          },
          "metadata": {},
          "execution_count": 20
        }
      ]
    },
    {
      "cell_type": "markdown",
      "metadata": {
        "id": "4myk8_NwuSTp"
      },
      "source": [
        "판다스 데이터프레임의 ```apply``` 메소드를 사용해서 **임계 값 기준으로 특성을 인코딩**하는 ```lambda``` 함수를 적용할 수 있다."
      ]
    },
    {
      "cell_type": "code",
      "metadata": {
        "colab": {
          "base_uri": "https://localhost:8080/",
          "height": 142
        },
        "id": "NVjqOlOmt_aw",
        "outputId": "799bd193-a182-4e44-db71-42846e7f8458"
      },
      "source": [
        "test_df['x > M'] = test_df['size'].apply(lambda x: 1 if x in {'L', 'XL'} else 0)\n",
        "test_df['x > L'] = test_df['size'].apply(lambda x: 1 if x == 'XL' else 0)\n",
        "del test_df['size']\n",
        "test_df"
      ],
      "execution_count": 21,
      "outputs": [
        {
          "output_type": "execute_result",
          "data": {
            "text/html": [
              "<div>\n",
              "<style scoped>\n",
              "    .dataframe tbody tr th:only-of-type {\n",
              "        vertical-align: middle;\n",
              "    }\n",
              "\n",
              "    .dataframe tbody tr th {\n",
              "        vertical-align: top;\n",
              "    }\n",
              "\n",
              "    .dataframe thead th {\n",
              "        text-align: right;\n",
              "    }\n",
              "</style>\n",
              "<table border=\"1\" class=\"dataframe\">\n",
              "  <thead>\n",
              "    <tr style=\"text-align: right;\">\n",
              "      <th></th>\n",
              "      <th>color</th>\n",
              "      <th>price</th>\n",
              "      <th>classlabel</th>\n",
              "      <th>x &gt; M</th>\n",
              "      <th>x &gt; L</th>\n",
              "    </tr>\n",
              "  </thead>\n",
              "  <tbody>\n",
              "    <tr>\n",
              "      <th>0</th>\n",
              "      <td>green</td>\n",
              "      <td>10.1</td>\n",
              "      <td>class2</td>\n",
              "      <td>0</td>\n",
              "      <td>0</td>\n",
              "    </tr>\n",
              "    <tr>\n",
              "      <th>1</th>\n",
              "      <td>red</td>\n",
              "      <td>13.5</td>\n",
              "      <td>class1</td>\n",
              "      <td>1</td>\n",
              "      <td>0</td>\n",
              "    </tr>\n",
              "    <tr>\n",
              "      <th>2</th>\n",
              "      <td>blue</td>\n",
              "      <td>15.3</td>\n",
              "      <td>class2</td>\n",
              "      <td>1</td>\n",
              "      <td>1</td>\n",
              "    </tr>\n",
              "  </tbody>\n",
              "</table>\n",
              "</div>"
            ],
            "text/plain": [
              "   color  price classlabel  x > M  x > L\n",
              "0  green   10.1     class2      0      0\n",
              "1    red   13.5     class1      1      0\n",
              "2   blue   15.3     class2      1      1"
            ]
          },
          "metadata": {},
          "execution_count": 21
        }
      ]
    },
    {
      "cell_type": "markdown",
      "metadata": {
        "id": "Oe3L5T_dpZHx"
      },
      "source": [
        "## **4.2.2 클래스 레이블 인코딩**"
      ]
    },
    {
      "cell_type": "markdown",
      "metadata": {
        "id": "L-9fxUgcqCDt"
      },
      "source": [
        "사이킷런은 대부분 클래스 레이블을 정수로 변환해 주지만, 실수를 방지하기 위해서 **클래스 레이블을 정수 배열로 전달하는 것이 좋다**.<br>\n",
        "\n",
        "클래스 레이블은 순서가 없기 때문에 특정 클래스 레이블에 할당한 **숫자는 의미가 없다.**"
      ]
    },
    {
      "cell_type": "markdown",
      "metadata": {
        "id": "pjDQ7u8Js5FU"
      },
      "source": [
        "1. ```enumerate```를 사용하여 클래스 레이블을 0부터 할당한다.<br>\n",
        "(```enumerate```는 반복 가능한 객체(문자열, 리스트, 넘파이 배열 등)를 입력으로 받아 인덱스와 값의 튜플을 차례대로 반환하는 파이썬 내장 함수이다.)"
      ]
    },
    {
      "cell_type": "code",
      "metadata": {
        "colab": {
          "base_uri": "https://localhost:8080/"
        },
        "id": "9MSlRYhJozBt",
        "outputId": "7abc4e01-b6f9-4a92-caa6-18dc60ad6b14"
      },
      "source": [
        "import numpy as np\n",
        "class_mapping = {label:idx for idx, label in enumerate(np.unique(df['classlabel']))}\n",
        "class_mapping"
      ],
      "execution_count": 4,
      "outputs": [
        {
          "output_type": "execute_result",
          "data": {
            "text/plain": [
              "{'class1': 0, 'class2': 1}"
            ]
          },
          "metadata": {},
          "execution_count": 4
        }
      ]
    },
    {
      "cell_type": "markdown",
      "metadata": {
        "id": "EetZVNQIrmkM"
      },
      "source": [
        "2. 매핑 딕셔너리를 사용하여 클래스 레이블을 정수로 변환한다."
      ]
    },
    {
      "cell_type": "code",
      "metadata": {
        "colab": {
          "base_uri": "https://localhost:8080/",
          "height": 142
        },
        "id": "gvBeREEbqAfM",
        "outputId": "c9eabe82-e4ab-4b81-b521-9e8d66e6b1c0"
      },
      "source": [
        "df['classlabel'] = df['classlabel'].map(class_mapping)\n",
        "df"
      ],
      "execution_count": 5,
      "outputs": [
        {
          "output_type": "execute_result",
          "data": {
            "text/html": [
              "<div>\n",
              "<style scoped>\n",
              "    .dataframe tbody tr th:only-of-type {\n",
              "        vertical-align: middle;\n",
              "    }\n",
              "\n",
              "    .dataframe tbody tr th {\n",
              "        vertical-align: top;\n",
              "    }\n",
              "\n",
              "    .dataframe thead th {\n",
              "        text-align: right;\n",
              "    }\n",
              "</style>\n",
              "<table border=\"1\" class=\"dataframe\">\n",
              "  <thead>\n",
              "    <tr style=\"text-align: right;\">\n",
              "      <th></th>\n",
              "      <th>color</th>\n",
              "      <th>size</th>\n",
              "      <th>price</th>\n",
              "      <th>classlabel</th>\n",
              "    </tr>\n",
              "  </thead>\n",
              "  <tbody>\n",
              "    <tr>\n",
              "      <th>0</th>\n",
              "      <td>green</td>\n",
              "      <td>1</td>\n",
              "      <td>10.1</td>\n",
              "      <td>0</td>\n",
              "    </tr>\n",
              "    <tr>\n",
              "      <th>1</th>\n",
              "      <td>red</td>\n",
              "      <td>2</td>\n",
              "      <td>13.5</td>\n",
              "      <td>1</td>\n",
              "    </tr>\n",
              "    <tr>\n",
              "      <th>2</th>\n",
              "      <td>blue</td>\n",
              "      <td>3</td>\n",
              "      <td>15.3</td>\n",
              "      <td>0</td>\n",
              "    </tr>\n",
              "  </tbody>\n",
              "</table>\n",
              "</div>"
            ],
            "text/plain": [
              "   color  size  price  classlabel\n",
              "0  green     1   10.1           0\n",
              "1    red     2   13.5           1\n",
              "2   blue     3   15.3           0"
            ]
          },
          "metadata": {},
          "execution_count": 5
        }
      ]
    },
    {
      "cell_type": "markdown",
      "metadata": {
        "id": "GhZSU_b-tGKI"
      },
      "source": [
        "---"
      ]
    },
    {
      "cell_type": "markdown",
      "metadata": {
        "id": "sud9oYclr6jj"
      },
      "source": [
        "####**원본 문자열로 바꾸는 방법**"
      ]
    },
    {
      "cell_type": "markdown",
      "metadata": {
        "id": "B_w-i64Pt6eA"
      },
      "source": [
        "1. 다음과 같이 **매핑 딕셔너리의 키-값 쌍을 뒤집**는다."
      ]
    },
    {
      "cell_type": "code",
      "metadata": {
        "colab": {
          "base_uri": "https://localhost:8080/",
          "height": 142
        },
        "id": "bRpkqXxfrOPB",
        "outputId": "38b16501-6476-4810-da97-5ef1b0e85bd2"
      },
      "source": [
        "inv_class_mapping = {v: k for k, v in class_mapping.items()}\n",
        "df['classlabel'] = df['classlabel'].map(inv_class_mapping)\n",
        "df"
      ],
      "execution_count": 6,
      "outputs": [
        {
          "output_type": "execute_result",
          "data": {
            "text/html": [
              "<div>\n",
              "<style scoped>\n",
              "    .dataframe tbody tr th:only-of-type {\n",
              "        vertical-align: middle;\n",
              "    }\n",
              "\n",
              "    .dataframe tbody tr th {\n",
              "        vertical-align: top;\n",
              "    }\n",
              "\n",
              "    .dataframe thead th {\n",
              "        text-align: right;\n",
              "    }\n",
              "</style>\n",
              "<table border=\"1\" class=\"dataframe\">\n",
              "  <thead>\n",
              "    <tr style=\"text-align: right;\">\n",
              "      <th></th>\n",
              "      <th>color</th>\n",
              "      <th>size</th>\n",
              "      <th>price</th>\n",
              "      <th>classlabel</th>\n",
              "    </tr>\n",
              "  </thead>\n",
              "  <tbody>\n",
              "    <tr>\n",
              "      <th>0</th>\n",
              "      <td>green</td>\n",
              "      <td>1</td>\n",
              "      <td>10.1</td>\n",
              "      <td>class1</td>\n",
              "    </tr>\n",
              "    <tr>\n",
              "      <th>1</th>\n",
              "      <td>red</td>\n",
              "      <td>2</td>\n",
              "      <td>13.5</td>\n",
              "      <td>class2</td>\n",
              "    </tr>\n",
              "    <tr>\n",
              "      <th>2</th>\n",
              "      <td>blue</td>\n",
              "      <td>3</td>\n",
              "      <td>15.3</td>\n",
              "      <td>class1</td>\n",
              "    </tr>\n",
              "  </tbody>\n",
              "</table>\n",
              "</div>"
            ],
            "text/plain": [
              "   color  size  price classlabel\n",
              "0  green     1   10.1     class1\n",
              "1    red     2   13.5     class2\n",
              "2   blue     3   15.3     class1"
            ]
          },
          "metadata": {},
          "execution_count": 6
        }
      ]
    },
    {
      "cell_type": "markdown",
      "metadata": {
        "id": "SZepGY_NtHwZ"
      },
      "source": [
        "2. 사이킷런에 구현된 **```LabelEncoder```를 사용**한다.<br>\n",
        "(```LabelEncoder``` 객체의 ```classes_```속성에 각 클래스의 레이블이 저장되어 있다.)"
      ]
    },
    {
      "cell_type": "code",
      "metadata": {
        "colab": {
          "base_uri": "https://localhost:8080/"
        },
        "id": "h9oSUJMnrXIC",
        "outputId": "6218f3b1-1cfd-4390-f157-f3bfef6a524e"
      },
      "source": [
        "from sklearn.preprocessing import LabelEncoder\n",
        "class_le = LabelEncoder()\n",
        "y = class_le.fit_transform(df['classlabel'].values)\n",
        "y"
      ],
      "execution_count": 7,
      "outputs": [
        {
          "output_type": "execute_result",
          "data": {
            "text/plain": [
              "array([0, 1, 0])"
            ]
          },
          "metadata": {},
          "execution_count": 7
        }
      ]
    },
    {
      "cell_type": "markdown",
      "metadata": {
        "id": "TbEc0znvvcyS"
      },
      "source": [
        "    - fit_transform 메소드는 fit 메소드와 transform 메소드를 합쳐 놓은 단축 메소드이다."
      ]
    },
    {
      "cell_type": "markdown",
      "metadata": {
        "id": "P8If_e5ht_wI"
      },
      "source": [
        "3. **```inverse_transform``` 메소드를 사용**한다."
      ]
    },
    {
      "cell_type": "code",
      "metadata": {
        "colab": {
          "base_uri": "https://localhost:8080/"
        },
        "id": "dmMcAiidrhMS",
        "outputId": "5e03acb9-3db9-449d-9dc3-8411b97335ab"
      },
      "source": [
        "class_le.inverse_transform(y)"
      ],
      "execution_count": 8,
      "outputs": [
        {
          "output_type": "execute_result",
          "data": {
            "text/plain": [
              "array(['class1', 'class2', 'class1'], dtype=object)"
            ]
          },
          "metadata": {},
          "execution_count": 8
        }
      ]
    },
    {
      "cell_type": "markdown",
      "metadata": {
        "id": "R5X6u959tMio"
      },
      "source": [
        "---"
      ]
    },
    {
      "cell_type": "markdown",
      "metadata": {
        "id": "D8Xy6KO2uxRa"
      },
      "source": [
        "## **4.2.3 순서가 없는 특성에 원-핫 인코딩 적용**"
      ]
    },
    {
      "cell_type": "markdown",
      "metadata": {
        "id": "f_NqyHd7wGqv"
      },
      "source": [
        "순서가 없는 ```color``` 열에도 ```LabelEncoder```를 사용하여 문자열 레이블을 정수로 바꿀 수 있다.<br>\n",
        "\n",
        "\n",
        "\n",
        "- blue = 0\n",
        "- green = 1\n",
        "- red = 2\n"
      ]
    },
    {
      "cell_type": "code",
      "metadata": {
        "colab": {
          "base_uri": "https://localhost:8080/"
        },
        "id": "OlMjiHqhrjea",
        "outputId": "5fa3afa2-f204-4118-f8cc-0f61304661dd"
      },
      "source": [
        "X = df[['color', 'size', 'price']].values\n",
        "color_le = LabelEncoder()\n",
        "X[:, 0] = color_le.fit_transform(X[:, 0])\n",
        "X"
      ],
      "execution_count": 9,
      "outputs": [
        {
          "output_type": "execute_result",
          "data": {
            "text/plain": [
              "array([[1, 1, 10.1],\n",
              "       [2, 2, 13.5],\n",
              "       [0, 3, 15.3]], dtype=object)"
            ]
          },
          "metadata": {},
          "execution_count": 9
        }
      ]
    },
    {
      "cell_type": "markdown",
      "metadata": {
        "id": "GnH7DkcHwECT"
      },
      "source": [
        "\n",
        "    이 코드에서 color 열만 추출(X[:, 0])해서 주입한 이유는 LabelEncoder는 입력 데이터로 1차원 배열을 받기 때문이다.\n",
        "    1차원 배열을 받는 이유는 타깃 레이블을 인코딩하기 위해 만들어진 클래스이기 때문이다.\n",
        "\n",
        "<br>\n",
        "\n",
        "이 상태로 배열을 분류기에 넣으면 **문제가 발생**할 수 있다.<br>\n",
        "\n",
        "```color```값에는 순서가 없지만, 알고리즘이 ```blue < green < red``` 라고 가정하고 학습을 할 수 있다.<br><br>\n",
        "\n",
        "이 문제를 해결하기 위한 방법이 **원-핫 인코딩(one-hot encoding) 기법**이다."
      ]
    },
    {
      "cell_type": "markdown",
      "metadata": {
        "id": "f7IV7VbYedOA"
      },
      "source": [
        "### **One-hot encoding**"
      ]
    },
    {
      "cell_type": "markdown",
      "metadata": {
        "id": "fCsJqTdegAng"
      },
      "source": [
        "**One-hot encoding**은 순서 없는 특성에 들어 있는 **고유한 값마다 새로운 더미(dummy) 특성**을 만드는 것이다.<br><br>\n",
        "\n",
        "1. ```color``` 특성을 세 개의 새로운 특성인 ```blue, green, red```로 변환한다.\n",
        "2. 이진 값을 사용하여 특정 샘플의 ```color```를 나타낸다.\n",
        "        blue 샘플: blue = 1, green = 0, red = 0\n",
        "        green 샘플: blue = 0, green = 1, red = 0\n",
        "        red 샘플: blue = 0, green = 0, red = 1\n",
        "\n",
        "\n",
        "사이킷런의 ```preprocessing``` 모듈에 구현된 **```OneHotEncoder```를 사용**하면 된다.<br>\n",
        "\n",
        "  - ```color``` 배열만 수정하기 위해 ```OneHotEncoder```를 하나의 열(```X[:, 0].reshape(-1, 1))```에만 적용했다."
      ]
    },
    {
      "cell_type": "code",
      "metadata": {
        "colab": {
          "base_uri": "https://localhost:8080/"
        },
        "id": "puBRgE5Ud2oo",
        "outputId": "0f6cdd14-4616-49c0-d94f-ba92814decf8"
      },
      "source": [
        "from sklearn.preprocessing import OneHotEncoder\n",
        "X = df[['color', 'size', 'price']].values\n",
        "color_ohe = OneHotEncoder()\n",
        "color_ohe.fit_transform(X[:, 0].reshape(-1, 1)).toarray()"
      ],
      "execution_count": 10,
      "outputs": [
        {
          "output_type": "execute_result",
          "data": {
            "text/plain": [
              "array([[0., 1., 0.],\n",
              "       [0., 0., 1.],\n",
              "       [1., 0., 0.]])"
            ]
          },
          "metadata": {},
          "execution_count": 10
        }
      ]
    },
    {
      "cell_type": "markdown",
      "metadata": {
        "id": "I_0iwsQjg2_g"
      },
      "source": [
        "여러 개의 특성이 있는 배열에서 **특정 열만 변환**하려면 **```ColumnTransformer```를 사용**한다.<br>\n",
        "```ColumnTransformer```는 ```(name, transformer, column(s))``` 튜플의 리스트를 받는다.<br>\n",
        "\n",
        "(*※ ColumnTransformer에 대한 추가적인 설명은 아래에 OrdinalEncoder와 함께 정리해두었다.*)"
      ]
    },
    {
      "cell_type": "code",
      "metadata": {
        "colab": {
          "base_uri": "https://localhost:8080/"
        },
        "id": "R_Pwso0XfD3b",
        "outputId": "c5b472c6-3de7-4894-d086-cadf37d6a1fc"
      },
      "source": [
        "from sklearn.compose import ColumnTransformer\n",
        "X = df[['color', 'size', 'price']].values\n",
        "c_transf = ColumnTransformer([\n",
        "                              ('onehot', OneHotEncoder(), [0]),\n",
        "                              ('nothing', 'passthrough', [1, 2])    # 'passthrough'를 사용하면 열을 변경하지 않는다.\n",
        "])\n",
        "c_transf.fit_transform(X)\n",
        "ColumnTransformer()"
      ],
      "execution_count": 13,
      "outputs": [
        {
          "output_type": "execute_result",
          "data": {
            "text/plain": [
              "array([[0.0, 1.0, 0.0, 1, 10.1],\n",
              "       [0.0, 0.0, 1.0, 2, 13.5],\n",
              "       [1.0, 0.0, 0.0, 3, 15.3]], dtype=object)"
            ]
          },
          "metadata": {},
          "execution_count": 13
        }
      ]
    },
    {
      "cell_type": "markdown",
      "metadata": {
        "id": "O7KZK5HXmzJj"
      },
      "source": [
        "원-핫 인코딩으로 **더미 변수를 만들 때**, 판다스의 **```get_dummies``` 메소드**를 사용하면 편리하다.<br>\n",
        "\n",
        "**DataFrame에 적용하면** ```get_dummies``` 메소드는 **문자열 열만 변환**하고 나머지 열은 그대로 놔둔다."
      ]
    },
    {
      "cell_type": "code",
      "metadata": {
        "colab": {
          "base_uri": "https://localhost:8080/",
          "height": 142
        },
        "id": "vRN9mfUVfUhj",
        "outputId": "e3e1d633-2614-4f4b-a51c-d569b8ef4e93"
      },
      "source": [
        "pd.get_dummies(df[['price', 'color', 'size']])"
      ],
      "execution_count": 14,
      "outputs": [
        {
          "output_type": "execute_result",
          "data": {
            "text/html": [
              "<div>\n",
              "<style scoped>\n",
              "    .dataframe tbody tr th:only-of-type {\n",
              "        vertical-align: middle;\n",
              "    }\n",
              "\n",
              "    .dataframe tbody tr th {\n",
              "        vertical-align: top;\n",
              "    }\n",
              "\n",
              "    .dataframe thead th {\n",
              "        text-align: right;\n",
              "    }\n",
              "</style>\n",
              "<table border=\"1\" class=\"dataframe\">\n",
              "  <thead>\n",
              "    <tr style=\"text-align: right;\">\n",
              "      <th></th>\n",
              "      <th>price</th>\n",
              "      <th>size</th>\n",
              "      <th>color_blue</th>\n",
              "      <th>color_green</th>\n",
              "      <th>color_red</th>\n",
              "    </tr>\n",
              "  </thead>\n",
              "  <tbody>\n",
              "    <tr>\n",
              "      <th>0</th>\n",
              "      <td>10.1</td>\n",
              "      <td>1</td>\n",
              "      <td>0</td>\n",
              "      <td>1</td>\n",
              "      <td>0</td>\n",
              "    </tr>\n",
              "    <tr>\n",
              "      <th>1</th>\n",
              "      <td>13.5</td>\n",
              "      <td>2</td>\n",
              "      <td>0</td>\n",
              "      <td>0</td>\n",
              "      <td>1</td>\n",
              "    </tr>\n",
              "    <tr>\n",
              "      <th>2</th>\n",
              "      <td>15.3</td>\n",
              "      <td>3</td>\n",
              "      <td>1</td>\n",
              "      <td>0</td>\n",
              "      <td>0</td>\n",
              "    </tr>\n",
              "  </tbody>\n",
              "</table>\n",
              "</div>"
            ],
            "text/plain": [
              "   price  size  color_blue  color_green  color_red\n",
              "0   10.1     1           0            1          0\n",
              "1   13.5     2           0            0          1\n",
              "2   15.3     3           1            0          0"
            ]
          },
          "metadata": {},
          "execution_count": 14
        }
      ]
    },
    {
      "cell_type": "markdown",
      "metadata": {
        "id": "llVphN0unyOw"
      },
      "source": [
        "```get_dummies``` 메소드에서 **```columns``` 매개변수**를 사용하면 **변환하려는 특성을 구체적으로 지정**할 수 있다."
      ]
    },
    {
      "cell_type": "code",
      "metadata": {
        "colab": {
          "base_uri": "https://localhost:8080/",
          "height": 142
        },
        "id": "Pv5_GsE7n8dd",
        "outputId": "4ed51aff-55c5-403d-88b4-675d5f0b9781"
      },
      "source": [
        "pd.get_dummies(df[['price', 'color', 'size']], columns=['size'])"
      ],
      "execution_count": 19,
      "outputs": [
        {
          "output_type": "execute_result",
          "data": {
            "text/html": [
              "<div>\n",
              "<style scoped>\n",
              "    .dataframe tbody tr th:only-of-type {\n",
              "        vertical-align: middle;\n",
              "    }\n",
              "\n",
              "    .dataframe tbody tr th {\n",
              "        vertical-align: top;\n",
              "    }\n",
              "\n",
              "    .dataframe thead th {\n",
              "        text-align: right;\n",
              "    }\n",
              "</style>\n",
              "<table border=\"1\" class=\"dataframe\">\n",
              "  <thead>\n",
              "    <tr style=\"text-align: right;\">\n",
              "      <th></th>\n",
              "      <th>price</th>\n",
              "      <th>color</th>\n",
              "      <th>size_1</th>\n",
              "      <th>size_2</th>\n",
              "      <th>size_3</th>\n",
              "    </tr>\n",
              "  </thead>\n",
              "  <tbody>\n",
              "    <tr>\n",
              "      <th>0</th>\n",
              "      <td>10.1</td>\n",
              "      <td>green</td>\n",
              "      <td>1</td>\n",
              "      <td>0</td>\n",
              "      <td>0</td>\n",
              "    </tr>\n",
              "    <tr>\n",
              "      <th>1</th>\n",
              "      <td>13.5</td>\n",
              "      <td>red</td>\n",
              "      <td>0</td>\n",
              "      <td>1</td>\n",
              "      <td>0</td>\n",
              "    </tr>\n",
              "    <tr>\n",
              "      <th>2</th>\n",
              "      <td>15.3</td>\n",
              "      <td>blue</td>\n",
              "      <td>0</td>\n",
              "      <td>0</td>\n",
              "      <td>1</td>\n",
              "    </tr>\n",
              "  </tbody>\n",
              "</table>\n",
              "</div>"
            ],
            "text/plain": [
              "   price  color  size_1  size_2  size_3\n",
              "0   10.1  green       1       0       0\n",
              "1   13.5    red       0       1       0\n",
              "2   15.3   blue       0       0       1"
            ]
          },
          "metadata": {},
          "execution_count": 19
        }
      ]
    },
    {
      "cell_type": "markdown",
      "metadata": {
        "id": "UpYKMq-8oO4t"
      },
      "source": [
        "---\n",
        "\n",
        "<br>\n",
        "\n",
        "**다중 공선성(multicollinearity)**<br>\n",
        "원-핫 인코딩된 데이터셋을 사용할 땐 다중 공선성 문제를 유념해야 한다.<br>\n",
        "\n",
        "역행렬을 구해야 하는 경우에는 문제가 된다.\n",
        "\n",
        "    다중 공선성: 통계학의 회귀분석에서 독립변수들 간에 강한 상관관계가 나타나는 문제\n",
        "\n",
        "특성 간 **상관관계가 높으면 역행렬을 계산하기 어려워** 수치적으로 불안해진다.<br>\n",
        "\n",
        "상관관계를 줄이려면 원-핫 인코딩된 배열에서 **특성 열 하나를 제거**하면 된다.<br> \n",
        "\n",
        "이렇게 특성을 제거하더라도 **잃는 정보는 없다.**<br><br>\n",
        "\n",
        "ex)  ```color_green = 0이고, color_red = 0일 때, blue임을 알 수 있다.```\n",
        "\n",
        "<br><br>\n",
        "```get_dummies``` 메소드의 **```drop_first``` 매개변수를 ```True```**로 지정하면 **첫 번째 열을 삭제**할 수 있다."
      ]
    },
    {
      "cell_type": "code",
      "metadata": {
        "colab": {
          "base_uri": "https://localhost:8080/",
          "height": 142
        },
        "id": "UgDFsaJUfYyX",
        "outputId": "baa222b9-08e7-4d67-ad22-7fc2583b7eb2"
      },
      "source": [
        "pd.get_dummies(df[['price', 'color', 'size']],\n",
        "              drop_first=True)"
      ],
      "execution_count": 16,
      "outputs": [
        {
          "output_type": "execute_result",
          "data": {
            "text/html": [
              "<div>\n",
              "<style scoped>\n",
              "    .dataframe tbody tr th:only-of-type {\n",
              "        vertical-align: middle;\n",
              "    }\n",
              "\n",
              "    .dataframe tbody tr th {\n",
              "        vertical-align: top;\n",
              "    }\n",
              "\n",
              "    .dataframe thead th {\n",
              "        text-align: right;\n",
              "    }\n",
              "</style>\n",
              "<table border=\"1\" class=\"dataframe\">\n",
              "  <thead>\n",
              "    <tr style=\"text-align: right;\">\n",
              "      <th></th>\n",
              "      <th>price</th>\n",
              "      <th>size</th>\n",
              "      <th>color_green</th>\n",
              "      <th>color_red</th>\n",
              "    </tr>\n",
              "  </thead>\n",
              "  <tbody>\n",
              "    <tr>\n",
              "      <th>0</th>\n",
              "      <td>10.1</td>\n",
              "      <td>1</td>\n",
              "      <td>1</td>\n",
              "      <td>0</td>\n",
              "    </tr>\n",
              "    <tr>\n",
              "      <th>1</th>\n",
              "      <td>13.5</td>\n",
              "      <td>2</td>\n",
              "      <td>0</td>\n",
              "      <td>1</td>\n",
              "    </tr>\n",
              "    <tr>\n",
              "      <th>2</th>\n",
              "      <td>15.3</td>\n",
              "      <td>3</td>\n",
              "      <td>0</td>\n",
              "      <td>0</td>\n",
              "    </tr>\n",
              "  </tbody>\n",
              "</table>\n",
              "</div>"
            ],
            "text/plain": [
              "   price  size  color_green  color_red\n",
              "0   10.1     1            1          0\n",
              "1   13.5     2            0          1\n",
              "2   15.3     3            0          0"
            ]
          },
          "metadata": {},
          "execution_count": 16
        }
      ]
    },
    {
      "cell_type": "markdown",
      "metadata": {
        "id": "uD_53-PdsXuZ"
      },
      "source": [
        "```OneHotEncoder```에서 **중복된 열을 삭제**하려면 **```drop='first'```와 ```categories='auto'```**로 지정하면 된다."
      ]
    },
    {
      "cell_type": "code",
      "metadata": {
        "colab": {
          "base_uri": "https://localhost:8080/"
        },
        "id": "T8KXazGefpBH",
        "outputId": "2ec19ed7-b15d-4a80-db06-a12d586db585"
      },
      "source": [
        "color_ohe = OneHotEncoder(categories='auto', drop='first')\n",
        "c_transf = ColumnTransformer([\n",
        "                              ('onehot', color_ohe, [0]),\n",
        "                              ('nothing', 'passthrough', [1, 2])\n",
        "])\n",
        "c_transf.fit_transform(X)"
      ],
      "execution_count": 17,
      "outputs": [
        {
          "output_type": "execute_result",
          "data": {
            "text/plain": [
              "array([[1.0, 0.0, 1, 10.1],\n",
              "       [0.0, 1.0, 2, 13.5],\n",
              "       [0.0, 0.0, 3, 15.3]], dtype=object)"
            ]
          },
          "metadata": {},
          "execution_count": 17
        }
      ]
    },
    {
      "cell_type": "markdown",
      "metadata": {
        "id": "9OAQv7nexaNv"
      },
      "source": [
        "### **OrdinalEncoder & ColumnTransformer**"
      ]
    },
    {
      "cell_type": "markdown",
      "metadata": {
        "id": "KxgchFbjxgYE"
      },
      "source": [
        "```OrdinalEncoder```와 ```ColumnTransformer```를 함께 사용하면 **여러 개의 열을 한 번에 정수로 변환**할 수 있다.\n",
        "- **```OrdinalEncoder```**: 범주형 데이터를 정수로 인코딩하는 클래스\n",
        "\n",
        "- **```ColumnTransformer```**: pandas 데이터프레임의 열마다 다른 변환을 적용하도록 도와주는 클래스"
      ]
    },
    {
      "cell_type": "markdown",
      "metadata": {
        "id": "4bkNpltq1v80"
      },
      "source": [
        "#### **```ColumnTransformer``` 클래스**"
      ]
    },
    {
      "cell_type": "code",
      "metadata": {
        "colab": {
          "base_uri": "https://localhost:8080/"
        },
        "id": "qKyt_j2zv6or",
        "outputId": "7ac22250-86db-4bd4-9a06-53d3299e1757"
      },
      "source": [
        "from sklearn.compose import ColumnTransformer\n",
        "from sklearn.preprocessing import OrdinalEncoder\n",
        "ord_enc = OrdinalEncoder(dtype=np.int)\n",
        "col_trans = ColumnTransformer([('ord_enc', ord_enc, ['color'])])\n",
        "X_trans = col_trans.fit_transform(df)\n",
        "X_trans"
      ],
      "execution_count": null,
      "outputs": [
        {
          "output_type": "execute_result",
          "data": {
            "text/plain": [
              "array([[1],\n",
              "       [2],\n",
              "       [0]])"
            ]
          },
          "metadata": {},
          "execution_count": 11
        }
      ]
    },
    {
      "cell_type": "markdown",
      "metadata": {
        "id": "_K5l0jL8yhv_"
      },
      "source": [
        "```ColumnTransformer```는 첫 번째 매개변수로 트랜스포머(transformer)의 리스트를 받는다.<br>\n",
        "\n",
        "    def __init__(transformers, remainder='drop', sparse_threshold=0.3, n_jobs=None, transformer_weights=None, verbose=False)\n",
        "\n",
        "**트랜스포머(transformer)**: 이름, 변환기, 변환할 열의 리스트로 이루어진 튜플\n",
        "- 이름: ```ord_enc```<br>\n",
        "\n",
        "- 변환기: ```OrdinalEncoder``` 객체<br>\n",
        "\n",
        "- 변환할 열: ```color```\n",
        "\n",
        "<br>\n",
        "\n",
        "위 코드의 결과는 ```color``` 열이 정수 값으로 변환되었다.<br><br>\n",
        "\n",
        "\n",
        "```ColumnTransformer```에 사용한 변환기는 ```named_transformers_``` 속성에서 앞서 지정한 ord_enc 이름으로 참조할 수 있다.<br>\n",
        "\n",
        "정수로 인코딩된 값을 **다시 문자열로 변환**하려면 ```inverse_transform``` 메소드를 호출하면 된다."
      ]
    },
    {
      "cell_type": "code",
      "metadata": {
        "colab": {
          "base_uri": "https://localhost:8080/"
        },
        "id": "0jM2hI4AyWud",
        "outputId": "d7c289b6-a2f4-4ca8-c55b-39452a247880"
      },
      "source": [
        "col_trans.named_transformers_['ord_enc'].inverse_transform(X_trans)"
      ],
      "execution_count": null,
      "outputs": [
        {
          "output_type": "execute_result",
          "data": {
            "text/plain": [
              "array([['green'],\n",
              "       ['red'],\n",
              "       ['blue']], dtype=object)"
            ]
          },
          "metadata": {},
          "execution_count": 12
        }
      ]
    },
    {
      "cell_type": "markdown",
      "metadata": {
        "id": "uSeWHHPI1qXg"
      },
      "source": [
        "#### **```OrdinalEncoder``` 클래스**"
      ]
    },
    {
      "cell_type": "markdown",
      "metadata": {
        "id": "T7Q26LnS2GHA"
      },
      "source": [
        "    def __init__(categories='auto', dtype=np.float64)\n",
        "**```dtype```** 매개변수:\n",
        "- 기본값: **```np.float64```**, 실수로 인코딩한다.\n",
        "- **정수**로 인코딩하고 싶으면 **```np.int```를 지정**하면 된다.\n",
        "\n",
        "<br>\n",
        "\n",
        "**```categories```** 매개변수:\n",
        "- 기본값: ```auto```, 훈련 데이터셋에서 **자동으로 범주를 인식**한다.\n",
        "- ```categories``` 매개변수에 **직접 범주 리스트를 전달**할 수 있다.\n",
        "- 인식된 범주는 **```categories_``` 속성에 저장**된다.\n"
      ]
    }
  ]
}