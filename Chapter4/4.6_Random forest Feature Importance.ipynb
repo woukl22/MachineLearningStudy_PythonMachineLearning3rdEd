{
  "nbformat": 4,
  "nbformat_minor": 0,
  "metadata": {
    "colab": {
      "name": "4.6_랜덤 포레스트의 특성 중요도 사용.ipynb",
      "provenance": [],
      "collapsed_sections": [
        "EgHwH66yEslM",
        "6Z0RVEkHEwNh",
        "EwYmhPF0VSw0",
        "cubebB0ndgAJ",
        "LaIKONCUgJNL",
        "qNBmfaALiUb-",
        "5dLPhiyLkQEr",
        "xNZI0x5uuqMr",
        "1NZjqckPxaIh",
        "Tr31qWnLyMn_",
        "gtwYwnAYCBMd",
        "xlJiM61LC0r2",
        "2hCYglCRC0ix",
        "mpPeMI14F_fB",
        "qMl8_yP3tTH0",
        "RS9baEVqtSrC",
        "jq4kFluRxT_C",
        "3Zwfi5EixYnL",
        "Ln3ohe7kxeNf",
        "4ZVZYu4kDS-6",
        "KTgPce7bMdSm",
        "aUsJ_cPEifsV"
      ],
      "toc_visible": true,
      "authorship_tag": "ABX9TyNsyJ9DJbui+/8OSHQnkmb1"
    },
    "kernelspec": {
      "name": "python3",
      "display_name": "Python 3"
    },
    "language_info": {
      "name": "python"
    }
  },
  "cells": [
    {
      "cell_type": "markdown",
      "metadata": {
        "id": "wSSUZOnapCMW"
      },
      "source": [
        "# **4.6 랜덤 포레스트의 특성 중요도 사용**"
      ]
    },
    {
      "cell_type": "markdown",
      "metadata": {
        "id": "Zg8iHnk8py2Z"
      },
      "source": [
        "**유용한 특성을 선택하는 또 다른 방법**은 앙상블 기법인 **랜덤 포레스트**를 사용하는 것이다.<br>\n",
        "*랜덤 포레스트(random forest): 여러 개의 결정 트리를 평균 내는 것*\n",
        "\n",
        "<br>\n",
        "\n",
        "랜덤 포레스트를 사용하면 앙상블에 참여한 모든 결정 트리에서 계산한 '평균적인 불순도 감소'로 **특성 중요도를 측정**할 수 있다.<br>\n",
        "따라서 데이터셋이 **선형적으로 구분 가능한지** 여부를 **가정할 필요가 없다**.\n",
        "\n",
        "<br>\n",
        "\n",
        "---\n",
        "\n",
        "<br>\n",
        "\n",
        "다음 코드에서는 Wine 데이터셋에서 500개의 트리를 가진 랜덤 포레스트를 훈련하고 각각의 **중요도에 따라** 13개의 **특성에 순위**를 매긴다.<br>\n",
        "\n",
        "*참고로 트리 기반 모델은 표준화나 정규화가 필요 없다.*"
      ]
    },
    {
      "cell_type": "code",
      "metadata": {
        "id": "0IZ67U7VHbgT",
        "colab": {
          "base_uri": "https://localhost:8080/",
          "height": 544
        },
        "outputId": "bc0a3a26-8df4-4eff-d79c-126893db7d0c"
      },
      "source": [
        "from sklearn.ensemble import RandomForestClassifier\n",
        "\n",
        "feat_labels = df_wine.columns[1:]\n",
        "\n",
        "forest = RandomForestClassifier(n_estimators=500,\n",
        "                                random_state=1)\n",
        "forest.fit(X_train, y_train)\n",
        "importances = forest.feature_importances_\n",
        "\n",
        "indices = np.argsort(importances)[::-1]\n",
        "\n",
        "for f in range(X_train.shape[1]):\n",
        "  print(\"%2d) %-*s %f\" % (f + 1, 30,\n",
        "                          feat_labels[indices[f]],\n",
        "                          importances[indices[f]]))\n",
        "plt.title('Feature Importance')\n",
        "plt.bar(range(X_train.shape[1]),\n",
        "        importances[indices],\n",
        "        align='center')\n",
        "\n",
        "plt.xticks(range(X_train.shape[1]),\n",
        "           feat_labels[indices], rotation=90)\n",
        "plt.xlim([-1, X_train.shape[1]])\n",
        "plt.tight_layout()\n",
        "plt.show()"
      ],
      "execution_count": 32,
      "outputs": [
        {
          "output_type": "stream",
          "name": "stdout",
          "text": [
            " 1) Proline                        0.185453\n",
            " 2) Flavanoids                     0.174751\n",
            " 3) Color intensity                0.143920\n",
            " 4) OD280/OD315 of diluted wines   0.136162\n",
            " 5) Alcohol                        0.118529\n",
            " 6) Hue                            0.058739\n",
            " 7) Total phenols                  0.050872\n",
            " 8) Magnesium                      0.031357\n",
            " 9) Malic acid                     0.025648\n",
            "10) Proanthocyanins                0.025570\n",
            "11) Alcalinity of ash              0.022366\n",
            "12) Nonflavanoid phenols           0.013354\n",
            "13) Ash                            0.013279\n"
          ]
        },
        {
          "output_type": "display_data",
          "data": {
            "image/png": "[encoded data removed]",
            "text/plain": [
              "<Figure size 432x288 with 1 Axes>"
            ]
          },
          "metadata": {
            "needs_background": "light"
          }
        }
      ]
    },
    {
      "cell_type": "markdown",
      "metadata": {
        "id": "jv82inT5tafx"
      },
      "source": [
        "**특성 중요도(Feature Importance)**는 합이 1이 되도록 정규화된 값이다.<br><br>\n",
        "\n",
        "\n",
        "500개의 결정 트리에서 '평균적인 불순도 감소'를 기반으로 이 데이터셋에서 **가장 판별력이 좋은 특성** 5가지<br>\n",
        "\n",
        "    Proline, Flavanoids, Color intensity, OD280/OD315 of diluted wines, Alcohol\n",
        "*재미있는 사실은 높은 순위의 특성 **5개 중 2개**는 SBS 알고리즘으로 선택한 3개에 포함되어 있다. (```Alcohol, OD280/OD315 of diluted wines```)*<br><br>\n",
        "\n",
        "\n",
        "*※ 모델 해석을 중요하게 고려한다면 중요한 참고사항*<br>\n",
        "*랜덤 포레스트에서 **두 개 이상**의 특성이 매우 **상관관계가 높다면** 하나의 특성은 매우 높은 순위를 갖지만, **다른 특성 정보는 완전히 잡아내지 못할 수 있다**.<br>\n",
        "특성 중요도 값을 해석하는 것보다 모델의 예측 성능에만 관심이 있다면 신경쓸 필요 없다.*\n",
        "\n",
        "<br>\n",
        "\n"
      ]
    },
    {
      "cell_type": "code",
      "metadata": {
        "colab": {
          "base_uri": "https://localhost:8080/"
        },
        "id": "y3nugoG4rXq6",
        "outputId": "c457f22b-97e3-49ed-f307-890d9864049d"
      },
      "source": [
        "from sklearn.feature_selection import SelectFromModel\n",
        "\n",
        "sfm = SelectFromModel(forest, threshold=0.1, prefit=True)\n",
        "X_selected = sfm.transform(X_train)\n",
        "print('이 임계 조건을 만족하는 샘플의 수: ', X_selected.shape[1])\n",
        "\n",
        "for f in range(X_selected.shape[1]):\n",
        "  print(\"%2d) %-*s %f\" % (f + 1, 30,\n",
        "                          feat_labels[indices[f]],\n",
        "                          importances[indices[f]]))"
      ],
      "execution_count": 33,
      "outputs": [
        {
          "output_type": "stream",
          "name": "stdout",
          "text": [
            "이 임계 조건을 만족하는 샘플의 수:  5\n",
            " 1) Proline                        0.185453\n",
            " 2) Flavanoids                     0.174751\n",
            " 3) Color intensity                0.143920\n",
            " 4) OD280/OD315 of diluted wines   0.136162\n",
            " 5) Alcohol                        0.118529\n"
          ]
        }
      ]
    },
    {
      "cell_type": "markdown",
      "metadata": {
        "id": "b_sqLTxkbKeC"
      },
      "source": [
        "**```SelectFromModel``` 클래스**\n",
        "- 모델 훈련이 끝난 뒤 **사용자가 지정한 임계 값**(```threshold```)을 기반으로 **특성을 선택**한다.<br>\n",
        "- **```RandomForestClassifier```**를 특성 선택기로 사용할 때 유용하다.<br>\n",
        "\n",
        "<br>\n",
        "\n",
        "---\n",
        "\n",
        "<br>\n",
        "\n"
      ]
    },
    {
      "cell_type": "markdown",
      "metadata": {
        "id": "JP7BvY3CdPsH"
      },
      "source": [
        "**RFE(Recursive Feature Elimination): 재귀적 특성 제거 방법**<br>\n",
        "1. 모든 특성을 사용하여 모델을 만들고 특성 중요도가 가장 낮은 특성을 제거한다.\n",
        "2. 제외된 특성을 빼고 나머지 특성으로 새로운 모델을 만든다.\n",
        "3. 미리 정의한 특성 개수가 남을 때까지 반복한다.\n",
        "\n",
        "<br>\n",
        "\n",
        "RFE 클래스:\n",
        "\n",
        "        def __init__(estimator, n_features_to_select=None, step=1, verbose=0)\n",
        "\n",
        "<br>\n",
        "\n",
        "매개변수:\n",
        "\n",
        "**```n_features_to_select```**<br>\n",
        "- **선택할 특성의 개수**를 지정한다. \n",
        "- 기본값은 입력 특성 개수의 절반이다.\n",
        "\n",
        "\n",
        "**```step```**<br>\n",
        "- 각 반복에서 **제거할 특성의 개수**를 지정한다.\n",
        "- (0, 1) 사이의 값을 지정하면 삭제할 특성의 비율이 된다.\n",
        "- 기본값은 1이다.\n",
        "\n",
        "<br>\n",
        "\n",
        "\n",
        "기본적으로 **```coef_```**나 **```feature_importances_``` 속성을 기준**으로 **특성을 제거**한다.\n",
        "\n",
        "<br>\n",
        "\n"
      ]
    },
    {
      "cell_type": "code",
      "metadata": {
        "id": "J6576fNOr64I",
        "colab": {
          "base_uri": "https://localhost:8080/"
        },
        "outputId": "d1723f9f-9353-47df-ec49-db8fedfed54b"
      },
      "source": [
        "from sklearn.feature_selection import RFE\n",
        "rfe = RFE(forest, n_features_to_select=5)\n",
        "rfe.fit(X_train, y_train)"
      ],
      "execution_count": 34,
      "outputs": [
        {
          "output_type": "execute_result",
          "data": {
            "text/plain": [
              "RFE(estimator=RandomForestClassifier(bootstrap=True, ccp_alpha=0.0,\n",
              "                                     class_weight=None, criterion='gini',\n",
              "                                     max_depth=None, max_features='auto',\n",
              "                                     max_leaf_nodes=None, max_samples=None,\n",
              "                                     min_impurity_decrease=0.0,\n",
              "                                     min_impurity_split=None,\n",
              "                                     min_samples_leaf=1, min_samples_split=2,\n",
              "                                     min_weight_fraction_leaf=0.0,\n",
              "                                     n_estimators=500, n_jobs=None,\n",
              "                                     oob_score=False, random_state=1, verbose=0,\n",
              "                                     warm_start=False),\n",
              "    n_features_to_select=5, step=1, verbose=0)"
            ]
          },
          "metadata": {},
          "execution_count": 34
        }
      ]
    },
    {
      "cell_type": "code",
      "metadata": {
        "colab": {
          "base_uri": "https://localhost:8080/"
        },
        "id": "ssOxgezPdq54",
        "outputId": "d49e1064-bcb9-41ba-f9ee-5692dbfe4c55"
      },
      "source": [
        "rfe.ranking_"
      ],
      "execution_count": 35,
      "outputs": [
        {
          "output_type": "execute_result",
          "data": {
            "text/plain": [
              "array([1, 5, 9, 6, 4, 3, 1, 8, 7, 1, 2, 1, 1])"
            ]
          },
          "metadata": {},
          "execution_count": 35
        }
      ]
    },
    {
      "cell_type": "markdown",
      "metadata": {
        "id": "Ird-CzgVftu4"
      },
      "source": [
        "**```ranking_``` 속성**에는 **선택한 특성의 우선순위**가 들어 있다.<br>\n",
        "- 1은 모델이 선택한 다섯 개의 특성이다.\n",
        "\n",
        "<br>\n"
      ]
    },
    {
      "cell_type": "code",
      "metadata": {
        "id": "EDs7EbCEdu4d"
      },
      "source": [
        "f_mask = rfe.support_"
      ],
      "execution_count": 36,
      "outputs": []
    },
    {
      "cell_type": "markdown",
      "metadata": {
        "id": "-B2_26PXgQi7"
      },
      "source": [
        "선택된 특성은 **```support_``` 속성에 ```True```로 표시**된다.<br>\n",
        "\n",
        "이 값을 ```f_mask```로 저장하면 특성의 이름을 표시하는 데 사용할 수 있다.\n",
        "\n",
        "<br>"
      ]
    },
    {
      "cell_type": "code",
      "metadata": {
        "colab": {
          "base_uri": "https://localhost:8080/"
        },
        "id": "I8VkahSLdxf8",
        "outputId": "ba3ae06a-27cc-46ae-937d-e4a821a89a27"
      },
      "source": [
        "importances = rfe.estimator_.feature_importances_\n",
        "indices = np.argsort(importances)[::-1]\n",
        "for i in indices:\n",
        "  print(\"%2d) %-*s %f\" % (f + 1, 30,\n",
        "                          feat_labels[f_mask][i],\n",
        "                          importances[i]))"
      ],
      "execution_count": 38,
      "outputs": [
        {
          "output_type": "stream",
          "name": "stdout",
          "text": [
            " 5) Proline                        0.261512\n",
            " 5) Color intensity                0.216477\n",
            " 5) Flavanoids                     0.212259\n",
            " 5) OD280/OD315 of diluted wines   0.188924\n",
            " 5) Alcohol                        0.120828\n"
          ]
        }
      ]
    },
    {
      "cell_type": "markdown",
      "metadata": {
        "id": "RTShP7IIgkwq"
      },
      "source": [
        "**훈련된 기반 모델**(랜덤 포레스트)은 **```estimator_``` 속성에 저장**되어 있다.<br>\n",
        "\n",
        "이 모델은 **```n_features_to_select```개의 특성을 사용**하여 **훈련된 모델**이다.<br><br>\n",
        "\n",
        "이 모델의 특성 중요도를 저장하여 앞에서와 같이 **중요도 순서대로 출력**했다.<br>\n",
        "기반 모델을 같은 **랜덤 포레스트**로 사용해서, **```SelectFromModel``` 클래스로 선택한 특성**과 순서를 빼고 나머진 **같다**.\n",
        "\n",
        "<br>\n",
        "\n",
        "---\n"
      ]
    }
  ]
}