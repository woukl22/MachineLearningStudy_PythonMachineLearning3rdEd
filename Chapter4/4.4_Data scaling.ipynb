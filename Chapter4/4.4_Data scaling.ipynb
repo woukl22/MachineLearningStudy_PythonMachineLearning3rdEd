{
  "nbformat": 4,
  "nbformat_minor": 0,
  "metadata": {
    "colab": {
      "name": "4.4_특성 스케일 맞추기.ipynb",
      "provenance": [],
      "collapsed_sections": [
        "EgHwH66yEslM"
      ],
      "toc_visible": true,
      "authorship_tag": "ABX9TyOygLa+rGTMP9YIyhOHPnaG"
    },
    "kernelspec": {
      "name": "python3",
      "display_name": "Python 3"
    },
    "language_info": {
      "name": "python"
    }
  },
  "cells": [
    {
      "cell_type": "markdown",
      "metadata": {
        "id": "cubebB0ndgAJ"
      },
      "source": [
        "# 4.4 특성 스케일 맞추기"
      ]
    },
    {
      "cell_type": "markdown",
      "metadata": {
        "id": "5QNu6iq8dmI2"
      },
      "source": [
        "**특성 스케일 조정**은 잊어버리기 쉽지만 매우 중요하다.<br>\n",
        "\n",
        "대부분의 머신 러닝과 최적화 알고리즘은 **특성의 스케일이 같을 때 성능이 훨씬 좋다**.<br><br>\n",
        "\n",
        "특성 스케일 조정에 대해 걱정할 필요 없는 알고리즘에는 **결정 트리(decision tree)**와 **랜덤 포레스트(random forest)**가 있다."
      ]
    },
    {
      "cell_type": "markdown",
      "metadata": {
        "id": "_Ab0aNRBfz2s"
      },
      "source": [
        "<br>\n",
        "\n",
        "스케일을 조정하는 대표적인 방법\n",
        "- 정규화(normalization)\n",
        "- 표준화(standardization)\n",
        "\n",
        "---\n",
        "<br>"
      ]
    },
    {
      "cell_type": "markdown",
      "metadata": {
        "id": "LaIKONCUgJNL"
      },
      "source": [
        "### **정규화** - ```MinMaxScaler```\n",
        "대부분 정규화는 **최소-최대 스케일 변환(min-max scaling)**의 특별한 경우로 특성의 **스케일을 [0, 1] 범위에 맞추는 것**을 의미한다.\n",
        "\n",
        "<br>\n",
        "공식은 다음과 같다.\n",
        "\n",
        "$$x_{norm}^{(i)} = \\frac{x^{(i)}-x_{min}}{x_{max}-x_{min}}$$\n",
        "<br>\n",
        "$$특정샘플: x^{(i)}, 최솟값: x_{min}, 최댓값: x_{max}$$"
      ]
    },
    {
      "cell_type": "code",
      "metadata": {
        "id": "pu_anLZQXZKZ"
      },
      "source": [
        "from sklearn.preprocessing import MinMaxScaler\n",
        "mms = MinMaxScaler()\n",
        "X_train_norm = mms.fit_transform(X_train)\n",
        "X_test_norm = mms.transform(X_test)"
      ],
      "execution_count": 6,
      "outputs": []
    },
    {
      "cell_type": "markdown",
      "metadata": {
        "id": "HgoDNFY2iD8E"
      },
      "source": [
        "**min-max scaling**을 통한 정규화는 **정해진 범위의 값이 필요할 때** 유용하게 사용할 수 있다.<br>\n",
        "\n",
        "반면에 **표준화**는 **최적화 알고리즘**에서 널리 사용한다.\n",
        "\n",
        "---\n",
        "\n",
        "<br>\n"
      ]
    },
    {
      "cell_type": "markdown",
      "metadata": {
        "id": "qNBmfaALiUb-"
      },
      "source": [
        "### **표준화** - ```StandardScaler```\n",
        "표준화는 특성의 **평균을 0**에 맞추고 **표준 편차를 1**로 만들어 **정규분포와 같은 특징**을 가지도록 만든다.<br>\n",
        "\n",
        "- **가중치를 더 쉽게 학습**할 수 있도록 만든다.\n",
        "- min-max scaling에 비해 **이상치에 덜 민감**하다.\n",
        "\n",
        "<br>\n",
        "공식은 다음과 같다.\n",
        "$$x_{std}^{(i)} = \\frac{x^{(i)}-\\mu_{x}}{\\sigma_{x}}$$\n",
        "<br>\n",
        "$$샘플평균: \\mu_{x}, 표준편차: \\sigma_{x}$$\n",
        "\n"
      ]
    },
    {
      "cell_type": "code",
      "metadata": {
        "id": "QBw2p8yUkkTw"
      },
      "source": [
        "from sklearn.preprocessing import StandardScaler\n",
        "stdsc = StandardScaler()\n",
        "X_train_std = stdsc.fit_transform(X_train)\n",
        "X_test_std = stdsc.transform(X_test)"
      ],
      "execution_count": null,
      "outputs": []
    },
    {
      "cell_type": "markdown",
      "metadata": {
        "id": "DCsr1PjAuC2V"
      },
      "source": [
        "**사이킷런**은 ```MinMaxScaler``` 클래스와 비슷하게 **표준화를 위한 함수**로 **```StandardScaler```를 제공**한다.\n",
        "\n",
        "---\n",
        "\n",
        "<br>"
      ]
    },
    {
      "cell_type": "markdown",
      "metadata": {
        "id": "5dLPhiyLkQEr"
      },
      "source": [
        "#### 0에서 5까지 숫자로 이루어진 데이터셋의 표준화와 정규화 특성 스케일 변환 기법 비교"
      ]
    },
    {
      "cell_type": "code",
      "metadata": {
        "id": "W1hgOmrChpPg",
        "colab": {
          "base_uri": "https://localhost:8080/",
          "height": 235
        },
        "outputId": "9a646ce5-cdca-4f99-fc76-bdf71d0cedcf"
      },
      "source": [
        "import pandas as pd\n",
        "ex = np.array([0, 1, 2, 3, 4, 5])\n",
        "standardazation = (ex-ex.mean()) / ex.std()\n",
        "normalization = (ex - ex.min()) / (ex.max() - ex.min())\n",
        "\n",
        "raw_data = {'Input': ex,\n",
        "        'Standardization': standardazation,\n",
        "        'Normalization': normalization}\n",
        "\n",
        "data = pd.DataFrame(raw_data)\n",
        "data"
      ],
      "execution_count": 22,
      "outputs": [
        {
          "output_type": "execute_result",
          "data": {
            "text/html": [
              "<div>\n",
              "<style scoped>\n",
              "    .dataframe tbody tr th:only-of-type {\n",
              "        vertical-align: middle;\n",
              "    }\n",
              "\n",
              "    .dataframe tbody tr th {\n",
              "        vertical-align: top;\n",
              "    }\n",
              "\n",
              "    .dataframe thead th {\n",
              "        text-align: right;\n",
              "    }\n",
              "</style>\n",
              "<table border=\"1\" class=\"dataframe\">\n",
              "  <thead>\n",
              "    <tr style=\"text-align: right;\">\n",
              "      <th></th>\n",
              "      <th>Input</th>\n",
              "      <th>Standardization</th>\n",
              "      <th>Normalization</th>\n",
              "    </tr>\n",
              "  </thead>\n",
              "  <tbody>\n",
              "    <tr>\n",
              "      <th>0</th>\n",
              "      <td>0</td>\n",
              "      <td>-1.46385</td>\n",
              "      <td>0.0</td>\n",
              "    </tr>\n",
              "    <tr>\n",
              "      <th>1</th>\n",
              "      <td>1</td>\n",
              "      <td>-0.87831</td>\n",
              "      <td>0.2</td>\n",
              "    </tr>\n",
              "    <tr>\n",
              "      <th>2</th>\n",
              "      <td>2</td>\n",
              "      <td>-0.29277</td>\n",
              "      <td>0.4</td>\n",
              "    </tr>\n",
              "    <tr>\n",
              "      <th>3</th>\n",
              "      <td>3</td>\n",
              "      <td>0.29277</td>\n",
              "      <td>0.6</td>\n",
              "    </tr>\n",
              "    <tr>\n",
              "      <th>4</th>\n",
              "      <td>4</td>\n",
              "      <td>0.87831</td>\n",
              "      <td>0.8</td>\n",
              "    </tr>\n",
              "    <tr>\n",
              "      <th>5</th>\n",
              "      <td>5</td>\n",
              "      <td>1.46385</td>\n",
              "      <td>1.0</td>\n",
              "    </tr>\n",
              "  </tbody>\n",
              "</table>\n",
              "</div>"
            ],
            "text/plain": [
              "   Input  Standardization  Normalization\n",
              "0      0         -1.46385            0.0\n",
              "1      1         -0.87831            0.2\n",
              "2      2         -0.29277            0.4\n",
              "3      3          0.29277            0.6\n",
              "4      4          0.87831            0.8\n",
              "5      5          1.46385            1.0"
            ]
          },
          "metadata": {},
          "execution_count": 22
        }
      ]
    },
    {
      "cell_type": "markdown",
      "metadata": {
        "id": "xNZI0x5uuqMr"
      },
      "source": [
        "---\n",
        "<br>\n",
        "\n",
        "### **```RobustScaler```**"
      ]
    },
    {
      "cell_type": "markdown",
      "metadata": {
        "id": "8XESEvGAu5mU"
      },
      "source": [
        "**```RobustScaler```를 추천하는 경우**<br> \n",
        "\n",
        "- **이상치가 많이** 포함된 **작은** 데이터셋을 다루는 경우\n",
        "- 데이터셋에 적용된 머신 러닝 알고리즘이 **과대적합되기 쉬운** 경우\n",
        "\n",
        "<br>\n",
        "\n",
        "```RobustScaler```는 **특성 열마다 독립적으로 작용**한다.<br>\n",
        "중간 값을 뺀 값에 **1사분위수**(25백분위수)와 **3사분위수**(75백분위수)차이를 나누어 **데이터셋의 스케일을 조정**한다.<br>\n",
        "따라서 **극단적인 값과 이상치에 영향을 덜 받는다**.<br>\n",
        "\n",
        "<br>\n",
        "공식은 다음과 같다.\n",
        "$$x^{(i)}_{robust} = \\frac {x^{(i)} - q_{2}}{q_{3} - q_{1}}$$\n",
        "\n",
        "<br>\n",
        "\n",
        "사용법은 StandardScaler와 동일하다.\n",
        "\n"
      ]
    },
    {
      "cell_type": "code",
      "metadata": {
        "id": "_zKYyRDGwoX0"
      },
      "source": [
        "from sklearn.preprocessing import RobustScaler\n",
        "rbs = RobustScaler()\n",
        "X_train_robust = rbs.fit_transform(X_train)\n",
        "X_test_robus = rbs.fit_transform(X_test)"
      ],
      "execution_count": 14,
      "outputs": []
    },
    {
      "cell_type": "code",
      "metadata": {
        "colab": {
          "base_uri": "https://localhost:8080/"
        },
        "id": "uY4XHe6qwwFx",
        "outputId": "02141ed2-90da-4f46-eb6f-ad46edeaab1f"
      },
      "source": [
        "(ex - np.percentile(ex, 50)) / (np.percentile(ex, 75) - np.percentile(ex, 25))"
      ],
      "execution_count": 15,
      "outputs": [
        {
          "output_type": "execute_result",
          "data": {
            "text/plain": [
              "array([-1. , -0.6, -0.2,  0.2,  0.6,  1. ])"
            ]
          },
          "metadata": {},
          "execution_count": 15
        }
      ]
    },
    {
      "cell_type": "markdown",
      "metadata": {
        "id": "1NZjqckPxaIh"
      },
      "source": [
        "---\n",
        "\n",
        "<br>\n",
        "\n",
        "### **```MaxAbsScaler```**"
      ]
    },
    {
      "cell_type": "markdown",
      "metadata": {
        "id": "s9Bj6siox6DI"
      },
      "source": [
        "```MaxAbsScaler```는 각 **특성별로** 데이터를 **최대 절댓값으로 나눈다**.<br>\n",
        "\n",
        "따라서 각 특성의 **최댓값은 1**이 되고, **전체 특성은 [-1, 1] 범위**가 된다."
      ]
    },
    {
      "cell_type": "code",
      "metadata": {
        "id": "TwILeEdRxioc"
      },
      "source": [
        "from sklearn.preprocessing import MaxAbsScaler\n",
        "mas = MaxAbsScaler()\n",
        "X_train_maxabs = mas.fit_transform(X_train)\n",
        "X_test_maxabs = mas.fit_transform(X_test)"
      ],
      "execution_count": 16,
      "outputs": []
    },
    {
      "cell_type": "code",
      "metadata": {
        "colab": {
          "base_uri": "https://localhost:8080/"
        },
        "id": "fWoykC_7xw_Z",
        "outputId": "8c28dbd3-10b0-44c5-94e1-7b7dee5427bf"
      },
      "source": [
        "ex / np.max(np.abs(ex))"
      ],
      "execution_count": 17,
      "outputs": [
        {
          "output_type": "execute_result",
          "data": {
            "text/plain": [
              "array([0. , 0.2, 0.4, 0.6, 0.8, 1. ])"
            ]
          },
          "metadata": {},
          "execution_count": 17
        }
      ]
    },
    {
      "cell_type": "markdown",
      "metadata": {
        "id": "Tr31qWnLyMn_"
      },
      "source": [
        "---\n",
        "\n",
        "<br>\n",
        "\n",
        "### **함수**"
      ]
    },
    {
      "cell_type": "markdown",
      "metadata": {
        "id": "zWWZS9weyot3"
      },
      "source": [
        "```StandardScaler, MinMaxScaler, RobustScaler, MaxAbsScaler```에 대응하는 ```scale(), minmax_scale(), robust_scale(), maxabs_scale()``` 함수가 있다.<br>\n",
        "\n",
        "이 함수들은 1차원 배열도 입력받을 수 있다."
      ]
    },
    {
      "cell_type": "code",
      "metadata": {
        "colab": {
          "base_uri": "https://localhost:8080/",
          "height": 235
        },
        "id": "GeyKQ5XnyqVS",
        "outputId": "b8b16707-1d60-49a5-ff84-947e0ebba5cd"
      },
      "source": [
        "from sklearn.preprocessing import scale, minmax_scale, robust_scale, maxabs_scale\n",
        "\n",
        "raw_data = {'Input': ex,\n",
        "        'StandardScaler': scale(ex),\n",
        "        'MinMaxScaler': minmax_scale(ex),\n",
        "        'RobustScaler': robust_scale(ex),\n",
        "        'MaxAbsScaler': maxabs_scale(ex)}\n",
        "\n",
        "data = pd.DataFrame(raw_data)\n",
        "data"
      ],
      "execution_count": 19,
      "outputs": [
        {
          "output_type": "execute_result",
          "data": {
            "text/html": [
              "<div>\n",
              "<style scoped>\n",
              "    .dataframe tbody tr th:only-of-type {\n",
              "        vertical-align: middle;\n",
              "    }\n",
              "\n",
              "    .dataframe tbody tr th {\n",
              "        vertical-align: top;\n",
              "    }\n",
              "\n",
              "    .dataframe thead th {\n",
              "        text-align: right;\n",
              "    }\n",
              "</style>\n",
              "<table border=\"1\" class=\"dataframe\">\n",
              "  <thead>\n",
              "    <tr style=\"text-align: right;\">\n",
              "      <th></th>\n",
              "      <th>Input</th>\n",
              "      <th>StandardScaler</th>\n",
              "      <th>MinMaxScaler</th>\n",
              "      <th>RobustScaler</th>\n",
              "      <th>MaxAbsScaler</th>\n",
              "    </tr>\n",
              "  </thead>\n",
              "  <tbody>\n",
              "    <tr>\n",
              "      <th>0</th>\n",
              "      <td>0</td>\n",
              "      <td>-1.46385</td>\n",
              "      <td>0.0</td>\n",
              "      <td>-1.0</td>\n",
              "      <td>0.0</td>\n",
              "    </tr>\n",
              "    <tr>\n",
              "      <th>1</th>\n",
              "      <td>1</td>\n",
              "      <td>-0.87831</td>\n",
              "      <td>0.2</td>\n",
              "      <td>-0.6</td>\n",
              "      <td>0.2</td>\n",
              "    </tr>\n",
              "    <tr>\n",
              "      <th>2</th>\n",
              "      <td>2</td>\n",
              "      <td>-0.29277</td>\n",
              "      <td>0.4</td>\n",
              "      <td>-0.2</td>\n",
              "      <td>0.4</td>\n",
              "    </tr>\n",
              "    <tr>\n",
              "      <th>3</th>\n",
              "      <td>3</td>\n",
              "      <td>0.29277</td>\n",
              "      <td>0.6</td>\n",
              "      <td>0.2</td>\n",
              "      <td>0.6</td>\n",
              "    </tr>\n",
              "    <tr>\n",
              "      <th>4</th>\n",
              "      <td>4</td>\n",
              "      <td>0.87831</td>\n",
              "      <td>0.8</td>\n",
              "      <td>0.6</td>\n",
              "      <td>0.8</td>\n",
              "    </tr>\n",
              "    <tr>\n",
              "      <th>5</th>\n",
              "      <td>5</td>\n",
              "      <td>1.46385</td>\n",
              "      <td>1.0</td>\n",
              "      <td>1.0</td>\n",
              "      <td>1.0</td>\n",
              "    </tr>\n",
              "  </tbody>\n",
              "</table>\n",
              "</div>"
            ],
            "text/plain": [
              "   Input  StandardScaler  MinMaxScaler  RobustScaler  MaxAbsScaler\n",
              "0      0        -1.46385           0.0          -1.0           0.0\n",
              "1      1        -0.87831           0.2          -0.6           0.2\n",
              "2      2        -0.29277           0.4          -0.2           0.4\n",
              "3      3         0.29277           0.6           0.2           0.6\n",
              "4      4         0.87831           0.8           0.6           0.8\n",
              "5      5         1.46385           1.0           1.0           1.0"
            ]
          },
          "metadata": {},
          "execution_count": 19
        }
      ]
    },
    {
      "cell_type": "markdown",
      "metadata": {
        "id": "_26sesth0pyK"
      },
      "source": [
        "**```MaxAbsScaler, maxabs_scale()```**은 데이터를 중앙에 맞추지 않기 때문에 **희소 행렬을 사용할 수 있다**.\n",
        "\n",
        "        >>> from scipy import sparse\n",
        "        >>> X_train_sparse = sparse.csr_matrix(X_train)\n",
        "        >>> X_train_maxabs = mas.fit_transform(X_train_sparse)\n",
        "\n",
        "\n",
        "**```RobustScaler```**는 ```fit()``` 메소드에 희소 행렬을 사용할 수 없지만 **```transform()``` 메소드에서 변환은 가능**하다.\n",
        "\n",
        "        >>> X_train_robust = rbs.transform(X_train_sparse)\n",
        "\n",
        "**```StandardScaler```**는 **```with_mean=False```**로 지정하면 **희소 행렬을 사용할 수 있다.**<br><br>\n",
        "\n",
        "- *희소 행렬: 행렬 값이 대부분 0인 경우*\n",
        "\n",
        "---\n",
        "\n",
        "<br>"
      ]
    },
    {
      "cell_type": "markdown",
      "metadata": {
        "id": "gtwYwnAYCBMd"
      },
      "source": [
        "### **```Normalizer``` & ```normalize()```**"
      ]
    },
    {
      "cell_type": "markdown",
      "metadata": {
        "id": "rjWM61R5CSeA"
      },
      "source": [
        "**```Normalizer``` 클래스**와 **```normalize()``` 메소드**는 \n",
        "- 특성이 아니라 **샘플별로 정규화**를 수행한다.\n",
        "- **희소 행렬 처리**도 가능하다.\n",
        "- 기본적으로 각 샘플의 **L2노름이 1이 되도록 정규화**한다."
      ]
    },
    {
      "cell_type": "code",
      "metadata": {
        "id": "CmRounTLA0kB"
      },
      "source": [
        "from sklearn.preprocessing import Normalizer\n",
        "nrm = Normalizer()\n",
        "X_train_l2 = nrm.fit_transform(X_train)"
      ],
      "execution_count": 24,
      "outputs": []
    },
    {
      "cell_type": "markdown",
      "metadata": {
        "id": "I7KNd_UWC0uO"
      },
      "source": [
        "        def __init__(norm='l2', copy=True)\n",
        "\n",
        "```Normalizer``` 클래스는 ```norm``` 매개변수에 ```'l1', 'l2', 'max'```를 지정할 수 있다.<br>\n",
        "\n",
        "**기본값은 ```'l2'```**이다.<br>\n",
        "<br>\n",
        "**0을 제외한 ```'l1'```과 ```'l2'```의 차이점**"
      ]
    },
    {
      "cell_type": "code",
      "metadata": {
        "colab": {
          "base_uri": "https://localhost:8080/"
        },
        "id": "RioaKSuPC0dW",
        "outputId": "08e932e3-bc55-40c0-a16d-79b111b2f085"
      },
      "source": [
        "ex_2f = np.vstack((ex[1:], ex[1:]**2))\n",
        "ex_2f"
      ],
      "execution_count": 25,
      "outputs": [
        {
          "output_type": "execute_result",
          "data": {
            "text/plain": [
              "array([[ 1,  2,  3,  4,  5],\n",
              "       [ 1,  4,  9, 16, 25]])"
            ]
          },
          "metadata": {},
          "execution_count": 25
        }
      ]
    },
    {
      "cell_type": "markdown",
      "metadata": {
        "id": "xlJiM61LC0r2"
      },
      "source": [
        "##### **n2 norm**\n",
        "L2 노름 공식\n",
        "$$\\left \\| x \\right \\| = \\sqrt{x^{2}_{1} + x^{2}_{2} + \\cdot \\cdot \\cdot + x^{2}_{n}}$$\n",
        "\n",
        "<br>\n",
        "\n",
        "샘플별로 특성의 제곱을 더하기 위해 **```sum()``` 함수에서 ```axis=1```을 사용**한다.<br>\n",
        "\n",
        "이 값의 **제곱근**을 구하면 L2 노름이 된다.<br>\n",
        "\n",
        "그 다음 각 샘플의 특성을 해당 **L2 노름으로 나눈다**."
      ]
    },
    {
      "cell_type": "code",
      "metadata": {
        "colab": {
          "base_uri": "https://localhost:8080/"
        },
        "id": "DtlYNFBFA-WP",
        "outputId": "a8f8a855-ccd9-4424-d923-710ef72c429a"
      },
      "source": [
        "l2_norm = np.sqrt(np.sum(ex_2f ** 2, axis=1))\n",
        "print(l2_norm)"
      ],
      "execution_count": 30,
      "outputs": [
        {
          "output_type": "stream",
          "name": "stdout",
          "text": [
            "[ 7.41619849 31.28897569]\n"
          ]
        }
      ]
    },
    {
      "cell_type": "code",
      "metadata": {
        "colab": {
          "base_uri": "https://localhost:8080/"
        },
        "id": "mqyPhQ8tEol7",
        "outputId": "5f1e2ceb-d536-460d-d55a-285d4550a4f1"
      },
      "source": [
        "ex_2f / l2_norm.reshape(-1, 1)"
      ],
      "execution_count": 28,
      "outputs": [
        {
          "output_type": "execute_result",
          "data": {
            "text/plain": [
              "array([[0.13483997, 0.26967994, 0.40451992, 0.53935989, 0.67419986],\n",
              "       [0.03196014, 0.12784055, 0.28764125, 0.51136222, 0.79900347]])"
            ]
          },
          "metadata": {},
          "execution_count": 28
        }
      ]
    },
    {
      "cell_type": "markdown",
      "metadata": {
        "id": "2hCYglCRC0ix"
      },
      "source": [
        "##### **l1 norm**\n",
        "```Normalizer``` 클래스에 **```norm='l1'```**으로 지정하면 **절댓값인 L1 노름을 사용**한다.<br>\n",
        "\n",
        "L1 노름 공식\n",
        "\n",
        "$$\\left \\| x \\right \\| _{1}= |x_{1}| + |x_{2}| + \\cdot \\cdot \\cdot + |x_{n}|$$\n",
        "\n"
      ]
    },
    {
      "cell_type": "code",
      "metadata": {
        "colab": {
          "base_uri": "https://localhost:8080/"
        },
        "id": "KrdUcO9mzFd-",
        "outputId": "433c1e64-def6-4032-820e-c7f39b21b8a3"
      },
      "source": [
        "l1_norm = np.sum(np.abs(ex_2f), axis=1)\n",
        "print(l1_norm)"
      ],
      "execution_count": 32,
      "outputs": [
        {
          "output_type": "stream",
          "name": "stdout",
          "text": [
            "[15 55]\n"
          ]
        }
      ]
    },
    {
      "cell_type": "code",
      "metadata": {
        "colab": {
          "base_uri": "https://localhost:8080/"
        },
        "id": "cnshA5u4FwWX",
        "outputId": "494b1268-ef3c-42d3-cd8c-93467ec456ad"
      },
      "source": [
        "ex_2f / l1_norm.reshape(-1, 1)"
      ],
      "execution_count": 34,
      "outputs": [
        {
          "output_type": "execute_result",
          "data": {
            "text/plain": [
              "array([[0.06666667, 0.13333333, 0.2       , 0.26666667, 0.33333333],\n",
              "       [0.01818182, 0.07272727, 0.16363636, 0.29090909, 0.45454545]])"
            ]
          },
          "metadata": {},
          "execution_count": 34
        }
      ]
    },
    {
      "cell_type": "markdown",
      "metadata": {
        "id": "mpPeMI14F_fB"
      },
      "source": [
        "##### **max norm**"
      ]
    },
    {
      "cell_type": "markdown",
      "metadata": {
        "id": "XFjLYtHfGfoV"
      },
      "source": [
        "샘플의 **최대 절댓값을 사용**한다."
      ]
    },
    {
      "cell_type": "code",
      "metadata": {
        "colab": {
          "base_uri": "https://localhost:8080/"
        },
        "id": "3CfYfzL4F0re",
        "outputId": "61bd0973-69bd-47d8-9936-3694a3c03b98"
      },
      "source": [
        "max_norm = np.max(np.abs(ex_2f), axis=1)\n",
        "print(max_norm)"
      ],
      "execution_count": 37,
      "outputs": [
        {
          "output_type": "stream",
          "name": "stdout",
          "text": [
            "[ 5 25]\n"
          ]
        }
      ]
    },
    {
      "cell_type": "code",
      "metadata": {
        "colab": {
          "base_uri": "https://localhost:8080/"
        },
        "id": "niK0oWVUF-W1",
        "outputId": "11dcb6c6-f4e1-4d6c-d290-4100e900b12b"
      },
      "source": [
        "ex_2f / max_norm.reshape(-1, 1)"
      ],
      "execution_count": 38,
      "outputs": [
        {
          "output_type": "execute_result",
          "data": {
            "text/plain": [
              "array([[0.2 , 0.4 , 0.6 , 0.8 , 1.  ],\n",
              "       [0.04, 0.16, 0.36, 0.64, 1.  ]])"
            ]
          },
          "metadata": {},
          "execution_count": 38
        }
      ]
    }
  ]
}