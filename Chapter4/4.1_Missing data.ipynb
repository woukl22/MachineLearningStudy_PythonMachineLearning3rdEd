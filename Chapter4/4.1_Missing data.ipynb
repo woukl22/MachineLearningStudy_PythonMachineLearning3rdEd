{
  "nbformat": 4,
  "nbformat_minor": 0,
  "metadata": {
    "colab": {
      "name": "4.1_누락된 데이터 다루기.ipynb",
      "provenance": [],
      "collapsed_sections": [],
      "toc_visible": true,
      "authorship_tag": "ABX9TyPSmVUFxCCT+HC9IKADkUm/"
    },
    "kernelspec": {
      "name": "python3",
      "display_name": "Python 3"
    },
    "language_info": {
      "name": "python"
    }
  },
  "cells": [
    {
      "cell_type": "markdown",
      "metadata": {
        "id": "_aQEwOGlDdMZ"
      },
      "source": [
        "# 4.1 누락된 데이터 다루기"
      ]
    },
    {
      "cell_type": "markdown",
      "metadata": {
        "id": "leMqo1WOD8iw"
      },
      "source": [
        "훈련 샘플에 하나 이상의 값이 누락된 경우를 자주 볼 수 있다.<br>\n",
        "\n",
        "일반적으로 누락된 값은 **NaN(Not a Number)** 또는 **NULL** 등의 값으로 채워진다. <br>\n",
        "\n",
        "대부분의 수치 계산 라이브러리는 누락된 값을 다룰 수 없거나 무시하면 예상치 못한 결과를 만든다.<br>\n",
        "\n",
        "따라서 **누락된 데이터를 제거하거나 대체해야 한다**."
      ]
    },
    {
      "cell_type": "markdown",
      "metadata": {
        "id": "e2k21GuHDjz4"
      },
      "source": [
        "## 4.1.1 테이블 형태 데이터에서 누락된 값 식별"
      ]
    },
    {
      "cell_type": "code",
      "metadata": {
        "id": "X2WumBBeDjlY"
      },
      "source": [
        "import pandas as pd\n",
        "from io import StringIO"
      ],
      "execution_count": null,
      "outputs": []
    },
    {
      "cell_type": "code",
      "metadata": {
        "id": "GH6i1otfDK86"
      },
      "source": [
        "csv_data = \\\n",
        "'''A, B, C, D\n",
        "1.0,2.0,3.0,4.0\n",
        "5.0,6.0,,\n",
        ",11.0,12.0,'''\n",
        "# 파이썬 2.7을 사용하는 경우\n",
        "# 다음과 같이 문자열을 유니코드로 변환해야 한다.\n",
        "# csv_data = unicode(csv_data)"
      ],
      "execution_count": null,
      "outputs": []
    },
    {
      "cell_type": "code",
      "metadata": {
        "colab": {
          "base_uri": "https://localhost:8080/",
          "height": 142
        },
        "id": "ijwDRExXFFsK",
        "outputId": "a13979b9-d339-4801-fe6e-769e4d079159"
      },
      "source": [
        "df = pd.read_csv(StringIO(csv_data)) # StringIO(csv_data)\n",
        "df"
      ],
      "execution_count": null,
      "outputs": [
        {
          "output_type": "execute_result",
          "data": {
            "text/html": [
              "<div>\n",
              "<style scoped>\n",
              "    .dataframe tbody tr th:only-of-type {\n",
              "        vertical-align: middle;\n",
              "    }\n",
              "\n",
              "    .dataframe tbody tr th {\n",
              "        vertical-align: top;\n",
              "    }\n",
              "\n",
              "    .dataframe thead th {\n",
              "        text-align: right;\n",
              "    }\n",
              "</style>\n",
              "<table border=\"1\" class=\"dataframe\">\n",
              "  <thead>\n",
              "    <tr style=\"text-align: right;\">\n",
              "      <th></th>\n",
              "      <th>A</th>\n",
              "      <th>B</th>\n",
              "      <th>C</th>\n",
              "      <th>D</th>\n",
              "    </tr>\n",
              "  </thead>\n",
              "  <tbody>\n",
              "    <tr>\n",
              "      <th>0</th>\n",
              "      <td>1.0</td>\n",
              "      <td>2.0</td>\n",
              "      <td>3.0</td>\n",
              "      <td>4.0</td>\n",
              "    </tr>\n",
              "    <tr>\n",
              "      <th>1</th>\n",
              "      <td>5.0</td>\n",
              "      <td>6.0</td>\n",
              "      <td>NaN</td>\n",
              "      <td>NaN</td>\n",
              "    </tr>\n",
              "    <tr>\n",
              "      <th>2</th>\n",
              "      <td>NaN</td>\n",
              "      <td>11.0</td>\n",
              "      <td>12.0</td>\n",
              "      <td>NaN</td>\n",
              "    </tr>\n",
              "  </tbody>\n",
              "</table>\n",
              "</div>"
            ],
            "text/plain": [
              "     A     B     C    D\n",
              "0  1.0   2.0   3.0  4.0\n",
              "1  5.0   6.0   NaN  NaN\n",
              "2  NaN  11.0  12.0  NaN"
            ]
          },
          "metadata": {},
          "execution_count": 3
        }
      ]
    },
    {
      "cell_type": "markdown",
      "metadata": {
        "id": "lohw-QOsFinH"
      },
      "source": [
        "**StringIO 함수**를 사용하면 하드 디스크에 있는 일반 CSV 파일처럼 csv_data에 저장된 문자열을 읽어 판다스 DataFrame으로 변환할 수 있다."
      ]
    },
    {
      "cell_type": "code",
      "metadata": {
        "colab": {
          "base_uri": "https://localhost:8080/",
          "height": 142
        },
        "id": "4Gmi62YVFK5Q",
        "outputId": "28606c21-12d1-43cd-ef4b-bc775f443300"
      },
      "source": [
        "df.isnull()"
      ],
      "execution_count": null,
      "outputs": [
        {
          "output_type": "execute_result",
          "data": {
            "text/html": [
              "<div>\n",
              "<style scoped>\n",
              "    .dataframe tbody tr th:only-of-type {\n",
              "        vertical-align: middle;\n",
              "    }\n",
              "\n",
              "    .dataframe tbody tr th {\n",
              "        vertical-align: top;\n",
              "    }\n",
              "\n",
              "    .dataframe thead th {\n",
              "        text-align: right;\n",
              "    }\n",
              "</style>\n",
              "<table border=\"1\" class=\"dataframe\">\n",
              "  <thead>\n",
              "    <tr style=\"text-align: right;\">\n",
              "      <th></th>\n",
              "      <th>A</th>\n",
              "      <th>B</th>\n",
              "      <th>C</th>\n",
              "      <th>D</th>\n",
              "    </tr>\n",
              "  </thead>\n",
              "  <tbody>\n",
              "    <tr>\n",
              "      <th>0</th>\n",
              "      <td>False</td>\n",
              "      <td>False</td>\n",
              "      <td>False</td>\n",
              "      <td>False</td>\n",
              "    </tr>\n",
              "    <tr>\n",
              "      <th>1</th>\n",
              "      <td>False</td>\n",
              "      <td>False</td>\n",
              "      <td>True</td>\n",
              "      <td>True</td>\n",
              "    </tr>\n",
              "    <tr>\n",
              "      <th>2</th>\n",
              "      <td>True</td>\n",
              "      <td>False</td>\n",
              "      <td>False</td>\n",
              "      <td>True</td>\n",
              "    </tr>\n",
              "  </tbody>\n",
              "</table>\n",
              "</div>"
            ],
            "text/plain": [
              "       A      B      C      D\n",
              "0  False  False  False  False\n",
              "1  False  False   True   True\n",
              "2   True  False  False   True"
            ]
          },
          "metadata": {},
          "execution_count": 4
        }
      ]
    },
    {
      "cell_type": "code",
      "metadata": {
        "colab": {
          "base_uri": "https://localhost:8080/"
        },
        "id": "gnD-6fWtH-F4",
        "outputId": "991ed74b-f9b0-413a-eff9-046807101873"
      },
      "source": [
        "df.isnull().sum()"
      ],
      "execution_count": null,
      "outputs": [
        {
          "output_type": "execute_result",
          "data": {
            "text/plain": [
              "A     1\n",
              " B    0\n",
              " C    1\n",
              " D    2\n",
              "dtype: int64"
            ]
          },
          "metadata": {},
          "execution_count": 5
        }
      ]
    },
    {
      "cell_type": "markdown",
      "metadata": {
        "id": "mX8yen6NF4ah"
      },
      "source": [
        "**isnull 메소드**는 셀(cell)이 **수치 값을 담고 있는지**(False) 또는 **누락되어 있는지**(True)를 나타내는 불리언 값이 채워진 DataFrame을 반환한다.\n",
        "\n",
        "| |A|B|C|D|\n",
        "|:-:|:-:|:-:|:-:|:-:|\n",
        "|0|False|False|False|False|\n",
        "|1|False|False|True|True|\n",
        "|2|True|False|False|True|\n",
        "\n",
        "<br>\n",
        "\n",
        "- *셀(cell): pandas에서 데이터프레임의 원소를 셀이라고 부른다.*\n",
        "- *isnull 메소드는 셀 값이 None 또는 np.nan(np.NaN)일 경우 True를 반환한다.*\n",
        "- *isnull 메소드의 다른 이름은 isna이다.*\n"
      ]
    },
    {
      "cell_type": "markdown",
      "metadata": {
        "id": "vObRCHnEItID"
      },
      "source": [
        "df.isnull().sum()의 형태로 **sum 메소드**를 사용하면 각 열의 **누락된 값의 개수**를 얻을 수 있다.\n",
        "<br>\n",
        "\n",
        "B 셀에는 누락된 값이 없고, A와 C 셀에는 누락된 값이 한 개, D 셀에는 누락된 값이 두 개 있음을 확인할 수 있다.\n",
        "\n",
        "|cell|bool|\n",
        "|:----:|:----:|\n",
        "| A | 1 |\n",
        "| B | 0 |\n",
        "| C | 1 |\n",
        "| D | 2 |\n",
        "\n",
        "<br>\n",
        "\n",
        "- *pandas의 sum 메소드는 불리언 값 True를 1로 카운팅한다. (numpy의 sum 메소드와 동일하다.)*\n",
        "- *sum 메소드의 axis 매개변수는 0을 기본값으로 가진다.*\n",
        "- *axis가 0일 경우 하나의 행으로, 1일 경우 하나의 열로 더해진다.*"
      ]
    },
    {
      "cell_type": "markdown",
      "metadata": {
        "id": "sWdlYMI6LM3o"
      },
      "source": [
        "## 4.1.2 누락된 값이 있는 훈련 샘플이나 특성 제외"
      ]
    },
    {
      "cell_type": "markdown",
      "metadata": {
        "id": "slP9WQUJLM1j"
      },
      "source": [
        "누락된 데이터를 다루는 가장 쉬운 방법은 데이터셋에서 해당 **훈련 샘플(행)**이나 **특성(열)**을 완전히 **삭제**하는 것이다."
      ]
    },
    {
      "cell_type": "code",
      "metadata": {
        "colab": {
          "base_uri": "https://localhost:8080/",
          "height": 80
        },
        "id": "cxiG-QsANrcr",
        "outputId": "bac9e9a4-8769-4f00-d54f-3f69d4b14fdf"
      },
      "source": [
        "# axis가 0이면 누락된 값이 있는 행(row)을 삭제한다.\n",
        "df.dropna(axis=0)"
      ],
      "execution_count": null,
      "outputs": [
        {
          "output_type": "execute_result",
          "data": {
            "text/html": [
              "<div>\n",
              "<style scoped>\n",
              "    .dataframe tbody tr th:only-of-type {\n",
              "        vertical-align: middle;\n",
              "    }\n",
              "\n",
              "    .dataframe tbody tr th {\n",
              "        vertical-align: top;\n",
              "    }\n",
              "\n",
              "    .dataframe thead th {\n",
              "        text-align: right;\n",
              "    }\n",
              "</style>\n",
              "<table border=\"1\" class=\"dataframe\">\n",
              "  <thead>\n",
              "    <tr style=\"text-align: right;\">\n",
              "      <th></th>\n",
              "      <th>A</th>\n",
              "      <th>B</th>\n",
              "      <th>C</th>\n",
              "      <th>D</th>\n",
              "    </tr>\n",
              "  </thead>\n",
              "  <tbody>\n",
              "    <tr>\n",
              "      <th>0</th>\n",
              "      <td>1.0</td>\n",
              "      <td>2.0</td>\n",
              "      <td>3.0</td>\n",
              "      <td>4.0</td>\n",
              "    </tr>\n",
              "  </tbody>\n",
              "</table>\n",
              "</div>"
            ],
            "text/plain": [
              "     A    B    C    D\n",
              "0  1.0  2.0  3.0  4.0"
            ]
          },
          "metadata": {},
          "execution_count": 6
        }
      ]
    },
    {
      "cell_type": "code",
      "metadata": {
        "colab": {
          "base_uri": "https://localhost:8080/",
          "height": 142
        },
        "id": "SwXuxHt2N0xb",
        "outputId": "41ebce68-cde7-4ee5-e909-f24be3eb6a18"
      },
      "source": [
        "# axis가 1이면 누락된 값이 있는 열(column)을 삭제한다.\n",
        "df.dropna(axis=1)"
      ],
      "execution_count": null,
      "outputs": [
        {
          "output_type": "execute_result",
          "data": {
            "text/html": [
              "<div>\n",
              "<style scoped>\n",
              "    .dataframe tbody tr th:only-of-type {\n",
              "        vertical-align: middle;\n",
              "    }\n",
              "\n",
              "    .dataframe tbody tr th {\n",
              "        vertical-align: top;\n",
              "    }\n",
              "\n",
              "    .dataframe thead th {\n",
              "        text-align: right;\n",
              "    }\n",
              "</style>\n",
              "<table border=\"1\" class=\"dataframe\">\n",
              "  <thead>\n",
              "    <tr style=\"text-align: right;\">\n",
              "      <th></th>\n",
              "      <th>B</th>\n",
              "    </tr>\n",
              "  </thead>\n",
              "  <tbody>\n",
              "    <tr>\n",
              "      <th>0</th>\n",
              "      <td>2.0</td>\n",
              "    </tr>\n",
              "    <tr>\n",
              "      <th>1</th>\n",
              "      <td>6.0</td>\n",
              "    </tr>\n",
              "    <tr>\n",
              "      <th>2</th>\n",
              "      <td>11.0</td>\n",
              "    </tr>\n",
              "  </tbody>\n",
              "</table>\n",
              "</div>"
            ],
            "text/plain": [
              "      B\n",
              "0   2.0\n",
              "1   6.0\n",
              "2  11.0"
            ]
          },
          "metadata": {},
          "execution_count": 7
        }
      ]
    },
    {
      "cell_type": "code",
      "metadata": {
        "colab": {
          "base_uri": "https://localhost:8080/",
          "height": 142
        },
        "id": "Ynw3zSLLN8S4",
        "outputId": "57def330-5d0e-4bda-ea44-ed1e0527651e"
      },
      "source": [
        "# 모든 행이 NaN일 때만 행을 삭제한다. (axis의 default가 0이므로 행을 삭제)\n",
        "# 여기서는 모든 값이 NaN인 행이 없기 때문에 전체 배열이 반환된다.\n",
        "# how의 default 값은 'any'\n",
        "df.dropna(how='all')"
      ],
      "execution_count": null,
      "outputs": [
        {
          "output_type": "execute_result",
          "data": {
            "text/html": [
              "<div>\n",
              "<style scoped>\n",
              "    .dataframe tbody tr th:only-of-type {\n",
              "        vertical-align: middle;\n",
              "    }\n",
              "\n",
              "    .dataframe tbody tr th {\n",
              "        vertical-align: top;\n",
              "    }\n",
              "\n",
              "    .dataframe thead th {\n",
              "        text-align: right;\n",
              "    }\n",
              "</style>\n",
              "<table border=\"1\" class=\"dataframe\">\n",
              "  <thead>\n",
              "    <tr style=\"text-align: right;\">\n",
              "      <th></th>\n",
              "      <th>A</th>\n",
              "      <th>B</th>\n",
              "      <th>C</th>\n",
              "      <th>D</th>\n",
              "    </tr>\n",
              "  </thead>\n",
              "  <tbody>\n",
              "    <tr>\n",
              "      <th>0</th>\n",
              "      <td>1.0</td>\n",
              "      <td>2.0</td>\n",
              "      <td>3.0</td>\n",
              "      <td>4.0</td>\n",
              "    </tr>\n",
              "    <tr>\n",
              "      <th>1</th>\n",
              "      <td>5.0</td>\n",
              "      <td>6.0</td>\n",
              "      <td>NaN</td>\n",
              "      <td>NaN</td>\n",
              "    </tr>\n",
              "    <tr>\n",
              "      <th>2</th>\n",
              "      <td>NaN</td>\n",
              "      <td>11.0</td>\n",
              "      <td>12.0</td>\n",
              "      <td>NaN</td>\n",
              "    </tr>\n",
              "  </tbody>\n",
              "</table>\n",
              "</div>"
            ],
            "text/plain": [
              "     A     B     C    D\n",
              "0  1.0   2.0   3.0  4.0\n",
              "1  5.0   6.0   NaN  NaN\n",
              "2  NaN  11.0  12.0  NaN"
            ]
          },
          "metadata": {},
          "execution_count": 8
        }
      ]
    },
    {
      "cell_type": "code",
      "metadata": {
        "colab": {
          "base_uri": "https://localhost:8080/",
          "height": 80
        },
        "id": "aGBrJJDNP0Vi",
        "outputId": "e438ba99-5537-4a56-cc1c-028ad52d3f1b"
      },
      "source": [
        "# NaN이 아닌 값이 네 개보다 작은 행을 삭제한다.\n",
        "df.dropna(thresh=4)"
      ],
      "execution_count": null,
      "outputs": [
        {
          "output_type": "execute_result",
          "data": {
            "text/html": [
              "<div>\n",
              "<style scoped>\n",
              "    .dataframe tbody tr th:only-of-type {\n",
              "        vertical-align: middle;\n",
              "    }\n",
              "\n",
              "    .dataframe tbody tr th {\n",
              "        vertical-align: top;\n",
              "    }\n",
              "\n",
              "    .dataframe thead th {\n",
              "        text-align: right;\n",
              "    }\n",
              "</style>\n",
              "<table border=\"1\" class=\"dataframe\">\n",
              "  <thead>\n",
              "    <tr style=\"text-align: right;\">\n",
              "      <th></th>\n",
              "      <th>A</th>\n",
              "      <th>B</th>\n",
              "      <th>C</th>\n",
              "      <th>D</th>\n",
              "    </tr>\n",
              "  </thead>\n",
              "  <tbody>\n",
              "    <tr>\n",
              "      <th>0</th>\n",
              "      <td>1.0</td>\n",
              "      <td>2.0</td>\n",
              "      <td>3.0</td>\n",
              "      <td>4.0</td>\n",
              "    </tr>\n",
              "  </tbody>\n",
              "</table>\n",
              "</div>"
            ],
            "text/plain": [
              "     A    B    C    D\n",
              "0  1.0  2.0  3.0  4.0"
            ]
          },
          "metadata": {},
          "execution_count": 9
        }
      ]
    },
    {
      "cell_type": "code",
      "metadata": {
        "colab": {
          "base_uri": "https://localhost:8080/",
          "height": 111
        },
        "id": "pBEFXuhJQHYA",
        "outputId": "efc50872-9039-4118-a535-9891c473245e"
      },
      "source": [
        "# 특정 열에 NaN이 있는 행만 삭제한다.(여기서는 'A'열)\n",
        "df.dropna(subset=['A'])"
      ],
      "execution_count": null,
      "outputs": [
        {
          "output_type": "execute_result",
          "data": {
            "text/html": [
              "<div>\n",
              "<style scoped>\n",
              "    .dataframe tbody tr th:only-of-type {\n",
              "        vertical-align: middle;\n",
              "    }\n",
              "\n",
              "    .dataframe tbody tr th {\n",
              "        vertical-align: top;\n",
              "    }\n",
              "\n",
              "    .dataframe thead th {\n",
              "        text-align: right;\n",
              "    }\n",
              "</style>\n",
              "<table border=\"1\" class=\"dataframe\">\n",
              "  <thead>\n",
              "    <tr style=\"text-align: right;\">\n",
              "      <th></th>\n",
              "      <th>A</th>\n",
              "      <th>B</th>\n",
              "      <th>C</th>\n",
              "      <th>D</th>\n",
              "    </tr>\n",
              "  </thead>\n",
              "  <tbody>\n",
              "    <tr>\n",
              "      <th>0</th>\n",
              "      <td>1.0</td>\n",
              "      <td>2.0</td>\n",
              "      <td>3.0</td>\n",
              "      <td>4.0</td>\n",
              "    </tr>\n",
              "    <tr>\n",
              "      <th>1</th>\n",
              "      <td>5.0</td>\n",
              "      <td>6.0</td>\n",
              "      <td>NaN</td>\n",
              "      <td>NaN</td>\n",
              "    </tr>\n",
              "  </tbody>\n",
              "</table>\n",
              "</div>"
            ],
            "text/plain": [
              "     A    B    C    D\n",
              "0  1.0  2.0  3.0  4.0\n",
              "1  5.0  6.0  NaN  NaN"
            ]
          },
          "metadata": {},
          "execution_count": 10
        }
      ]
    },
    {
      "cell_type": "markdown",
      "metadata": {
        "id": "4ZWn_grKUeyz"
      },
      "source": [
        "**누락된 데이터 제거의 단점**<br>\n",
        "\n",
        "- 너무 많은 **데이터**를 제거하면 안정된 분석이 불가능하다.\n",
        "- 너무 많은 **특성 열**을 제거하면 분류기가 클래스를 구분하는 데 필요한 중요한 정보를 잃을 위험이 있다."
      ]
    },
    {
      "cell_type": "code",
      "metadata": {
        "colab": {
          "base_uri": "https://localhost:8080/",
          "height": 142
        },
        "id": "OdeGtBiHLJOO",
        "outputId": "a14be509-0817-43b1-805a-e3095f2a77b8"
      },
      "source": [
        "# 행과 열이 모두 NaN인 DataFrame 생성\n",
        "test_data = \\\n",
        "'''A, B, C, D\n",
        "1.0,2.0,3.0,\n",
        "5.0,6.0,7.0,\n",
        ",,,'''\n",
        "\n",
        "test_df = pd.read_csv(StringIO(test_data))\n",
        "test_df"
      ],
      "execution_count": null,
      "outputs": [
        {
          "output_type": "execute_result",
          "data": {
            "text/html": [
              "<div>\n",
              "<style scoped>\n",
              "    .dataframe tbody tr th:only-of-type {\n",
              "        vertical-align: middle;\n",
              "    }\n",
              "\n",
              "    .dataframe tbody tr th {\n",
              "        vertical-align: top;\n",
              "    }\n",
              "\n",
              "    .dataframe thead th {\n",
              "        text-align: right;\n",
              "    }\n",
              "</style>\n",
              "<table border=\"1\" class=\"dataframe\">\n",
              "  <thead>\n",
              "    <tr style=\"text-align: right;\">\n",
              "      <th></th>\n",
              "      <th>A</th>\n",
              "      <th>B</th>\n",
              "      <th>C</th>\n",
              "      <th>D</th>\n",
              "    </tr>\n",
              "  </thead>\n",
              "  <tbody>\n",
              "    <tr>\n",
              "      <th>0</th>\n",
              "      <td>1.0</td>\n",
              "      <td>2.0</td>\n",
              "      <td>3.0</td>\n",
              "      <td>NaN</td>\n",
              "    </tr>\n",
              "    <tr>\n",
              "      <th>1</th>\n",
              "      <td>5.0</td>\n",
              "      <td>6.0</td>\n",
              "      <td>7.0</td>\n",
              "      <td>NaN</td>\n",
              "    </tr>\n",
              "    <tr>\n",
              "      <th>2</th>\n",
              "      <td>NaN</td>\n",
              "      <td>NaN</td>\n",
              "      <td>NaN</td>\n",
              "      <td>NaN</td>\n",
              "    </tr>\n",
              "  </tbody>\n",
              "</table>\n",
              "</div>"
            ],
            "text/plain": [
              "     A    B    C   D\n",
              "0  1.0  2.0  3.0 NaN\n",
              "1  5.0  6.0  7.0 NaN\n",
              "2  NaN  NaN  NaN NaN"
            ]
          },
          "metadata": {},
          "execution_count": 11
        }
      ]
    },
    {
      "cell_type": "code",
      "metadata": {
        "colab": {
          "base_uri": "https://localhost:8080/",
          "height": 111
        },
        "id": "sHzrcehYO8YC",
        "outputId": "62ca8042-a482-42f6-bbee-f20dbe178547"
      },
      "source": [
        "# axis가 0이고, how가 all인 경우\n",
        "test_df.dropna(axis=0, how='all')"
      ],
      "execution_count": null,
      "outputs": [
        {
          "output_type": "execute_result",
          "data": {
            "text/html": [
              "<div>\n",
              "<style scoped>\n",
              "    .dataframe tbody tr th:only-of-type {\n",
              "        vertical-align: middle;\n",
              "    }\n",
              "\n",
              "    .dataframe tbody tr th {\n",
              "        vertical-align: top;\n",
              "    }\n",
              "\n",
              "    .dataframe thead th {\n",
              "        text-align: right;\n",
              "    }\n",
              "</style>\n",
              "<table border=\"1\" class=\"dataframe\">\n",
              "  <thead>\n",
              "    <tr style=\"text-align: right;\">\n",
              "      <th></th>\n",
              "      <th>A</th>\n",
              "      <th>B</th>\n",
              "      <th>C</th>\n",
              "      <th>D</th>\n",
              "    </tr>\n",
              "  </thead>\n",
              "  <tbody>\n",
              "    <tr>\n",
              "      <th>0</th>\n",
              "      <td>1.0</td>\n",
              "      <td>2.0</td>\n",
              "      <td>3.0</td>\n",
              "      <td>NaN</td>\n",
              "    </tr>\n",
              "    <tr>\n",
              "      <th>1</th>\n",
              "      <td>5.0</td>\n",
              "      <td>6.0</td>\n",
              "      <td>7.0</td>\n",
              "      <td>NaN</td>\n",
              "    </tr>\n",
              "  </tbody>\n",
              "</table>\n",
              "</div>"
            ],
            "text/plain": [
              "     A    B    C   D\n",
              "0  1.0  2.0  3.0 NaN\n",
              "1  5.0  6.0  7.0 NaN"
            ]
          },
          "metadata": {},
          "execution_count": 12
        }
      ]
    },
    {
      "cell_type": "code",
      "metadata": {
        "colab": {
          "base_uri": "https://localhost:8080/",
          "height": 142
        },
        "id": "TyyyXU-MPyT5",
        "outputId": "99d9de30-bdea-4571-b785-c8ef978766a0"
      },
      "source": [
        "# axis가 1이고, how가 all인 경우\n",
        "test_df.dropna(axis=1, how='all')"
      ],
      "execution_count": null,
      "outputs": [
        {
          "output_type": "execute_result",
          "data": {
            "text/html": [
              "<div>\n",
              "<style scoped>\n",
              "    .dataframe tbody tr th:only-of-type {\n",
              "        vertical-align: middle;\n",
              "    }\n",
              "\n",
              "    .dataframe tbody tr th {\n",
              "        vertical-align: top;\n",
              "    }\n",
              "\n",
              "    .dataframe thead th {\n",
              "        text-align: right;\n",
              "    }\n",
              "</style>\n",
              "<table border=\"1\" class=\"dataframe\">\n",
              "  <thead>\n",
              "    <tr style=\"text-align: right;\">\n",
              "      <th></th>\n",
              "      <th>A</th>\n",
              "      <th>B</th>\n",
              "      <th>C</th>\n",
              "    </tr>\n",
              "  </thead>\n",
              "  <tbody>\n",
              "    <tr>\n",
              "      <th>0</th>\n",
              "      <td>1.0</td>\n",
              "      <td>2.0</td>\n",
              "      <td>3.0</td>\n",
              "    </tr>\n",
              "    <tr>\n",
              "      <th>1</th>\n",
              "      <td>5.0</td>\n",
              "      <td>6.0</td>\n",
              "      <td>7.0</td>\n",
              "    </tr>\n",
              "    <tr>\n",
              "      <th>2</th>\n",
              "      <td>NaN</td>\n",
              "      <td>NaN</td>\n",
              "      <td>NaN</td>\n",
              "    </tr>\n",
              "  </tbody>\n",
              "</table>\n",
              "</div>"
            ],
            "text/plain": [
              "     A    B    C\n",
              "0  1.0  2.0  3.0\n",
              "1  5.0  6.0  7.0\n",
              "2  NaN  NaN  NaN"
            ]
          },
          "metadata": {},
          "execution_count": 13
        }
      ]
    },
    {
      "cell_type": "markdown",
      "metadata": {
        "id": "q47in18kVk1x"
      },
      "source": [
        "## 4.1.3 누락된 값 대체"
      ]
    },
    {
      "cell_type": "markdown",
      "metadata": {
        "id": "54U2AcT2V3Fb"
      },
      "source": [
        "유용한 데이터를 많이 잃기 때문에 훈련 샘플이나 특성 열을 통째로 제거하기 어려울 때가 있다.<br>\n",
        "\n",
        "이런 경우에는 **보간(interpolation) 기법**을 사용하여 데이터셋에 있는 다른 훈련 샘플로부터 **누락된 값을 추정**한다.<br><br>\n",
        "\n",
        "\n",
        "가장 흔한 보간 기법은 각 특성 열의 전체 **평균으로 누락된 값을 바꾸는 방법**이다.<br>"
      ]
    },
    {
      "cell_type": "markdown",
      "metadata": {
        "id": "GZjHIVCJQUpY"
      },
      "source": [
        "### SimpleImputer"
      ]
    },
    {
      "cell_type": "code",
      "metadata": {
        "id": "CFnJ5L1IWff4"
      },
      "source": [
        "from sklearn.impute import SimpleImputer\n",
        "import numpy as np"
      ],
      "execution_count": null,
      "outputs": []
    },
    {
      "cell_type": "code",
      "metadata": {
        "colab": {
          "base_uri": "https://localhost:8080/"
        },
        "id": "wWU77RogWlWG",
        "outputId": "bec5cd7d-a4de-495b-c522-38cd86301e01"
      },
      "source": [
        "# NaN 값을 각 특성 열에서 계산한 평균으로 바꾸었다.\n",
        "imr = SimpleImputer(missing_values=np.nan, strategy='mean')\n",
        "imr = imr.fit(df.values)    # df.values를 통해 넘파이 배열을 얻을 수 있다.\n",
        "imputed_data = imr.transform(df.values)\n",
        "imputed_data"
      ],
      "execution_count": null,
      "outputs": [
        {
          "output_type": "execute_result",
          "data": {
            "text/plain": [
              "array([[ 1. ,  2. ,  3. ,  4. ],\n",
              "       [ 5. ,  6. ,  7.5,  4. ],\n",
              "       [ 3. , 11. , 12. ,  4. ]])"
            ]
          },
          "metadata": {},
          "execution_count": 39
        }
      ]
    },
    {
      "cell_type": "markdown",
      "metadata": {
        "id": "IeQz0yYxLM5i"
      },
      "source": [
        "```\n",
        "사이킷런은 넘파이 배열을 다룰 수 있도록 개발되었는데, 대부분의 함수가 DataFrame 객체 입력도 지원한다.\n",
        "\n",
        "판다스의 DataFrame을 사용하여 데이터를 전처리 하는 것이 더 편리하다.\n",
        "하지만 사이킷런 API에서는 넘파이 배열 처리가 더 성숙하기 때문에 가능하면 넘파이 배열을 사용하는 것이 좋다.\n",
        "\n",
        "사이킷런 추정기에 주입하기 전에 DataFrame의 values 속성을 사용하면 넘파이 배열을 얻을 수 있다.\n",
        "위에서 사용한 Imputer가 추정기에 해당한다.\n",
        "```\n",
        "---"
      ]
    },
    {
      "cell_type": "markdown",
      "metadata": {
        "id": "YPnDLUy2XxtP"
      },
      "source": [
        "```\n",
        "SimpleImputer():\n",
        "  def __init__(missing_values=np.nan, strategy='mean', fill_value=None, verbose=0, copy=True, add_indicator=False)\n",
        "```\n",
        "\n",
        "**strategy 매개변수**에 설정할 수 있는 값은 mean, median, most_frequent, constant가 있다.<br>\n",
        "- **mean**: 평균 값\n",
        "- **median**: 데이터를 순서대로 나열했을 때 중간에 위치한 값\n",
        "- **most_frequent**: 가장 많이 나타난 값, 범주형 특성 값을 대체할 때 유용하다.\n",
        "- **constant**: fill_value 매개변수에 채우려는 값을 지정한다.\n",
        "<br>"
      ]
    },
    {
      "cell_type": "code",
      "metadata": {
        "colab": {
          "base_uri": "https://localhost:8080/"
        },
        "id": "u7jt62M-J8J_",
        "outputId": "690aa8bb-9511-46b3-d5bc-947c242a47d9"
      },
      "source": [
        "from sklearn.preprocessing import FunctionTransformer\n",
        "ftr_imr = FunctionTransformer(lambda X: imr.fit_transform(X.T).T, validate=False)\n",
        "imputed_data = ftr_imr.fit_transform(df.values)\n",
        "imputed_data"
      ],
      "execution_count": null,
      "outputs": [
        {
          "output_type": "execute_result",
          "data": {
            "text/plain": [
              "array([[ 1. ,  2. ,  3. ,  4. ],\n",
              "       [ 5. ,  6. ,  5.5,  5.5],\n",
              "       [11.5, 11. , 12. , 11.5]])"
            ]
          },
          "metadata": {},
          "execution_count": 40
        }
      ]
    },
    {
      "cell_type": "markdown",
      "metadata": {
        "id": "YARmdv7RKRkT"
      },
      "source": [
        "SimpleImputer의 기본 동작 방식은 Imputer 클래스의 **axis=0인 열(column) 방향**이다.<br>\n",
        "\n",
        "**행(row) 방향**으로 대체할 값을 계산할 땐 **FunctionTransformer**를 사용한다.<br>\n",
        "\n",
        "위 코드는 입력 행렬의 행과 열을 바꾸어 대체할 값을 계산한 후 다시 변환된 행렬의 열과 행을 바꾼다."
      ]
    },
    {
      "cell_type": "code",
      "metadata": {
        "colab": {
          "base_uri": "https://localhost:8080/"
        },
        "id": "hrsAdsl4KI41",
        "outputId": "b9e29fff-df6b-4992-a2db-add47686cd7e"
      },
      "source": [
        "imr = SimpleImputer(add_indicator=True)\n",
        "imputed_data = imr.fit_transform(df.values)\n",
        "imputed_data"
      ],
      "execution_count": null,
      "outputs": [
        {
          "output_type": "execute_result",
          "data": {
            "text/plain": [
              "array([[ 1. ,  2. ,  3. ,  4. ,  0. ,  0. ,  0. ],\n",
              "       [ 5. ,  6. ,  7.5,  4. ,  0. ,  1. ,  1. ],\n",
              "       [ 3. , 11. , 12. ,  4. ,  1. ,  0. ,  1. ]])"
            ]
          },
          "metadata": {},
          "execution_count": 41
        }
      ]
    },
    {
      "cell_type": "markdown",
      "metadata": {
        "id": "83ODfqyBL4p6"
      },
      "source": [
        "SimpleImputer 클래스의 **add_indicator 매개변수를 True**로 지정하면 indicator_ 속성이 추가되고,<br> \n",
        "transform 메소드가 **누락된 값의 위치를 포함된 배열을 반환**한다."
      ]
    },
    {
      "cell_type": "code",
      "metadata": {
        "colab": {
          "base_uri": "https://localhost:8080/"
        },
        "id": "DJLjOZHlLt-m",
        "outputId": "36a6fee5-383c-4b64-a8a2-cf9ef1a4de5b"
      },
      "source": [
        "imr.indicator_.features_"
      ],
      "execution_count": null,
      "outputs": [
        {
          "output_type": "execute_result",
          "data": {
            "text/plain": [
              "array([0, 2, 3])"
            ]
          },
          "metadata": {},
          "execution_count": 42
        }
      ]
    },
    {
      "cell_type": "markdown",
      "metadata": {
        "id": "cc4qjcd_MRBO"
      },
      "source": [
        "추가된 **indicator_ 속성**은 **MissingIndicator 클래스의 객체**이다.<br>\n",
        "\n",
        "MissingIndicator 객체의 **features_ 속성**은 **누락된 값이 있는 특성의 인덱스**를 담고 있다."
      ]
    },
    {
      "cell_type": "code",
      "metadata": {
        "colab": {
          "base_uri": "https://localhost:8080/"
        },
        "id": "nYdGHM2jMQc9",
        "outputId": "a51dd57f-a85d-4296-b91c-da81b81fa7a1"
      },
      "source": [
        "imr.indicator_.fit_transform(df.values)"
      ],
      "execution_count": null,
      "outputs": [
        {
          "output_type": "execute_result",
          "data": {
            "text/plain": [
              "array([[False, False, False],\n",
              "       [False,  True,  True],\n",
              "       [ True, False,  True]])"
            ]
          },
          "metadata": {},
          "execution_count": 43
        }
      ]
    },
    {
      "cell_type": "markdown",
      "metadata": {
        "id": "P9eO14n8PHBu"
      },
      "source": [
        "MissingIndicator 객체의 **fit_transform 메소드**를 호출하면 features_ 속성에 담긴 특성에서 **누락된 값의 위치를 나타내는 배열을 반환**한다.<br>\n",
        "\n",
        "여기서는 첫 번째, 세 번째, 네 번째 특성의 누락된 값의 위치를 나타냈다."
      ]
    },
    {
      "cell_type": "markdown",
      "metadata": {
        "id": "sL_HD5vXOqcH"
      },
      "source": [
        "```\n",
        ">>> imr.inverse_transform(imputed_data)\n",
        "\n",
        "array([[ 1.,  2.,  3.,  4.],\n",
        "       [ 5.,  6., nan, nan],\n",
        "       [nan, 11., 12., nan]])\n",
        "```\n",
        "\n",
        "**inverse_transform 메소드**를 사용하면 **원본 특성으로 변환**된다.<br>\n",
        "\n",
        "이 기능은 사이킷런 0.24버전에 추가되었다.\n",
        "\n",
        "---"
      ]
    },
    {
      "cell_type": "markdown",
      "metadata": {
        "id": "AkUvVatcQNEb"
      },
      "source": [
        "###IterativeImputer"
      ]
    },
    {
      "cell_type": "markdown",
      "metadata": {
        "id": "eZ9J1nEfQZRz"
      },
      "source": [
        "SimpleImputer와 IterativeImputer 비교<br><br>\n",
        "**SimpleImputer**는 **한 특성의 통계 값**을 사용하여 누락된 값을 채운다.<br>\n",
        "\n",
        "**IterativeImputer**는 **다른 특성**을 사용하여 누락된 값을 예측한다."
      ]
    },
    {
      "cell_type": "markdown",
      "metadata": {
        "id": "PjcnrLdwSx7M"
      },
      "source": [
        "```\n",
        "def __init__(estimator=None, *, missing_values=np.nan, sample_posterior=False,\n",
        "            max_iter=10, tol=0.001, n_nearest_features=None, initial_strategy='mean', \n",
        "            imputation_order='ascending', skip_complete=False, min_value=-np.inf, \n",
        "            max_value=np.inf, verbose=0, random_state=None, add_indicator=False)\n",
        "```\n",
        "\n",
        "IterativeImputer는 다음 방식으로 **누락된 값이 있는 모든 특성을 순회**한다.\n",
        "<br>\n",
        "\n",
        "1. initial_strategy 매개변수에 지정된 방식으로 **누락된 값을 초기화**한다.\n",
        "2. 누락된 값이 있는 **한 특성을 타깃**으로 삼고 **다른 특성을 사용**해서 모델을 훈련하여 예측한다.<br><br>\n",
        "\n",
        "**initial_strategy 매개변수**에 지정할 수 있는 값은 SimpleImputer와 동일하다.<br>\n",
        "- mean\n",
        "- median\n",
        "- most_frequent\n",
        "- constant\n",
        "<br><br>\n",
        "\n",
        "**예측할 특성을 선택하는 순서**\n",
        "- **ascending**(기본 값): 누락된 값이 가장 적은 특성부터 선택\n",
        "- **descending**: 누락된 값이 가장 큰 특성부터 선택\n",
        "- **roman**: 왼쪽에서 오른쪽으로 선택\n",
        "- **arabic**: 오른쪽에서 왼쪽으로 선택\n",
        "- **random**: 랜덤하게 선택"
      ]
    },
    {
      "cell_type": "markdown",
      "metadata": {
        "id": "xGNciVqrQnvz"
      },
      "source": [
        "```\n",
        "from sklearn.experimental import enable_iterative_imputer\n",
        "from sklearn.impute import IterativeImputer\n",
        "iimr = IterativeImputer()\n",
        "iimr.fit_transform(df.values)\n",
        "```\n",
        "\n",
        "**IterativeImputer 클래스는 아직 실험적**이라 사용하려면 enable_iterative_imputer 모듈도 임포트해서 사용해야한다.<br>\n",
        "\n",
        "위 코드도 실행시켜보고 싶었지만, 버전 문제 때문인지 다음과 같은 오류가 계속 뜬다.<br>\n",
        "\n",
        "```\n",
        "IterativeImputer' object has no attribute '_validate_data'\n",
        "```\n",
        "---"
      ]
    },
    {
      "cell_type": "code",
      "metadata": {
        "colab": {
          "base_uri": "https://localhost:8080/"
        },
        "id": "-q-1sxeCQ7Ec",
        "outputId": "9e217839-a6ac-4de9-f591-ad5425d44f16"
      },
      "source": [
        "from sklearn.impute import KNNImputer\n",
        "kimr = KNNImputer()\n",
        "kimr.fit_transform(df.values)"
      ],
      "execution_count": null,
      "outputs": [
        {
          "output_type": "execute_result",
          "data": {
            "text/plain": [
              "array([[ 1. ,  2. ,  3. ,  4. ],\n",
              "       [ 5. ,  6. ,  7.5,  4. ],\n",
              "       [ 3. , 11. , 12. ,  4. ]])"
            ]
          },
          "metadata": {},
          "execution_count": 51
        }
      ]
    },
    {
      "cell_type": "markdown",
      "metadata": {
        "id": "YdguV7mwUotO"
      },
      "source": [
        "```\n",
        "KNNImputer(missing_values=nan, n_neighbors=5, weights='uniform', metric='nan_euclidean', copy=True, add_indicator=False)\n",
        "```\n",
        "\n",
        "**KNNImputer 클래스**는 **k-최근접 이웃 방법을 사용**하여 누락된 값을 채운다.<br>\n",
        "\n",
        "**최근접 이웃의 개수**는 **n_neighbors 매개변수**로 지정한다.(n_neighbors의 기본 값은 5이다.)<br><br>\n",
        "\n",
        "샘플 개수가 n_neighbors보다 작으면 SimpleImputer(strategy='mean')과 결과가 같다."
      ]
    },
    {
      "cell_type": "markdown",
      "metadata": {
        "id": "CBtCDmWZV-1e"
      },
      "source": [
        "### fillna"
      ]
    },
    {
      "cell_type": "markdown",
      "metadata": {
        "id": "4Bqr2rS2WBMZ"
      },
      "source": [
        "누락된 값을 채우는 더 쉬운 방법은 **판다스의 fillna 메소드**를 사용하는 것이다.<br>\n",
        "\n",
        "fillna 메소드에 **매개변수로 누락된 값을 채울 방법을 전달**하면 된다.<br><br>"
      ]
    },
    {
      "cell_type": "code",
      "metadata": {
        "colab": {
          "base_uri": "https://localhost:8080/",
          "height": 142
        },
        "id": "BcZ_f322WUMa",
        "outputId": "ff79cc6d-8b08-4483-ddf8-602520a38ef9"
      },
      "source": [
        "df.fillna(df.mean())"
      ],
      "execution_count": null,
      "outputs": [
        {
          "output_type": "execute_result",
          "data": {
            "text/html": [
              "<div>\n",
              "<style scoped>\n",
              "    .dataframe tbody tr th:only-of-type {\n",
              "        vertical-align: middle;\n",
              "    }\n",
              "\n",
              "    .dataframe tbody tr th {\n",
              "        vertical-align: top;\n",
              "    }\n",
              "\n",
              "    .dataframe thead th {\n",
              "        text-align: right;\n",
              "    }\n",
              "</style>\n",
              "<table border=\"1\" class=\"dataframe\">\n",
              "  <thead>\n",
              "    <tr style=\"text-align: right;\">\n",
              "      <th></th>\n",
              "      <th>A</th>\n",
              "      <th>B</th>\n",
              "      <th>C</th>\n",
              "      <th>D</th>\n",
              "    </tr>\n",
              "  </thead>\n",
              "  <tbody>\n",
              "    <tr>\n",
              "      <th>0</th>\n",
              "      <td>1.0</td>\n",
              "      <td>2.0</td>\n",
              "      <td>3.0</td>\n",
              "      <td>4.0</td>\n",
              "    </tr>\n",
              "    <tr>\n",
              "      <th>1</th>\n",
              "      <td>5.0</td>\n",
              "      <td>6.0</td>\n",
              "      <td>7.5</td>\n",
              "      <td>4.0</td>\n",
              "    </tr>\n",
              "    <tr>\n",
              "      <th>2</th>\n",
              "      <td>3.0</td>\n",
              "      <td>11.0</td>\n",
              "      <td>12.0</td>\n",
              "      <td>4.0</td>\n",
              "    </tr>\n",
              "  </tbody>\n",
              "</table>\n",
              "</div>"
            ],
            "text/plain": [
              "     A     B     C    D\n",
              "0  1.0   2.0   3.0  4.0\n",
              "1  5.0   6.0   7.5  4.0\n",
              "2  3.0  11.0  12.0  4.0"
            ]
          },
          "metadata": {},
          "execution_count": 62
        }
      ]
    },
    {
      "cell_type": "markdown",
      "metadata": {
        "id": "gYzLsYdCWhDC"
      },
      "source": [
        "이 코드를 사용하면 **판다스 DataFrame 객체**에서 **바로** 평균값으로 누락된 값을 대체할 수 있다.<br><br>\n",
        "\n",
        "fillna 메소드의 **method 매개변수**를 사용하여 누락된 값을 채울 수도 있다."
      ]
    },
    {
      "cell_type": "code",
      "metadata": {
        "colab": {
          "base_uri": "https://localhost:8080/",
          "height": 142
        },
        "id": "iiL3e676WugW",
        "outputId": "36edd3b0-fa9a-4357-aa5a-d8b9155ffe16"
      },
      "source": [
        "df.fillna(method='bfill') # method='backfill'과 같다."
      ],
      "execution_count": null,
      "outputs": [
        {
          "output_type": "execute_result",
          "data": {
            "text/html": [
              "<div>\n",
              "<style scoped>\n",
              "    .dataframe tbody tr th:only-of-type {\n",
              "        vertical-align: middle;\n",
              "    }\n",
              "\n",
              "    .dataframe tbody tr th {\n",
              "        vertical-align: top;\n",
              "    }\n",
              "\n",
              "    .dataframe thead th {\n",
              "        text-align: right;\n",
              "    }\n",
              "</style>\n",
              "<table border=\"1\" class=\"dataframe\">\n",
              "  <thead>\n",
              "    <tr style=\"text-align: right;\">\n",
              "      <th></th>\n",
              "      <th>A</th>\n",
              "      <th>B</th>\n",
              "      <th>C</th>\n",
              "      <th>D</th>\n",
              "    </tr>\n",
              "  </thead>\n",
              "  <tbody>\n",
              "    <tr>\n",
              "      <th>0</th>\n",
              "      <td>1.0</td>\n",
              "      <td>2.0</td>\n",
              "      <td>3.0</td>\n",
              "      <td>4.0</td>\n",
              "    </tr>\n",
              "    <tr>\n",
              "      <th>1</th>\n",
              "      <td>5.0</td>\n",
              "      <td>6.0</td>\n",
              "      <td>12.0</td>\n",
              "      <td>NaN</td>\n",
              "    </tr>\n",
              "    <tr>\n",
              "      <th>2</th>\n",
              "      <td>NaN</td>\n",
              "      <td>11.0</td>\n",
              "      <td>12.0</td>\n",
              "      <td>NaN</td>\n",
              "    </tr>\n",
              "  </tbody>\n",
              "</table>\n",
              "</div>"
            ],
            "text/plain": [
              "     A     B     C    D\n",
              "0  1.0   2.0   3.0  4.0\n",
              "1  5.0   6.0  12.0  NaN\n",
              "2  NaN  11.0  12.0  NaN"
            ]
          },
          "metadata": {},
          "execution_count": 63
        }
      ]
    },
    {
      "cell_type": "markdown",
      "metadata": {
        "id": "9A7FoRawW6UM"
      },
      "source": [
        "**'bfill'** 또는 **'backfill'**은 누락된 값을 **다음 행의 값**으로 채운다."
      ]
    },
    {
      "cell_type": "code",
      "metadata": {
        "colab": {
          "base_uri": "https://localhost:8080/",
          "height": 142
        },
        "id": "jBytDutnWywT",
        "outputId": "1fb28c68-5fb4-4ffa-ecd7-a36dac869eb5"
      },
      "source": [
        "df.fillna(method='ffill') # method='pad'와 같다."
      ],
      "execution_count": null,
      "outputs": [
        {
          "output_type": "execute_result",
          "data": {
            "text/html": [
              "<div>\n",
              "<style scoped>\n",
              "    .dataframe tbody tr th:only-of-type {\n",
              "        vertical-align: middle;\n",
              "    }\n",
              "\n",
              "    .dataframe tbody tr th {\n",
              "        vertical-align: top;\n",
              "    }\n",
              "\n",
              "    .dataframe thead th {\n",
              "        text-align: right;\n",
              "    }\n",
              "</style>\n",
              "<table border=\"1\" class=\"dataframe\">\n",
              "  <thead>\n",
              "    <tr style=\"text-align: right;\">\n",
              "      <th></th>\n",
              "      <th>A</th>\n",
              "      <th>B</th>\n",
              "      <th>C</th>\n",
              "      <th>D</th>\n",
              "    </tr>\n",
              "  </thead>\n",
              "  <tbody>\n",
              "    <tr>\n",
              "      <th>0</th>\n",
              "      <td>1.0</td>\n",
              "      <td>2.0</td>\n",
              "      <td>3.0</td>\n",
              "      <td>4.0</td>\n",
              "    </tr>\n",
              "    <tr>\n",
              "      <th>1</th>\n",
              "      <td>5.0</td>\n",
              "      <td>6.0</td>\n",
              "      <td>3.0</td>\n",
              "      <td>4.0</td>\n",
              "    </tr>\n",
              "    <tr>\n",
              "      <th>2</th>\n",
              "      <td>5.0</td>\n",
              "      <td>11.0</td>\n",
              "      <td>12.0</td>\n",
              "      <td>4.0</td>\n",
              "    </tr>\n",
              "  </tbody>\n",
              "</table>\n",
              "</div>"
            ],
            "text/plain": [
              "     A     B     C    D\n",
              "0  1.0   2.0   3.0  4.0\n",
              "1  5.0   6.0   3.0  4.0\n",
              "2  5.0  11.0  12.0  4.0"
            ]
          },
          "metadata": {},
          "execution_count": 64
        }
      ]
    },
    {
      "cell_type": "markdown",
      "metadata": {
        "id": "42tyuswsW6tl"
      },
      "source": [
        "**'ffill'** 또는 **'pad'**는 누락된 값을 **이전 행의 값**으로 채운다."
      ]
    },
    {
      "cell_type": "code",
      "metadata": {
        "colab": {
          "base_uri": "https://localhost:8080/",
          "height": 142
        },
        "id": "It3tZoy3W2A0",
        "outputId": "226f41c5-6d1d-43a6-ea61-d88ce6788d2f"
      },
      "source": [
        "df.fillna(method='ffill', axis=1)"
      ],
      "execution_count": null,
      "outputs": [
        {
          "output_type": "execute_result",
          "data": {
            "text/html": [
              "<div>\n",
              "<style scoped>\n",
              "    .dataframe tbody tr th:only-of-type {\n",
              "        vertical-align: middle;\n",
              "    }\n",
              "\n",
              "    .dataframe tbody tr th {\n",
              "        vertical-align: top;\n",
              "    }\n",
              "\n",
              "    .dataframe thead th {\n",
              "        text-align: right;\n",
              "    }\n",
              "</style>\n",
              "<table border=\"1\" class=\"dataframe\">\n",
              "  <thead>\n",
              "    <tr style=\"text-align: right;\">\n",
              "      <th></th>\n",
              "      <th>A</th>\n",
              "      <th>B</th>\n",
              "      <th>C</th>\n",
              "      <th>D</th>\n",
              "    </tr>\n",
              "  </thead>\n",
              "  <tbody>\n",
              "    <tr>\n",
              "      <th>0</th>\n",
              "      <td>1.0</td>\n",
              "      <td>2.0</td>\n",
              "      <td>3.0</td>\n",
              "      <td>4.0</td>\n",
              "    </tr>\n",
              "    <tr>\n",
              "      <th>1</th>\n",
              "      <td>5.0</td>\n",
              "      <td>6.0</td>\n",
              "      <td>6.0</td>\n",
              "      <td>6.0</td>\n",
              "    </tr>\n",
              "    <tr>\n",
              "      <th>2</th>\n",
              "      <td>NaN</td>\n",
              "      <td>11.0</td>\n",
              "      <td>12.0</td>\n",
              "      <td>12.0</td>\n",
              "    </tr>\n",
              "  </tbody>\n",
              "</table>\n",
              "</div>"
            ],
            "text/plain": [
              "     A     B     C     D\n",
              "0  1.0   2.0   3.0   4.0\n",
              "1  5.0   6.0   6.0   6.0\n",
              "2  NaN  11.0  12.0  12.0"
            ]
          },
          "metadata": {},
          "execution_count": 65
        }
      ]
    },
    {
      "cell_type": "markdown",
      "metadata": {
        "id": "EURb3-CYW7Gy"
      },
      "source": [
        "axis의 기본 값은 0으로 행을 사용한다.<br>\n",
        "**열을 사용**하고 싶다면 **axis=1**로 지정하면 된다."
      ]
    },
    {
      "cell_type": "markdown",
      "metadata": {
        "id": "z_aOejSGe3pM"
      },
      "source": [
        "## 4.1.4 사이킷런 추정기 API 익히기"
      ]
    },
    {
      "cell_type": "markdown",
      "metadata": {
        "id": "TTsEGJoYe6kq"
      },
      "source": [
        "### 변환기(Transformer) 클래스"
      ]
    },
    {
      "cell_type": "markdown",
      "metadata": {
        "id": "w1cv8Emufe7n"
      },
      "source": [
        "위에서 본 SimpleImputer 클래스는 **데이터 변환에 사용되는 변환기(transformer) 클래스**다. <br>\n",
        "\n",
        "이런 추정기(estimator)의 주요 메소드는 fit과 transform 메소드 두 가지가 있다.<br>\n",
        "\n",
        "- **fit 메소드**: 훈련 데이터에서 모델 파라미터를 학습한다.\n",
        "- **transform 메소드**: 학습한 파라미터로 데이터를 변환한다."
      ]
    },
    {
      "cell_type": "markdown",
      "metadata": {
        "id": "2LR8bfFgf2YV"
      },
      "source": [
        "    - 사이킷런 변환기의 훈련과 변환 과정\n",
        "\n",
        "\n",
        "\n",
        "\n",
        "![image.png](data:image/png;base64,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)"
      ]
    },
    {
      "cell_type": "markdown",
      "metadata": {
        "id": "CJVWVHothNZI"
      },
      "source": [
        "    - 사이킷런 추정기의 훈련과 예측 과정\n",
        "![image.png](data:image/png;base64,iVBORw0KGgoAAAANSUhEUgAAAlgAAALOCAIAAAD6O/rVAAAgAElEQVR4Aex9d3xURdf/Ta+kAgkhBNIgCUkEAgIComJFfQAVFSQgTVQeC74KioAgvfemghQVEIFXEQQRUBCVIgKidKWH9LJ99+7e38d83+f87rNhQ3bZvdkkZ/5IZu+dmTPznTPznTlTriA5z2m1WkmSVCoVkjQYDEXl7urVq2VlZRcvXiwoKLh27VphYWFBQUE+O4cQKLDhHErMvSLl5eVptdpr167l5uZKkmQymSRJMhgMkiQZjUa9Xn+bqmqxWEwmk9FolCRJo9FQanl5eSqVqqSk5NKlS1qttrCw8NKlS+4FDeemuhHIzc3Ny8vLzc3NycnJy8srLCzMz8+/fv06tKi0tJTUiTpAesIe90dAcGIWRVFEahqNZsOGDW+++Wbv3r2feOKJRx55pE+fPj179uzTp0+vXr2eeeaZXr16PcHOIQSetOEcSsyNIg0dOrR79+5PPPFE3759Bw4c+M4772zatAnqZLFY4DEYDPCDHe1SXbPZjLjQUgzaiouLd+/e/eabb2ZnZ/fu3fvRRx/t3bv3008/nZ2d7UbQcFbcA4Gnn376mWeeefLJJ5944onevXs/U+5eeeWV7du3Y8RmNBqhV3ZpJgd2BwScRoSiKOr1erPZLEnSzp07W7RoIZQ7Hx8fQRB8fHy8vLx8fX0FQfD39xcEwYudQwh423AOJeZGkQRB8PX19fT0FATBw8NDEISwsLC3337bYrFg9kbkV1RU5EDLwURQkiQQocFgMBqNJ06ciI6OhqIiA15eXvjpRtBwVtwAAdIK0hYPDw9oS1xc3JgxY8xmMxkbdDqdAyrKUaoRAacRIcoAc9ann34KdQkJCSG9IQ/1NfSEPYyAHAF/f//Q0FBvb29fX98FCxbAkgkilNug7Go2VkSIcduePXsCAgL8/PyCgoKIgEHG8vywnxEQBMHT09PLywujNAIkICAAA/2RI0dCIR1WUbv0mQM7FwEnE6FarZYk6euvvw4JCfEpd56enomJibHlLjo6OioqKj4+vkmTJjHsGAEZAsnJyfXq1YuPj09PT0dfg1FUVFTUsmXLoPQYaDs23CbTKDGi2Wz+5ptvQLeQGBcXFx0d3aRJk9jYWFnW2MsIxMTGxjb5j2tW7qKiourVqycIQkxMjKenZ0BAwCeffAJFpUUi53bWnJrrEHAaEWo0GovFotVqzWbz559/7ufnh0HTwIEDv/7666+++mrbtm07duzYtm3b1q1bv/rqq6/ZOYTAVhvOocTcKNKGDRu+/fbb7du379ixY+rUqbBYhoWFCYIQFBS0YcMGagMOL8OgezIajTDgS5L0zTffQEt9fHy6d+++a9euzZs3b9iw4fPPP3cjaDgrboDAli1bNm/e/MUXX2zatAlNcP369R9++GH9+vWhQg0aNAgPD8fCtmNjNdJw9iiPgNOIEEZRFODTTz8FEYaEhLz77rtms5l260mSpNPpaPuD8gVmie6JAMgpNze3rKxMkqTPPvusefPmgiD4+flh0rZx40aDwYB9eghjb0FgXDWbzaIoQtyOHTuCg4MFQfD29h48eLAkSayZ9qJal8PrdLpdu3Y1adIkMDAQmyHi4+P37dsn35Ncl/GpQWV3GhFKkqQvd0aj8YsvvoiIiMCiy/Dhw9G/kHJgRG9h5xACZhvOocTcKBIG0eAh/N21a1fTpk29vLyCg4M9PT19fHwWL14sSVJxcbFjDYymkqIowkBKM0I/P78+ffoQQWJ7qhuhw1mpbgRMJhOGUEajkQb9UJh9+/ZlZGQIgtCgQQNsA1y9erVjKsqxqgsBZxKhxWLBQHv9+vWBgYEgwhEjRoAISXt43F1dle3OcmG3tFgsWGaWJOnGjRubNm1q1KiRIAgh5S4sLGzXrl2gSVIn8hDP2Som+lK8Be/u2rXLw8MDu2MGDx5MU0ZbKfBzRsAKAWjd6tWrmzZtGhAQ4O3tLQhC48aNDx48iJOvpM9sbLCCzq1+MhG6VXXU3cwQn9FGA7PZXFxcvHXr1k6dOuFsQ2hoaHR0NOaF8k2kFosFp5grX5thIqy76uXKkhvK3bZt29q2bSsIQr169fz9/aOiotavXw+xhYWFkiRhQunKjHDajiPAROg4dhzTRQiYTCbsvUL6W7duxbwQuxICAgK2bdsGU7z8jphbni9kInRRfdXxZGn4tXnz5tTUVBy0EAQhNDR05cqVGOGBC+s4UO5cfCZCd66dupU3URQxz6P1ZpRfrVZv3769YcOG9erVw5aENm3a0FZ1mJ5EUWTTaN1SF/coLQwYxcXFWBVatWpV06ZNg4KCGjZsKAhC/fr1d+7cCXPFLfXTPQpUR3PBRFhHK97dig3DEdlFkT1RFMFz+fn5P//8c2ZmpiAIgYGB3t7e9erVW7VqFYjTaDTSSkwl5eIZYSXg8KvbQcBkMtE5+m3btnXr1g3HfiLL3dq1a0tKSiRJojC3I4vjugIBJkJXoMpp2o0A3altNptpXohUMKDWaDQ7d+4MDQ3Fxjx0NJ9//jlJIgsVPbHyMBFaAcI/nYIALW/TfuZvvvmmXr160FVBECIjI+UHYZ0ilBNxLgJMhM7Fk1NzEAHaUyeKok6nMxgMYrkzljuDwaDX63EyJzU1NTg4GPfONGrU6IsvvtDr9ZgRVm59YiJ0sG44mm0ELBYLjcBMJlNZWRmGdBs3bkxPT/fx8cGlRUlJSRs3bqTRnu30+E31IMBEWD24s9SKCJhMJqu5IN2LRoFVKtWxY8dw4wy40M/P76OPPqLbtClkRQ8TYUVM+MntI0Anf7BMKEkSLnzYsWNHZmamj48PbrKNioravHnz7YvjFFyBABOhK1DlNJ2GAF0NqtFoYIO6cePGjh074uPjBUGIiooSBKFRo0br1q2DSBqeY4qJbxDiFROh02qFE7oVAnS+sFmzZhEREZgXtmjRYt++fYiKAGRWvVV6/N61CDARuhZfTv02EQCf0TducBtDQUHB3r17O3fujK3q9evX9/X1nTdvHq50IO60ml8yEd5mXXB0uxDQ6XQajearr77C+UJfX9+AgICIiIgNGzZARTFos1gseXl5dqXMgZ2OABOh0yHlBJ2MAN2IhlPJtJq4Zs0a+dcEIyMjv/nmG8iW321LO1GZCJ1cMZxcpQjQTuYvvvgiLS0Np2AFQWjYsOH69etx5WRubm6lafBLhRBgIlQIaBbjMAK45hHRdTqdVqsFF+bn53/zzTepqane3t5+fn6enp4pKSlr1qzBcBsb1iVJIg8TocNVwBEdQ4C4cMOGDenp6Z6enrjkvWXLlvv378dSInOhY9g6NxYToXPx5NScjIDJZBJFkWaBSJ0spbm5uWfPnm3atCmuthIEITg4eMWKFQimVqtxfTZ+MhE6uW44uVshgMv/sIlmz5497du3DwgI8Pf3x+d8FyxYAOs9fZDgVunxe1chwEToKmQ5XSciYLFY9Ho97SzArf+4U81sNm/evLlRo0ZeXl6+vr6CIMTFxdG9M2BQRGQidGKNcFK3RID2bRUUFCDw//7v/4aFhWETKb7ou2PHDtpressEOYDrEGAidB22nLIzEcBRQlAgbYfBWmBZWdnmzZuTk5O9vLzCw8MFQcjIyPj000/JKIpxNxOhM+uD06oUAYvFQlqKO2Uw7fvyyy87duwYGBiIfaRxcXFfffUVc2GlWCrxkolQCZRZhsMIwDRK0clGSpM8dDcmk+nkyZP4XDiuefTx8Vm2bBkiUmCKjtE6f4aJgGWPcxGApuFSCKRssViwb2vv3r0tWrQIDAyEukZFRS1ZssS50jk1exFgIrQXMQ7vFgjQcNvqfGFycjJWCgVByMzM3LlzJxlUKQpO35vN5u+++46/R+gW1VlnMoHjg1u2bAkPD/fx8QkODvbz82vUqNHWrVuBAciSv1ahsEYwESoMOItzDgIYcdOuGfn5wtjYWA8PD5ysiIyMXLlyJQIzEToHek7l9hDAJ8b27dtHd3P7+PhER0d/8MEHGKKRolZ+ZeDt5YJj/xcCTIT/BQf/qEEI2DpfuGXLlgYNGgiCAC5MTEw8e/asJEnUv/CMsAbVci3LqtlsJnrbuXNnUlISnS9MTU09ffo0abVcXWsZCG5YHCZCN6wUzlKVELjp+UKtVms2mzds2JCWloYzW3FxcXv37mUirBKmHMjFCIDeiouLQYe4mzsgIACfnqavqVgsFj5T4eKq+K/kmQj/Cw7+UVMQsHW+kG7u/ve//42xdvPmzQ8cOMBEWFNqto7kE1+iKC0tffHFF3EdhCAIX375pSRJOp0Ob+lSpDqCSTUWk4mwGsFn0beLQMXzhZTiE0884efnFxYWFhgY+PPPPzMREjLsqV4EcKzQbDYXFxcbDIaXXnoJI7bAwEAQocFgwHSQJ4WK1RQToWJQsyCXIGB1vtBgMOBoxIABAwRBCAgIiI2N/fHHH5kIXYI+J+ooAjTbGzhwoLe3d1BQUHBw8Keffor0rO6Ld1QIx6sqAkyEVUWKw7kVArbOFyKTWq32+eef9/Pzw5aZQ4cOMRG6VfXV2czgMI9Wq4WnqKjohRde8Pb2FgQhKCjoq6++oo/3kqfOYqVkwZkIlUSbZbkcAVzSYTab+/fvj8s7oqOjf/rpJyJCOndhsVj4QL3L64MF/DcCdIkMiFClUg0ePBhfE/Px8dmyZQttaca3Vv47Nv9yFQJMhK5CltOtFgSYCKsFdhZaRQSYCKsIlMLBmAgVBpzFuRYBJkLX4sup3x4CTIS3h5+rYjMRugpZTrdaEGAirBbYWWgVEWAirCJQCgdjIlQYcBbnWgSYCF2LL6d+ewgwEd4efq6KzUToKmQ53WpBgImwWmBnoVVEgImwikApHIyJUGHAWZxrEWAidC2+nPrtIcBEeHv4uSo2E6GrkOV0qwUBJsJqgZ2FVhEBJsIqAqVwMGcSIT6FI0nSunXrgoODcYprxIgReE6fhaNgCheVxdUFBJgI60It19wyMhG6Z90xEbpnvXCuHESAidBB4DiaIggwESoCs91CmAjthowjuDMCTITuXDucNyZC99QBJkL3rBfOlYMIMBE6CBxHUwQBJkJFYLZbCBOh3ZBxBHdGgInQnWuH88ZE6J46wETonvXCuXIQASZCB4HjaIogwESoCMx2C2EitBsyjuDOCDARunPtcN6YCN1TB5gI3bNeOFcOIsBE6CBwHE0RBJgIFYHZbiHOJEKLxYJqXr9+fWBgoCAIHh4efI7Q7jrhCLeBABPhbYDHUV2OABOhyyF2SAAToUOwcSR3RYCJ0F1rhvP1DwJMhO6pB0yE7lkvnCsHEWAidBA4jqYIAkyEisBstxAmQrsh4wjujAAToTvXDueNidA9dYCJ0D3rhXPlIAJMhA4Cx9EUQYCJUBGY7RbCRGg3ZBzBnRFgInTn2uG8MRG6pw4wEbpnvXCuHESAidBB4DiaIggwESoCs91CmAjthowjuDMCTITuXDucNyZC99QBJkL3rBfOlYMIMBE6CBxHUwQBJkJFYLZbCBOh3ZBxBHdGgInQnWuH88ZE6J46wETonvXCuXIQASZCB4HjaIogwESoCMx2C2EitBsyjuDOCDARunPtcN6YCN1TB5gI3bNeOFcOIsBE6CBwHE0RBJgIFYHZbiFMhHZDxhHcGQEmQneuHc4bE6F76gAToXvWC+fKQQSYCB0EjqMpggAToSIw2y2EidBuyDiCOyPAROjOtcN5YyJ0Tx2oi0Qo10VRFFEx+Jii2Wy2WCwmk8loNFosFgfqTKvVSpIkiiL1yJIk6fV6e5OSSzebzfIEdTodFQEZNhqNDqSPshuNRqSm0WjsTQTh1Wq1udwhGyaTybF0nBKLYO/fv7+Hh4cgCNHR0T/99JMkScgegAVuu3bt8vDw8PT0FARh8ODBBoNB/qEcp+THuYkg25Smodzhp9xPAaruAThms5nUQK6BVU/HKqTlP85KK8xmM9TGKnwVf6KFUiu4Zaz/5OKf/7cM7NIAlGcAolKpBg8eLAiCp6enj4/Pli1bKvYeLs0PJw4E6iIRGo1GrVZrMBjQKoxGo1qtlisElFUURZ1OJ39eFT/SRJcKna5KrIph5C1WLHfyJ5IkoS9wIIckC0So0WhoNECv7PJYRRdF0arXsyu12wxcW4nQYDCYTCaz2WwymQwGQyUDNZPJ5MDASw47ZMmfOMsviqIDgza5dCISeoiRK/2UJAmDWrQaq6GDPFi1+Cn/TITVgr8toXWRCK2wwHyLenN5Q7XiHquItn5aLBb0RCaTqayszGw2O0BXNIa1lb2SkhJMXywWixWR28qY/LnFYsHkVZIknU5nMpl0Oh3xtzxk5X5MINRqNaVWeXhXv62tREj6CQAx2gA16vV61CBUxTGELRZLcXEx9JY6awf0ypZ0nU5H9KzX67Vardlslrc1WxGtnqvVahQWCFjBYhWYGkjF59X1hLBlIqyuKrip3DpHhMXFxRgqQhGthpOiKMLEBFPkLZtZRUwxHneMQSumJjfYWr2VE48D+ZQkqSLtVZJtImYrD+UKecBfau30VjFPbSVC6JVOp5OTh7y+bn/qYyx3zqop+bQMhE0pWywW6J7JZLJSJ/pJgSvxgAup4JXHxVurYWUlibvoFTUNJkIXIexYsnWOCK1gAvNRJy7vWaxC2vsTBlgYahyYEUIcWq+VaHSFGF8XFxdT07IKdsufer2+pKSkIh3eNCL1MlYeWlKSx5J31vLnCvhrKxECOrPZjIEaKESSJI1GQ0UmeOWDJHpYRY9WqxVFUa1Wl5WVVTHKTYNZ6QnClJWVgQAoilUw+kkBrDxGo7EirZpMJoxu6S8Wrak5WywWspRaJajwT2qtTIQKI1+5uLpIhFgglC/goVuRL40YjUaNRkPGnMpBvOnbsrIycMzt9ErylDHEliRJpVJZ0U8l+aSexcqDdkhTSbJtWgWjn+hZKv6VJIkMaOB76n3kmVfMT6xQyzbLqFQqqixaIZY/oR4Wb20BThVq5UHdydd3YcC0Nx0rBqLoUBJiQSwZwO5SUakwybPKIX4iQayVGo1GOQIkS75MiIfyuPJgyvupmpgIlQe/Eol1lAiBSElJiRVLGY1GlUpFyloJcLZe0aYGaqK5ubm2AqPF2mrwYD7wisVioSkmpUYpExXRK/LcNHHi1OLiYvSAtMOikvA37bAkSbp69SrEYQ5hBSnlRBlPbSVCqArmQ1ZIqlQqUgCz2VzJqKhyfSONLS4uhohKkrKlJ3heUVWgFaWlpUjTYDBQTVUMXAkRyo0NWH3HE0wKrZCRtyC8ot1GViEV+0l9CxOhYphXRVBdJEKVSiVJ0uXLl2fMmPHaa6+9//77I0eOHD169IQJE0aPHv3OO+989tln4JhKOoLKwTWVO0mSDh8+PGvWrG+++cZW+Jv2AugIYMwBEYqiqNVqS0tLL1++jCZUXFw8d+7cAwcOVG53raTDunbt2qJFi9auXYv5JZK1Fd5WPjds2DB+/Pi///6bpoYOg2YLIrueU/day2aEkiSdPn16yZIl//M///Pmm2++995748aNg96+/fbba9asycvLg5HDylpghZ6t+oWlAe1i8uTJn376aeUz+0rSwRYVo9Go0+lgYi0tLcWa9OrVqzdt2gRNw4EWW3plK/2JEydu3LgR+oaiocbz8vKKiorUajWOAyE6VgSpIGazWavVFhUV0QjSChwFfjIRKgCyAyJqMxFiTZ7GuRg5wlxpsVguXrzYvtxllbuOHTtmZGR07dq1devW//M//1NUVAQ0MYSEX6vV5uXlDRkyZOjQoS+99NKgQYMGDx48ZMiQ/v37v/HGG8OGDRs5cmRJSQntBTAajV988YUgCDNmzKCGbVVJaBjYRIdXNOYljyRJCPDwww/Hx8cXFBSIonjjxg1/f/+VK1fCnEX0gwTHjRv38ssvDxo06MUXX9y7dy/1TZi0gWIvXboUEhLy4IMPUhmxlfS33347fPjw7t27Dx48+Ntvv+3evfvo0aM///zzb7/9tnfv3rNnz0qSdOPGDeR22LBhgiCcPHkSInBoklq7VWEV+AnRZrO55hKh/DyP/LzBpUuXHn/88czMzI4dO3bo0KFdu3YdO3Zs165d8+bNBw4caDAYUK1qtZp0vrS0VK1Wv/3229nZ2aNGjcrOzh48eHB2dvYLL7wwYMCA11577a233jp37pzJZKK1xhMnTnh5eT399NNEVzetNejbrl27fvrppyNHjuzfv//HH388cuTI7t27CwoKsBVZFMWTJ096e3ufP38eU9XU1NSxY8fSflFUVn5+viRJy5YtGzhw4PDhw59//vnNmzfLN3PpdDqQmV6vT01NTU5Oli+N4xzUuHHjOnTogKySPlOjgDUFPxs3btyxY8ebFkqBh9Q0AC+fI1QA86qIqLVESCwCo6IcC/lCCB11wIhYfiq5qKjIYrFgvlVSUoLO5dKlS7179+7WrVuXLl0efvjhp8vdAw888Pjjj4eFhUVFReXn5xsMBmqBBw4ciIyMnD9/vi0iJP7Q6XSjRo26++67O3fu3LFjx7vuuuuRRx7p1KlTly5d/vrrL1EU9Xr9XXfdlZCQUFhYaLFY8vPzg4ODV69eLbdzSpJ04sSJzp07h4SEZGRk9O3b19vbOzY2dv78+YQANcWrV69GREQ88sgj8uXSS5cuZWZmCoIQExMTFRUVHh4eEBAQEhISFxfnU+5GjRpFXaTRaHz11Vd9fX1Pnz6Nvo8GASROYU8tIEKa0tF2FZVKBT3EMK6kpATFxEq2JEllZWWackcTO5r0FBYWDhs2rG3btg+UuyeffLJHjx4PPfTQww8/HBwcLAjCn3/+Ka+j69evh4SEjBgxgqb48rdy/5EjRzIzM/38/MLCwqKjo6OiokJDQz08PFauXInVO41Gc+TIkZCQkGPHjoGcMjMzJ0yYQHNBWHpVKlWPHj0EQWjVqtUjjzySlpbm4+MzYsQIUlT5aCAjIyMlJaW0tBTUiPZrNpsHDx7ctWtXGHsok6IolpWVUVcgSVJBQUHr1q1TU1MpjMIeKhQTocLIVy6u1hIhddY0PNRqtXv37p05c+bUqVPnzZs3ffr0BeVu+fLlU6dOnTNnzrJly9asWTNv3rxx48bNmTPngw8+WFjugGBRUZFGozGZTDjAhy0JGEeDpR599NEGDRpcvnz5559/njFjxvvvv7969eqxY8cKgjBz5sxKiJCWZNq2bduyZcvXX3/9lVdeGVLu+pU7TMIkSerSpQuIUJKk4uLi8PDwTz/9FFSKNRiDwfDMM894eHjs3LkT2Var1b179/b29t6yZQswuXTpEl7l5OQ0bNjwscceIzKWJKmwsLBBgwadO3c+efLkmTNnTp48ef78+T/++OPo0aOnTp06evRoTk4OeltRFEtKSl555RV/f/9z585h2lpx2FG5/jn9bS0gQlgL9Xq9KIpHjx6dNm3asmXLFi9e/MEHH0BR582bN2fOnEmTJi1YsGDp0qXLli1buHDh8uXLp0+fvmzZstmzZx8/fhzAYvRGzCpJEqyUeD5ixAh/f/8bN27s3bv3nXfemTZt2ocffjh//nzcs1N51SDN33777ffff//jjz+OHDly7NixP//8MywsbO3ataBtnU63e/fusLCwv/76C9b+rKysSZMmyYnQYrG88sorPj4+X331FSTm5uZOnTrVx8dn/fr1iEV3M1ksllatWrVs2ZIID0QoiuL06dM9PT3btm0bFxfXrFmzhg0bJiQkZGVlZWRkJCQkxMXFRUVFNW7cuEOHDqGhoVlZWZWXznVvmQhdh+3tpFxriZAaD92tVVhYuG7dOkEQ2rVrl5qampiYGB0d3bBhw5CQkJSUlGbNmsXExERGRiYnJ6enpzdt2jQuLi42NrZFixY//vijFcREXdgag3H6Aw88EBMTo9FoBg8eHBcXFx8fHxYWlpGR4evrixUXcKFVUuAPPExPT3/33XfNZjO1c3lgjUbTpk2b+Pj4wsJCSZJKSkoiIyPXr1+P+Rz4/pNPPhEE4ZVXXkFETClOnDgRGBjYs2dPNEKarebm5kZHR//rX/+SzwivXr0aGRnZp08fzPCQgk6noy0wer1eo9HQZGXYsGHe3t5nzpyhzYq0s1+eecX8NZ0IyXSPGc/atWujoqKSkpISEhJCQkKio6PhT09PT0hIiI6Obtq0aYMGDSIjIxMSEqBycXFxv/32G6k9jQgNBgNVIhT4pZdeEgTh77//XrNmTXR0dLNmzRITE+Pj4wVBeO2118gcUkndkQ1Wq9Uiw3FxcQsXLqTNOwcPHvTw8MCMUJKkdu3agQiRK1EUT5065evr+9RTT4mimJubi4xdu3YtNTU1NjaW5nOoVp1O16ZNm/T0dEofFlSLxTJp0qTAwMAJEya89957c+bMwXr/G2+8MW7cuDFjxkyaNGnixInjx48fO3ZsfHx8SkpKJYVy6SsmQpfC63DitZkIqQugred5eXkmk0mr1cJwRM1YpVJhpKxSqajrx8yPmhyMfjS4RrOX4961a9eQkBCLxaLRaHJzc6HxX331VeVrhEgBc8qWLVuimzAYDKWlpWazuaioCCcdcTdjr169sEaIe0CICNF7qlSqZ555JigoCPsm8Bdj8+zsbA8Pj19//TU/P59guXHjRqNGjUCEuLILl9TExcU99NBDWq3W6vY1vV4PlMCRsDi98sorfn5+MI0i5du530SOp2P+mk6EVOqysjLwVkFBAbaB4NXVq1e1Wq3JZEJVknXUYDBgsS0vLy8nJwfLfhjiQD0oZZhSJUkaPXp0UFDQ9evXy8rKyJR65MiRuLi4YcOGVYwlTwHHDeXX3iID0dHRS5YskSSpqKhIq9WeOHEiLCzs6tWrqJesrKzx48eThoii+NZbb/n6+u7bt4+YG1LmzJkjCMIPP/xAdlHcKdi6dWv5jJDGcGPHjsXKn8lkwpYZeW5pT6lWq73vvvs6deokf6uknyyMC7EAACAASURBVIlQSbSrLqs2EyE4QG73I9NQWVnZjh073n777c6dO99///1ZWVk9evRo167dgw8+OHTo0OnTp//xxx/UMlUqFWZ+6OhxCB3XE8NvNBoNBkOPHj1iYmLI8Ai53377bb169ebMmWPLNAoyxiytQ4cOb7zxBg3bUYvgGwTr2LFjYmJiQUEBODIiImLdunXYCwdxWVlZ9957L+iKqDo/P3/jxo2BgYHfffcdaYbFYsnJyWnUqFGPHj0wrIZF7tKlS40aNbrvvvsoJKVG13PTTj9Jkt54443g4OCzZ89iXys26FNc5T01nQhpvm4FncFg2LNnz5gxY3qXu3vuuadbt27du3fv1avX/fffP3ny5KNHj8KQQAMd2oGVl5eH8RxOy+AuPa1W+8YbbwiCsGvXLtrbAsu/IAgvvviiVQZs/dSXOxovxsTELF++HOuLZrP5wIEDfn5+f/75J+qldevW48aNI4Mn7PatWrX6888/kXmtVotJ4fHjx5s2bfrWW2/h0gDkUJIkEGFZWRmpN5rGO++84+XltW7dulWrVq1cuXLp0qVr1qxZu3btsmXLPv744zVr1nz44YcfffTR6tWrAwMDU1JSqD1aeWwV01nPmQidhaRz06nlRCgnFaPRiNne33//nZCQgIWQ119/ffjw4atXr966deuQIUOwPpeQkBAUFPTqq6+iW8fQWBRFi8Vy7dq19u3bx8bGNmnSBKakuLi4iIiIli1benh41K9fPzc3V61WX7x48dq1a2q1etu2bV5eXgsXLqT2dtP6Q2Nu167dsGHDqKkQkVMvcM899zRv3ryoqMhsNhcWFkZERHz22WegZK1W+8svv3h7e0+fPp1mbJSCTqcLDAzs27cvaBUbC62IED1LTk5OixYtME3U6/WYQGPcTTd6YFsg6HPAgAHe3t4XLlwgGy/l/6YldfVDSK+5u0ahbGR4UJW706dP9+zZ09vbu0OHDu++++6gQYNef/31PXv2vP322/379580aVLbtm0FQRg2bBjMALBeoEKLi4sff/zx6OjozMzM+vXrw+AfFxeXmpoaWO4w5rt06ZJKpSopKTl79qyXl9ctZ4RYIcZtulSnxcXFERERK1asKCoqgpJs3769UaNGR48eRb2ACKlZ5eTkBAUFDRo0CCnodDoyuZeWlnbp0gVTNygthghZWVnp6ek4j482hbdLly4NDg6OjY2Ni4tLSEioX78+tvBERERERUU1bdo0IiIiMjKyVatW9evX/9e//kXt0cpDZXGRh1oHxiu8a9RFONubbK0lQhoXYyMo3dav1+t79uzp5eV18OBB6m7I4oermCRJGj58uCAI77//vsVikQ+0z5w54+fn165du6VLl86bN29+uZsxY8aKFSvmzZu3cuVKSZJ69+7t6+tbv379gICApKQkQRAqIUL5EelWrVq9/vrrsFzB0DRixIg+ffq8/PLLr7zyyosvvhgfH5+amooTGlZEKEnSvn37BEGYNWuW2WxGh4JlHrPZfPr06bi4uB49elBHI4piTk5OTExMr169aO4rSVJOTk5CQsJdd9118uTJXbt2nTx58ujRo3v37j18+PDPP/986tSpM2fOTJ06ddCgQf369Rs3bty9994rCMJff/1FidBZaXt10SnhazoRAgRob3FxMchs1KhRgiBs2LABAyaybYI1wQTz5s0TBOHpp5/G6jhSMJvNOTk5aWlpzZo1mzlz5kcffbRw4cKlS5fOnDlzzpw58+fP/+ijj1Qq1ZgxY7y9vbHtMyAgwMfH580336TPs9iqF4hAluA3GAzNmjX7+OOP//3vf/v6+kZERMTGxoaGhuL4hCRJbdq0GT9+PBJUqVTnzp3z8fF59dVX6RomaBFKFB8fn5iYiJRh8DAaje3atcvMzMStFzCxwjyLRY28vLyysrLCwkKsZMOknJubq9FoSktLS0pKCgsLi4qKAKwVBeKnrcI66zkTobOQdG46tZYI0T7JfkKbyyVJ6tatW7169c6cOQN7DrU0ulPNYDBMmTLF29t76NCh6GswGjUYDBcuXKhXr94rr7xCZzBKS0sx70QYlUp18uTJlStXrlu3bv/+/diDt3jxYmp1VvVHXZvRaMzMzBwxYgROg0mSdO7cud69e3ft2vWee+559NFHBwwY4OXllZycjHMdRUVF4eHhmBEiA4cOHRIE4b333sNWGmKm0tLS/Pz8iIiIhx9+mKRbLJbr169HRUVh8gcQLBZLYWFhYmKir69vSkpKSEhIVFRUQkJCcHBwaGhoUlJSZGTkL7/80rdv3wcffLBNmzbPPvts+/btBUG4fPmyfLc9OjKSpaSnFhAhahOKgfOsI0aMwIIZ6SqtjdEepVWrVgmCcP/999PhCgTOz89PTU3t3LmzvBZobwvGTNDYvXv37tq1a9WqVR4eHsOGDZOHl/vpupbCwsLevXs/Xu7uueeejh07Pvroo15eXh988MHixYvvv//+nj17duvWLSQk5K+//sJ24latWmEVHMT2119/CYLw8ssvYxc0kQR2fqWmpqanp2NcRSuFGRkZd911l06now1laHfyb7xgsYA0AaYL+qIn7XQjLc3NzQVW1Bjl5XWun8oIiTwjdC68DqdWa4kQHYQVHWK94euvv8au0ddff339+vWLFi2aN2/emDFjli9fvmHDhilTpnTr1i04OLhv375lZWUgPJpQXrlyBSso2LeNOSXamMFgUKvVNB9CX/Pll19GRkZ+8MEHtoiQzkFLktSxY8d33nkHdYnekFo7xra9e/cGEWKNUE6EZrN5x44dQUFBM2bMQO+JLyvBOnr69OnIyMjs7Gws7yFvNyXC06dPN2rUqGvXrocOHfr111+PHj167NixgwcPnjx58vjx47t37yZ+BfMNHDiwXr16169fJyKkWbXDSnk7Ean7q6EH6uUaS0OiI0eOtGnTBqOWTz75ZMGCBRMmTJg/f/6sWbMmTZq0YsWKnj17CoLQo0cPnLTR6XQFBQUYBd64cSMtLe2hhx6C4RH6gJSx6QacJEnSlStX8DciImLIkCF0dtaqOujc6smTJyMiIhISEl566aXhw4cPGzZs0KBBw4YNO3bsGKW5d+/eqKgoHOcQRbF169bvv/8+lFCn0507dy4wMHDgwIHEQNgRjW8udurUKSkpCRWKBmgwGNq1axcfHw8yKysrGzt2bFJSUosWLVq1apX6H5eSknLHHXe0bt26efPmiYmJKSkpiYmJ6enpWVlZbdq0ad68eXp6enJycosWLSZNmgQ61Gq1FS8Etyq4U34yEToFRqcnUpuJkEZ8WFSTJAnb6iRJys3N/fzzz4cPHx4cHOzv7x8bG5uWltagQQM/P7/WrVuPHDlyxYoVVqYSTB+LiooEQRg6dKi8JrB/r7Cw8OrVq2q1+o8//pg0adKbb74pSdKPP/7o4eExa9YsW0QIXsGotlWrVq+++ioIDEN+dBm0/HbnnXcmJSUVFhZarRGCNbdt2+bp6bls2TL0gLCCgqqxHNi/f39YjbBIc1MiVKvViYmJsJfSIBqjCsLTbDaD+SRJev3114ODg8+dOyeKIpma5eAo7K/pREgDILpOBU9EUfz6669fe+21li1bBgUFxcTEpKWlJSUlNWnSpEuXLtnZ2Z988glNMuSY5+XlYRswtAKLvkApPz//6NGjly5dun79+ocffjhixIjr169fu3bNy8vrpZdeglx5UvATEZ49e7ZBgwZPP/10aWkpdAMfckI2IO7AgQNeXl44XWM2m7Oyst5//31sLtPr9ZcvX/bw8MAaIcZ8YER8F+XOO+9MSUkhYwxawX333ZeRkYG1DLVavWnTptGjR0+ZMmXcuHFjx45977333n333dGjR0+dOnXatGkjR45csGDBjBkz8Hb8+PGjR4/G7XQTJ04cM2bM1q1bIZF0u2J5nfuEidC5eDortVpLhPI7Ykj5gBpdn4Yr09DACgoK5FFAe2VlZbgpBhEtFsuFCxc8PT1jY2P79+/fvXv3J598sm/fvs8999ywYcNCQkI8PT39/PwiIyO9vb0fffRRs9n83XffCYIAcrJiVqpC2o2ZlZU1atQoPLf68hzy07Fjx4pEiIVAjUZTUlISGxs7ePBg2rqJgqvV6t9++83X15esUnq93pZp9MqVKw0bNsR1M+ibyOhEG/SRQ9ivXnrpJQ8PD2y4QJ9ihTYVUxkPpNfczTI0lyILHg7/QGnNZjO2w5hMpqtXr4IkaHiHZTCq/eLiYjyJi4vz9fUdMmTI448//vzzzz/33HP9+vV77rnn7rjjjpCQkAYNGviXu+bNm584ceLKlSt+fn5vvfUWbQO2qjgQocFguHr1anR09PPPPw/DJkZLsItQLZw8ebJevXrnzp1DrHbt2k2ePJmWFdRq9d133/3444/TUE+SJBQwNzc3Kirqueeew7diiFxbtGiRnp6uUqmgw5Q3OiBBAMKDT7WQTiIdioUw2HojN3XIAzjXb5UTNo06F16HU6u1RAhEDAYDOhR0HNgMgleYMEEvafBbUFCAa4JxTRreWiwWbIErKys7ffr0sGHDBg8e3LNnz6effrpPnz79+vXrVe6ys7O3bdt28ODBH3744cSJE7A+rVu3ztvb+8MPP7Q1I6TVGkmSWrVqJd8vjsNYmBlgcnbnnXfS8Qlsllm3bh2MtGDKbt26xcXF4YIY0Bj20K9YscLT05NuBsCZ95vOCPPy8mJiYnDdDPpZzE3JTxNrnOt69dVXAwICsFkGkwB5SIf10uGIqLKaS4Q0ODOZTFh+RokwkwNJ0IkC+a0RJSUltBOqsLAQ+oCQ48aN69mzZ3Z29lNPPfXkk09mZ2f36tXroYce6t279/z5848cOXLgwIHz58+Day9evCgIQnZ2tnwZUl4doDSTyZSbmxsWFoa7F4iMKaTRaCwoKNizZ09gYOCpU6cwbGrXrt2UKVPoHKEkSf369RMEobCw0GQyIQPQ2x9//BH7g+i7KFitz8zMTE5OppLCDgGVKy4uzs/PV6vV8GAcgF0zer2eHqJDwKUQSFOeH8q/izyoTVrZZSJ0Ec72JltriZC4DYh8/vnnCQkJ4eHhKSkp6enpQUFBDRo0aNmyZXR0NB5iUSE+Pr5JkyYxMTEZGRmhoaEtW7YMDw+PjIx87LHH6JppXblDstTpo9/BmSr8RT/yww8/hIeHT5kyxRYRgjxwVX+bNm3eeustNBWYW62MjV26dAERiqJIREi9oVarHT9+vCAIWCiivEmS1KNHj6ZNmxoMBiqFrRlhXl5eZGQkzhFiqQZWI8wPcMmcKIo0q37ttdeCgoLwNQBwdsVBt71KeTvhazoRUtkPHTrUuXPn1NTUhg0bNm7cuEW5i42NxfUxaWlpLVu2bN68eVRUVKNGjWJiYpKSklJSUho2bBgaGpqYmJiVlXXq1Cm5XQH1iHYBrcN8CLWJtUO9Xn/mzJkGDRoMHDiQ9IqyBA+ZRq9cueLt7f3MM8/QXApXnmq1WrI0Hj58ODAwkC4eysrKmjx5MnGb2WzetWuXIAjff/895oK4PqK0tPTll1/28/O7cOECfXQQOezatSvdLCM33b/99tuPPfZYhw4dunXr9vDDDz/44IMPlbv77ruvS5cu999//913333ffff16dMnLS0NZ2flc0cCxKqwTv/JROh0SJ2SYK0lQhrPouVfuHBh2rRp06dPnzJlyuzZs5eXu+nTp8+YMeODDz4YOXKkIAgPPPDAvHnzli5dOnv27EWLFk2ZMmXGjBmLFi2aMWPGJ598Qs0GjfzSpUtbt27FXaP0CcPi4mKy4eTn51sslm+++cbX13fevHmVEyEOCHfr1m3gwIE//fTTsWPHTpw4cf78eVx/9fLLL7/77rs5OTndu3dPSEjA1yfkRGgwGChXjRs37t+/P6yUWMlbs2ZNcHDw6NGjSWNwbfdNZ4Q5OTlJSUlPPfUUcTCu6vjll18OHz585syZ33//fc2aNcOHDz927JjRaHzhhRd8fX3Pnj2Lu29IRHV5ajoR4jAAtu9Onjx52rRpU6dOXbx48bRp02bPnj1r1qxFixbNnj174sSJ/v7+bdu2Xbp06az/uClTpsydO3fhwoWTJ09evHgxqoB0srS0dOfOnbgqluyK8k9V4ArZM2fORERE9O/fn1qQVVUSEebn50dHR7/wwgvY8EXEeebMmWPHjm3btq2srOyPP/6gj5OYTKY2bdpMnjyZvqyJ8V9iYuJdd90FXcVZ1b///js+Pv6FF17QaDTgP7L3pqamJiUlod3RYBd8f+HChWPHjp0+ffpsuTt//vyZM2fOnTt35syZGzduXLt27ezZs8eOHWvevHlaWhqpNy1M6HQ6bNWxKq9zfzIROhdPZ6VWm4kQTUir1WJuROYUupYCR9GxU87Ly2vMmDHgD9qnQMeVQG9kujGbzR9//LEgCHv27KFvymBSiCvWqN2uX78+ODi4khkhJCJv7du3DwwMTEpKatCgQdOmTQMCAlJSUry8vMLDw4cMGSJJUteuXRMSEvLz861mhLDwYAfBkiVLAgICsrOzf/jhB61Wu27dOn9//8zMTHRzgAJXe9yUCC9evBgVFRUcHNyjR48HH3zwkUceeeyxx9q2bevn5xcTExMeHh4XF1evXr1OnTr9+eefBoPhhRdeINMoyJgAcZaO2pVOTSdCzK5otRUeIAB4DQYDFDslJeXuu++2mn/LwSc7KjanHDhwQBCEuXPnIh367hK2+5IZ4+LFix4eHjB4yo0KVAsgQlEUsYM6MjIS32N54IEHevXq1bVrV+w+8/f3//jjj0+dOuXt7Y072Y1GY6tWrbBGiJSR+f379wuC0KVLl4MHD168eHH79u1hYWENGzZELGqSWEe86667kpKS0NbIpCn/Qi9NcynDmKHSFbitW7du37493hKFU4OlWC7yMBG6CNjbTLY2E+FNoTlw4EDHjh2xuSM/Px9N6PTp04IgDB8+HKed9Ho9br7GvR5Ih0amMBjOnj3bz89v69atZBeij4OjowG3HTp0aOjQodichrtprHKFwLj77cyZM7/88suBAwcOHTr0008/HThw4Ndff927dy9d29auXbvExER85lulUuGKNRqJo1spLS1dvnx5y5Ytvb29GzduXK9evRdffPHo0aMw/tApaVEU8/LyQkNDcY4QpTMYDJcvX543b95zzz03YMCAQYMGPVPuBgwYMGHChO3btx89evTHH3/8448/qIvExc3nz5+nbNArq5Iq87MWECFdjYbxTXFxcYcOHbZv344FPyhMUVFRw4YN77//fnxCkjaqoBYsFgvUDxMs7ALbvn27h4fHzJkz6Tw+akROBqWlpXl5eUOHDp0zZ84t6+vkyZNTpkx59tlnn3jiiezs7Oeffx57cN566y18xhK7UnGvN1bm7rjjDhyol9ts1Wr1+vXrO3XqJAhCSEhIWlpa69at//7776KiIrAX2S1NJlNycnLbtm3JMm82m4HSqVOn5s+fP2/evFWrVn388cdz5sz56KOPli9f/sEHHyxYsABfkvnkk0+WL18eGxubkZFRsXRWQ4qKAZzyhInQKTA6PZE6R4Tff/99gwYNduzYQeZESZJ+//13X1/f4cOHo1FZoYxdIRgz0gh90aJFfn5+9M1bOueA07tysxKMUVZpIjVq4XgLGqZFEbQZeft84IEHUlJSrl69KopiaWmpj48PPsMEGqMr0LDcsmXLlvfee+/s2bO0bwK5ouMZly9fTkpK6tu3r16vl4cpKyuTf2oKmcQWBrA+soQ+6LXXXgsLCyOqFkVR3sdVLLWrn9QCIoTBkFTo4sWL3t7eMM7Djmcymc6dO5eUlHTvvffS9XsYS+GiIrIZ4iAsMN+zZ4+3t/fcuXNpyAJtJ5UmbaSLlipugamk+mh3MSUoiuLhw4ebNm164MABRGzbtu3EiRPlidBZRnyzadGiRTirWlJSQmNEGDBwPrVr167t27eHvRdTPQR77bXXPD09MzMzIyMjGzRoEPcf16RJk6ZNmyYmJuI5LpZ77LHHMJzVaDTU5Imi5Nlzup+koBHxZhmnI+xYgnWOCM+cOUPfqcEn30AbS5YswZ3UtNSv0WhwQJ5YAdZFNLxly5Z5eHjs3r1br9frdDr5hxpwQzd6KKg7LUjIKwkmJpit5KNycCS2rVJfgGlW165dW7ZsiX6qtLQ0MDBw7dq12FxK87CScgdBFB1GYOJUPD927FhYWFj37t3x02g04gOw1JERJVNnQU9oxXTAgAGBgYEnT57EFARJUQry8irjr+lECOhQCrVajbldSEjIxo0bASDoqrS0dNGiRV988QWmd+BOGqzI7auoKb1e/+WXX+IGPqgcPlpLZgzwLi6aAX3KU6tYdxqNBofcMfSRf4aipKREp9Nhu+YPP/wQExOD3Vt5eXlZWVnvvfceAhNxypW/pKQEcuUqhE0xWGVv3rx5dHQ0XT6HbBuNxtGjR2dlZWGrLdpCQUFBablTq9V6vZ7uu6D9YnTjDCCixlKxsE58wkToRDCdmFSdI8IffvghMjISl1/Q7A2Aou3pdDp40PDwymAwUL+AG41nzZqFNUIaR1PTpRZFHhpiy2uO0rdYLPJTUPgkkzwkGqrJZMrIyKhfv35BQQFOg4SHh2/atInoDd0fvh2IaRn6NfhpjYRsuVeuXGnWrFnv3r0xRZCngzA0scArk8mE81vofdDdvPnmm0FBQVevXiWgKH2rIijzs6YToXzMhBOEWq02IiJiz5490DQy0dPohMZAQBgf8KIJJWaKZrMZmr9ixQqqaGgsEMN2TWoRpMy3rDXkihYOKQUki/W/a9euYSXyrrvumjx5MuWNLiEym80FBQXyo5Okrjh3Qfm577770tPTabAIjyRJI0eOxHM8oeVD5F+OKnJCMFIBSSI9cYWHidAVqN5+mnWOCI8fPx4REfHmm2/O/I+bN28ePls/c+bMxYsXL1y4cMaMGbNnz54+ffqiRYsmT55M32QH3KCH5cuX+/r6jho1atasWUuWLFmwYMHMmTNnz569YMEC2uY3Y8aMJUuWzJ07d/369bBZ0dj2ljUHEsVuHXwWQKfT9enT5+6778bX5vR6fXR09Lp163B2Ch0QdY5gI/lP9D5gXHBtXl5eeHj4gw8+iLjUROmWOMokdZ30BIcXzWYzfdwVK1iQaCWXYingQSlq7jlC9PjEbRaL5fz587jMaM6cOQsXLpw6dSp0bP78+bNnz548efKSJUugtIsWLRo/fvysWbNg0oTK0VmFjRs3CoLQu3fvBQsWLFy4cE65W7x4Mfaczv2Pm13upkyZ8vfff1dSj1gvIH5CzdIOTBoMHT58uHHjxmfOnDGVu1atWo0cOZJss0SEFRUDmSejKC09pKamtmjRAnNKfBMRWI0aNSogIADFwU7aefPmTZo0CSjNmDFjwYIFs2fPnjp1Km4eP378OLgQgpCBinpeMWO3+YRaGWSxafQ28XRW9DpHhL/++mvbtm3vvvvujHJ3xx13ZGZm3nHHHenp6a1atcrMzLzzzjvT09PvuOOO5OTklJSUe+65h6aPsAJherdixYrExETYKlNSUjIyMlq1atWhQwd8JubOO+/El+7vuOOOJk2aPPDAAzAWwbRIk0gwENb2cK2w1bCUeiI0mwsXLmCXudFovHz5cmBg4MKFC6EKFNJoNJaWltKaHwbUWBAlufBcvHgxJiame/fuSEH+zQo8MRqNarUaWcInL6iDI/178cUXYRoFEdLz6vLUDiKkmsJ32/v27ZuSktKhQ4fOnTtnZma2b98+NTW1devWqampbdq06dSpU1paWlxcXLt27dLS0u69996tW7fCYo9aQGo7d+7MyspKTk7u1KlTVlZWampqRkZG69at09LSWrVqBR1u2bJlq1at0tPTH3zwQWzavGU9wuQIPaEFS/kM7M8//8RzjUZz//334+4kkBDGlDQZhSytVovFCAKBLCKiKDZt2rRt27ZoBQiPc72rVq3KyMjo3Llz8+bNU1NTk5OTO3TokJGRkZKSkpaW1rZt26ysrFatWjVr1iw9PT0+Pv7w4cNoI/K9AkyEt6zu2hqgzhGhJEkXLlzIz88vKSnBgnlhYaFWq9XpdGq1+tKlS3RPFbaQUJMjqyDdLn3p0iVExC1QpaWlRUVFSBnLEiBOHNVCe6t8RkgntKBtZCPV6/X5+flYkoFEBFi7du2pU6coP1Y6SlsHKz7HnK+kpOSzzz77+uuvsUsWwYAJ/Dg+bxUdP7GvR5Kkn376acWKFfKOD93WTWMp8LCmEyH1xZgDYbpz8eJF7GBSq9X44CXukdHr9SqVCt8VQrdeXFyMHbxUQXRoD98kwdqzSqUqLCxUqVTFxcW5ubkwnqvV6tLSUhzPwLZMrPvetNZUKhVZ/isGAMNhiZ2+hi2K4saNG/fs2SMPTyZKWjKUvyU/holms/nLL7/cvHkzFBhahxrX6XQXL14sLCw0GAxY5senlywWS2lpqUajycnJQdlhGqF9QES3N93UTRlwlodnhM5C0rnp1DkiROuFZQ9QorVjRoW3Go0G63ZoJLQ6qNPp0E/J2Yg2rCMw/qIjwFF0+sQMfZgbcmmNEJM2miziObVPqm8yl2GvvPzwL/hVPpuU72qhFCCImiJ1czBwVbSIUkjaLkSUSVtPkbher5fDSBKV9yDPNdc0SpdvQRVpol9xLk6TfhqFIAp16MQxMDxQMDpNjyELnpOREzbMiuJuWpW4ZZs0nza1UmA6CiIfYOH2QTnlk25jdojMUBuEh8KjcdGBXWyEQdkhFyyOctEWXPzEF5ooMH1VRn7+kjLvCg+1KRSHTaOuANmBNOscETqAEUepQQjUAiKsQWhzVu1FgInQXsSUCc9EqAzOLEUhBJgIFQKaxTiEABOhQ7C5PBITocshZgFKIsBEqCTaLMteBJgI7UVMmfBMhMrgzFIUQoCJEvfzwgAAIABJREFUUCGgWYxDCDAROgSbyyMxEbocYhagJAJMhEqizbLsRYCJ0F7ElAnPRKgMzixFIQSYCBUCmsU4hAAToUOwuTwSE6HLIWYBSiLARKgk2izLXgSYCO1FTJnwTITK4MxSFEKAiVAhoFmMQwgwEToEm8sjMRG6HGIWoCQCTIRKos2y7EWAidBexJQJz0SoDM4sRSEEmAgVAprFOIQAE6FDsLk8EhOhyyFmAUoiwESoJNosy14EmAjtRUyZ8EyEyuDMUhRCgIlQIaBZjEMIMBE6BJvLIzERuhxiFqAkAkyESqLNsuxFgInQXsSUCc9EqAzOLEUhBJgIFQKaxTiEABOhQ7C5PBITocshZgFKIsBEqCTaLMteBJgI7UVMmfBMhMrgzFIUQoCJUCGgWYxDCDAROgSbyyMxEbocYhagJAJMhEqizbLsRYCJ0F7ElAnPRKgMzixFIQSYCBUCmsU4hAAToUOwuTwSE6HLIWYBSiLARKgk2izLXgSYCO1FTJnwTITK4MxSFEKAiVAhoFmMQwgwEToEm8sjMRG6HGIWoCQCTIRKos2y7EWAidBexJQJz0SoDM4sRSEEmAgVAprFOIQAE6FDsLk8EhOhyyFmAUoiwESoJNosy14EmAjtRUyZ8EyEyuDMUhRCgIlQIaBZjEMIMBE6BJvLIzERuhxiFqAkAkyESqLNsuxFgInQXsSUCc9EqAzOLEUhBJgIFQKaxTiEABOhQ7C5PBITocshZgFKIsBEqCTaLMteBJgI7UVMmfBMhMrgzFIUQoCJUCGgWYxDCDAROgSbyyMxEbocYhagJAJMhEqizbLsRYCJ0F7ElAnPRKgMzixFIQSYCBUCmsU4hAAToUOwuTwSE6HLIWYBSiLARKgk2izLXgSYCO1FTJnwTITK4MxSFEKAiVAhoFmMQwgwEToEm8sjMRG6HGIWoCQCTIRKos2y7EWAidBexJQJz0SoDM4sRSEEmAgVAprFOIQAE6FDsLk8EhOhyyFmAUoiwESoJNosy14EmAjtRUyZ8EyEyuDMUhRCgIlQIaBZjEMIMBE6BJvLIzERuhxiFqAkAkyESqLNsuxFgInQXsSUCc9EqAzOLEUhBJgIFQKaxTiEABOhQ7C5PBITocshZgFKIsBEqCTaLMteBJgI7UVMmfBMhMrgzFIUQoCJUCGgWYxDCDAROgSbyyMxEbocYhagJAL2EqGnp6eXl5cgCIMHDzYYDJIkiaJosViUzDPLqjsIiKKIwppMJkmS1Gr1kCFDPDw8PD09fXx8tmzZAg0kNa47yFRvSZkIqxd/lu5kBKgH6d+/v4eHhyAI0dHRP/30kyRJRqNRkiSQnNlstlgsu3btYiJ0cgVwcpUiwERYKTzV9pKJsNqgZ8GuQICJ0BWocprOQoCJ0FlIOjcdJkLn4smpVTMCTITVXAEsvlIEmAgrhafaXjIRVhv0LNgVCDARugJVTtNZCDAROgtJ56bDROhcPDm1akaAibCaK4DFV4oAE2Gl8FTbSybCaoOeBbsCASZCV6DKaToLASZCZyHp3HSYCJ2LJ6dWzQgwEVZzBbD4ShFgIqwUnmp76TQiFEVRp9Nhe/r69eu9y50gCAMGDNi3b98vv/yyc+fOX3755fvvv9+9e/fevXv3sGMEXIDA/v37v/3220OHDt13332CIAQEBERFRe3fvx9nBHF4i3R1165dQUFBQrnr0aPHd9999+uvv3799df79+93QdY4SUZgD7q+Xbt27du37+jRo1u3bn322WehgYGBgbt27dJqtZIk6cpdtdFC3RPsNCKUJEmv15tMJrVavWnTJn9/f0EQcJCrQ4cOmZmZCQkJaWlpcXFxzZo1S0lJac6OEXABAomJicnJyV27dvXz8/Py8vLx8QkLCzt48CAoEGM1s9lsMBhEUdy5c6cgCL6+vl5eXoGBgS1atEhNTY2Li2P9dEHNcJL/IJCSkpKampqcnNy0adOkpKTmzZuHhoYKguDj4yMIwsaNG6GiNHGse5RUPSV2JhFSFW7duhVEGBoa6unpSYNub29vjH0CAgI82DECLkAACoZupWHDhoIghIaG/vrrr+hZNBoN2pkoiiaT6fvvvwcRBgUF+fr6Iq4gCN7e3i7IGifJCPxzw4OHhwf1hF5eXsHBweHh4VC/rVu3Qj/1ej3mhdVDC3VPqtOI0Gg00sVU33//fXx8PKoc91cJguDl5YXqp7s8qN9hDyPgLAQ8yx1Sw2isbdu2J0+ehHKS9R43y5w6dap169YI7O3tjfDOygmnwwhUggAtHlGYxo0b79u3T5Ikg8EAA2nd46NqK7HTiBAloAv0Vq5c+fLLL/fr12/gwIHPPvvsoEGDhgwZ0q9fvwEDBvTv3/+ZZ555nh0j4BoEBgwYAE3r27fvCy+8sGXLFro+lLbSgBdVKtX333//6quvPvroo4MGDXrhhReys7P79++fnZ3tmqxxqnUdAejYs88+m52dPXDgwOzs7D59+jz77LPDhg376KOPMBFEX8rWUSVZ0ZlEaLFY5JWnUqny8/M1Gk1JSYkoiiqVqqCgQKfTaTQalUqlYccIuAABlUpVUlKi0WjUavXVq1fLysrQnMhcYbFYMB2kZlZSUlJQUKDVakvLncFgcEG+OElG4B8E9Hq9VqtVq9VQUfSERqORFBU34mLLBakoe1yNgDOJEHm1WCxlZWVUnVSjJpMJNIlRuasLxukzAoRAcXGxpdzhan/sbYb1QqVSwUP3cZPGUnT2MALOQoCUTZ4gjdIMBkNRURHmhfRQHpL9LkLAmUSIBRjYuJFd0CFtosHDoqIidDrom/gvI+BEBLAd1GQyaTQas9ksiqJarZYkyWw2YyhGQzS1Wo2+RhRFDNJ1Op3cdurEXHFSjAAQIAUzGo00JcDZHigqdfTQXvrJHpci4EwidGlGOXFGoCoIYF+oxWKh5Rax3NmKK4oi+iMM1yiWrfD8nBFgBGofAkyEta9O63qJjh07NmXKlNdff/3dd98dOXLkmDFjpk+fPt62e7/cjRkz5r333nv99deXL1+en59f10Hk8jMCdQkBJsK6VNt1oKxarXbSpElWByH8/PxsHWGjUz10tCs1NfXAgQN1ACouIiPACPwfAkyErAq1DYHJkyf7+PgEBgaGhob6lzs6qlXR4+npidP3vr6+/v7+np6eCQkJp06dqm2gcHkYAUbANgJMhLax4Tc1E4EZM2bgbj/cERMTE+Pl5RVuw3l7e0eUO3Ckr69vXFzcmTNnambROdeMACPgCAJMhI6gxnHcFgGDwTB79mzcHRoREfHaa68dK3cHbbhDhw79/vvve/bsefjhh3HRWnR09NGjR922gJwxRoARcDoCTIROh5QTrGYEFi1ahOmdh4fH22+/rdfrKzmShZ3rWq22Z8+eiJWQkMAzwmquQhbPCCiLABOhsnizNBcjIIrirFmz8AGmwMDACRMm4NCq2Yaj4xP/+te/iAiPHz/u4mxy8owAI+BGCDARulFlcFaqjsBNJ3k4swwixKXG48aNk1/7VzF9vFWr1U888QSuho+Li/vjjz8qhuQnjAAjUFsRYCKsrTVby8vFRFjLK5iLxwgoiAAToYJgsyjnIcBE6DwsOSVGoK4jwERY1zWghpafibCGVhxnmxFwQwSYCN2wUjhLt0aAifDWGHEIRoARqBoCTIRVw4lDuRkCTIRuViGcHUagBiPARFiDK68uZ52JsC7XPpedEXAuAkyEzsWTU1MIASZChYBmMYxAHUCAibAOVHJtLCITYW2sVS4TI1A9CDARVg/uLPU2EWAivE0AOTojwAgQAkyEBAV7ahICTIQ1qbY4r4yAeyPAROje9cO5s4EAE6ENYPgxI8AI2I0AE6HdkHEEd0CAidAdaoHzwAjUDgSYCGtHPda5UjAR1rkq5wIzAi5DgInQZdBywq5EgInQlehy2oxA3UKAibBu1XetKS0TYa2pSi4II1DtCDARVnsVcAYcQYCJ0BHUOA4jwAjcDAEmwpuhws/cHgEmQrevIs4gI1BjEGAirDFVxRmVI8BEKEeD/YwAI3A7CDAR3g56HLfaEGAirDboWTAjUOsQYCKsdVVaNwrERFg36plLyQgogQAToRIoswynI8BE6HRIOUFGoM4iwERYZ6u+ZhecibBm1x/nnhFwJwSYCN2pNjgvVUaAibDKUHFARoARuAUCTIS3AIhfuycCTITuWS+cK0agJiLARFgTa43zLDERshIwAoyAsxBgInQWkpyOoggwESoKNwtjBGo1AkyEtbp6a2/hmAhrb91yyRgBpRFgIlQacZbnFASYCJ0CIyfCCDACkiQxEbIa1EgEmAhrZLVxphkBt0SAidAtq4UzdSsEmAhvhRC/ZwQYgaoiwERYVaQ4nFshwEToVtXBmWEEajQCNYkIjUYjuj+z2SyKInC3sKuTCJhtOEmSZs6cKQiCp6enn5/f+PHjJUkyGAy2WqlWq5UkSaVS9evXz9PTUxCEFi1a/P7775Q80KXodRJsLrTdCJhMJtIZ9rg/AjWJCCVJMhqNGo3GaDQC2Uo6OPeHnnPoIgTmzJnj4eHh5+cnCMLbb78NKbZ6MrwtKSnp3r27UO7i4uL+/PNPF+WNk607CIiiaDAYMKIylLubmjHqDiDuXNIaQ4QYucuhNJvNkiSJ7OokAjRjs/JIkjRhwgRBEIKCgry9vSdOnChJkl6vl2uO3F9aWmqxWIxG41NPPeXt7e3n5xcdHX327FnTf5wcXZgi5E/YzwjcFAFJksxmMzOfvK25s7/GECFAJMUyGAwajcadkeW8VRcCEydOFATB29tbEIQJEyZUJRsGg+Hxxx/38vIKDg6Oioo6e/ZsVWJxGEbAFgK0dmMwGHQ6HYKp1Wpb4fl59SJQw4hQpVJpNBqYuUwmky17Fz+v9QhYTQTppyiKEyZMCAoKCgwMFAThnXfeUavVWF2+KSYGg0Gv1+fm5j788MOCIAQEBMTExBw/frxiYIio+JyfMAIVEaA1QjkRVm9fz9IrQaDGEGFZWRktDZKHtK2SEvKrWolAxa4HTyRJmjFjho+PjyAIgYGBixYtggndFgi0zDxkyBCsEaanp1+8eNEqPImzes4/GQFbCNCkENu1NBqN/ImtWPy8WhCoMUQoSVJeXl5hYaFarf77778vXbpUXFx86dKlAnaMgAyBnJycUaNGgdI8PT3ffffdw4cPX7hw4S8b7uLFi5cvXz5y5EjPnj0RKzU1dcuWLYXljhLO/4+jJ+xhBCpBILfcXbt27cqVK4WFhdXSubPQqiNQY4jw/PnzvXr1ql+/flpaWnJyckJCQmZmZmJiYjK7OolAcxuuRYsWUVFRgiCEh4cLghAbGwt4mtlwycnJTZs2TUpKCgkJ8ff3DwwM9PDwiIuLo+QRPancsb7VSV1zpNDx8fFZWVnJycn169f/17/+tXfv3qp3yhxSeQQEMg1J0v//tI3FYsEs3mKx0I472CHNZjMW55BXnU6H8wxarVatVut0OuxnITsV0qEolKy9RV2+fDm2P+CwlyAIPuXOw06HUX/Fv3Ym41Exhcqf2Eq/8liue2tvfmyFt/XcVs7tDW8rnep6bm/+7Q1vb7k4fXsRcyy8wzh7enoGBQUtWLDAYDDQXj97ez8O72oE/v+M0Gg0GgwGbBrHIlxBQQHEazQa7HcqLS29ePHib7/9tmXLlkmTJj311FOtW7du0aJFenp6u3bt2rdv/9hjj40cOXLVqlX79u27cuUKLc/QdilYCeTsW8USrl271tPT08vLq1OnTv379+/Xr9+TTz7Zo0ePZ+x0fWw4O5N5xkYyNh/bSt9mBBe/sDc/tsLbem4r+/aGt5WOs573teFspW9v/u0Nb0uureecvi1knPvcXpz79++fnZ3dtm1b8O78+fOZBavY1VdLsH+IEOeobC3k6nS60tJSSZLOnz8/ceLEpKSkyMhI+agK/CR/gns9UlJSnnjiid27d6NghYWFtMml4qHAWxb+k08+EQQhNDR0zpw5KpXqluE5ACPACDAC1YWAwWAQRfGDDz6Ijo728vJauXJldeWE5VYFAaEiC2LkUlrukMT169cXL17cvn17YrugoKCMjIwnn3zypZdeevnllwcPHjx06NBhw4Y999xzd911V/369REyICCgdevWAwcOPHHihCRJZWVlWq3WgemgJEmbN29GmlOnToW1Vq/XazQa2jdfRc9/zklb/69idApmHf9WvymiledW8Vz13iob9NOWPApQRY+96dgK727PbRXfVj7tDW8rHVvPOX1byDj3ub04oxddtmyZh8c/yyiLFy9Wq9V89LkqnFQtYf4hQjJg4g4zGEhRkbm5uWPHjsWRrPDwcF9f37feemvBggXffvvtuXPniouLaZKH3BcWFh4/fvy7775btWrViy++2KZNG0EQMIMcOnQo3VzlgJUAplFBECZOnEjLltUCGQtlBBgBRqByBGC1mj9/vre3t6en5+rVqysPz2+rF4H/WyO0WCwmk0nOiGaz+dq1a08++aQgCPXq1RMEIS4ubsuWLTdu3JCPaxARV+pZlSQnJ+fbb7+99957KYWMjIzr16/T0qNV+Mp/rlmzJiwszN/ff/r06Uaj0WQyGQwGrVZra6TGzxmBqiBw0/uxRFGsSlwOwwjYQgC92dy5c3GkddGiRSUlJfIOtvLujt8qjICApUGz2Sy3WBYUFPzyyy+9evXy8PDw8fHp2LHjhx9+mJubS4tz4CHKq9ls1mq1oFJYJOhVSUnJgQMHUlNT/f39BUFIT0//+OOPHVCIJUuW+Pr6CoIwdepUXDHqQCKUK/YwAowAI+BqBObOnYsDOR999JEDZjBXZ4/TJwT+jwjlFxNfu3Zt9+7djRo1EgTBw8PjjTfeuHHjBn3LhsySoijqdDpcXgVOwskKJK0vd5IkYVFQr9evXr0aTObv7z927FjKQRU9n332WVBQkCAI06ZNQ2ZglaUrP6rosSWuitEpmK10bD2niFYeW+Fd/dwqG/TTllwKUEWPvenYCu/q57aKY0uuq8Pbkmvrub35sZWOrec1PX1b5bL3ub04iKJoMpnmzp2LCcCyZctMJhN1nvZK5/CuRuAf0yjONoBX9Hr9wYMHmzdvjkN7gwcPvn79ellZGeaCuD2W9nzCRgrrqMlkwnNUtiiKFAyTztzc3DFjxoSGhgqCEBER8eWXX2JJEgMlaEklg6a1a9fC2j5lyhQkWL33q9HV8qIoqtVqmlg7q8LUanVFNOSzdkzirQ4nAZPi4mJkAx4CSqvVIp9UNTfNrV6vp2uCEQC9APxkFSgqKsIT3KYIG5Fer4c4K8OAXq+3Wk62Em0ymZA3kgiPKIpkile4H0FB5MYSeW9olf/a+pNqTaPRQH9I811dZKpunU4nN//AT22B1MOu/KAJuO7OF1EULRbL0qVLvcrd0qVL6XC2XfnkwMog8A8RkiYVFBRcuHAhOjraz8+vfv36S5YsKS0tJRWkftlsNms0GqipxWKhXhUh8/LykHUKL0kS9cUrVqxo2bKlv79/cnLy0qVLEfLvv/++ZWndjQgxK6XWiK+u3LIU9gYAvLiyAL0wkZk8KXztDMtdlDFUECqFhinyWDf1y2sNo1p0fPKSUkStVisPj4qW85m86mEeoLi2PLgFG6t01AvLA2PkIX/iIj9sHlSzer0eUMiHBS4S7T7JiqJIgxvKFfUJ9MQVHlIk8kAJodjodiwWy001s+r5QXScEKOesOrRbYVkIrSFjHs+/7+bZXJzc5G/jIwMXN0ycuRIjP0xX7RYLDR6omagKXeSJOXn51+7dg1sR5MJspSq1Wp5j7ls2TJ8NLVx48Y4VoFPhGOCaAsmNyRCs9msVqvRLKnTtJV/e5+XlJQQkjeNi0t/qI9AGOoUzGZzWVkZRSSzjMlkKikpsYpFwW7KVfLA1FNgrimKorHc4YIhGu6YzWbKvMlkuimfyYWSH4WidIjay8rKKEEK7FIP0IPyAwH8pUmhS6W7VeIYlIiiSJYhBbJHnQx5JEmCDshHeEajUa/Xy1W06nkj2wbMKnJBVU/EVkgmQlvIuOfzf45P4ISfJEnjx4/HofW+ffsWFxcbDAboGcJQSKPRiFVDSZJWrlz5yCOPdOrU6fHHH//ss8+w1mhl5kI/qNPpcnJyMAEdNWoUbKTdu3dHrycf690UKXcjQpoHU24BF/10igdI4lPX2JpbXFxM3xWCCPmldzgMQ/0CujDiFfBc5YyCuPItxKgaHKrRaDRITZ6m1d4lnEy1Kr5Op7OKYhUAJbWaX5IVjp6jE7SK64qfwAH2XqRvsVhgr65TM0L5IIY0hzyuQF6eJmmFXHlKSkosFgtoDNXkgFbQGIu2R5CpX54Bh/1MhA5DVy0R/zGN5ufnS5K0b98+fLmmU6dOZ86ckRu1aL2KxlCSJG3atKlDhw6enp4BAQHYBTNy5Eij0YiveJPiVtRR7DjFB8EFQVi6dCl13JVA4G5EiKyaTCbcsFqVIlRSuoqvMKki4kEAGrRanVcBT8C8I0lSYWEhWjXqi6aJKpUK9XLLjgz1KDd1Hjt2bPPmzUiWFpVLS0t1Op28irF/CuZEnU6nVqtJesUyWj2Rs69Op4MVAQZJUidXjDasskE/1Wp1UVERCgvA66BpFDN+qxVfYEJAuc4D5cFaTEUpFosFmkztomKYyp+o1eqVK1eiA7x9K6tcFhOhHA339wsY8ZlMpocffhgH5z///HNJkmh10Gw2Y16ILkmj0eh0uhUrVjRp0sTPzy8sLAybS/39/XGwQV5mdG24/wWdIy1x7d+/H18JaNKkCY5eyCNW9LshERIb0RSBJi4V82/vE2rbOTk5+/fv37Rp0/r16zdu3Lh3795r164hNfmulitXrmzZsmX//v1kvbSSqNfraRZbUlJi9Vb+k0TTbECr1Y4aNSoiImLVqlWSJBUVFREz0RV9qOubDgiqCAsMrcgJzQVhNsfUlrpFeW5d56fu/tSpU1988cW+fftQWKpu14l2n5RJGVCz4EXFskc1DlX8888/P/300507d166dAl5kM8L7c1VQUHBlClT6tWr9/7774NQ5QN9e1OzCs9EaAWIm//8vwP1W7ZsCSp3w4cPv3DhAmVap9NR1wZd3L17d8+ePcFhfn5++NhNRESEh4fH2LFjdeVO3kvCboYEaTcjztRPnDhREAQ/P7958+ZJkkRvSbrc425ESLPk4uLi/fv3nzt3TpKkyglGXpyq+M+fPz9t2rS2bdv6l7uwchcdHT1v3jx0EKAHnU535cqVe+65JyQkpHHjxmPHjsWQBf04pmvUnZ0/f37fvn3nz5+3lQGMe/AWUq5cuTJlypTg4GBBEGbMmAFTksViKSgoOHLkyPHjx6niIAUmxKKiomPHjh0+fBjDbZPJVPmHSUGWcukQcfr06T179iA/6K30en0VmdVWGavyXBRFLJyfPXu2bdu29erVi4mJmTx5cl1bI8Ra6f9j77vjoyq692dbdjeVEEgj9ColCR0URBRE1NBULKh0GyhIU0SRIsgrRdQEJEgA6QhI7xKqCRBqgIROqOllS7bevb+Ped73/O53U0EgCZn7x37u3jt3yjMz55lz5sxMenr6oUOHLl26RBp/STD8N2HQliBJ8JuVlTVu3Dg3N7eaNWsOHjw4IyMD/uoP3Bju3bv38ccf48SuBQsWYJuOf5Nn6becCKVolP37f4hQp9P17dsXdlGcmwWrFCiQ7BI2m+3s2bNYX4jAo0ePXrZsWaNGjRhjSqVy2rRpVGCSiVBQyKLlcDggNy0WS3p6eps2bRhjzZs3v337ttR/leKhm7JGhOh+165de/PNNxljH330kdQ5hbL9wDeCIERERFStWpUxFhgY+MEHH4wcOTIsLCwkJGTlypVwfgHVCYIQExMD/yOZTNavXz8kClZGJYJC7t27FxYWplarhw4dWkTG8InFYkH82O6cMTZt2jSsCoW6NmfOHJe8a9KkSWSJJaVz1KhRlStXhp0AZIw8FJYuaZ9kDU5OTt65c6e3t3fdunUPHjzocDiAMCVRWFQP6zkyfPjwYQzXGGP9+vWraERos9l0Ot2oUaO0Wu3bb7+NIZTTSPdhAS6NBwIEv6jxhISEWrVqwZWvXr16NF5/4Mw4HI4bN2689NJLOCRg37591AilOXmwe06ED4ZbaX313znCwMBAxth7772Hho6t02mmB5nLyso6duwYdr5u27bt7NmzU1JSEhIS6tSpQ9thF+356VRIi8UyZMgQFxcXDw+P7du3I7kCx3cOh+N+ibBAcUnHIuItWREhqaEAkW4KOwkEH7gB/YSmxLLyrmbNmikUihEjRpAZBzdkQCu2d6HIZAzE3+Tk5C5dujDGatasuXTpUp1OZ7fbMzMzz507l5KSIl0+mJKSkpGR0bt3b4xOFi1aBAlOihoitFqtt2/fbty4sUKh+PTTT6kuUEwagFNmYAK9fv1669atGWMhISHnzp3DBDBcSI4dO4ZmExQUFBcXR8mZTKYTJ074+fm5uLg0aNAAG8wiFUKYUne6AQuSXjhjxgzGWP369c+fP0/LcqheaB0qnImktgesIaH6BSAkMfEcRSZHWfpLTIz4b9682b17d4VC4ePjs2DBAholEK+jfoEbCki7SWRlZVEw7L7klEmn4j/AX9jnpbVGkdAKSOkQDVYEhKeQ+ItXWDODVzqdzmw263S6N954Q6lU9u7dm0ZXgMtpiIPCGgwGgjo3Nxdow0qBORdgSD2UDjFFbFRr+IvAoiimpKSMGTNGrVZ7eXmNHj06LS0NeaDwyDPtbU3I5x8/kV5rs9k2btwYFBTEGHvjjTfgGI+5dmQPqTvBRbgVccOJsAhwyuArlpmZuX79eo1Go1ar582bh+onXwkpsRmNxmvXrg0ePHjmzJmJiYloHLt373Z3d8fqe8wRFiv3gQK6yv79+318fDQazdChQ/F/gkHnAAAgAElEQVSkwDb3AESIFozMoEtQxuiGBCiyBFFeoPMYkR8EGc102u32pk2bMsbGjBnjVLs439HpYYF/SQTDOSU3N9dqtSYmJvr5+SmVyq+//pom86X7+Oh0OvKOEUUxKSlp/fr1u3fvplM+kBYKS/25Xbt2jLEJEyagZilpEjfkRAenm4EDBzLG/P39YZ+k8MBh48aN2AA2NDQUh1aazeZbt2517txZqVTWq1dv1apVZC52ElhOUEgzQL6aP/30E2OsevXqsDzTOAaNBA2GqiYrKwsOtNnZ2SSIkQpUW71eTxQLpqTiOEWFiUlqiomJiWvXrj137hxWdsMiJ4WXQJPuG0Csj6V4VF6j0Ugx08N/f4NGDgQg6EFsmKGnzlUYETpN0BKqgOKNN95gjPXu3RuFotU4VBGECQJYLBb0JqJGQES1nJmZSSMbVAr6i06ns1qtUh8rZBjxmM3mP//8c/369Tdu3JAeJI7M22w2+KUTmETbCAxfBOTBZrNRnHPmzFGpVB4eHqNHj0bbw4AP/fHBKosTIdVCubhhgiB8+eWX2FP78OHDNGKl6kfLwLYIaDr4RfH2799ftWpV2OXuiwjRHHU63VNPPaXVatu0aYNoKV0pfA9AhPjcaDTScDg3NzctLW3Pnj07d+6Mj4+nfgjVx2npW2pq6r59+/788889e/acP38+KSkJcpy459atW2azOT4+vl27dl5eXp999llKSkp2dnZmZua9e/cuXrwIBiIVQVqc/Pe0dJ1eHTt2TKlUenh4LF++nPakgOAmasFsXFJSUnp6usVi0ev1tB4U8YA4zWZzenq6yWRKSEjASaEfffRRdnZ2enp6ZmamTqe7e/cu8qnX6yHRUDuHDx/GITKff/45IszOzsYgCQMmh8PRv39/2APCw8MR5pdffsGT/v37QwAhNtIAqIxON1arFVL7zp07JpMpOzt7wYIFINQ9e/bY7faMjIyUlJTk5GTIOxLWd+/eTUlJwaoSGNj37t27evVqlAUT0rSkBzWYlJR09OjRv//+e/v27SkpKRhqkLAGzngOiYb44RBETlKwYYiiePnyZb1eT4tlz5w589dff+3YsePWrVskdoHww52IwqDHarXeu3fvzp07VCnUi4Gww+FIS0vDCK8wIqSQtI2wIAipqam5ublXrlwZOHCgl5dXr169Tp06ZTAYUlJSgDmwpYKn510gXZ1O53A4Nm7cuH///osXL9IIW9oM9Hr96dOnY2NjDx06dOHCBbRhyrzJZEL8OTk5ycnJuryLeqsoimi3oDQ0BpvNlpWVpc+7MGe/e/funTt33rhxg3oNVR9MC6IopqamYoBYo0aNM2fOYJAEQKSezE7Ntei/nAiLxqesvf3HNIojJtq3b3/z5k3acQ0ZJVpCf5Y+xNhz79693t7eMNzfFxHic4PB8PbbbysUiqeeeurGjRtSi58UqQcgQjpPGPFs3rz5ww8/bNSokZ+fX/369WvUqNGnT5/Zs2djaEnr4nU63fHjx4cPH96pUydfX98GDRpUq1YtMDCwQYMGM2bMgHxMTk6eOXNm/fr1W7Vq1aJFC09PT8aYm5tbu3btWrVq9fTTTzdq1Khly5Zbt26ljQKkZXG6B8LYGsZqtRLOZ86cCQoK8vPz+/3330ngghHtdjuk+eXLl997771atWoF511hYWHt2rWbM2cOdqKBjcjhcEyaNKlBgwbBwcEhISFeXl4KhSIwMLBt27bt27dv3LgxCrJhwwYkDb7HkP+DDz5gjD311FPnz5+HWiNdfQWX+iNHjjRs2FCtVtevX//mzZsJCQmtW7dWqVQdOnTYuXMnEWF+lcsJB4wbBEE4ePDgc88917Rp09atW9eoUUMul7u7u9evXz80NLRVq1ahoaHNmjXr168fxjeCINy+fbtjx44hISGnTp26ePHiq6++WrVqVT8/P39//+eff37u3LkQkRB/MGl07969du3avr6+Pj4+1apVe+GFFwYPHrxp0yay7gqCcP78+W7dutWuXbtp06YNGzbs0qVLu3btVqxYQaoPEYZer//ss8+aNm0aGRm5b98+jAzq1KlTv3791q1bR0REgIHgd0bWCKfiP/Bfi8USHx/ftWvXNm3a9O/fH5VuyLsg0Hfs2PHss88GBwfPmDGjsD3SpEs/Qdg2m23p0qVNmjRp1qxZu3btYDysUqVKy5Yt27Zt26JFi1atWjVq1Gj27Nm0CtlqtQ4bNuypp56aN29ecnLygAEDGjZsGBgYWKVKlY4dO86YMQOuntiQ7/Dhw8OHDw8NDQ0ODq5Zs6a3t7evr2+bNm0GDx58/PhxoIHqsNvtn3zySXBwcPv27evVq9exY8cmTZpMmTKFfNEJuuTk5IkTJzZq1GjixIkxMTHDhw+vW7dujRo1qlSpEhYW9uWXX96+fRvdjUYn8OESRTE8PNzX11er1U6fPp30XanSSamU8IYTYQmBKiPB2JUrVxo2bOjm5jZw4EC0EhqykX0ADQI0oNPppDauvXv3ggnoXIgSdnWKfN68eZjc2rNnT2Et7wGIkOZ+dDrd4sWL4dGDCf+BAwfCCcXFxaVfv34oDsTl0aNHmzdvDoWmTZs2ffv27dOnT4MGDTQazZAhQzCETE1N/eqrrzw8PIKCgqpXr47AMpmsQYMGgYGB1atX9/LyqlOnDlahwChXRGVjahA8cfny5fnz5//8889Lly6dMmWKl5eXWq3++OOPt27dumjRooULF0ZGRmIBA3bTOHv27HPPPVelSpVatWpVrVoVB758++23gJH6/NixY318fAICAmrVqoUVn97e3tWqVatevbq3t3elSpXq1au3cuVK4mDk9sKFC1WqVJHL5YMGDYLpCQHMZjNkpSAIyMaCBQtkMpmbm1v37t3fffddnLqF4qMtkbZNTSs/INRs/vrrr+DgYFAULA0qlcrX1zcgICAwMLBq1apVqlTp0qULxi7p6ek3btwIDQ1VKBS9evXy9PRUKpU1a9bs2bMnpq79/f3Xrl1LVoHdu3ejuVarVq1bt259+vRp1qwZarBmzZrbtm1Dxmw22/Xr1zt06FC5cuUGDRr4+/sjzLx588Au2AEHeU5JScE0anBwcEBAgEKhaNOmTadOnYBDlSpVcBYdug/iLwKH/MgU+yQnJwfObowxdCL6xGQyjR07Fv1r9erVULZoNpqC0aGkqFOYzX/99degoCAfH5969eoBNI1GU6dOndq1a/v7+wcFBXl5eX3zzTfEJTk5OTh/NDg4+PXXX1er1e7u7s8//zyOI2WMDR8+HE3IZDJh7w53d/dGjRp16NChR48e8JtjjL366qtQyxDYYDD07NmzcuXK9evX9/HxUSgUjLF3332XCDs1NTUnJwcDncmTJzPGqlat2rJlS7iDPv3008i8i4vL5MmTyaJD1YFhyr1799q3b88Y69SpE+wNNMNKGirBVZIbToQlQanshGHR0dFeXl7u7u7jx49HtmiCkLgKz+kvWfPtdntsbGxgYCAMaPelEZKP6ObNm7EY8Y8//niIRGixWDBmFATh1VdfZYzVqVNn1qxZ6F1Hjhzp1KkTso15NYPBIAgCvDPc3NxmzJiRmpqK9dTXr1//66+/4uLiaEF6enp6dHT0hQsXdu7c+dRTT7m6un7wwQdnzpw5evRobGzs0aNHDx8+DFMMumvRgo8mrpYtW4ZOS0o2Y0yj0QAfrVYrl8sDAgLQUWHjOnbsWHzeFR4ejmWgkZGRcKuhoXpKSsrx48fPnz9/4MCBp556CnLk3Llzp06dOn36dEJCwtmzZzH6Bh9DWKxYsUImk7m7u0dGRqIB4C2UV6w+hjQxGAwQIthOXep3QAarkijHoFuTyRQXF4fsQVz6+/svW7bs0qVLsXnXqVOn4uPjiThPnz5dv359EJW7u3u3bt0OHDhw9uzZ8ePH16pVizH21ltvYb7TYDDExcUNGDBg/Pjx+/btS09PT0tLi4uLGzZsmFarZYxNnDgRKi9pLX///ffp06dXrlzJGHN3d//xxx/RbkmMQjt/8cUXMcJgjD333HMnTpzIycn58ssvIbWHDBmCqS/apIIy/1AEgU6nCw8Pl8vlbm5uP/zwg8FgyM7OhtPvjRs32rVr5+Li8tprr2HoUIRpFHUKswS2VMTymAMHDrz22mtqtbpr1667d+8+f/78kSNH4uLiYmJiaB2Ow+HIzs5+4403sMMGutvcuXMNBsP27dtd866wsLC0tDRYfZYvXx4WFvbjjz9euXLlzp07165dW716NbhQq9Vu2LABCMPX5tKlS6dOnYqLi9u5c2fz5s01Gs0HH3zgdCo4uthXX30FzBljbdq0Wb169a1bt9avX1+jRg08SU5OhmpOO/+hiYqiOGDAALlc7uvre+zYMdhg0OCp1u6rsjgR3hdcpR6YHTlyxNPTU6FQfPfdd2gcGB5Cn5DqFmgc0p1E7HZ7dHS0j4/PgxEhluLt3r0bs4zLli0jT0snXB5MI8TmhPD+d3d3j4iIEASBJgY2bdqEYePYsWOpsJ988olWq61duzaNrOFAK50WxVAR8dhsttDQUMbYF198AV0BROvUkZyKk/8vOueff/759NNPN2vW7Omnn27evLlWq3Vzc2vYsGHz5s0bNmzYvXv3Fi1a9OrVC47jYG7IC0EQTpw4ATL49ddfSc7CVc9ut9OGeU8//TRj7KuvvkIOaXBDfR6lsNlsX3zxhaura/Xq1Wk/WGm2CTGUd+vWrZ6enm5ubiqVKigo6MCBA7TNN3FG0cqx1MwAHhJFMSIiAq46586dg4pPsen1egwyTp061a5dO5VKpdFoBgwYQEutk5OTn332Wbh4kM0TE0s0XQTpmZCQ8Nxzz6lUqh49epCrFMlHURSxgsLLywunyiFdoIFBYa9evXBG2DfffEMxXL9+vVu3bu7u7i+//HJGRgYa0kNfBImKS01NRc3Cjk0+blu3bsUC0AkTJiBkYURIll50eXIHczgcOTk5/fr1k8vlr7/+OqpJr9dTOwcOdrs9PT29R48ecrlcJpO99NJLR48exSu9Xj9hwgQ4PcXGxlJFZ2RkYH6EYtixY0e9evXQPqlBkmHDYrHcvn07NDQUZhK9Xo92Duca8Pe4ceM0Go2np2efPn3g8QB9btiwYXK5vEaNGufOncPEOWn21FkiIyOrVq2q0WiWL18uJT9qcshnCX85EZYQqDISjMXExKAPw9kBtS7dP0LqToZMow9AcTxy5Iivry9E8H1phJRQbGws9J65c+ei9eSH5gGIkLwS3n//fcYYbWpKMkIUxbCwsMqVK4eEhGDr1Nzc3G+//ZYxplKpXnrppUOHDlEfQLeE3KSek5ubazabYUr98MMPiSypD0vhyl8oPAE9wIMcXi3I4enTp319fRUKxapVq2jiNjU1lbzdKG+QLAcPHtRoNAqFYtasWTTDjzCUn9TU1ODgYKVS+emnn9LnYHT8pbWD6enp/fr1c3FxCQkJgYIIYoDbJJk6aW2J2Wzu2bMnmsGgQYNABhBhSJ3aTGE44LkTT8ycOZMx1rBhw8uXL5N5U7qvjcViuXnzZsOGDRljH374IXxeyDm+X79+jLH27dvD5yIrKwtZknp+4cnLL7/s5eXVokULUCZRnclk0ul0e/furVmzJmMsPDycCJLyY7VaQUK9e/fGw7S0NASDobh169ZSkwDZIYuG4r7eOhyOzz//XKVSubi4rFy5Ek3UaDT26NFDoVA0btz45s2bGPQUQYTEbdTCMSFqNpv79eunVqvDwsJSU1OBGEaZqFwa4nTt2pUx1rJly8TERHAJ2tWsWbO0Wq2fnx9257HZbGghOGmEZjHu3buHA+DgnEVjVmxkKIritWvX2rZtyxgbOHAgdTfKT1pa2vfff88Yq1ev3qVLl0RRTE9PR41Ap69bt+6WLVucgEWpTSZTTEwM5hemTZtGw32pgdTpw6L/ciIsGp+y9pbFxsZqtVqZTBYeHk5CuYhcot3Q7Pq+ffsw38YYmz59Oo2znFTJAiNENzt8+LCXl5eLi8svv/xCK4qcwj8AESKG69evDxo0iDFWu3btCRMmfJV3TZo0aerUqWPGjIEy16hRIzjWi6K4f/9++I9hpueTTz4JDw/ftWsXlvHRbAHtCZeSktKyZUu5XD5u3DjKM42m8YSkKtkqydsFszWgE6ffs2fP+vv7a7VaWIyJtxAb0TxklsPhOHToEPYxnzNnDnnzk2iDwEpNTYXX6MiRI6UDAso5beRvtVrhMf/CCy+kpqYiHpLmJB1gSLTZbH/88UelSpVgGKhWrdrChQvJ9I2WgJAksyhFukFBSLrh788//6xUKoOCgs6fP0+aBDIDQKxW6+XLl5s0aSKTycaMGSM9D8RoNO7bty8iImLbtm34FhN79+7d27Bhw8yZMwcNGvTZZ5+9//77w4cPx4LIrl27kgSkjImiGBMTA9spyoVuQgSfk5Pz4osvMsYGDx5M+8whk0OGDGGMdezYMScnh8qOnNMvxP2/Ob0EOTl8+LBSqfT09OzXrx9GSzdv3sTU+NChQ5FnyoO0dEXf49CJt956y9XVtVevXkT/1JjxOQaFmIN49dVX0UEwb2cyma5du/bTTz+tWrUKC/XgsH3lypUFCxZ8++23w4cPHzly5KBBg958801Mx44aNUq6goWa8dWrV1u2bKlQKIYPH07bn0rbw7hx4+Ryefv27TG0pT61ePFimUxWvXr1AwcOoEFS+3c4HGge+/btq1mzpkKhgAcQBvpUTUWjlP8tJ8L8mJTlJ2znzp1ubm4ymeyXX36BpKMxb4H5RrP790Rot9shAjZt2oR92uCSV2BffQAixGkJBoPh5ZdfZoxhCgczcDjgF64lrq6uXbt2paUUer3+2LFjkydPbtKkCVRDxlhAQMCQIUO2bNmCSRRQEfKZlpYG++qHH34oXYkM6KBgAc/8ijW6IvVVpxtohBqNZs2aNdBgEABUQQsqqI527dqFMs6ZMwfGIrxCh0R/zs7OBhGOHj2aWM1kMmHVBEWFmx49ejDGWrVqRbY+REKevUTG+/fvr1mzplKprFu3LvTjGjVq7N+/H6unc3NzEQORnFNC+Atpjl8Mp0RR/OWXX+RyeVBQEHaBl4ZEZmw225UrV6REiDCoHcg4pAtmPXPmzHvvvQdWw7Sfh4dH7dq1PTw84B+bk5ND7d9isWBMs3//fg8PD7VajRM0AR1l1Wg0vvDCCzKZDEQIhQ/ZK4IIYZqmtKg6CgSniIe08VNmZuY777yD/Qcg7n/88UeVSuXu7r5u3To0HuSqiNgKfGUymd58802FQoFJPiogKYL4ymazoc10794dA0dKDkYFnNWFwL/88gs6JqwICoUiKCgItVCpUqUPP/yQ2oA0S1iiyhh75513MjMzCT0ygYAI27VrVxIixMIwYtm4uLiaNWvKZLKJEyci52S5ReOR5qTYe06ExUJUpgKwgwcPBgUFyWSyKVOmoDdKNZj8eX1YREj2kEWLFmk0GsbYli1bnCxjlPoDECG0olu3bvXs2VOlUgUHB//666/h4eEzZ86Mior67bffFixYMG/evAULFqxevdpoNErP/8Pc54gRI9q0aUP6bocOHc6ePUtTKRCymZmZTz/9tEajGTZsGHKLTciwtwgJAgxCIZGJEdG7nPiP/p46dQpTp6tXr4ZRCwKI1sNR5wcB0xzhzJkzIWThIUIYYq+s4OBgxti4cePyS14iNsiXN998Uy6Xt2zZUjrBBlRBM5CDgiDAAOjq6jp//vxFixaBjyHLnFJx+kt5owzjCYGMJYlVqlQ5ffo01HEaJ+FGEISrV682bdpUJpNhNTS0EKeBAta522w2UAW0tLVr127ZsmXnzp1r1qxp1aqVWq0OCQlBBpzWvO/YsQPW+/DwcDqYjA6WMpvNzz33nEwmGzJkCMQfGT+HDh1amEaIxkBqLpaQF931pHBJ72kE9scff4BXYBXAZkPBwcG0nFH6VQnvsbMMGsMbb7yB6VUiD+iFgCI3N7dnz55yubxr166Y/8ufBNpMUlIS/Evd3d2HDh26du3aHTt2REdHL1y4EN1txIgRUN9pYhi7TCQlJcFB95NPPkHkxFi4GTt2rFwuJyIki0uBGqGUa3Nzc48fP16tWjU4l6IiaB2FtLz5C1XgE06EBcJSZh+ylJQUuPwNGDAgNzeXBkGF5fghEiGE/vTp0xljPj4+hw4dIm3DKfUHIEIIyrS0tOHDh0OzIa9odACYAWmWAilaLJaMjAwwgSAIcXFxS5Yswe4qjLENGzZAZIPDzGZzTk5O+/btlUrlwIEDpcZAKQViCTDiTE1NPX369IkTJ65fvw75RczndENEuGbNGnJpQaGQOj1EzuHQ4erq+vPPP2PtOR1kig1ZcLA7VguMHTsWBUlLSyPNhqQwJgJHjRqlVqubNGly5swZJ3VNEIScnBy0hAULFnh6emo0mpdeeslkMqWkpHTs2NHNzc3V1XXhwoWkNIACaQjvVL/4S+KG1lP+/PPPrq6uAQEBR44cgUyEzEUO8dX169exuQ8RIcWG9ZTUpBMSErAerm/fvlisRmXv1q2bt7c3bJhgXAw40tPT7XY7TKNubm7YHR7x00oDi8XSuXNnuVwOIpROChRBhNjJb+vWrStWrEhISECcD/AL0NCWYDlkjA0YMODgwYMhISEajWb06NG0TJYQLnlC6CBDhw6VyWR9+vTBbKvRaKQGQFEZjcaXX35ZqVQ+//zzaWlpaKuEcFZWFu4tFktERAR27f/xxx/v3LlDDS8tLQ223LFjxxK8aEKI7e7duxBWQ4cOxR7u5PeEopWcCCljGNtZLJYNGzZ4eXl5enouXboUNOa08xSVtCQ3nAhLglLZCfPPgnrMBrVt2zY9PR2bRKDZFZhLNLh/bxrFyN1isdAC5OvXr5P53inpByBCEsHfffcdY8zX1xcbbMJ5LyMjAwVBfzCbzdRLkbS0n2zfvr1atWqMsYiICIhyIiS9Xt+xY0fGWI8ePZAiBARJfKk90GQyvf/++97e3u7u7l27doX4c+I/+kumUSzIk9YICQ54V2JD85MnT0IbmDVrlhN6RBsGgwEe6j169EAOQdiIXKfT0R5mVqv1559/hvFw4cKFmOGjeSxaOnbixAnYkF1dXWGOE0Vx9erVAQEBMpnMz88PJ0ZBpyxCHUSGqVwEwm+//SaXy+HI5yTEqYJu3LhBREgokXYrhWLr1q21a9f29vYePXo07NLw+vnzzz+x/q99+/ZOk8GIMCYmRqlUKhSKRYsWIV3UNZRys9ncpUsXqUZIW8QVQYRZWVnDhw+vXLmyWq3u3bv37du3pfuKSbNd9L100s5ut8NbpHbt2p06dVKr1b6+vkePHiUNlRTQouOUvtXpdOnp6QMGDGCMNWnSJC4uTvoWHpiYEczIyHj55ZcVCkXnzp2lO/XQskXUoNVq/frrr11dXb28vHbt2gX7uSiKycnJEyZMcHd3V6vVsK+gcWKuDhVx8+ZNGGAGDhwIcyuqg1h57NixMpmsbdu2NOpFW8qvEUpbPvoCHOWAmHRQW2y7lQJC95wICYpycfPPCfXjx4/HTFhMTAxqnQRK/jI8RCKEW1doaKiLi0vr1q3RpQtM+gGIEDm32WxHjhzBMDMoKGjx4sVXr17V6/U5OTk6ne7ChQs7duwgrhIEASvVrl27dv78+cuXL1+6dCkhIWHUqFGMMYVCsWzZMgoMhVKn073++uuMMT8/v19//fXEiRN37ty5dOnSsWPHIHQQHr3uxIkTgYGB2JeVMRYVFQVTMMl96Y0TEVJFmM1mrBKDSnHy5MmkpKQ7d+5s27bN398fGsD169cTEhJiY2MBJhwFgTZWXms0mmXLll24cOHWrVtXr16Njo4mEoK6abfb9+zZg7lbDCDwHIVCccxmM5ChrVYpkkGDBmG+Z+rUqaSYkgsPlcXpRrqTKvTd3bt3Yw3lwIEDo6Ojr+Rdp06dunDhAlXE9evXQcajRo0CgNj1FJFjWhdrOU6fPl2lShUsmo6Njc3MzIyPj1+/fj2aB9wdQZBYcHLx4sXLly8nJiYuXrzYzc1Nq9XOmDHj9u3bN27ciI+PR/x2uz0tLQ2ujPflLKPT6WDlw1T0pk2bnNAo+V9aEgeTfuXKlXGcAmOsQ4cOoIoCu1UJk7DZbNOnT8cC+UmTJp06derGjRto5HDORHsQBAGOaZ07d6Z5ZenwBd68Nptt8eLFWO0+bNiw+Pj4lJSUxMTEmTNnos2gOen1eow2cnNzT548mZCQcPv27bi4uObNm1evXn3IkCFxcXG3b98+evQo0kJCY8aMkRIh2MjhcOQnQrRGsoHn5uaGhYXBx/ju3bs0cQPbLwpYQrgQjBPhfcFV6oGZxWLZvn07Trz77rvvYE0qIlsPiwiRxLp162BYGzduHGaGCuyxD0yE4PWZM2fWrl0bK20bNGjQuXPnZ555plmzZu7u7lWqVNm6dSt2prh69Som8AMDA1u3bv3yyy937twZfvOenp5Dhw5FD5H6y9lstt9++61x48bYZa1FixahoaEBAQHVq1ePiIjIzs4Gc4BF4uLiateurdFowIVwQZSSn/ReahrNryjjlN1Zs2b5+fkFBAR4eHhA/GFbjfr161eqVKlu3bp0kh8NnNeuXfvMM8/g2KzGjRs3bNgwICDA09NzyZIloDFkFRswYkatbdu2J0+eRMcm1wyLxTJv3jxsrNOqVat79+4JgkAMfezYMSxmV6vVv//+O+lnFHmBDQxVjzAgxbt377711lvQdGvVqhUaGlq/fn1fX99WrVrB0VcQBCkR5o+WBgGI9v333wdQNWrU6Nmzp4+Pj1wu9/f3x6pNGEUQyY8//li1atVKlSrVqVOnbt26yAM2N/D29m7YsOHmzZthl7NYLHASGTRoEOwN5NA4ePDgwuYIMzIyxo4di7rDrkzEZ/lLUewTDNJFRbkAACAASURBVAv0en1ycjLWC+GUBqyJwmooKScVG6E0gF6v37FjB44rggN2cHCwr6+vn5/fiBEjsJ7ParXeuXMH1pEuXbpAXXOa+iWn6/j4+Pbt22u1Wg8PD2xfhy2EmjRpgv2AsCk8FmAcOHAgJCTEN+9CLeBUrBo1agQFBfn6+s6dO5fma4kI7969K3UxK5AIYfVFw1i2bFlgYKBGo5k+fTpZ5gECTepLMSn2nhNhsRCVqQD/mEbT09P9/f1lMtkrr7yi0+lo+U6BGX24RAhRq1AoYmJipI4YTkk/ABFK7YEWi+XgwYNt2rTBkJMGnnCxwzlB2MAafh/U33BTt27dmTNnXrt2TarT0ByGKIqrVq2CCCBHUzc3N+wRCgaihXc4CJQx9uKLL1K6Uv6j+xMnTvj4+Li4uMBZhsakoHb8nTVrFh2VJ5fLvb29QfZYxqDVavfs2QMRKTXvREVFwUCKwC4uLmq1euXKlUS3RFdRUVGQUCNGjCDFDtR+/vx5LD7x8PDYuXMnJBGYDCP0mTNnwvGhUaNGOGyShhFOlYu/NAACH1OGbTbbxx9/DD9PDCBkMtkzzzyDIybsdvu1a9cwEIHPPUoBlxYn0Z+bm5uTkxMWFiaXy+EzrFarGzRocPLkySlTpsjl8u7du8M+bzabsYRRqVTSNm9gUPytWrUqbbmQlpYGPAcOHAgbO4jH4XBAQypw+QQODKG9VLB5G9VygRAV+BDVgVeoa3KZqVGjBtyhQcykrxcYT2EPKf4zZ87A+wadAp0I2+/h29zcXEyyvPTSSzqdjs6UAP+hLtAdRFE8fvw4DNpohEqlsl+/fomJib169fLx8Rk4cCDUQYfDgQWycFZSqVRyuVydd6GR06otxDxmzBjGWNu2bYslQpoFAGNBHfTz84NbFoyler1eOoNQGEQFPudEWCAsZfbhP0RoNBq/+OILiNSDBw9iwxeShsg62jF6Gl7hSXR0dIMGDdA3wsPD0ZPxCvdocPiQiMThcJhMpkuXLrVo0QJeXnTSUGFI3e95hIiHxKvRaDx79uymTZsiIyPnz58/b968RYsWbdy48cSJEykpKehFOp0uPj5+y5YtUVFRERER8+bNi4yMXL16dUxMDNY/ERQ0Z4YnBoPh+PHjq1evXrBgQWRkZFRU1LZt265evUrdnmakEhMTFy1aNG/evOPHj0vf5i/1vXv3tm3btmbNGjqAlPb4R+Dc3NwLFy5s3rx5+fLlq1evXrNmze+//75y5cr169evWrXq999/37NnD22zQru4YUomMTFx/vz5y/KuqKiorVu33rhxA1ih1uATce/ePSyRbtKkSXx8PHxkkHpaWtqmTZuWLVu2a9eupKQkzEKRqBUE4datW3/++eeCBQt27doFzQkb1EEo5//FQAQtB0nQWUJJSUl79uxZvHjx/Pnzly5dunHjxt27d9PcWFpa2o4dO5YtW0abNecHk57k5uYmJCRs3Ljx17xryZIlJ0+eNJvNV65cWbVq1f79+0nuHz9+fOvWrcB2w4YNa9euXb58+bJly9asWbN69eodO3bQ7mLJyckxMTFRUVFnzpwh6x+WwZ07d27JkiV79+6FWKc+hb9Go3Hw4MFwmd64cSMlTbktyQ1tiEjOvVOmTHFxcdFqtSNGjKB0IdAxqUknDTnd2Gw2DIIxf0/5wVdWq/XixYvr1q1buHDh8uXLFy9evHnz5rNnz+ITh8Nx9+7dM2fOrFy5MiYmhjIDTyUoZ+AGFMpgMBw7dmz58uVLliyZM2fO2rVrk5OTc3JyDh06tHnzZqpKQRBu3rz5119/rVixYtmyZWvXrl3zv2vlypXLly/fvHkzjq2Al+mZM2dWrVq1detWyBMURBCES5cu/fHHHxs3brx16xY6Ix07ioFspUqVXF1dBw0aRCNRp5uS1IU0DCdCKRpl/56Bog4cOFC9enWlUtmhQwd0HrhWojPQgWqpqaljxoz54IMPPvnkk/fee+/DDz/s1auXq6srVll17NhxwIABH3744dC8a+HChU47dMNwRKZFjB+1Wu0vv/wCpEhS5AfuwYiQ3BZgZqGpC8RPNClNTvoJrYSDDyGZ+BAeXiq4J48AJCQtiNlsxgYlCEl7j1GHlKYuvdfr9U4Zhlom3XYAO39SHuhzOhyVqIW0DdqJFIFNeRfuAQiZBARB2Lp1K5YGtmrVCiodNQ8Ek+aQnH6p+Fh6XzTlI2nKJ/z1nT4hdw8ElpYFCgcZABAg/y88omGsMxqNtG0sqZ5UaqJzqXs9uZ7CpZ52HqCE6HN6QjdkJ9Tr9eRFkpmZOW/ePGxI3atXL4w86JOS3xBdQRVev349ZkwbNGgAOqECYhu/YmOWQo0xMVUrmh/wQbOhikbqOIYQUKPqpWACT9puAh7aqL78PVG6kgoTAVTpVASpMZne0mlc6IkUs9FopMzQQlu73X758mXo5d26dbt586YT/9FfSrSEN5wISwhUGQnGIIAsFsvIkSMxg718+XL4DZNsos4WFxeH/dhg0CBLoIuLC1kq6NXw4cNpVoA6DHlyHz58GHuzNW3aFMKUtMYCoXkwIkRnoIKA2KS7D2MCwGQyYf0fmi98YuEjTpmhHkUmRCod7VaMwEAP4Z1oFd0V+pk0Qkol/w0yA9JFQUgoQ6xD54YxkHDGnuPSzu+0tK7AyWB8DqojKsL6FsZYZGRkdna201vKsHQ5hyAIycnJVMCcnBwclKjX6yFA8//CmJadnQ2I0OTMZjPOlkNuESFGEjjwXdpmpBmgXJXwhgprtVqhzUD4QnTCgAGlShohvHZJBFMGYDanONEIyRyi1+vDw8O7d++OTdJbtGixefNmKLhFW4+lSdM9cqjT6QwGw99//w23HT8/PywnpaShocLd11jQlZ6eDgpJS0tLT0+nZQlIiDZmc2rP6AtkICEo8BU1AOoyNG9H+SfbIw6aRgck8qZ4kC5aPvoCnmA7CJ1Ohw00KFqM3WF4IJ9wvKXVgZgVwmyIXC5ftGgR8knkJ72hmEt4w4mwhECVkWD/eI2ix548eTIoKMjV1bVly5a7du1CB8OwDu3b4XCcOHGiZs2aKpWqUqVKlStX9vLy8vPzc3d312g08If2ybtcXFy8vLxGjBiB8S9kChQgtPurV6927twZny9YsABDRSld5UfngYmQiIRILn/kRTzBqUNSoQbakw6cQUgISZyKOKWCg9aJQzxJ48yfAXyITkvI4BMpj0KySAWQVPpI5SC+koaUarGUASnZoLKuX7/+xhtvuORdCxcuRAAwEBaH0cFMFAndmM1mo9EYGRn53HPPhYWFPf/88y8Wfj377LMvv/xydHQ07a3qVBaK1ukGSySdpKdTGJJxeI6GLVUTnTaSdkqa6tFkMkHmUgAaNWIshfipW5GXPy17v3TpUkhICGOsUqVKQ4YMgb8ojWDyZ7vYJytXrmzTpk3rvIsx5unp2bdvXxp5gIBR17t27epSyNWnT5+uXbu+/vrrYWFhr7zyyosvvhgVFUXWeOkoCjt/5h9IARA0BmqxgJ1OLKGyoFeiFUnbpDQABhZgWfQdhAc/UUi6AeaoWbKIYLSK9fgY9SI5i8Wi0+lwJrlWq12wYAGmP6TkJ72nVEp4w4mwhECVkWD/eI1SVuhs8U6dOqFZGAwGyBeHw5Gbd129enX//v1HjhyJiYnZt2/f0bxr3759Bw8ePHLkyOH/XUePHoU5XmqLx4DXZrPRseaDBg1CV8EwvAj70v0SYX4pT7IM5UWvgIcYOg+2g8EuJPk7J7olPYdokHZ4gtHphj5xek4KZf7n9MQpfnR1mhaiYMAQf6VChzwCEACY0Hwh7RhnMplQ0bRSkOgf0u3q1auvvPIKYwyjFqcNOZ0KiL80tE9OTiYXIY1GIy/kgvNF5cqV16xZg3lrKizs0sgJHpJyRvvsSKEo8F4aiTQADUekpUD8oC40GyfHS5r6kkZVxD16md1uh46+atWqgwcPnjt3jshbp9NBWBcRSYGv7Hb7zJkzsc0s9ptesWIFmhY1HlokMGHCBFkhFx0jhfl+mUyGgy2ldvgCM4BRoBQ9NDZSIukr1B0aBj3EWI0Yzmg0AvwCGzl9VVhUFKDYG0x4v//++xqNBguEUBAp+Unvi43QKQAnQidAyvjff5xlcKAPNkB56623MHv/5Zdf4sB6tA/qS9KZLak5Hn0P/UFqKiSZgjFvVlbW7NmzsUCtbdu28NGigSfJhfyo3S8Rkuh3igoCMT9NSoORBQb9k15hcEp/gQwmKmCuye8D4iQgaDTt9FwaJ93TJmrYS5pGJBQA9h/QEgl0eovsAQdSX/AWvbQwEGCWpBzCanf48OHvv/8eKj7sZjRZSCkCN/oQz20227p16z744IORI0eOGjXq40KuQYMGvffee8OGDTt06JB0R4/ChBGpdDSDBeFImSnshiwEQIzYjsS309ErTsWhaGH/JMd9wl86kYyJLvAf9SPEQNFKZ3kp8vu62bRp0/Dhwz/++ONJkybt3bsX31KNo98he9HR0Z8Uco0YMeKTTz4ZPXr0559/PmzYsM8//3z79u3SbGCQBIVYqhMDdgwoKVF86DT0zG+TkMbvFFj6iuZlndiRksMwHXkg+scmiKT0kwmHtoMQRTE2Nvb7779PSUmhViFtb9J7aX5Kcs+JsCQolZ0w/xBhdnY2mhRO48TZY0qlcsyYMXCNw5wCxm7ScSsaKGZQpP0Z81UoJMbCiCEzM3PChAk+Pj5qtbpVq1Z//fUX9EUIBRIlBaLzAEQI0YZfEk9O0p84jxacOaUuLS9eoXvQqWbS8CTdIPVoUFyYjKZOK40E9075pJDU+Z0+kQp0p1eEg/Q5ZAqkA2QQHfBEejmKQ9NFEKk4gQ/WbEABDKFJU/ak7iSQMqSJSrNR2D3ilA6MoMEXhoMU+QLjRFYLfEXMR7KSguV/QoKVwuCGBnPS504WReBsNpuzsrJoEEklkvrmSCMp+t5qtdIUPo3baMxEuS1WdZZahjC0kj4h+UD1W2D7hxnWia4wRAYU9DnGMZjJpodUUikm9BA3aFdO9UKio4haduoF8E6SDuYwyEMM+X+dslHsX06ExUJUpgIwckMnAff333/jVBrGWL9+/TDZgD4m7XLSxoq3kN0QWChkZmamIAhIwmKxfP3117TxPyxgJGTh6CyN0wmm+yVCJ2Ij7arorkLTEk6CtQiagUZIOhaRnzT/iA36Ip6DNqRhCrx3miMEzpApTst+8TlJBKduj7fSUlABpSNxYl/EQ16+mZmZYEFUpbSaSIpJH5JEJvMvRksYHyBFp18aqYCPiULQMKTgSIWgdNanwCJLP3QKAFksLT6hZzQaCR8a01DDhqc+AEH8dI/WJa01goVInQgGr5CoVCI75bmEf+mkJ3RSSpc2STEajeBFJ+SlCCCTqD5Cw6nLUI2jcjECliYHo5GUKfEJJQTkKR6qa/qQiowuQyHpOYZW9Bz4S7s8NSdqcviWBj14Dh8iqlm0//wsSAlRBoq94URYLERlKsB/vUalXhVpaWmxsbEdOnTAbMFbb7116NAh6sZOyg01OGlbgSCA/QQC5erVqwMHDsQGV0FBQVu3br1fFJYuXapWqxUKxfTp09GjaNhbYMPlDzkCHAGOQGkhgGFEREQEZpqWLl0qlbH3K/14+EeNAKNxn3QEZzQak5OThw0bhg046tWrN3r06NjYWEz4YeEtaYdYFwjyk/rrI+vp6emjRo2qW7euXC7HjipOcw8lLGFUVBQ2Fpk8eTI+IX2lhDHwYBwBjgBH4PEgAMXgxx9/xFZEkZGRTkrz48kGT6WECPyzfAJBpatT8eTmzZvDhw8nd7KuXbvu2rXr1q1bUMUKnPIhw6Ber7969erx48ffeecdhUKBE3FDQkLOnz8vdbcpYS5FUVyyZIlGo1GpVFOnTqUmRdPjtJKJ33AEOAIcgVJHAJJt7ty5rq6uKpVqwYIFUs2h5HKPh3w8CPzjLEMXHOHghgeyMRqNmzdv7tGjB+b23NzcGjduPGDAgKVLl/79998nT548c+bMxYsXk5KSLl26hOMaTpw4sXbt2tGjR7du3drd3R321bp16y5fvhwJSTdkoaSLvVm+fDmWsn333Xc4K6eE02zFxswDcAQ4AhyBh4sApi2hESoUigULFvz7aeCHm0MemxSBf4gQ87rSp5hDxpPMzEyz2bxy5crGjRvDvAluq1q1ar169erWrVunTp1GjRo1aNCgXr16NWrUoK2fcXSRt7f3Tz/9hC1d4CYg3ZTLKdEi/q5cuRLpzpw5E40MM4X59yjhTzgCHAGOQOkiAEtbeHg4Zpfmz5+PeaUiRBx/VYoI/FcjLIwLpaOY06dPR0REfPrpp23btoXhG8zEGHN1dcXJpXii1WqDg4MHDhz4/fffnzx5UuqpBYc02n2x5CVftWoVY0wmk82aNYv87ri1oeQA8pAcAY7AY0MAnqgRERHwEJw/fz65ZD+2PPCESo7Af4kQ7si0Ob10RxJyTQYpCoJw+/bt48eP79y5MyoqavLkyZ9//vnIkSM/+uij8ePHh4eHb9y48ejRo0lJScRSd+7cIQ9P8loueRYR8vfff4ezzFtvvRUeHv7rr79GRUX9/PPP4fziCHAEOAJlDIFff/31559/fvfddytXrqxUKufNmydd9nO/0o+Hf9QIMOmWMZQY9HpaE00amNSzFPUqXW6FFcHSLW7pHD68ongewEowb948zFNqtVowInnxkGLKbzgCHAGOQFlAQJl30VEEc+fOpaXMJGb5TdlB4P84y5QkW/e7LqckcZYkzN69e4ODg2GGVavVcrkcm/fDg4b/cgSAgCbvYoxh81JPT09XV1fsC49XTr8qlUqr1SoUCjqtlzGGqFT/u2D2V+RdHGeOQEkQYIz5+fmBkuvWrbtx40ZSA0oi7niYx4xAuSFCURSPHDmycePG6OjoLVu2/Pnnn3v27Nm2bdsWfnEEJAisXbt2wIABIDaFQvHuu++Gh4evWLFicSFXVFTU0qVLo6KinnnmGYgtf3//H374YWfetSPv2v6/i7c3CdL8tigE1qxZs3fv3k2bNm3evHnfvn2cBR8zsd1vcuWJCGn5IM4Bd9ox635LzsM/qQjMmTMHrnparXbOnDm0dWph5cXemG+//TZjTKvV1q5dOyEhQRpYagWRPuf3HIGSI5B/oXbJv+UhHzUC902EjzpDhcVP/qu5ubk0xYglifBK5b8cATh2TZs2DcZMmUw2bdo02jupwKZFhyf06tVLoVB4e3v7+/snJiYWtiKbg8wRKAkC2H8cDoNYn43GWWAj5A9LHYFyQ4SEFLEgPeE3HAFCwOFwTJs2Ta1Ww7Xq66+/hiGhMGKDzcpoNPbo0QOm0cDAQBy6QnHyG47AAyBAm3bR1vMPEAn/5PEgUG6I0Gw242geeK5aLBbOiI+niZS7VH744QfGmEajUSgUkyZNKnrFDqRVVlZWnz59FAoFY6xWrVrnzp2THi0pJdFyhwbPcKkgQKsGMQ6DWYIrhaVSFyVJtNwQITUsp1Jhfxn+yxEAAna7HUSoVCrVavW3336LY36l83zSe0iotLS0Pn36wEu0Vq1ax44dc2pm9JfjzBEoCQJYmY1jz7lGSN2nzN6UGyLEuB6betPiRa4UltmGVVoZczgcERERjDG5XK5UKr/66iuphSp/ruggyb59+2Lrolq1al27do20QEg9cGf+z/kTjkBhCGCMBWEl1QsLC8+flyIC5YkISxEmnnRZQ6BAegNdzZo1izGGFc0TJ04kZ+MCi4C3BoOhT58+2B23Ro0aOCOlwPD8IUeAI/DkIcCJ8Mmr0wpRIk6EFaKaeSE5Ao8FAU6EjwVmnsjDRoAT4cNGlMfHEai4CHAirLh1X65LzomwXFcfzzxHoEwhwImwTFUHz0xJEeBEWFKkeDiOAEegOAQ4ERaHEH9fJhHgRFgmq4VniiNQLhHgRFguq41nmhMhbwMcAY7Aw0KAE+HDQpLH81gR4ET4WOHmiXEEnmgEOBE+0dX75BaOE+GTW7e8ZByBx40AJ8LHjThP76EgwInwocDII+EIcAREUeREyJtBuUSAE2G5rDaeaY5AmUSAE2GZrBaeqeIQ4ERYHEL8PUeAI1BSBDgRlhQpHq5MIcCJsExVB88MR6BcI8CJsFxXX8XNPCfCilv3vOQcgYeNACfCh40oj++xIMCJ8LHAzBPhCFQIBDgRVohqfvIKyYnwyatTXiKOQGkhwImwtJDn6f4rBDgR/iv4+MccAY6ABAFOhBIw+G35QYATYfmpK55TjkBZR4ATYVmvIZ6/AhHgRFggLPwhR4Aj8AAIcCJ8AND4J6WPACfC0q8DngOOwJOCACfCJ6UmK1g5OBFWsArnxeUIPEIEOBE+QnB51I8OAU6Ejw5bHjNHoKIhwImwotX4E1JeToRPSEXyYnAEygACnAjLQCXwLNw/ApwI7x8z/gVHgCNQMAKcCAvGhT8tLQTAcIIg2Gy2EubBkXcJeZcoinPnzmWMaTQahUIxduxYQRCKjsdkMomi2KtXL8aYXC6vVq1afHx80Z8U+BYJmUwmFEGn0xXI1gV+yx9yBDgCpYgAJ8JSBJ8n/f8RKIwzQHL5f/GllALteZcgCLNnz2Z5l1KpnDx58v9Po6A7h8NhtVpFUezWrRvos3bt2gkJCflTLPYJiNBut6MsZrO5oAT5M44AR6DMIcCJsMxVScXMkCAIVqsVZGOxWMAlNputWPpxOBzQBfFrs9nmzJkjl8tlMplSqZw+fbooihaLpTBU7Xa7KIp2u71Lly5KpVKj0dSoUePChQslSdcpDFRYm81msVgEQSgi0cIyw59zBDgCpYIAJ8JSgZ0nWgACoD1RFMFtuCkgXJGPrFbrDz/84OLiolQqZTLZ5MmTofAV9hHYSxCEsLAwrVbLGAsICLh48WJh4Yt4TvkvIgx/xRHgCJRBBDgRlsFKqaBZ0ul0RqMRhbdYLGaz2W6320p2wS4K9W7atGkwjTLGJk+eXLSJEvZMq9X62muvaTQaxlitWrWSkpJKluz/DyWKosFgoLQQrU6nq6B1yYvNEShXCHAiLFfV9aRnVmpRBJc8QIknTZokk8kYYwqF4ocffsjNzS06EkEQDAZDr169FAoFY6xBgwZHjhwp+pMC34KGRVE0m805OTkFhuEPOQIcgTKIACfCMlgpFTFLOTk5Npvt4MGDkyZNmjJlypw5c6ZPn/6f//znh0Iu6auZedesvOu3337r1auXMu9ijM2ePdtoNBbhgIp5PoPB0KNHD8aYUqmsUqXKsGHDEGf+30Ky88/jGTNm/PDDD3Pnzh0zZsyUKVPOnDmj1+srYl3yMnMEyhsCnAjLW4090fldtGiRv7+/SqWqWrWqVqt1cXHxKORyd3enN56enl7/uypXrgwLp1KpZIz95z//IXNlgciBI61Wa8+ePeE1yhirVKmSZyEXJep0o9VqPTw8Kleu7OvryxgLDg7evXt3gSnyhxwBjkBZQ4ATYVmrkYqbH8yoRUdHN2zYkDGmzrtcXFxg5GSMqVQqxhhcWmD8VKlUarUaM4IymUylUsG86ebmJpfLNRrN1KlTizaxYhGhKIqvvvoquBPx0yxj/htXV1fGmEwmA+PiF/lB9sLCwuLi4kRRpCnPilupvOQcgfKAACfC8lBLFSCPoCtMre3YsaNatWrgQsZY1apV1Wq1m5sbYwwkROSENRJY9pCfxlQq1fjx4zMyMorGz2633717t3PnzohWLpfjRiaTYRkGkRxu4I8KVmaMeXh4IDwYtEOHDrdu3RJFsdh0i84Vf8sR4Ag8NgQ4ET42qHlCxSCAdQ5gxK1bt1arVk2hUAQFBYFmWrRoMWnSpK+++mrWrFlTp0799ttvJ0+e/M0333zxxRfjx4+fPHnyt99+O2bMmKlTp06cOHHKlCkTJkyYMmXK/v37i9YIRVFEgKioqClTpnzzzTdTp06dPHny13nXBMmFJ5MmTZo6deqIESOmTZs2ZcqUOnXqkJLKGOvdu3dsbCwZY7Ozs4spM3/NEeAIlAEEOBGWgUrgWcjztAQnEYvs2bOnefPmjDF/f3/GmLe39+zZs+12u8ViKWJZgl6vx0p2rNAHtEWsbTcajQaDAYsfaLVGEUsPHQ4HXGDu3bv33nvvwUaqVCrlcvm4ceNSUlKwPL9Y9uV1zhHgCJQdBDgRlp26qOg5IfrJzs7GzjK7d++uXLky2R49PT0jIyMBU3Z2ttFopKURdru9sAk5u91OMRcIMag3fxh8aLVa7XY79j61WCxYI6HT6caMGQNVFZOUL7300oULF0RRTEtLw7yjTqcrwlu1wJzwhxwBjkCpIMCJsFRg54kWgEBqaiqeQoGD4rV///7atWuDcuAvExERkZ6ejpAmk4m0PVIloTVaLJb72uoFOhwW8lNU0lzSrqRnzpzp06cPJi/hnjN8+PB79+6RnkrqYH5ylUbI7zkCHIEyggAnwjJSERU9G+CMtLQ0sAjUOxDStWvX2rRpA7cUqF9ffvkluaJkZ2cThwFE2r+b9r8uQjMzGAwULH8dCIKA2BwOh9ls1ul0aWlpXbp0UalU7u7uWHc4atQocj0F+4qiaLVa+ekT+fHkTzgCZRMBToRls14qYq5It4PB0+Fw2Gw26IU7duxo1KgR9EIXFxdPT8/ffvsNGiTt54LPHQ4H0RKdiFSEZkafY29uUuZQAfTX4XAYjcbMzMz+/fszxlxcXOAjOnDgwKtXr4qiSEZaIl1pzBWxOnmZOQLlBwFOhOWnripqTqEdJiUl9e3bFyQERvzyyy/v3LmDvbmtVivOfCCQsGWM2WwuggWlgXGP/b7tdjuUUZvNlpKSAqUwOjoaimm9evWQgZ9++glfcc4jJPkNR6A8IsCJsDzWWgXKM1w6saf2iRMnOnbsiPWFCoXCxcXlyy+/xMwc2I6OQJICJAgCqWvS58XeJPvSZQAAIABJREFU00yh3W5PS0vr1q2bSqWi5fOfffYZtFUy0hYbIQ/AEeAIlE0EOBGWzXrhufovAsRG+B8dHf3OO+/I5XIfHx/GmKen58SJEzMzM0VRdNrnWhAE+paMpflhLdChBiogjJzp6ennzp2jY3uxzc0333yTm5tLM4gPRrT5M8OfcAQ4AqWCACfCUoGdJ3ofCNDcIaguPT29d+/ejDEfHx9sqPb222/fvXtXFMXU1FSbzUa20KK320YOpFZNLJMQBIEOuzcajQkJCbCFenl5wSK6aNEisrja7XbohfdRHh6UI8ARKGMIcCIsYxXCs/N/EYC7Cmye5Idy7do17Igmk8ngRzpmzBhRFBFMr9eTLvh/IyvgH7nDYDU9QmClhNFoTElJad++PbZwUygUcrn8q6++wpwlKaBYRF9A1PwRR4AjUE4Q4ERYTiqqomYTVk2iQH3eJYrizZs3Bw4ciPlCHFXRt2/fpKQk4GQ2m8lcabPZpGqfE5BEhDabje7haLNv377WrVuTgyhjLCoqymq1YtpSFEWyuNIKQqfI+V+OAEegXCDAibBcVFOFziRoCd6h4CpMCoqiOGjQIOm212FhYZcvXwZYGRkZ4L+itUNadEhcKwhCVlbWyZMna9SoAQMstuFevHixtBqIaMkSK33L7zkCHIFyhAAnwnJUWRU0q5ixg+WTlDDMzF2+fBkL++RyOQ6s+PTTT69duyY9AokYq2j4SCPMycm5cuVK8+bNySWHMfbrr7/q9Xowq9FoBB9jC5uio+VvOQIcgbKPACfCsl9HPIcFICAIApxoBEH49NNP4UGKMwI7dux46tQpbO9CjjZk9qTNXwRBAJuCKY1GI3S7lStX1qpVixTNSpUqLV++XLpkvoDc8EccAY5AeUaAE2F5rr0Kn/fk5GRRFLOysnr16oWDIBhjbm5uPXv2vH37Nh2xBIYjp1Ayh+KkCFEUaZLv6NGjTZo0Aa2CC5cuXarX66WrFSs86hwAjsCThgAnwietRitIebKyssBzUPWuX78+efJkjUaDE+2VSmXfvn2vXLkCAjMYDDk5Obm5uUSBVqvVZDJh+hD+n2lpaX/88UdISAhWCoIFly1bRgsN+VxgBWlavJgVEAFOhBWw0p+QImdlZYGcwGdWq3XKlCnQCLHgr3HjxleuXIEJlChQuvsMHSghiuLWrVtxxr1KpZLJZJUqVVq1ahW+suZd2Iz0CcGOF4MjwBGQIMCJUAIGvy1vCNAZhFarFdttDx8+nDGGxe9arbZbt25Hjx4lDsN2MPC7IbuowWDYuXNnvXr1cKCEp6dn5cqVIyIioGtSEjTdWN5A4vnlCHAEikGAE2ExAPHXZRMBmtXLycmhKUCHw5GbmztjxgzGWOXKlbEvaJcuXQ4ePAgaoyWAcJOx2Wwmk2nRokW1atXCwnzGWEBAwMaNG2mZoMFgwMoKvqdo2WwJPFccgX+PACfCf48hj6F0EKCD7GHhxCHyyMrXX38N6yhjrFKlSkFBQZcuXYIKKAiCyWSCp2hubu6SJUsCAgIosI+PT2RkJNYs0hoMm82Go4CLXpJYOijwVDkCHIF/jQAnwn8NIY+glBDAmbqwc0pXR2CztP/85z9qtVqhUKjVarlc3qNHj9jYWIvFgmMOsRxiyZIlWCnh5uamVCo9PDzWrl0LN1SLxUJrFlE+vqdoKdUzT5Yj8MgR4ET4yCHmCTxOBMjJ0263R0REBAYG0lqIwMDAbdu2Yc7PZDJ98803np6eCoXCw8ODMVa/fv3ExERRFMl8+jizzdPiCHAEShEBToSlCD5P+pEgYDabaQ+2sWPHwuyp1WpdXV3r1KmTnJxst9tXrFgB/sP2aQEBAVu2bBFFMS0tjVxpHknmeKQcAY5A2UOAE2HZqxOeo3+BAC2TgHeMzWaLjIysUqUKDmxijDVr1mz06NGenp4qlQoc2axZs+3bt5MTKW06+i9ywT/lCHAEyhMCnAjLU23xvJYEAVAg9s5G+LVr12o0GqVSiQUS2INGq9Uyxpo0aYL92DA1iPDcKaYkOPMwHIEnBgFOhE9MVfKC/IOAkHfRuUu5ubmYFPz222+xKzdjzNfXlzGmVCpr1aq1bt06+IiSa4zD4aDPOaYcAY5ARUCAE2FFqOUKVEZa9k7eoWTzjI6Orl69OiyiSqXy3XffPXnypHQ3bbiecu/QCtRceFE5AnkIcCLkDeFJQyA7Oxu2TUEQoNvZ7XbsLLpq1SpXV1eFQhESEnLkyBHiSIR3OBx37tyRUuOTBg0vD0eAI1AQApwIC0KFPyu3CGDxg8PhoK3RsD03CiQIwooVK3r06HHhwgU6pxAsiPDwlCG1stzCwDPOEeAI3AcCnAjvAywetPwigGPu8/+W3xLxnHMEOAIPCwFOhA8LSR5PmUYgPwXiSZnONM8cR4Aj8FgQ4ET4WGDmiZQ2ApwIS7sGePocgbKLACfCsls3PGcPEQFOhA8RTB4VR+AJQ4AT4RNWobw4BSPAibBgXPhTjgBHQBQ5EfJWUCEQ4ERYIaqZF5Ij8EAIcCJ8INj4R+UNAU6E5a3GeH45Ao8PAU6Ejw9rnlIpIsCJsBTB50lzBMo4ApwIy0QFYaNLs9l87969y5cvJyUlXecXR6AcIpCUlHThwgV0KoPBQFsTWK1W7OlKT6jj4ZX0+Z07d27cuJGRkZGQkHDz5s0rV67cvXv3ct6VxC+OgASBm3nXrbwL90lJSTdu3Lh7964oimhagiAUccgohsicCKk/ls4NHRskiuKiRYteeeWVpk2btm/f/ml+cQTKIQIdO3Z89tlnR48eLRU9UpJDN7PkXaBGdAGdTodXf/311wcffFCvXr127dq1aNHi2WefbdOmDX7LIR48y48WgXb/u9q3b9+uXbu2bdu2ybtCQkK2bdvm1PAMBoNU3qK9cSIsHeZzShVVZTab165dGxAQgBPy1Go1bvgvR6DcIeDh4aFSqZo3b37y5Ek600MURWz3KggCnfgoCALEkCiKtMVd//79UWScmSyTyXBUSLnDgWe4dBFQqVQfffRRcnKyw+HIycnBxsLU3kgOcyIkKErzhkxG4eHhaDdeXl7o+Up+cQTKGwJubm6MMVdXV8ZYtWrV0tLSyEJF3YzG6Tjog/6KopiZmRkSEsIY8/b2VqvVdHgyDQ1l/OIISBBQ/N9LLpdj5OTh4QFxOnLkSJwqg72FcUybk17ocDi4aZS6Z6ndmEwmm822YsUKiA/q/KU7nuKpcwQeDAFwoUql8vb2bty48Z07d0wmU3Z2Np3yaLfbpZKIFESHw6HT6UJDQ+n85KZNm7Zo0aJZs2atWrUKDQ0NCQlpzi+OgASBkJCQUMkVEhISHBzcrFkzxlilSpU0Gk2lSpXGjx8PfSM5Odmed8EUQRKfEyFBUZo3FotFEISIiAjIHVdXV41GI+cXR6AcIsAY8/HxIQZ1cXGpV69eYmIiOphOp8PA3Gaz4dAPYkeDwWC1WgVB6NSpk0wm8/Dw6Ny58+7duy9evBgfH3/69OkzZ84kJCSc5RdHIB8C8XnX2bNnz+Rdp0+f7tevHxohbAnDhg3Lzs7GGaU2m40TYWkSXoFpk10oMjKSMQa9nuQIv+EIlC8EFAoFY8zDw0OpVEI1VCqVoaGhGRkZaP/gP1EUc3JypHqhyWRyOBwGg+GFF15Akdu2bUsOqLa8SxRFmLb4L0cACOQXqg6HQxCE69ev9+jRAxLV3d1drVa/8847sNLbbDa73e7Ehdw0mh/Jx/1En3fNnz+fLEJubm4SMzi/5QiUGwQYY+A/xphcLlcoFDD1t2/f/u+//5YeekyMaDabiRGvX7/+3HPPMcbUavUzzzwTHx9PKqPdbrfZbHBt4L8cASBA/lb0F+1EFMUDBw689tprCoVCqVSiRX388cdWq5UT4eNmuBKmh7ncyMhIjKbhLFe+9ACeW45AsQiEhoYePXoUznuCIEgdSqmnpKWltW7dWq1Wy+XyFi1anDt3TuprQ3xJ4fkNR6BABDDxnJmZCSdkWNoUCsUrr7yC8BiHwVgqCALXCAuE8bE+5ERYrAzlAco7Amq1WqvVdurUKSEhgVZQQBjZbDaLxQK9MDc3FxohJ8LHKoOexMQyMzNFUTx27FhYWJhGo2GMValSxcPDY+TIkVjkmpWVhXJzZ5kyUf+cCMu7lOf5LyECnp6ejRs3PnbsmCiKer0eE+QwfgqCYLfbTSZTly5dYFblGmGZEE/lNhNQCi0Wy/nz5z/66CPGGExuKpWqf//+9+7dE0WRuJBrhKVfz5wISyhGebDyiwCc99RqtUwmCwgIuHTpEjxfbDYb/EhhMs3KyuIaYemLpPKfA7Cg1WrNzs4WRfHGjRsvvfQSuBBzT0OHDsW0oiiKNpuNE2Hp1zknwvIr33nOS4gA1si6uLjAm6ZDhw4JCQkgP71eTx4xGRkZHTt2dHFx4abR0hdM5TwHtGkf9m04evRo7969XVxcZDJZ1apVZTLZmDFjMAjLzc3lRFj6tc2JsITClAcr1whUqVKFMaZSqTw9PdVqdd26dWNiYtD9HA4HuNBgMLRv316hUHAiLH3BVM5zQLvd0kKdq1evDho0CJ1IrVYrFIqPP/4YNlJOhKVf25wIy7V855kvCQLQCP38/KSBn3766WvXrqEHwnHGbDa3bt1aJpNxIix9wVT+c2A0GqHzORwObC6TmJgYFhbGGKOmOGHCBKvVyomw9GubE6FUOPL7JxUB2EVlMplL3oVizp49OzU1VRRFGLJyc3Nbt26NnZW4s0zpy6ZymwOyi6IEcMXS6XQ2m+3SpUtvv/02dsT19vZ2dXWNi4vjRFj6Vc2J8EkV/bxcxSLw9ttvw1sBRzLp9foOHTpwr9HSl0pPbg7sdntOTs4bb7yBxunh4bFp0yZOhKVf4ZwIixWXPMCTigAnwtIXQBUvB2az+d1331UoFDKZzNvbe/v27ZwIS78VcCJ8UqU8L1exCHAiLH0BVPFy4HA4Bg0apFKpQIQ7d+7kRFj6rYATYbHikgd4UhHgRFj6Aqgi5YDO/Bo8eDD2IPX09NyxYwcnwtJvBZwIn1Qpz8tVLAKcCEtfAFWkHNBpP4MHD8ZGM+7u7tu2beNEWPqtgBNhseKSB3hSEeBEWPoCqCLlgLZuGDJkCDRCDw8PPkdYJpoAJ8InVcrzchWLACfCMiGDKl4mpKZRrhGWifrnRFisuOQBnlQEOBGWCRlUwTIhCMKAAQPoEOktW7Zw02gpNwGcpyyKYmRkJFR1fkh9SYQ+GjEWnGH9Nb6SF3IhpIuLC0CmJHBsLLb+UiqVBD7dYBk4wksTpRikX9FDflNCBHBuOBmsDAZDx44dH+I6QovFQv4R6Oo41NDpIVYx4pXZbMZZifnPQDcYDAiDX2xWYrVaMZalOGkiKr9woZJKXxX4UJpbnMuB5KQf3te92WxGPike3CB12pDMZDKhdLQZOlKRnp+cP10UmQ5bxhFIlFD+8E4HUiJjCAbYCROKM38kD/YEpRs6dCj6eOXKlblG+GBIPsyvOBGWUGI6BXPNuzQaDZGTQqHAqWNOIfFXyn8qlcrFxQUbWkp5DiFlMhnYURqhUqnUarUUs4uLi0ql8vLyUiqVlAF6y29KjsCjJkL0VZxabrPZrP+7qA9jm1N73mWz2YgPKABOjMJfbFCCwNKYSY6bzeYiWBCbjIN0bTYbfSVNq+h7HCRb4JnGRX+IY9mJmYjswTdE4ZRD3AAcc95FzFRgQg6HA2W32+20n1mBIZ0eAkwcBFEgJiQhnT584L+cCB8Yukf4IVUz1whLLj0pJE5Uob84ZkVR0CUlPCkpMsZkMhn4TKvVUjC6ocgLI05okxSM39wXAo+BCEEeNpsNEhA8hC6N3kfP8RCskJOTYzKZwIsIAIYTBMFoNBKHEe0ZjUZ8bjQaS0JUFovFZDKBY+jb/ILGlHcRgTllNX/4wp6gUFarFccg4yg+nIcsimJOTg6YjxJCPPRXikBhSdBzqJJOOh+9xQ1ws1qtBKD0Oe6Jnh+uUoiycI3QqUZK+S8nwvuSmxRYrVaDvVQqlUajwUF39LawG5VKpVarVSqVXC5XKBQqlUqpVLq7u+cnVMSgUCi8vLy0Wq1cLidjqVqtdnd3V6lU7u7uXB0sDOoSPn/URGg2m/OrMhCFdrvdarXmpxapDVBKAHSIK2lRdGiGlFyLFij5M4PwsAfm/3WKjbjB6Xmxf8E3+FzKPYIgWK1W8L3JZALzgSwFQXDSjwEXtDen38zMTEEQLBYLDRGKLpcTDjabTafT4XOo76Io5rc5F1vMkgTgRFgSlB53GE6EJZSYTsGIlui5Uqn09PQsZIrwHxrTarVF2E5puhHsSJoixY+jZZ30P3pIwfjNfSHwqIlQKvRhHhQEoQg6gWUP0hzn2NFWqEajUaqaEIkSW+Tm5qakpEjD5JcmZAmkV3Q8LD1xuqFPkHMnpnEKXMRfi8UCDsjJyZGSPSKEWRLIOCVhs9lIx3XiP/qLTa5NJhO0W6n+XWCW6EO8tVgsUmokSIsGs8CYi33IibBYiEohACfC+5KbFFgmkykUCrVa7cRthREhfYgbrVbr5uamVCrBZAqFAmqfXC6HUZScaHCSJ2NMrVa7ublhplAul9OUIZRLp/j53xIi8KiJkDgPE4TUw+12O019Wa1WvV5vMBgQmJgJzOFwOIxGIw46z83NBUmQzZAUF4fDQaTr5GZCidKN3W4Hq1nyLrvdjpv8v5R/+rbk2qf0E+nkH+UTdOhwODIyMkA5pNJZLBa9Xi+d7cP8aH6dFU/I4grKzMrKArHlLxGeiKJIdEtlzMnJoUNIkHkiYKey/Ju/nAj/DXqP6ltOhCWUmPmDSZVCNzc3nHiXP5j0iYuLi4eHB5EcY4x41MPDAyHhCIN5RphMXVxc6tWrFxoaWqtWLZzeMmbMmF9++eXTTz+FhVaaBL+/LwQeJxFSHyaFg55IiQ3S/9ChQyA/m822YMGC1atXQzWE1Ibe43A4wHlWq5V0l6JZkPo7JS0IAkQzPZHe4BUsh5QE3UhDFn2P2UGiw3PnzuEkSJvNlp6ePnHixMTERFEUpZoZCpKbmwvNGBRVGBEuW7Zs3LhxBoMBKjUyQ1SXP29Eh6IoojinT58eNmxYdHQ0MgkeRb0UgU/+mIt9womwWIhKIQB1DO4sc18CFOogDJidOnWaN2/e9u3bly1btqKQa3netW7duiVLlvTv39/Ly4tY0N3d/eOPP96+ffvatWt///33DRs2LMq7Nm3a9MknnzDG3N3dN2zYIIriuXPnGGNBQUGJiYl2u33Xrl3IwH3lnAeWIvCoiZBkKISyIAi3b9+OiYnZvn375s2bt2zZgpuNGzdGR0efO3cOQjk2NlatVg8fPjw7O9vhcDRr1qx///54BQENKiV9Ba+MRuPUqVM/+uijmzdvlkSU5OTknD9/fu/evZs2bdpcyPXnn39u27Zt06ZNGzZsiI2NdTpmrySpUBiy9GZkZDRp0qRdu3YZGRk2my0+Pl6j0axfvx5KM3yLyINm0aJFPfOu7t27z5w5szAi7N69O2Ps9u3boihilGAymeLj4wsp1uaNGzceOXIkJycHiqYoiuvWrZPJZHPmzMHIAJGg1qRWUyrOA99wInxg6B7hh5wIpWKx5PdkopTL5b1796YxPg3tqYNR5ZFMnDdvnru7u1Sh3LFjB4LReB83/ywwYqxq1apbtmyx2WwnTpxQq9WVKlWKj48XRXH9+vU4S73k2eYhnRB41EQIQyLEN9pGUlJSUFAQtHx/f/+qVasGBgbWqFFDpVKtW7cOps7jx4//P/beOy6qY/0fn23s0qvYsIsavTH2WLC3aGKJPYkttthico2mfBJjjImaRA0RUQTssSTWGLEgiBo7dgVBUEEULCBt2b57fq/L+3uf37kLiwgqiHP+gNk5U98z53nPM/PMjJ2d3bRp0/Cze/fu06dPJyqlNCGgMzIyiDzefvttxtidO3eM+Q86FbGXmESh5C1btkwqldaoUaO67adG/uPu7t66dWsYtlAnp75t5Xj//fdfz3/+9a9/vf7662+++WbdunW7dOly+/ZtTMN6eXm9+eabsEZJSEioXLnysWPHzGYzGB2LghqNZvTo0R4eHi1bthw0aFCvXr0kEsngwYMfPXqELSX4RjC/Onz4cEdHR4wAgIbJZPrwww8ZY7XzHx8fH3d391q1alWpUsXHx8fJyemdd95JTU0Fwjqd7j+34zK2bNkyor0iFEqr+j7VT06ETwXXCwrMidBKMhbzJ6Y3scLXt29fLM5HR0dfuXIlNjY2Li4uJibm2rVrcF+/fv3cuXNnzpwRBEGr1c6fPx82L/b29khn586dZrM5Li7u888//+qrr+bNm/ftt9/OmjWrf//+np6ejDGIyNjYWE6ExWygYgZ7MUSIZT8I7qSkpGrVqrVt2zYtLS01NTUuLi4xMfHRo0exsbFZWVnghitXrsjl8k8//VQQhJycnJYtW06bNg0CGtIZCYrtbrB8OHr06Dp16ly+fJnEB+lhcGB9zmg04ud3331XuXLlu3fv3rbx3Lp1Ky4uLikp6cGDB7dv36ZkbTn0er1arfb19e3bt+/cuXO//PLLuXPnzp49e+rUqfPnz79//z6Ix9fXt23btrm5uWazOSEhwdvb++jRo+BImj5dsGCBnZ3d4sWLUVSDwbBp0yZHR0eMD7DIR3skbBGhi4vLkSNHUlNTExMTH+Q/V65cQX0TExOpFgaD4dChQzKZjBMhYfJqOTgRFlNiWgXD6p2TkxNjrHv37lhpWLBggZubm5eXV6VKlTw8PNzd3eH29PT08fHp2LHjw4cPBUFYvnw5bGqw7xA8Z7FYTp06hZVCpVIplUq9vb2rVKmCpcFDhw4JgnDp0iVOhFYNUcqfL4AISaCAyW7dulW5cuX+/fuTPzoP5uJAVJcvX2aMzZgxA2HeeuutKVOmYLBF+gr0QtjIYI7UZDJ17tzZwcEhJSWFVgpp+pQmLcTZffvttw0bNhSXpFA3KFwQhIyMDFpUKzQkPKtWrbpy5UqapbRSrdLS0urVq9e5c2eQ2Y0bN7y8vKKiosjgxWw2x8bGVq1atXHjxsiaFjK7dOni6Oh47do1ECrZvAwbNqxQjVAikUDty8nJgZYMnLEemZeXRwOFsLAwOzs7ToRFNGtFfsWJsGSSVEyE+KQNBsO4cePAbXTsGUw6EdjLywvCaNmyZYwxCiOXy7dv326xWOLi4shkhjG2efNm9DzMFwmCEB0dzYmwZO1lK9aLJELwwc2bNytVqjRw4EBa2IMDE5jYWh4bG8sY++KLL7CnrU2bNpMnT4ayKCZCEkyIFRMTgymK2bNngyHIPtOKiohF5s2b17RpU2yhK9TAEvalarUazAoWIZalApADARwcHIKDg4k4wYg6nY42zjds2LBdu3Z5eXkWiyU+Pt7Dw+Pw4cNkWGs2m7ds2cIYA5tmZmbqdLrk5GRBEA4fPqxSqfz9/XHgAKppMpmGDRvm4OCAMNheaTabx40bR6xJJRQEQaPR0PiA/P9zBQSfGiU4XjUHJ0JbIrJof5wOA9WtS5cu6DYTJkwAw+HuaWwNlMlkEomkUqVKPj4+2D78888/YzsE5kXlcvnWrVv1ev3169crVark5ubm6enp5uYWFhYmCMK9e/cePHgA0cM1wqIbpQRvy4oIBwwYAFbIzs6G0oNdhlhAunDhgkwmmzVrFg7e9PPz++ijj2BRScoZNELwIpSexYsXKxSKgQMHMsZgk5mdnY0EcfYmZubRV8GR3377ra+vbzGF3hOXBkk/q127dnBwsF6vz8nJoWEcvTWbzVWqVGnTpg2OTgURRkZG4oQBkPTs2bPd3Nzu3LljNpvR+ZF7ZmZmgwYNBg0alJeXB8QwuBw6dCiIEJPG4O/x48c7OjpevnwZoNHRdCB+MKLZbAanhoeHK5VKrhEWszNUtGCcCEsgPcF2xHOYGhUEYcaMGaQRIllJ/gO3i4sLBFNgYCAdKAplEUahJ06cEJ+shtG9q6uru7v733//bTAY+BphyRqriFgvkgjFU6OjRo0itQznjWHKMS4u7tatW9u2bfPw8Pjqq6+gyXXu3Jk0Qsh0fLYwyIIqGRIS4ubm9sknn0RHR7u7u7/zzjviuVbQHkgRW9fhs2TJEnt7+y+//PITG8+nn34647/P3LlzHz9+TFOLhYpCnJpWu3btxYsXi/VRjUYD4scSYOPGjXv06GGlEWLJE3tC/vWvf7355puYwERci8WSm5trNBp79uxZvXp17C3BkqQgCEOHDrW3t09OTiYitFgs48ePd3JygnEN1l9NJhNoFWUj1dZoNB44cMDJyYkTYaHNWvE9OREWISWL+apnz54QWNOnT5fL5SqVClYwOEQNN044Ojo2bNgQsuC3335jjNnZ2YEFGWN///23IAhXrlz54IMP+vbt27179169enXp0uWdd96ZOXOmRCLZs2ePVquNj4/nU6PFbJRiBnsBRAjRTIadMJZp2LDhP//8c+TIkZ07d+7bt2/79u1Xr149ceIEY8zb27tmzZqMMbIK8fPzwxohWceAAkFpWq328ePHlSpVYozdu3dPEISZM2cqlcpvv/02PT0deg8EGZQq2qhuNpuXL19ub2/frVu3Xjae3r179+nTp1u3bn5+fuPGjaNj3oqQjDqdrl69eosXL8adFSaTKSYmZuTIkQMHDnz//fcHDRo0duxYxpifnx9W/uLj4z09PY8cOYKNkiaTKScnp3bt2j169KAZXThA5MOHD5dKpdgpAaVQEIQhQ4YUJELM0GzYsCEqKmrPnj3Hjh07ceLEjh07IiMjjxw5kpaWtmLFio4dOw4YMGDgwIGDBg3iU6NFNGsFf8WJsJgSs2Aw0t569uyJWR2sEdo66qVu3bqwmgsICKDjuZHsjh07cDoUGchhHslsNicmJtatW3ffvn2RmWc4AAAgAElEQVSPHz++fv06J8KCDVEanxdDhAW3T3h4eNSrV8/Hx6dKlSp169Z1d3cfOHDg9evXP/roow8//LBv376VK1f+9NNPMZvXvn37qVOnig8hw9ohTlmLiIjw8vJijP31118ajQZsMWrUKMbYnDlzQIR5eXkajcZgMJA+B2Vo3rx5jRs3Jrsb4mxygJyQJjonkbEtyahWq+vWrYvlPehtFy9e7Nev3zvvvDN06ND++U/16tV79uyJCRIQ4dGjR5GXwWDA/Oebb76J3fEoKqZA9Xr9kCFDHB0dHzx4IAgCWQCBCJOSklByUOyECRMcHBwaN26MXRNubm5169atVq2aj4+PTCbbt2/fH3/80b59+5EjRw4fPnzw4MGcCG21acX350RYYjFKRAgLwIcPH/71118zZsz45JNPZs+e/dlnn32d/yxcuPCzzz6bMmVKUFAQhrGLFi2SyWR0B4WDgwM0Qp1Op9Fo4uLibt++fevWrdu3b6ekpBw+fNjJyWn37t2CIBw7dszR0dHd3f3KlSsajSYyMhK78qkkJa7LKxvxeROh2CgD1i6JiYne3t69e/fGtoRbt27duHHj8uXLSUlJtAh39epVuVw+a9YsHCTdsWPHsWPHgq4QBsyk1WoxqHJycgoPD8fuOjrme86cOYyxESNGXL9+HVwCfQ4ztKCQhQsX1q9fPysrCxaVBf9CAuLKCzoslGYUbclHT0/PpUuXCoIAIqTLocjRqFGjFi1agNrj4uI8PDygEeI6iMePH9epU6dbt27ijDCYEARhwIABjLHMzEx6q9frx44d6+TklJiYiJVU3HY1duxYBweHo0ePJicnnz9/PjY29u7du3H/fejYAVgJ4RADPjVqq00ruD8nwpJxgEwmozPV+vbti6kbOimROo3RaISxgFarJUPtJUuW2OU/Tk5Obm5ujLHevXv/+9//njx5sq+vL/SDatWqubi4eHt716tXT6lUbt682Ww2w6re29sbayHbt28XW5mWrCKveKznTYTQ7HU6HYS+IAjJyck1atQYMGAARDYtpIHn7t69azKZ4uPjGWNTpkwB4UEj1Gq1uOY3Ly/vwYMH+/fvx3EqI0aMuHjxIgxhyDIFPLdkyRK074QJEy5cuID1OfE045w5c6ARUo+1cphMpry8PCok7duzCkY/cYZqjRo1YDVKEXGzBD4BnU7n7e3dtm1bVBnGMlFRUThbzmg0ZmdnYxu+IAhk5gMV0GKx4G53zPoS6w8ePBhTo1QSQRAmTJggl8vF+wX1ej10YtqPQUakR48e5RqhGL1Xy82JsMRMgP0PdnZ2zZs33759+/79+8PDw8PCwnbt2hUUFASzPb1ev2PHjj179hw+fHjfvn04sGrq1KlWOpz4lBmcPkpnkGIStWHDhp06dWrSpImLiwtjrFX+U61aNRQe2xlLXJFXOeILIEKrS+/i4+O9vLz69etHHAmrGYvFQhN9169fZ4zNmjULwqhFixYzZ86EybEgCEeOHMGps76+vosWLUpLS8P+BGifOKSbjig7depU//79Ydg1c+ZMJKjT6ZDXd9995+zsvH379n02nsjIyIiIiL179+7atSsiIkK8B9GWoMzNza1fv/6GDRuys7MxJUvcgyh5eXne3t7t27fHrkQxEcIUSKvVvvvuu6+//npubi70VwwIBEFIS0vrlP/gMkVaAR04cKCTk9O9e/ewdwITpGPGjGGM3bhxg8aj4nndnJwcMccfO3aME6GtNq34/pwIS0YDEokEVjCIDlMFuOVyuUKh+OOPPwRBuHnzZvXq1ckfB8pg1wSUQsaYp6enu7s7Y6x69epnz549evTo+fPnw8PDT5w4cenSpbNnz164cGHPnj1//PHHrl27jh07du7cuT179oSHhy9YsMDZ2RnHlpasFjzW8yZCuiwJ2o8gCImJiVWqVOnbty8tiYn322VmZmZlZeGItc8//xw3VPTs2XPw4MEIj8AL8h8QCXiU5gmJTWmTgCAIGzdunDZtGjbkQaiBYFavXm1vb1+tWjVnG4+bm1vVqlUxLGvcuPHNmzfJgKUI4ejl5eXv709XQJB9LJY2MzIyatSogZV1QRBu3Ljh6el5+PBhYimj0bhu3TrG2K5du0C9qJ1Wq01OTmaMLViwgOZdYYA2dOhQV1fXlJQUrVZLd3SMGTPGwcHh0aNHRqMRmiXW8qE3iyui1+sjIyP59oki2rSCv+JEWEoywCYHR0dHxhiuUsJluRs2bNDr9bdu3XJxcYH+5+bmBjNRsf5HR28zxmAvTuYMJDoxo6VWq+niHsgFrBGKr2QqZV1ewejPmwhJldHpdGjZ+/fv16hRo2vXrqAiyBcIZRLNV65cYYx9+umnaPGuXbvCgpSMJCHKYWBJ04/oMJQI3euEaUDSAlGknJwcjUZjNBrv5D84fqzg3+Tk5LS0tJycnKysLByxJu6fBYUjJj+9vb1//fVXvMXkKtwZGRlY42zYsOEbb7yBwHSyDGgStThz5oxKpQoICBAEASZmgOv3339njEVGRtKwAOWBBU1SUpL4/goYr9Eue5QByiL2VOAEO2jSUVFRXCMs2KCvig8nwpJJf3t7exAe2bxQOtAU9+3bJwhCenq6g4MDbZPAJUru7u6Ii4PWQKIqlapu3bo4aH/AgAFDhgx59913+/TpM3z48Lfeemvkf5/Bgwf/9NNPkAJRUVGgWH5PPYH/tI7nTYQkfOkeosTERKVSOWbMGFh4ghj0ev2NGzf279+/e/fupKSka9euSaVSmsls3rz5Rx99ZLFYyPRGfEkvNmYYDAZ6q9FooBfSkhisYFAY0h3pdly6F5CMRclBS2jgDHTpIoQjaKlBgwZTp049d+7ckSNH/vnnn6ioqCNHjvz000/vvPPOL7/88ujRo3r16jVr1gycd+PGjUqVKkVFRdGGenD52LFjPTw8jh8/juwePnyIYeWoUaOMRiPUPmRnNBqt1ghxL9UHH3zg6+t76dIlrK1iuvjcuXPHjx+/ePHi6dOnf/3111GjRgUHB6vVagw+uLFMEY1bkV9xInxa0SkOj3vn6YpdpVJJtBcSEqLT6R4+fOju7m5nZ+fl5YUZUXF0WMqIaVIq/c9d9giDiwmtVhNhBwjD8S1btiBNaKXilLm7mAi8ACK0Ogvm9u3b9erVY4z16NGjS5cufn5+7dq1a9OmTe3atevWrevm5rZ48eLo6GhnZ+ePP/4YalCnTp3ee+89LARCPcKEIZhDrFnS4Sk6nQ6n0kD6Q4MkNYgUSnAnbHkKmozidFNcCkGKJi3L2RKLWVlZrVq18vT0rFWrlrOzc+XKlWvUqFG/fn1XV1cfHx9/f3+dTteiRYvWrVs/evTIZDLduHHD29v7yJEjtJJnMpnUavX9+/erVavWuHHjkJCQ69evR0ZGvvbaax4eHji8HlRHw4jhw4fb29unpKRgjJidnW0wGD7++GPGWLt27Tp27NihQ4f27ds3adIEg9FKlSpVr17d29u7TZs2W7Zs0ev13FjGVoO+Ev6cCIspMQsGI8aCQ/xTpVJt2rRJr9enpqaKDTtVKhW0N3t7ezHDgcmaNGlyLf+Jj4+/efNmSkpKYmJibGxsWlranTt3EhMTU1JSkpOTyQoOpyOKebRgIblP0Qi8ACKkZULMcwqC8PXXX8+ePfuTTz4ZM2bM9OnTJ02aNGXKlPnz51+9evXcuXPZ2dlxcXGMsenTp0MGtWnTZubMmUSopOdhayCOXyGbZFL46C3YAknRsiKIDVRXhKQTs6zYnMdWFBQyLi7u8uXLV65cuXr1akz+c/ny5YSEBJh65uTkVK1atVu3bqBeEOHRo0dx+5L4VvqTJ08OHDjQw8PDwcHBzs6uR48ep0+f1ul0VAtaKRw+fLhKpcKOCFiuCoIQGhr66aefYvPSlPxn1qxZX3zxxbFjxxISEmLzHySl0+l27tzJT5ax1awV358TYdGC0tZb3I60fPnylStXLly4MDQ01N/f/9dffw0KClqwYEFQUFBMTIwgCA8fPty5c+e8efP8/f1DQ0OXLl0aFBQUEBAQEhKyefPm999/HzQJxe7111/H9RQGgyEh/7lx40Z8fHxcXNz1/Cc2Nha35Zw7dy45OXnVqlXiJUZbReX+RSDwAoiwUCFi64JZKHCYpvvqq6+gBXbu3HnChAlI59ChQyNGjBgzZsyECRPGjx8/7imfDz74QBCErVu3Dhgw4JNPPhkxYsTQoUM/+ugjW8mMHz9+Yv4zfvz4Dz/8cNy4cZMmTZo6dSq28dEKKO1GoDlVKwf2OKIKJpPJ29u7U6dOUEyvXbtGU6OwfEFc8LfZbL506dKWLVtOnDiBxXLxHfSE7YgRIyQSCZYDkSwCWxWDflJJoFsLgnD8+HHG2G+//UamPfSK5pwpu9I4ANrEiRMxdPbw8PjPtaOlSZHHLT0CnAiLkJJFv7K3t09KSirYBHSIPj4kjJHR+zEMx4yWxWIJDw+HPqdQKJRKZfPmzWFNkJaWJs9/ZDKZeLIU5UGUggpl0aXlbwtFoLwRITSwhIQEmUxGR6x16tQJZ5MKgrB3794+ffq0a9eua9euvXv3xl6C4v/t2rVrQkLC1q1bu3bt6ufn98477wwbNqxdu3a2UujatWu3bt26d+/etWvXzp07d+nSpUePHr17987NzSUjHcgQ9HBiGiuHTqeDZpyRkWEymRo0aNCpUyfYtSYkJHh6eh44cIA+JdAhXU+I2U58RzhNmwgYUXCsqEqlgmkovjLxPgqrwuCVXq8H12rzn0OHDkkkkiVLluCwU4QhTqWyld7BibD0GD77FDgRFiofi+OpUqkWLlwYFBQUGBj4S/4DpTAgICA4OHj16tUrV6709/f/7bffVq5cuWzZspUrV/7666+hoaEBAQFLly4NDAz86KOPsKECp3g3adLk8ePHOp0uNTXVycnJMf9xcHCwz39U+Y9b/uPg4ODo6Ojj4wOFks+OFqe9Cg1T3ojw8ePHZrP5/Pnzjo6O48aNgy7SrFmzTz75BOMqjUZDN87TToniywUkiL8WiyU9Pb1ksl5snEkyBMYvBVnHircEQahatWqTJk1gQHTv3r0qVarAEJRGiiBOsjBCBTUaTUEiRHZDhw5ljCUnJ2PeGOkUXR4ywc3JyTGZTMeOHbOzs4OxK1G7eFa5+CAXHZITYdH4lM1b6sTBwcEwgKS1rkIFB/cEArBzsbe3x/HZ4DMr6025XO7g4ABU5XI5aXJAGPv/pFIpLSI2atQIKxZmszklJQV27Xfu3ElOTk7673P//v2bN2/idK7bt2/7+vqKVUPeOk+LQFkRYaFsQYRx4sSJ1q1b/9///R9UnM6dO3/44YdkCEP3GdFUIV4V5y+mXkGEYoljKy6W8XBiGVQoHJFDRaVDccWpFXTjrDgcMpeXl9e9e/dhw4ZhXTM2NtbJyQlW1mq1GtxD6iadFQAKxJSyOHdIsLFjx7q7u9PaIRYaxQucBYsEH5PJBAX08OHDjLElS5ZYhSx4XJRVgKf9yYnwaRF7EeE5ET6t6CwYnow2JRKJUqm0t7cX76mQy+Wy/McqIqlxYDJnZ2c/P7+7d++KP3KrIS3GuWI9oG3btq6urtiAYZU+/1kcBMobEeIcaovFEhMTA10tNze3W7duM2bMwB3rWMFKTU0FYdgiMFv+ZEqjVqvBsjjh1lZ4yCCi7UJFEp0CWujbQj0TExNBWhaL5eLFiw0aNMDtm6id1ScgToEWI+EJ8WU2m3v06OHl5XXhwoViKrg6nY60RgwLIiIiPDw8Vq1ahZukyDTpmSuFnAjFDVpe3JwIiyMuCw2DBTypVEqHjlKwggt7dE+hSqXCdb4SiQT7CEkjlEqlffv27dSp05tvvtnFxtO1a9cOHTr079+/R48eHTt2rFKlCmXKHSVAoKyIsJjfP8RxZGRkXFwcdCOxliNWm4qZIBbesJUeCiVNtBYzhYLBiqZJhMduB9rPB0/Mf+r1+vXr18POBf5YZddoNMRqOHQGLCimSYgv3PSEg+mRQnE0QkockN67d2/Lli04kRVaLw01kOaz+suJ8Fkh+SzT4URYAumJ6VDxRChIUaFQODk5kaqHY9hwPaE4F/Cf2AduqVTq6uoqkUiIYhFS/BchKWuczVaQiQsmzn0KRaAcEqF43hIKnMVioT3vWJyDKYeYFJ9KKIjvY8Lm9CKiIy/Sn2jbO01XIC5JkiKSokSys7PBauIqWCwWonaxPwgbccUsiALgaka4ER1rfkUUQ1zgghlRRDBloUaqFKYEDk6EJQDtuUeh7svXCAsVlEV72tnZESeJQ0qlUpVKZTVBam9vjzMbxdfTgzWRCK32YVe+mP8wuSqTyezs7BCdThmliVlxAbi7mAiUQyKEOkJGktC3xHfvQXZbSfBiSgrMqxOdiEm3mCmItyWIJyqJkApNBxSl1WrFxYYbK4VUKTEdwj6IohCPUhY0IEAiOH+cghGtUnhy0Cua+czMzMQ9U9jOj92ZCE8FoOilcXAiLA16zysuJ8JiSkwerEIiUA6J8Hl96jzd8oEAJ8Ly0Q7/WwpOhBVSvvNKFRMBToT/Kw/4r+eOACfC5w5xCTLgRFhMicmDVUgEOBGWQGjwKKVBgBNhadB7XnE5EVZI+c4rVUwEOBE+L8nC07WBACdCG8CUqTcnwmJKTB6sQiLAibBMxc+rmDknwvLY6pwIK6R855UqJgKcCMujVKrQZeJEWB6blxNhMSUmD1YhEeBEWB6lUoUuEyfC8ti8nAgrpHznlSomApwIy6NUqtBl4kRYHpuXE2ExJSYPViER4ERYHqVShS4TJ8Ly2LycCCukfOeVKiYCnAjLo1Sq0GXiRFgem5cTYTElJg9WIRHgRFgepVKFLhMnwvLYvJwIK6R855UqJgKcCMujVKrQZeJEWB6blxNhMSUmD1YhEeBEWB6lUoUuEyfC8ti8nAgrpHznlSomApwIy6NUqtBl4kRYHpuXE2ExJSYPViER4ERYHqVShS4TJ8Ly2LycCCukfOeVKiYCnAjLo1Sq0GXiRFhOmxf3WAYHB+N6WLpgvZiihAfjCLy8CLz33nuCIOAWXIvFkpub6+fnxxiTyWRvvPHGzZs3BUHIy8uD8KI72XFZLv/LEXhaBHDrvcFg+Oijj/DVODo6hoeHs3JKDq9SsTgRvrxynJe8lAjYIkKVStWiRYsbN27QTeUWiwV8+SrJBl7X54XA9OnTpVKpXC5XKBT79+/nRPi8gC5+upwISylMefSXFwFbRMgYa9q06YULF8xms5j/TPzhCJQCAZ1Ol5ubq9PpJkyYwBizt7eXyWSRkZGcCItPWM8rJCfCl1eO85KXEgFbRCiTyTp06HDt2jVBEAwGg06nw9/n9RHydF8xBCZPngwilEqlERERnAjLvv05EZZSmPLoLy8CtoiQMda+ffurV6/i+8Q3IghCKZQBHpUjYMrNzUWP+vDDDxljSqXSwcEhKiqKEyEnwpdXivKSv/QI2CJCiUTSo0ePEydO5ObmGgyG7OxsXf5j5A9HoBQIGAwGQRB0Ot3HH3+sVCoVCoVSqdyxYwcnQk6EL70w5RV4eRGwRYSMMW9v72HDho3JfwYPHjxs2LB+/foN4Q9HoBQIDBo0aMiQIcOGDatXrx5jTCKReHt7c6vRsmdBQRD41OjLK8d5yUuJgC0itLOzY4zhL7KAW8IfjkApEFAqlehOMpkMG9Xc3d13797NNcIy5kJYxGm12oMHD2KE4urqyhiT2nhkRT6wBlYoFHK5HAGRpkQikUqlMpmMAiiVSjs7O4QU71wsMvlCXiryH/l/H4VCYWdnp1QqbRRfamdnJ5fLKUdYMFNJUGzEpd6On1R4u/xHHIaqRrUuWFBb5bHljxQILkpZIpHIZDLMqGBqRSaTSSQSWzijtNQiVGxb+dryL1gj+JQgPFWNKmUrEalUaqu+tqLYwkGhUBBugIsxJpfLZ82ahZ2CgiCo1WqtVtuzZ0/sIyRgkSY6APC09bcgzlRZ6qi2kCQ8kRGaHp0ZH0uhmf6341v/LzoXW2+pv1G+VCOKgjDW+Yl+o6bU8ZCC6H2xnBTd6pOkYlg5kCiyFhfAPv8BgPjw8V1bRS/mT8KHuq6tiNRYqD56MmMM0hU9SqVSMcbc3d251WgZsyBlbzKZEhISmjRpgj31+PtUY21qaYoF8kO3I09bDgQmfrIV7MX7Ex2S9EQZxPUimi8BbrZqVHw8xSWxlZq4zMUPX3RqRb8V4yZ224olDlPQLY6Ft2Kfp3KTYLW3t/fy8rp48SJtqMfn8Pnnnzs7O0OwQsyBdMXugjQsLoNV+cWv4LbqS+IAFFfsWcTA1CrYc/pJnyeVvCAC8EEBqBZPDF90OrZSK1k1S/OdUkXEWRfqaRWAoBD7u7q6yuVyiUTi4OAwaNCgnJwcrhESGZWZIycnx2QyCYIQERERHBy8bNmyFStWrLbxhNp41q5du3r16uDg4KD8Jzg4ePXq1WvXrl23bt3atWvXrFmzevXqkJCQ4ODgVatWBQUFBeY/K1euXLVqVWho6Jo1axDYRvJFeSPZoKCglStXrvjvY6P4q1esWEE5rlmzJjQ0dNWqVStWrAjOf0Lyn9DQ0NWrV6/Jf9bmPwgZEhKCwgcFBQXkP8vyn4CAgOXLl6NGtgpqqzy2/G3hSf4r8x/CGaUlkIHGypUr0RyrVq0KCQkhnJGIrawL9X/aegGZgn/FOANt+ADPgn9t1bfQQlKrFcRh2bJlv/32W0BAQGBgIPrAxo0bd+zYodVq9Xo97ZoXBOHhw4e///47cMNfQL1ixYrAwMCCNYJPETiHhoaiiwYHB6MVVq9ebQtPfCmIgs6GXm0rX2BY8K+t9Ivwp88TOQYGBi5fvjwoKIj6GLVFUFCQrfKsWrVK3MRwr1q1ylZ4W/628LRVfupLq1atovKjCoGBgZAzISEhJJRspWPLH01W/HYMCgoCFBAm1F2Dg4M3bty4YcOGVatWBQQEhISEnD59WhAEToRlxn+UsXi/MDxh2kQBnsqBM4eKiILTTc35D51cVUT44r8SH3dkK5bRaCRTeISx2jFtKyL8UXiMG4oO+azeFoqnxWKBKXqhAFIhjUajyWQym82FBntWJXyqdAotSaGe4mSLrq84pNgtxsHKX/wTvd1k+o9pexE9H6mJI4rdT8QZHV4c5YluW+V/YsTSBzCbzSaTyWg0Fto0hXoi00JfFepZdCGfiGfR0QEdCZkSFMBW+sVsR5S/YCIoiVarFb/S6XScCMWAlIFbo9EgV33+o9FowBOGp3wQXRwJPpDXsDfGW/jTX1il019xCsVxG41GcbIGg0GcV8EUtFqtTqej3PV6vU6n02q1+OzFcRGG0jcYDPBBUcXhxXxTMMeS+SAvcVyxD4qNilAYBKBX2vwHpRXHBUQU6zk5IC8K/i0C/0J3maF4VCm9Xv/EAheKA3UMNDcVA52fBCXokN4SVnq9XqvVajQaW5bztnA2mUzYiU/NYTAY4FloRSh9qjiqQ/5WDqqslaPQxIvwpP5sla/VT8K/0MYymUwUAOWk6LbC2/K3hWcRVSj0lfj7pQBUSPJ5ouNp25GEDKWMBtJqtTjSFh0P4jcvL48TYRmQnzhLaEg0zEH3FQfg7kIRwJCZPuNypXUVWuAX7CnWzsVuW8UoSJnUJ21FeSp/UuKtWgpjcxoOCoKALc+2FPHnXU5blSqrfG2VR9ymYvfThhfHFbttpVMx/DEJZzKZsrOzcZI7J8Kyb1mLxaJWq6kcWq1WzI62vkArf3RisWdBH/FbGthiDgHiSTyhIQ5ctBtsRAmSflZELCIwyr3QwEW8JbisHIWmUwLPguiJfeAW+4hrJHaXIOtnEsUKFvqJsomzgA8FsHIgZMH6ilMQu8V1F7spWXQP/CRFEOnn5eWZTCbcDyBOk4JRIgUd4vClcYtrKnYXzBE+pclLHNfq8yHoEEZcEvgUXZ7ihy86HXEJi3ZTgUm1RY3gT7Wg7IpOrfRvxQiIp7ghUmjijRqREyE1Tdk48vLyKGOMiwsuGVKA4jjQh4oIiS5SRIASv0LKRRegUKGGnvq0BRP39RKX+YkRi65OEdGftjpFJFWCV2JwxO4SJFXKKMgdYlGtVj98+PD+/fvp6ekZGRkPHjx4/Phxamrq4/wnPT1drVbr9fq7d++m5z+P8p+MjIzMzMzs7OycnBxxXcTuUhayiOjiXAq6i4hYylfIy2pBHWkW6lnK7J5tdBpSP9tkS58ayR+aogA1ciIsPbY8BY4AR+DJCOj1+pEjR1avXr1WrVr169evV6/ev/71rwa2n9dee61hw4b169eHo3r16h9//LHY2Ipo6cl58xAcgSIR4ERYJDz8JUeAI/CMEHj06BEu3bW3t3d0dFQoFOKtXUW4JRIJDgR55513OBE+o9bgyfwPApwI/wcO/oMjwBF4HghYLJa0tLQ2bdrg1BgcK1PERnXsg5bL5aBAhUIhlUrfffddToTPo3V4mpwIeR/gCHAEnjsCOp0uKyure/fuOA9PoVAMGjRo4sSJw20877333gf5T+/evUl37N+/PyfC595Ur2QGnAhfyWbnleYIvFgEjEajWq3u0qULpkArV678999/P3z4MNXGk5aW9vDhw7t37+7atathw4ZKpVImkw0ZMoQT4Yttt1clN06Er0pL83pyBMoQAeyUb9euHWNMoVD4+PhcuXKliPKQYeQ///zj7e0N+uzbty8nwiJA469KjAAnwhJDxyNyBDgCxUXAaDTm5ua2a9dOIpE4OTl5eXlduHAhOztbvP9M7NbpdLBrP3XqlJeXF2NMpVKNGDGCE2FxEefhngYBToRPgxYPyxHgCJQIAbPZrFarW7duDTMZZ2fnGzduPDElo9F48uRJNzc3mNi8/fbbnAifCBoPUAIEOBGWADQehSPAEXg6BMxmc1ZWFrZPyOVyb2/vq1ev0u7mQtPC7ODC5ZsAACAASURBVOjRo0fd3d1x4c67776Lk0IRHvsIC43LPTkCT4UAJ8KngosH5ghwBEqCACfCkqDG47woBDgRviikeT4cgVcYAU6Er3DjvwRV50T4EjQSLyJH4GVHgBPhy96CFbv8nAgrdvvy2nEEygUCnAjLRTPwQthAgBOhDWC4N0eAI/DsEOBE+Oyw5Ck9ewQ4ET57THmKHAGOgBUCnAitAOE/yxUCnAjLVXPwwnAEKiYCnAgrZrtWlFpxIqwoLcnrwREoxwhwIizHjcOLJnAi5J2AI8AReO4IcCJ87hDzDEqBACfCUoDHo3IEOALFQ4ATYfFw4qHKBgFOhGWDO8+VI/BKIcCJ8JVq7peuspwIX7om4wXmCLx8CHAifPna7FUqMSfCV6m1eV05AmWEACfCMgKeZ1ssBDgRFgsmHogjwBEoDQKcCEuDHo/7vBHgRPi8EebpcwQ4AgInQt4JyjMCnAjLc+vwsnEEKggCnAgrSENW0GpwIqygDcurxREoTwhwIixPrcHLYo0AJ0JrRPhvjgBH4JkjwInwmUPKE3yGCHAifIZg8qQ4AhyBwhHgRFg4Lty3fCDAibB8tAMvBUegQiPAibBCN+9LXzlOhC99E/IKcATKPwKcCMt/G73KJeRE+Cq3Pq87R+AFIcCJ8AUBzbMpEQKcCEsEG4/EEeAIPA0CnAifBi0e9kUjwInwRSPO8+MIvIIIcCJ8BRv9JaoyJ8KXqLF4UTkCLysCnAhf1pZ7NcrNifDVaGdeS45AmSLAibBM4eeZPwEBToRPAIi/5ghwBEqPACfC0mPIU3h+CHAifH7Y8pQ5AhyB/4cAJ0LeFcozApwIy3Pr8LJxBCoIApwIK0hDVtBqcCKsoA3Lq8URKE8IcCIsT63By2KNACdCa0T4b44AR+CZI8CJ8JlDyhN8hghwInyGYPKk/n8ETCaTxWKh3+Q2m83kKQiCxWIx5z9iz1K6DQaD0WgUBEGv1+t0OkEQ8LeUyfLopUQgIyOjffv2CoWCMVa7du1Lly7p9foi0jQYDIIghIeHe3h4sPynf//+RqORupDlv08RifBX5RMBNK5Wq6Xile1HyomQGoI7XgQCxv99iCCfVd4mk4kEJYhWTLcgXf73xSNgNBrT09NbtWolkUgYY1WrVr18+bJerzfZeIxGY15eniAIJ0+e9PLykkqlSqXygw8+MBgMGGNhCIXmpuHUi68Xz7FkCIAIQX65ubk5OTnZ2dnPSgiUIB1OhCUAjUd5MgIWi8VkMoH1zGYzxu5EUWaz2Yqxnpzi04TQ6XRardZkMiESvrqnSYCHffYI5OXltW7dWiaTMcaqVKly48aNovNQq9Vmszk6Otrd3V2S//Tp0+eZj5yKLgN/+1wRELcmfa3PNUdbiXMitIUM939BCJhMpqKnyJ62HJga1Wg0mCClv/+ri/JfLxQBrVb76NGjVq1a2dvbM8a8vb0vXLigVqv1Nh5BEHJycoxG46VLl1xdXRljMpmsf//+er0es6MYSxmNRoyoXmhleGalRkCtVms0mry8PJ1ORxSYm5v7tB/7swrPifBZIcnTKQQB6IWY/TIajZjXwk+oiTRvWUjkEnmZTCZMqQmCgEkbjUaDXP67osT/lwECgiDk5uZ27NhRqVQyxurWrRsTE1NEC6OIgiDExcVVr16dMebg4DB06FB0IUTEjCi0ijKoEs+yFAhYNT3GN1aeL/InJ8IXifYrlJdWqzUYDOKpD6vKm81mqG5FhLGKUsyfUVFR4eHhBw4cCAsLO3LkyN69e8PCwiL4U6YIhIeHb9q0ydfXF2YvXl5eS5Ys2bNnz0Ybz9atW9euXRsaGvrtt996eHhIJBKZTNa4ceMDBw6Eh4dHRERERkZGREQcOnSI3GVaP5750yEQGRm5a9eu3bt3X758Gd81N5YppnzjwV4mBKzoDVqgIAharVa8Uige4D+T6q1YsaJmzZoqlcrR0dHBwaFWrVqenp4ODg5O/ClTBFQqVZUqVcCCcrmcMebo6KhQKBxsPF5eXvb29kql0s7OjjEGW1M7Ozt7e3tHR0dnZ2cXFxeqkNhNntxRnhFwc3NzdnZ2cnLq2bMn5gYM+c8zEQIlSIRrhCUAjUd5MgJ6vR5cmJubm5SUdOnSpbP5z/nz52/fvq1Wq5EEZi+fnFyxQ4wfP54xJpVK3dzc4JBIJHK5XMqfMkVAIpE4ODiA0pydneVyuZ2dndz2wxijKEqlEiY2CoUCqqEi/5HL5TKZTC6XKxSKMq0cz/ypEWCMYbWYMbZu3Tos5NMQudif+zMLyInwmUH5KiRkZeIMgxSsdZtMJp1Oh65sMpn27t07ffp0Pz+/Zs2aVa9e3TH/cXBwUCqVPj4+b7zxRqdOncaPH79x48aUlBSCLisri9y0hG42m2ETQa9oX4TYYTabdTrd+++/L5PJVCrV+PHjJ06cOCH/GT9+/If8KVMExtl4yrRQPPMyQ2DGjBndunVjjNnZ2a1YsUIQBHCh+Bt/kW5OhC8S7Zc7LxqvGQyGvLw82gybl5dHpPXgwYNNmzb169cPc1kw9sNwUaFQQDPD/BjNkvXr12/16tWJiYmCICAd7DkrdCM8zbgWdIAIBwwYwBhr0qTJ0aNH7+c/KSkpqampcPO/ZYXAAxtPWZWH51u2CNy8eXP+/PlQCgMDA8tcMnIiLPMmeGkKkJ6ejrI+fPgQjtzcXBhAC4KQmJg4e/bs6tWrS6VSlUrl5OTUrl270aNHz5gx4+uvv/7xxx8XLlz4U/7z2WefTZ06ddKkSV26dFGpVIwxJyenWrVqjRw58tq1a1ZLBUSxyJGMCW0R4ZgxYxhjr7/+Om1TwybCkm375bE4AhyB54GAIAhBQUGOjo5SqTQ4OBgaIQ21X7xM5ET44jF/WXPEtgTsiEAdsDNBEAR/f3+cGAI7iEaNGq1bt+7q1auZmZk5OTk4CgRTHxaLxWAw6HQ6jUaTmJgYHBzctWtXxhgYkTE2b948QRDUavWjR49gWYqNFrTdgvZCoAzEiNAIP/zwQ1jnnz9/HjplTk7Oy4p4BSq3LUv7ClRFXpWnQECv1//8888qlcrOzi4kJMRsNtOup6dI5dkF5UT47LCs0ClhIjQvLw/Ek5mZmZaWJghCRkbGjBkzatSo4eDgYG9v/9Zbb23evPncuXOPHz+2wgOaGfEW3ubl5UVHR69Zs+btt992cXGBPcWECRNu374tjk6MCE+j0UjpkANEOHjwYMbYG2+8cf36dQSGTvk8RrU8zeIjYOMktf+ch8efVxABjJ7t7e0VCsWqVaue+akaYulRHDcnwuKgxMMIoDFodXRi2dmzZ7t161a5cmXGWMOGDbds2ZKVlUWEB2ZCFKPRqNVqQVp6vR5zqsRh2Py+fv36Hj164BiR5s2bh4eHi21zxKd4k0lqQWOZQYMGyWSyli1bXrp0CcJXo9HQciZvSI4AR6CcIODv7w+7gbVr1wrC/5MwZVU2ToRlhfzLly8dgIQ1wjt37vTo0QM2L506dfr7779RJZqKNBgMhU76gyAR2GKxaLVaTf4jCEJ0dHTnzp2RZqNGjR48ePD48WNaJqTUxKRIbCrWCBs1anT69GkxX9rSSLj/i0HAltLzYnLnuZQ3BAwGw88//4wNMOvWrcMqBi21vHjhyInwxWP+UuZIWiCm8m/cuNGzZ09six4xYsSlS5ew3I1gCEP20NnZ2fDXaDRZWVnkT0dvg8xyc3MtFktqauq4ceOgF9auXTsuLo70QjGzEv+RA0T43nvvMcYaN2589epVAF22J1a8lI3NC80ReM4IWCyWwMBAV1dXqVQKq1H6kJ9zzoUnz4mwcFy4b0EEMjIywGFqtdrPzw8bJGbPnm00GqEsYgYSYWg2UqPR0CqdOM28vDxKjfyJLz///HPsoW7cuDGt9kEjJN2CYsFhNpu1Wu3w4cMZY40aNYqNjS3OfAsZcVilZusn3aRhK4CVPwa52AqJVzQOsAr5bH/aKifV18pRytwpNat09Hq9uFdQ3SH1SMW3ikX2UJQsOcRtit6CE0dxXJ/Yogq7ceg8dwSjjGh4RPMN1GNxLCpOQSoYTKy1UFxKlhziApMnHKg7DhsXz+1bBXu2Pwl5k8mEsw8tFguBUzAvDFJRPPruCgYrjY+/v7+9vb1EIlm1ahXfR1gaJHncMkAgKyvrm2++cXZ2Zoz5+fmdPXuWPmZ8bDQ1qtFosrOzr1+/HhYWtnbt2lWrVu3evXvXrl3R0dGkMur1epKGBoOBhNG1a9dg/2lnZzdr1ixIHHzAEH8UiyB4MUQIAUeZkoMEn5UDJSeJqVarSbZS3NI4rLKz+lkwZasA9LNgyKfyoXRARThpFimgXXCbBHyys7MxU1eEIKYErRx0MW/BDkDZFfoK23KQLzoqRifoiii2yWR69OgRrnSmXa2CIGRmZmLuzmQyoYti9qIIiKjYVmGsDuCFEXURyhClY+WwSpZ+WgWjn1ZDBApfhAO3RdLIIysri7pxEbGK/4oTYfGx4iHLCwI0ogwKCvLy8mKMvfXWW1euXKHvBBezCIKAIfPly5fXrFkzefLkevXqSSQSLy8vnHmmUqmaNm06efLkY8eOoW4GgwECEQxnMBiQwoULF4YOHYpdhmvXrsVbGqIWFHalIcLSo0wSx8pBKRuNRrEyQf6ldFhlRz9LmexTRadMLRaLWq0Wi0txM4FFxD4lGBMQd2IIBSIBydm6wUCsjqNeYuLBuI2SRQCNRmOxWHQ6HYUUVwqkWDBZMWjAROxDWev1+ry8POrPsBQrGJLCi+EldwnCE/IajUatVmMXk610yN9sNmNtgqCgV6V0cCIsJYA8ehkgAEGQnp7epEkTLA1u27YNtITvBMIIn/eDBw/GjBlD18jRUTLYa4ifzZs3h30NfZ/EtbT14uzZs7iCx9fXFxOkCJyXl0exCIuSESFFf04Oi8WSkZEBWKiCdNRqKTN95rKpBOUh0Ywpa8wrkmafm5uLWgMB+Gu12gcPHpQgL5pAo82sYtWz0ARhly+mMehGjx8/NpvNDx8+DAsLg1IoCMLdu3dh24zeRTUCV+GcP1hgFex+heZuyxOr3TRb+2LaEfegGY1GnU5HXZGaz8qBdf28vLyTJ09eu3YNFYG6bKtST+vPifBpEePhyx4BiJK1a9fivLRp06ZlZGTodDrxwBbLKoIgbNiwAdfOOTg4eHl5NWrUaMiQIT169HB3d3dzc8OJ2HZ2doMHD05KSjKbzWA+qwNFYfwya9YsTMMuWbIEG+2BRUFJVD6JUBAE4nUoMVbKR8maFmKrIAglS63EsUh60sJtRkbG3Llzp0yZsmPHDkoWSj+60KlTp2bMmPHpp58eOXKEAhTfAQlOGBLDibVtsaDHWA1Mg1UxmvGLj4//4IMPGGNLliyh+XwyyKJgtJam1WpzcnKItMSmy8UvPwpM1IuRAZKilJEasC1+ykWHxBoqwWU2m4EhtaCVA1rv3r17a9eu3bp16/Xr1xedfgneciIsAWg8StkjkJmZ2bRpU4VCUb9+/Vu3bqFAIEIaoWOC9JtvvlEoFN7e3jNmzDhy5MidO3cePXqUnJx8+/btb775hhRExtivv/6KdGiWjMaqEBbx8fGdO3eWy+W+vr5JSUl0725BDnhWRGglEax+WjUDvbXyt/qp1WrXrFnj7+9/584dq1cl+AlNQqyvPDERKufTOmylLE6HWNBkMp06dQpK/IwZM6iNsItUEIS0tLROnToxxlxcXFq1akV8VjAXcfpiN9IkjRPryidPnpw7d+6hQ4cwOUFdiOQ+yEw8aIuPjx8xYgRKcuTIERx1pNPpoqOjf/vttzVr1kANMhqN4EgklZSUtG7dusWLF58/f572xRYsfKE+qIXRaDx8+PDChQsjIyPpkHpSEMURSV8Ue5JbjInYTQGsHPSdCoKQnZ29ffv25cuXnzlzhtrOypGVlaXX6y9evIgrJFu0aBEeHm6VZil/ciIsJYA8etkg8PfffzPG5HL5xIkTDQYD9s6bTCaNRqPT6UwmEw58MZlM27Ztq1Wr1oIFC8SjTmwWTEpKatOmDWOsRo0a9vb2o0ePhj8JL51Op9frxbrm4sWLsb64fPlyDFRp2C4G4pkQoVimFOpGjnhFssNksnlCCkTz/v37vby8ateufeLECbHZiLj8xXdDRMLug8pg5XjachZa2eJ4Ur4oz507dxo0aKBQKL755huyOiEivHr16r/+9S+cqNekSRPxZSNW1adkrRwQ6Fi90+U/iYmJEydOVCqVX331VWpqKpluYfVarAtSFo8ePfrhhx9glrxkyRIs38Ly+fvvv3d1dfX09JwzZw6oLiMjAxEfPnz42WefKZVKFxeX9evXi2mVUrblICQfPHgwbtw4e3v7b775hvRCakpxdNpcZIUAflKCVo5CA5OlDPTCkydPtm/fvk6dOqtXr7YVHt+j0WgMCgqqVKkSY+z999/nU6PiBuLuVxEBnU43bdo0e3t7d3d3XCpN++thUycIAi3dZWdn5+Tk4FvKycmxEhkhISF0FVn37t0pHavjtsF5er0+ISGhRo0aMpmsb9++kEqFDpZfDBGS3IEEIStEqMIF/wqC8PDhw0WLFuEo8IsXL5ay95A6iJFHwRzhY6ucKHDBvxTeymFLUFIwMQ4mk+nKlSve3t6Msa+++gotiPpSZ/j99999fX3r1q27adMmavqCmBQsIXwwsNDr9bgCRRCEmJiYRo0a4ZRa9LS8vDxahaUBFjlSUlIOHjzo6enJGJs6daparcYBfijtrVu33nrrLcaYm5vbxo0boYBCKQwMDHR0dJRIJO+//z40e1JMC5bfyofgOnXqVMuWLRljCxcuxHoq6BBjKXEsEOET25dShsNWeFQEe5b27duHlYuIiAhb7YvPGcOIWbNmyeVyiUSC5QlxIUvj5hphadDjccsGgfT09KZNmzLG+vfvT2uBVgxnVTJMW+HLxCsIowsXLri5uWEbYocOHdLS0mgKyyoF/NTpdBMnTsRNnrdu3aJP1ypwyYhQvDBZ0CYeKgtJVZrKw0Qu3byBAHhrNpshNyGyIVBWrlxpZ2fXrl27hIQEMnxF+bVaLcloqxoV/IkpaKQPAQq3Xq8nB1ZSIcKgASAd4GM2m4l+8vLysLSm0+mQmpVQpvaFv3iNFrRBM9WETFpaWs2aNV1dXb/77jtxmigDNj+gqBDNtLZn5aAcqW+IUaIzg8xm8927d7t06aJQKAICAmiykaLT1AJ8jEZjcnIyqKhJkyaYjQAgNL1/5swZqVSKE2txoK5Wq01JSalbt65EIqldu3ZMTIz4dKSCzSQ2BDUajVQYQRCSkpI6d+4sk8kWL15MEanYmAuBP1E+mhKnEsIqG9Cha6EhLBYL4UOIIR3kjkRgOvTPP/9UqVJFIpFgWIaMEB0pY5EVzKrX6zMzM9u3b88Yq1WrFlZ2qUbU56kuxXdwIiw+VjxkeUHgn3/+qVGjhlKpnDlzpnjKy1b5NBoNfa4Q/ZgfMxgMMTExmGyxs7Pr27dvamoqvtJCk8LYf8WKFTiPe+vWrZCY4sQRsWREiLgQhUajMTs7++DBg6GhoQEBAatWrfrzzz9hrQpzBhBDbm4u6OTatWthYWEbNmwICAhYsmTJmjVrNm/efOHCBaSWlpa2d+/eLVu2hIWFgchr1qz5888/7969+48//ggLC1u/fj3ECmQQbjYuFAQIO2I1vV5/8ODBkJAQzASePHly06ZNy5YtW7169ZYtWyC7sQ0OKJ05c+aXX34h45T9+/cvXbrU399/69at9+7do6laMT8dO3Zsz549K1euXLZs2ebNmyMiIugtbmOmaYD09PSoqKh169YFBwfv3LnT39+/Vq1ajLGZM2cidzBBWFjYpk2btm3b9tdff23dunXNmjWnT59GAMxAkrgnNevOnTthYWFBQUErVqwICQnZsmXLmTNnUGBBEI4dO7Zr166wsDB/f39Mt44ePXr37t1bt24Fwps2bcL2HghrDMg0Gk1gYKCLi4u7u/vcuXNpSEd6tsFgyMnJ+eSTTxhjrq6u8+bNQ3lmz56NqdSffvqJZnRpYbtgq2m1Wqq+IAgnT57csGHDzp07f/jhBx8fH6lUOnXq1O3bt//+++/btm3bs2fPtm3bUlJSkJfBYICeioibNm1avHhxYGDgn3/+ibVJajIYgiL3O3fu7N2799dff/3xxx9XrFixfv360NDQEydOwFJJq9WGh4f/+eefu3bt+uabb2rUqFGlSpXvvvtuz549+/bt27Nnz6ZNm3bt2oUCoEMajUZAZ7FYgoKCfHx8GGOzZ8/Oy8ujgUjJLIZQYE6EBbsN9ynvCCxZssTOzq5q1aqbN2+mAa/V2FNcB5IREAe0cqPT6TZu3Eg7K8aOHUujS3F0cmM5MDo6uk6dOoyxL7/80tYgtGRECC0Q1BUVFTV9+nTMGtHNUD179ly+fPnjx49JQGPFJTAw8O2333ZyciLbHwjKjz/+GDU6ePAgNlxiFg6zbTQnjGunevfunZP/oL6EFVXfygEmTktL69atm6ur65QpU5YsWVK9enU7OzsUw93dfeLEiTExMVAX1Gq1xWL57rvvPD09x4wZc+DAgXfffRfgI3zTpk137twJ1kQF1Wr18uXLsY5LVfP09Jw6dSq2fqKQ2DK4ZcuW9957D2MUxphUKpXnP5CYRDM5OTn9+vUjYOVyuXiRjBRu8L0gCPfv3//55587duzo7u6OMshkMolEUrduXRzmZzAYevfuTW2EpWvGGJWEMebu7v7HH3/QMTHQpbKzs99++23GWKdOnXAXNIl+Un8FQbh27Zqfnx9jrF69elFRUf/88w9ogCbnbXVCq/YCYxmNRlyKgk2xqBFsoXFFO3w2b96MZPHtXLp0acaMGb6+vrjaDGHq1KmzePHi5ORkKi0cu3btGjVqlJubm52dnVwud3FxwYxL9+7d79+/LwjC5cuXMaNDrYAEMdECt4+Pz5kzZyhlsdarVquxqbdOnTpYGUFRaRtxwYo/0YcT4RMh4gHKHQJTp05ljL322mt0hqf46A1bxdVqtfiqyQZdEISBAwc6ODiACebPn//EdEwmE0xsZDLZxIkTQcMFOaNkREif/c2bNwcOHAiJ0K1bt7Fjx+LYUtj1HDp0iCaXBEE4fPgwrOmUSmWLFi1GjRo1ZMiQNm3aODo6TpgwAVcwnjhxolGjRh4eHrVr1wZROTg4YANJzZo1GzVq5OLiMnbsWI1GQzKlCM2Y6MdsNqenp7du3Zox5uPjAyauX79+27ZtcQ2Ik5PTDz/8gHphaD9r1izGWP369THB5e7u3qpVKz8/P8jiESNGJCUlIXx2dnZISIhCoZDJZJUrVx43btyYMWOwAscYmzBhAnaaQykPCwtr1qwZEGvVqlWHDh1atmzp4OCAecVvv/2WSEitVo8cObJmzZre3t6U2qRJkzBTiuEUqVAWi8Xf39/R0ZExplQq69at27Zt23bt2nl4eHh5ee3evTsrK8tsNk+aNKlmzZq+vr5VqlSB0Le3t4dFUrVq1VxcXKpXr759+3aUAQgbDIaLFy/WqFGDMfbFF1+g01L/pIEODj/7/fffUZFx48Z169aNMVatWrWDBw8iFuZUbXV7sT+mPT/++ONKlSrVq1ePRkXOzs6enp5VqlSpV6+ek5NT7dq1obLn5uaiJF988QVoslKlSl9//fW7777r4eGBnbgBAQHiwiclJXXv3h0N8cYbb3Tv3r1v375dunRxcXHp06fPrVu3cnJyUlJS3n77bfRGd3d3hUJhb2/v6emJ3U3u7u7Vq1dv06ZNTEwMzU/Qrk0ME4OCgjCM27Bhg/hbEFf2qdycCJ8KLh64XCCAA89atWqVnp6OT+WJBCZeHaRVqFu3bvn4+EDM+fj4REZGkh5gq55Go/Hu3bt9+/ZljA0bNgzHVz4rIkSmJpNpwYIFCoVCqVQuXbo0Pj7eaDTGxcVt3bq1WrVqjLGBAwciX8jNOXPmKBQKHx+f0NDQlJSUu3fv3r9/Pz4+Pjo6+ubNm1SRuLi4a9eu3bhxY+nSpfb29k2aNNm7d29cXFxCQkJcXNypU6ewZEjU/kQiRMpZWVm9e/d2dHRUKpWVK1eeO3fu+fPnU1NTd+/e3bx5c8ZYly5daDFSEISvvvpKpVLh7rdOnTrt3LkzIyPj7NmzY8aMYYzBlhVZX7x48fXXX2eM9e3bd9++fTk5OZmZmVFRUQjp4eGxf/9+bLC7efNm//79cf3WmjVrEhIS0tPTb968+eeff9avX58xNmfOHMJBrVZfvXr1zJkzl/IfPz8/lUqFMQ31JZx1YrFYwsPD69atyxh78803g4ODz549m5ycnJSUdPDgwZ07dyYmJoInbt++fenSpatXr/71119t2rSRSqXY1XDz5s24uLibN29evXqVdE0ceGswGH777TeFQqFSqcLCwgA7LQ3SzAQOx8nIyIAO5O3trVQq5XL5F198gflh9AFa1KRqih1YYKNempycfP78+YSEhH379jVr1kypVM6fPz8pKenmzZvx8fFxcXFnzpyhlWaz2bxz50402dixY+Pj41NSUnJycsLDwxs0aODo6FivXr24uDjM5AuCsH37dkdHR2dn559//jk2NjYjIyM5OTktLe3atWuYGwClJSQkxMfHx8TELF68uFKlSt7e3mvXrr18+fKVK1cuXbp05coVsuSiM3owgAARXrlyBX1jxowZdOYcqkyNKEbgiW5OhE+EiAcodwiACNu3b69Wq2mFgL7zQotLyhadDykIwowZMxQKBcbaEydOpCO5C02BJlSzs7NHjx7NGOvVqxeW6ApmXTKN0Gw2q9XqCxcuvPHGG4yxSZMmUUnweS9cuBBzbqdPn6ZtGx999BFjrE6dOocOHcKAgCwPIV4zMzOxvQQm/qGhoYyxBg0agJ8gSZER3EWf14WQJKnv3buHqUsPIdndCgAAIABJREFUD4/ffvuNrHIMBsP333/PGJNIJNu3b4c4MxgMn332GTz79OlDK4iZmZnr1693dHSUy+V0D84PP/zg7Oxcu3btf/75h3AQBCEuLq5du3aMsWnTpoEM1q1bh1nQpUuX0pox9qhhEnvevHmFaroPHjxo3LgxY2zUqFHIAv0EDfr48eNp06ZhGnnFihW2yIa6FvYmtmrVijEWGhqKpTUCijoJbe+ZPHmySqXy9fXFghwCgFnxF4teaPqYmBho3hKJZNCgQaBqOnr0iQM4ApD4WBCElJSUFi1aYBc/eg7ZWtPGxOzsbJwd369fP1x5RjOQu3fvhl4YGBhICxO//PILVjQ3bNiAklPF6WNB7VCkw4cPYz/SqVOnCtZCfPwvxcKi+FtvvaVUKnv16oXRHh1Bx4mQ2po7KjgCo0aNwsoKDs0qTteHHCQzRb1ev2/fPpjJyGSypk2bHj16lL5wW/DhkzYajePGjZNKpX5+fhAr9KlTxJIRIaL/+eefdnZ29vb2ixYtys3NTUpKSkhIuHXr1qNHj/bs2ePq6urk5LRmzRpMmmm12oULF2I6buTIkfv27YuLi8PCIckmKhXWycCmTZs2jY6OxivQiTj8E8cEGJjjqJquXbsyxoYPH44USOE+fPgwJkhXrVpFbTRnzhyJROLu7v7333+DcaH/RUZGNm/e3NfXd8OGDYIgZGVldevWzcXF5Y033oiJiUlNTb137158fHxqaurt27c/+OADqVTaq1evtLQ0vV7/9ddf47or6BxZWVlg9CtXrmBldOHCheL9MFqtVq1WazSapKSkli1bOjo6Tp48GXIWO0cBS3JyMrinb9++ycnJoAqyicXCJx1Oi58JCQmNGzdWKBTff/89qoxDTWFbBHxAnBqNZsyYMY6Ojt26dcvMzKTxGWLBGhnFQKykpKQOHTpgyvG9994j+16iZ0JY3Nxwi81YyKQzNzf34sWL7dq1k8lkCxYswBYjmgaAEqlWq8+fP//aa68BogcPHiQmJt66dSsuLu7x48cRERGYjv6///s/RLRYLH///TfmLVq2bPnHH39ER0enpqbSKIS+FJ1Ol5GRkZ2dfeDAAawrY488yNJiseTm5tKdGBjPAQdkpNVqx4wZI5fLO3ToQBfCPHFaqCAy5MM1QoKCO14aBDBE7dKlS3Z2Ns4jfmLRIS8o8IkTJ1q0aAFzBm9v70WLFom3PNtKDbJGrVYPGzbMycmpbdu2SJY+b4pYMiIEIa1du9bFxYUx1qJFi+7du7dp06ZPnz5vvvnmW2+9BYtEmUy2bt06muy9d+/eyJEjYcrh6OjYpEmT0aNHr1u37syZM8RJECWQR4sWLZLJZC1atMCGelJZMMUEhhOriVQpsQPySKfTPX78GHvdZs6caTQakQiOnz527BgG+4sXL0aCarV63rx5Dg4Onp6eN27cAOYYy2s0muTk5JSUFGxiu3fv3ttvvy2VSr29vTt37tylS5dOnTr16dOndevWvXr18vDwgEauVquzsrJwOFmHDh3u3btH5qwmk+natWtQ+L777jtS6EF4aMrExETM306bNo2IBPp0Xl7e1atXvby8pFIpjJNBdQSCWBGEkmcymW7cuNG+fXulUvnvf/8bcplGDFZU9+DBAxS7V69eMCEhtoAD5YFbo9F8+eWXYEGYQS1cuJDmDInbqGwFHeioKAy6mSAINMG4aNEiYjLEJSY+e/asSqVSKpV16tTp3r17586du3bt2rt3bz8/P19fX9g6zZ8/HzeZgKtmzJiBtU+ZTFa7du1Ro0YtXbo0KiqKZgvEmt+GDRtwaMDevXup7QhqlEqs5aODZWZmzpw5kzHWrVu3hIQEaguyoS2IQNE+nAiLxoe/LY8IQCPs2LFjeno6XUYDuUNfjtXwEAaZYCyz2TxkyBCy65syZQrENM29iBOh+sMzO/+Bsd+gQYNgVfGsiBDEsHbtWplMJpVKJRIJzE/s7Oyg8ymVSvgvX76cdBej0ZiUlLR06VKYzEBcMsZat24dFhYG2UTjAEEQQISNGjXCwV0kfSBzUReaGUNEHNlDBgvwhOljRkZG+/btFQrFxx9/DIFF+89OnTpFUhsw6nS6L7/8UiaTNWzY8OzZs1A7Cv41m81ZWVlNmzaVyWSoOEwxMYkNyyapVNq3b9/ExESdTjdu3DjcQJKZmUn3GOh0ups3b9apU0cikXz++ec034u2hoFJcnJy8+bNpVIpzUKTIZVWqz137hyUG+zdxskMqAjRm9UwIjY2tmXLljKZDNq8uHPSJkKkkJ6e/v777zPGcIwDehdxIQpJZzVs2bLFxcVFLpc3adIE5k61atU6fPgwMQRFpO5aHMfNmzcxCf/TTz8hPOWLzyc7O/vMmTMAgTGG1hQ3Chkni7tZdnZ2WFgYUkbzOTk5Va5cefny5bQLQqPR4HPbuXOnu7t7pUqVdu3ahTIQpESHqB0gwl+1Wg2LuZ49e8bGxmIOGcFQkuJUXxyGE6EYDe5+ORDAqlizZs3Ep2WKPwBIQ4zBaSSOut25c2fu3LmMMRhBDBw4EIsTer2epBs+NissMO42Go0pKSn9+vVjjE2ePBn3oj1DIhQEITg42N7e3snJafr06Rs2bAgJCcG2vPXr12NL1vr166FOmUwmGmWnp6dHRkb+8ssvs2bN6tixIyyAWrRoER0djYO2aXFo6dKluC74/PnzIDOqr1jWQMhCMhIUarUaZ9eBV/R6vVqthv3nlClTaJyBdPbt2+fq6uro6Lh8+fK8vLzc3FyDwfDdd98B/IsXLxakQPjAurJNmzZeXl5NmjRZu3YtjqMMCQlZt27d6tWrf/3119WrVx88eBDFGDVqlFKpbNeuHWqq1+vT09MtFktsbGyNGjXER6yhhFTftLQ02PHDYhaKBakX58+fx9TujBkzCAHo1pg6pvEBmaTGxMRgxXTBggUUhU7vRO6Yz8/LyxszZoxSqezQoUNCQgLhTGWDVi0IwtWrV/v27atSqRwdHfft27dkyRLGmEKhGDFiBOZUxXo/ZVocR3R0dL169RQKxY8//ohRDqnFdJNGdHS0o6OjQqEYPXr0jh070BtDQ0M3bdq0du3a0NDQjRs34h5QOrsOCt+ZM2eCgoK++OKLXr16YXBWtWpVLGPT2EsQhD/++EOhUDg7Ox84cIAm5PEtUzAwHH3OOTk5ZrN56tSpEonEz88Ps9ZFj2KfiAYnwidCxAOUOwRmz57NGKtSpUpUVJS4cMSF4iNaaL4uNzc3MzMT5g/YwDRgwIDTp0+LU8AEGoljegUfiMhz5841bNiQMfb111/j83tWRIiLUiMiIhhjlSpVEts6oiQkLrGRXHybBOqOv5cuXfrqq69oWlKsHBuNxmXLljHGmjRpcvLkScgsHNCKATj25JH5oiAIx48fnzVr1hdffLF//37iXQgpi8WSl5fXtm1bmUz26aefYhs+wuTm5s6bNw8HSUdERBCS8+fPh3VoEUSIEcmwYcMYYx07dqR965QIHFhDysrKGjt2rFKpbNSoESZ7qSJYO2SMff7552hZAjA3NzcnJ+f69evt2rVTqVSTJ0+mARPuBhIEITk5GbYkHTt2vHr1Kqa7afKNtm+L9ZWYmBjMtX722WfYt6fVaml7A1qHessnn3yiUqlq1qx57do14j9Sg0h5mjhxIqaCP/30U7zFRkAHBwdM6dMQxwqfJ/68ceNGixYtXFxccASdOv+Buk9AxcTENGjQwN7efsqUKQUTzM3NRUiaqEfPocILgnDr1q3Q0FAYeU6cOJGGmwaDwWQy7dixw9nZ2cHBAVtIAQ7KADfBRXt7cnJysrKyOnToIJfLe/XqhRZBshS4YFGL9uFEWDQ+/G15RGDjxo32+Q+sBLHADg2GuJDKLf42fv75Z2w/UqlUPj4+ERERkGLZ2dkIptVq6ZJVSgEyFHJQEITdu3djv3ZgYCDCiLMgH61Wi7XMRo0axcbGPtESBwHMZvOtW7caNmwokUiaNWt25coViEgsjUAdEc8dodYPHz6EPCLBdPHiRRcXF6VS+eOPP+IVxGVeXl5QUBBjrGrVqr///ru4jlZuxNLr9SNHjsSIvlevXti4iZM2ET4rK6tdu3ZKpXLq1KniFM6dO9euXTu5XN6nTx+M2cGa33zzjUQiadiw4fHjx4vQCDMzM1esWIF8v//+ezRTTk4O1EpkRDO0INfKlSsvXLiQdJqNGzdCLZbL5Th0G30DSSGFu3fvQoEbOXIkWhnaG+lwGDbhZhIStYQ/HPRTEIT4+PgWLVpIpdJhw4Y9fPiQ1BSEQROgQfV6/U8//QTd7sCBA2A4lJDW8HBmDdbhqlevHh8fj5526NChKlWqYIs9baWlvMStULQ7NjYW2vzgwYPFow2yUjGZTOnp6ViJqFKlyq5duwBCdnY2gY8eSGSck5NDJ4MjjF6vv379OjIaPnw44a9Wq/Py8g4ePIjTf+bMmUNtZzab6bpg8hSb/NCs9axZs9BR8bfgl1g0AvSWEyFBwR0vDQJ37twRW73je8MHIz4vmI6vhObk7+/v4eEhl8tlMln9+vUPHz5Mk2BWNYelAA3S6cgriLMffvgB+ujx48cLXnSOpEpmLIPP+P79+6tWrYLO2r179+XLl9++fTs6OvrixYsnT54MDg5eu3YtpjRzcnI0Gk1AQMCCBQuio6NjY2OvXr164cKF33//vXv37iqVysHBAduuSY8xm80HDhyALWXXrl1DQ0MjIyMjIiK2bt26Y8cO2pIBZDQazYULF2rUqIGkJBLJ+vXroYyiqLi+EVajbdu2PXDgwIULF6Kjo//880/MHteoUWP58uVAUqvVZmdnf/vtt3Z2ds2aNTtz5owtIoRQO3/+/Ouvv65SqTw9PT/88MPDhw+npKRcvnz5zJkz27dvDwgIwNSuwWA4ceIE9gu2bNly+/bt4eHhS5cu9fT0dHFxqVatmlwunzdvHgwRsWdg7969Bw8ePH78+NatW1u3bm1nZzdw4MCjR49GRUVt27bt7t27UJT1ev2KFSt8fHwUCkXdunXHjh27c+fO2NjYo0ePBgYGjh49+ty5czDEJX3o0aNHOMHO1dV19uzZhw4dOnHixJEjRwICAmDcSJp0dnb26dOna9asqVKpJk2alJ2dTRPdRBXJyckYS7m4uKxYsQLHqxqNxgcPHsydO1cqlTo6Ok6cOFGn02HK2qobP/Fnamrq5MmT0Zn//e9/R0REoDOsXbv2ypUr0NgEQVi9enXNmjWxRWfRokXnzp27fv16fHz88ePH161bFxAQgJuNMZe7bdu2OXPmREREREVF3b59+/Tp04cOHZo0aRIGJYGBgbRJH6x/7do1XIbl6+vr7+9/9OjREydOHD58eOPGjTT4I46n42QDAgK8vb3t7OwO/H/svXd8FcX+/7/phVQCIZAAoV6aDQEpol67IqICXsSSKAQI6b33UC7tqhQVRFSwgSgIiBQhNCENkhBClRJKCOnJ6W1/j5vX987vfJJsOOfkpJC854+wzM5Oee6efe175j0zf/zBZBvtZT/b+zZfOwEJoTYNOn4wCCiVSrxnR40aBWuDdSjB5U+7JxMdg5jehPVB+vfvjz40tVrN+hjZdksYgcAMBPamZk50paWlWNrjkUceYUudNf4ONUwI2aunurra19cXnjJ2dnY9evTo3r27q6urk5OTiYnJ1KlT2ezJe/fuoS+ue/fuVlZWPeoDLjQ3N1+2bJm2JYoXSk1NzcKFC5njyYABA3r27Gltbf3kk0/eunULEshebVlZWdjSD8bZ999/jw8OJJPL5TU1NVhgDKY2HB+Q2NPTE3uoajQaFK1SqbCyzMCBA0+dOsXwNjjAeJVMJjt48CB8LmDC9urVy9nZGSru5OS0bds2tnDaqlWrsNCJi4sLKmxtbR0XF4cBKuxHCFt///79FhYW+B7CJTDLzMzMsOZOSkqKthVy6NAhbGGB/up+/fqZ1Qdzc/Pdu3ezlEy9MjIyhg8fDgJDhw51dna2tra2s7ND/4FYLGadFmq1GusHeXh4MFFH9zgmkLzzzjuo4YwZM1j++IneuHEDNhZknn3o6PsD1ibs4eHh6OjYs2dPW1tb9Bag0LKysmXLloGqra2tk5OTi4sLnhlra+uBAwdev34d5VZXV/v7+3Mc1717d0dHR+f6wNav8fX1hd6j+5TZxytXrsQ9xcJJ+Orq2bMntmbEo8g6IWCkPv/88xzHTZw4ETty48uJfQrrC4HneRJCA6DRJe1MQKVSYS8hW1vbTz/9FN+ATKuYlwE6uyorK7HVC8bkhw8f3mDVRzbYg45HCCczCpk5iPfXTz/95ODgYGJiAv946IERhZC90S5evBgZGfnKK6+MqA/Dhw9/+OGH//GPfzz55JOLFi3CGwrDn/Hx8f/85z/Hjh3bp0+fIfVh/Pjxzz///PLly2tqapASbxP2ZV1QUBAREfH8888PHjx42LBhyDwgIADLgWp7t5eVlcXGxj700EODBw/28fFhq88wYauoqMBbydPT89lnnx03btz48eNHjBgxa9as9evXY8p8dXU1usswQjl69Oh33303Jyengf6x/7J6yuXyH374Yd68eSNGjBg6dKinp+eQIUNG14c333wTy1jjvty5cyckJGTcuHF9+vQZNGjQ448/vmLFir///vvjjz+ePHny6tWrcY9EItGxY8cee+yxyZMnv/jii88888yTTz75zDPPTJ48+bHHHnvmmWcmTJiwadMmLNwDdLW1tV9++eUHH3wwceLE/v37/6M+vPjii++///7Zs2eZ/cE8PFUq1ZYtW95///2RI0c++uijffr06d+//7PPPvvbb7/J5fKKigpshILHbO3atZaWliYmJtHR0UDEVrguKSnBLIVXXnmFjZ+xefQymeyzzz6bMGHCxIkT586dW15ebthvsqKi4vPPP589e/Yjjzzy+OOPA++IESOwyhJ210KHyvLly6dNm/boo496eHgMHjx41KhRDz/88Isvvrhw4cIbN25Ainie//bbbydNmjR69OiBAwd6eno+/vjjI0eOfPPNN318fNCLixuhUqmwOh3P87du3VqxYsW0adPGjBnzxBNP9O3b99FHH506dSqbKY8fMjp+pFLpxo0bsRMTdtLGbWID4ew7Qy8gJIR64aLEHYVAdnZ23759TU1NX3rppTt37mDogo1bsK1kSkpK9u7dCwupW7du8Gu/cuXK0aNHc3Nzjx07dvr06ZMnT544cSI7O/vIkSPs3dqkEJaUlGB9L3t7e3iawKY0lhAyj0T2266pqTl//nxubu7x48eLioouXbrEymIHYrH43r17Fy5cOH36dFFR0ZkzZ27fvo1FQDQaTVVVFbAwHxaIt1gsrqmpKSgoOHfu3PXr12/fvg35uXfvHl7u2jPQ8/Lyjh8/jp5hmCxMq27dujVp0iRnZ+f33nvv3r17p0+fvnXrVnFxMaseXkxsIE0kEpWUlFRUVOD7g4mf9gGsWNRToVCgMy07O/vUqVOnT5/GCmr4YsBwGhugun79enZ2dn5+PmtFZWXl9evX2TsXhVZWVt6sD6WlpWVlZVgDrK6urry8nNWcuSyCXnV1dWVl5ZkzZ9ArCG9h/BjYfD5pfcAbWSwWFxcXnz179sKFC7du3SorK2POOMzFFA8PZhO6ubn9+OOPOAVRqaqqqqysLCkpKS8vZ7SBkelTdXV1cXFxZWUlq4Nev0/Grby8/ObNmxcvXiwsLCwuLoYks6FKoIYn9t9//33mzJm8vDygqKysxNPCvgPq6upKS0tv3LiRl5eXUx+KiorwHYZ2oSMX9cQWS9C5e/fuXblyJTc3t6ioSCQSFRcX41fAnkO4K+fn52NdoalTp+LXCkOQ/faZja4XChJCvXBR4o5CQCKRzJo1C6sPY7N4/Fzxk8MQmkwmq6mpmTRpErYLMDc3d3Jy6t+//5AhQzw9Pd3c3Dw9PXv37j106NA+ffr07dvX09Pz9ddfv3nzJn7bTI3Yb+zXX3/Fmv2vv/46XvRIw176jI5hXaPs8o5/AHlTqVQikQheo016FXb8hrR9DVkvHxZIu3TpEibqvfrqq7CB7mvT4BOBvfFZ975QW7DzHzP0sawEMhG6pEPFM7NboVB4eXlZWFg4Ozt/+eWX+Fpt/NeAypMQGgCNLmlnAljI49y5cxi8eemllzCvDoIElzNU8cKFC2wtfMwIxvgQhnAwHRjH+DtixIiLFy/yPI/d9TQaDb6L6+rqbty4MXXqVJR47NgxtsowfocNiHQRIeR5vqKiYvTo0ZaWlpgw0IAD/VebAPtgYm92pVJZXV29ZMkSLAwUEhJSVlamUqmqqqpYYu0ccMw0jHVIVldX37hx45pAgNV7+fLlS5cuXb58ma0t0DjnjhlTUVGBH9TatWsxk8THxwducY1VsBluzbSOhLAZOHSq4xIQiURSqfSzzz6DgM2cOVMkEjE3M5FIhM5SsVjs6+vbq1cvDw8Pz/rQt29fd3d3Dw+P/v37jx492sPDY+jQoaNGjRo+fHifPn2mTp3KuobwYc7sQnh5mJqaspVoMH2bjSxqw+rcQiiXy5mVXFZWNnbsWHNz848++kibAB03JsBsOHQGsgQSiQQzQLBad5NPFEusfVBdXa1UKm/fvu3v7+/i4oIR4sZ/PTw8Hnvssf79+w8ePHjs2LFYUUg7n45/rFQqf/rpJyzXHhcXx6aykBB2/HtHNWwtAvgQFovFd+7cgaeGnZ0dPCRra2vZgAo+nM+fP79jxw54zO/bt2/v3r1//PHHwYMHMzIyfv/99127du3evXvbtm27du3au3cv2+gARTAXvq+++grz04cNG1ZRUcGGT5hnTYOmdm4hZI1VqVRXrlyZMmVK7969Z86cyeLpoEkC2n2emHHBTMNr1669/fbb3bt3X7RoEfxl2GPcOCvsUsK6OisrK7EdirVAwM7AcIvt3r17RkaGRCJhayM0zr+jxcA5eevWrd27d3/22WdPnz7N83xpaan2uLL2sQH1J4vQAGh0STsTYFZaTU3N3r17sQT+P/7xj++++04sFms0GjZBnk0rxGA+606BuwH7Qmf2DXsxlZWVwRNPLpdv3rwZ0xbHjBmzc+dO6Cu7hDnmaEPp3EIIlxM21oXt/Zi/qzYHOm5AAO9rRKrVasYQWzgVFBQwB5YGF2r/F08XE0Ke58+cOXPq1KlsgVBUVHT48OGjR4+ePXv2+PHjzUisdikd8Ph8fWA/PW3x0z42oOYkhAZAo0vanwDzMud5fuvWrfALtbKyYqul4L2s0WjYC5qJImqvvTQixhWUSiXWs2D7rvE8v23bNmyebmdnh5ns6JbB2wTf+I2HJTq3EDKAQCGTybCJT/s/Fh2+BhA/7WpikqX284yV6tj4n3ZidoxHDptJsUm07GzjA9wp5o4rlUq1zdPG6TtajFgsZp+/GJlmcmiUqpIQGgUjZdKmBNg7gn1Qr1ixAvN2hwwZgpmFMplMIpHAelOpVNg3TluxmMM3eyPAB0d7Bvr69euHDRuGkYm5c+fW1tYy5UNWbKyiQfs7txAyk4IZ0NpzNxugoP9qE2BPnXYkOtgx8lpbW8uoNkij/V8sAc+eZ6yRje7Wxn+1k7FefV1K0S6xHY/ZCIVCoWilHl0Swna8v1S04QS0l9VGH+Yvv/zi7u5ubW1tYmIya9YsjPZhPUO8fbR/+dqOc1KpFPOZkABv+cOHD3t7e2NbtQEDBnz33XfQVPZFDwlEzuxFw9rTuYVQu73s64G1nQ50IYD9ntA533hDQfaF12RW+BpjC6OzHv4mE8P1hj23eMh16YAVyq1d4tkHKH6G7FPYWJUhITQWScqn/Qns2LEDS1LZ2dl5enpu3769gTMLFmCDpxn2XWLix94mYrF4//792J3HxMSkZ8+en376KduKr8lGag/8wCFQLpeLxeK33nrLxMTkscceO336NH7AbDHPJvOhSCJABNqFwCeffAJvuPXr1+OdoP2118ZV4tq4PCqukxHQaDS5ubnTpk3jOK5bt24jRowYO3bs5s2br1y5gi18m2mvVCotKChYs2aNl5eXp6cnFj98+umn8/LyNBrNfZewwo8H+eNjXyKRvPHGG9hp4dy5c9pFaw/sax836QveYNVT7fTGOm6vco1Vf33z6Wrt1ZePUPpOzG3VqlUODg4cx23YsAFr2WgPSWr/eNvgmISwDSB38iIwBHLs2LGhQ4dyHIeVoIcNG/bss88uXLjwk08+2bVrV1ZWVkFBQX5+fmFh4Z49e5YuXert7f3Pf/5z8ODB2P0cqwZjwejS0lL0I+n+w8CAGbZhsrW1HTBgwLVr1zD0+MA5KXTyx4WaRwTqCaxcuRLbXX377bftjoSEsN1vwYNdgaqqKjaW8Pvvv4eGhr788sumpqZskwEHB4chQ4aMrQ8PP/zwmDFjBg8ejEU9MDHfzc1t7NixgYGB2LYeOJRKJXMx0BEQNnedNm2apaWlu7s7tsjAhmpsWLHx9zVGhhr/bZzSuDGNS0SMcUvpOLl1tfYai3xn5cbz/IoVK2xtbTmO27hxI5qp4y+9NZKRELYG1S6XJ/yqMem4trb2119/jYiIeOedd0aPHu3i4mJubq69ppqVlZW7u/vYsWOnTp0aEhKydevWy5cvY2ljuVx+584d9HliU9nmUWr3jsJP9c0337SxsRkyZAi2VNVO0HxWdJYIEIE2IyCXy1euXInF27766qsG8zvbrBqsIBJChoIODCGA+X9yuRx2ITozWZdmaWnpiRMnvvrqq5SUlJiYmMT6sG7duoyMDO2Jg9oFw7lUKpUyVxrtsw2OtXUOF7733nuWlpb9+vVbtWrVli1bvvvuu82bN3/77bc/CoQfBIJAcqNFCxT7g9EK6GAZdbX2Ggt/Z+X2ww8/eHl5YSvsr776qsHvuu3/S0LY9sw7YYlsbxe0TSqVVlVVsamfH+PMAAAgAElEQVRv2Oab7esGJ09m9rENbti2QVi/Q3u6hRAybSFE/+dHH33EcZypqamnp+eg+tC3b9/evXu7C4Q+AkEgudGiBYrtY7QCOlhGXa29xsLfWbkNHz68Z8+e6Cj6/PPPMSlT+40h9JNvpXgSwlYC24WyZROMMDtQu+VsV3cWiS3L2X/ZAQxKnueZcdn89AlcCF87lolarY6NjeU4DmMP2v2xJgJBO432sUByo0Vrl6V9bLQCOlhG2m3UPu5g1exw1dFmpX3c4SqqZ4WwL42ZmZmbmxvmXDVYFZ39qNvmgISwbThTKW1EoKSkJDIycvr06cHBwfPmzfvwww+DgoLmz5+/QM/gKxD0zEYwuUD2voIXPCAnmmnXhx9+2KtXL47jrKyszMzMpk2bNnPmzBkCwcvLa8qUKbNmzcLMHAsLC47j3N3dvb29582b5+vrO3/+fBzg+AHBo3c1m+Gpd14d6YLw8PC33377vffe++qrr+7evYu3AxtSaaOXhVYxJIRaMOiwUxCQSCSwLyUSCfpORSKR0Dwtim8bAmq1urCw8Omnn4ZZ079//8OHD4tEokqBgC3sq6qq9u3bB/k0NTV9+eWX2c2FWyYe2DaY99k2lLpOKZjapD200b7vHhLC9uVPpRuZgPakC7bqcTuuWGHk5j3I2VVUVLzyyitW9aFfv35FRUVsKbImJxugrXl5eVhpwcLC4t1338VqQQ8yBqr7fwkwCcQC6DU1NSKRiI2PtD0jEsK2Z04ltjoBTKXQ3vipyVctRbYZAYlEcvfu3YkTJ5qbm5uamtrb2+fn57PR5cYPBE7V1taePHnSyckJXaMvvfSStkWIramw/mebNYQKMgoB3HGZTNaO3aHaTx0JoTYNOu4MBNRqtbYDqkQiIYuwI9xXsVg8btw47Cvi5OSEpX+EOgNZhfPz89lU1Ndee00qleJuwkkYyZh5wa6igweFgPY3q3G3edKLAAmhXrgocUcnwH5LbBoi2wSgo1e9U9dPrVaXlZWNHz/eysqqW7durq6uRUVFGMRtUgvRSyaTyY4ePerk5GRiYmJubj59+nQSws7xmDT2J2/fdpEQti9/Kt3IBJhxIJPJtHdebfJt20ykULWauUSvU62dv16VMWJioXbxPH/v3r1JkyZhlmevXr0KCwubSYxTKpXqwIEDrq6u8LZ/+eWXmxTCTuwsI4TIiLesXbLCMKFSqWQ/2PbdX5OEUOhJo/gHlUDjqYrsx/agNqlT1Pvu3bvPPvssvEbd3Nzy8/PZ0gqN38XMYjh27Ji7uzsmXUyfPp3Fdwok1Ij/R6Dxb7aN0ZAQtjFwKo4IdEUCarW6urr6ySef5DjO3Nzc1dX17NmzzX+gYCzwyJEjzs7OWMP9zTffVCgUzLcQ8tkVaVKbjU2AhNDYRCk/IkAEGhEgIWyEhCI6EAESwg50M6gqRKCzEiAh7Kx3tnO0i4Swc9xHagUR6NAESAg79O3p8pUjIezyjwABIAKtT4CEsPUZUwmGEyAhNJwdXUkEiICOBEgIdQRFydqFAAlhu2CnQolA1yJAQti17veD1loSwgftjlF9icADSICE8AG8aV2oyiSEXehmU1OJQHsRICFsL/JUri4ESAh1oURpiAARaBEBEsIW4aOLW5kACWErA6bsiQAR4HkSQnoKOjIBEsKOfHeobkSgkxAgIewkN7KTNoOEsJPeWGoWEehIBEgIO9LdoLo0JEBC2JAI/Z8IEAGjEyAhNDpSytCIBEgIjQiTsiICRKBpAiSETXOh2I5BgISwY9wHqgUR6NQESAg79e194BtHQvjA30JqABHo+ARICDv+PerKNSQh7Mp3n9pOBNqIAAlhG4GmYgwiQEJoEDa6iAgQAX0IkBDqQ4vStjUBEsK2Jk7lEYEuSICEsAve9AeoySSED9DNoqoSgQeVAAnhg3rnuka9SQi7xn2mVhKBdiVAQtiu+Knw+xAgIbwPIDpNBIhAywmQELacIeXQegRICFuPLeVMBIjA/yNAQkiPQkcmQELYke8O1Y0ItD8BtVrN87xKpZJKpTzPy2Qynuc1AkGounK5/N69e5MmTbK2tuY4rm/fvkVFRci5yUuU9YHn+YyMDCcnJ0tLS47jZsyYoVQqta/SaDRNXs4iUWdUmFWbnaUDIgACJIT0JBABItAcAalUWl1djRQNdKjxZQL6+F+5qqmpefLJJ83MzDiO8/DwOHPmjFKpbJwDi1GpVDzPHzlyxMHBgasPb7zxhkKhUKlUKEWtVqtUKrVaLVQoZFIqlSIrVX3geV4ul7NS6IAI8DxPQkiPAREgAroSqKqqgnXYjPY0eUqlUt29e3f8+PEcx5mamnp6emZlZTUvhDh74sQJR0fHxkLI1+9xqK4PzNRrXDTP8xKJBIpYV1cHRdS1tZSuyxAgIewyt5oaSgT0JyASiSAzsKIgTmKxuLHkIKaZEioqKp5++mmO48zMzPr163fq1KlmEjO7LSsrq3v37hzHWVlZvf766zAH2YX37Rpl/ajaEsj6S1k+dNDFCZAQdvEHgJpPBO5DQCKRKJXK4uJimUymVCrlcrlYLJYJBIlwOHfu3FNPPcVxnImJiZub232FUKFQqNXqnJwcFxcXjuOsra2ffPLJ2tpakUiEQsRisUgkEovFwmVKRCIR/HSg6BUVFdevX79Pg+l01yNAQtj17jm1mAjoTECj0YhEonv37kVGRs6YMWP27NkLFiwICAiYr2cIDAz08fFxc3PjOM7W1tbd3T0rK6v5WmAIMCsrC12jpqam/fr1mzNnjo+PDwqf97/QTF28vb0DAgLmzZvn4+Mzd+7cN998c9GiRWKxuPmi6WxXI0BC2NXuOLWXCOhBgPU9Llmy5IknnsAIHxxeMG7X4K+JQOA4ztzcHInt7Oz69OmTm5vLMheqkFKpzMzMhLOMiYmJhYUFckAhrGiBMv8bjZ5YOJ1yHDdhwoQtW7Zod5MKFU3xXYoACWGXut3UWCKgNwE4yPA8n5mZ6e7uzuRH3wNTU1N2iZ2d3enTp5upCgYjlUplVlaWk5OTubk5U0GWiS4HkEAo4qhRo/bt2wf3mWaKplNdkAAJYRe86dRkIqArAYVCwfO8SCSCFfXdd98NHjwYriscx0Fm+vbt6+HhYWVl5ebmZmdn5+bm5urqamdn5+zs7Obm1rNnTycnJ0dHRw8PDzs7u759+3IcN2LEiMLCwmYsM8yLUCqVGRkZI0eONDc3d3Jy6t69e69evWxtbfHX2traw8PD1dXVzc3N3d3d0dHRxcXFzs5u+PDhTk5OZmZmlpaWZmZmUNDhw4cfP36c5/k7d+7o2nhK12UIkBB2mVtNDSUCBhFQKBQajUZeH3ieP3ToEJw/OY7D6N2bb775448/ZmZmbtu27ciRI9u2bdu+ffu+fft27Njx448/7tixY8+ePdu2bdu5c+fWrVszMjK2bdu2e/duTMO4b40kEsmv9WHfvn27d+/euXPnTz/9dODAgX379u3atWvnzp1btmzZtWvX5s2bjx8/vnnz5p9//vm3336bOHGira0tx3E2Njbm5ubPPPPM1atX5XJ5WVkZdP2+5VKCLkWAhLBL3W5qLBHQm0BNTQ2uYT4mu3fv7tmzp4WFhampabdu3czNzX/55RekUSgULD1cTLXLYzPZ0fMJT07tBOxYoVBIpVKsYiORSBCvPabI5kU0nguxZcsWGxsbOJpyHOfp6Xnp0iWe52trazGvn5VCB0QABEgI6UkgAkRAkECD3sua+sDz/O7du5955hkrKyt4gfbu3Ts9Pb2iokKpVMpkMolEwjRPo9GgfxXzEaVSqVwuV6vV0EKhgqFzmC+PtWNkMpmiPuCSyspKFIG13yCZdXV1cXFxzs7OGD6ELXj+/Hkm4RjvZCIqVDrFdzUCJIRd7Y5Te4mAHgQgIUqlsqKiApfBruJ5vri4eNSoUZAcR0dHMzOzqKgopJFIJMwuxPJscrkc9hzTv8aWXJPVghKrVCqoKQSPpdRoNEqlEiZjaWlpaGgo6gNH03/+8593796FXrL1ZaRSKQkhA0gHIEBCSE8CESACggSgXtAblkihUNTV1fE8f/jw4YceegizKWxtbU1NTZcvXw7JhLeLSqWCSmk0GsgPE0JmMrJsGxwolUqFQgEl1u4UZeudajQaJrdVVVVpaWlMlTmOe/rpp+GYinUAVCqVUqnEYGcDM7dBufTfLkiAhLAL3nRqMhHQgwAz3VQqFdRLqVRK60NdXd3Vq1dnz54NBbK1tbW2to6Jibl16xb2qYDkaIuf7iKkfS3rKeV5HsOHmAUBM7GoqOi9997z9PSEd4ypqem777575swZnufv3bun3dT7qq92YjruOgRICLvOvaaWEgG9CTDdkslkrEeRyQm6JW/fvv3cc89xHMem+gUEBKAHVSKRKBQK1i/aIAeWT+NqaTQaGJ041cAuRD7oJi0rK/Px8YGPqIWFhbW19QsvvIBrUXm21jZ2rmDrdDculGK6LAESwi5766nhRKClBMRiMcQmJyfnjTfewLozHMfZ29svWrQIpiRzVOF5XqlUMmW9b9nsQph9zKxkhinP81euXFm6dClb78ba2nr69OkXLlyAd6juZd23MpSgcxMgIezc95daRwRahQAz5pRKJQbqzp07N3fuXAcHh27dusE0nDZt2s2bN9mMBWwcoVarWV8rO2hcRQzpIR56hsQQRWjkxYsXZ8yYYVofLOrDggULKisrtadwNM6ZYohAYwIkhI2ZUAwRIAL3IcCMLebGqVarb968OXLkSOa32bNnz4ULF8JZRi6XM8cWuVwO844ZeY0LY94x2IMC1iQmYEALa2pq/P39URZ099VXX71y5Qr2KeR5nhmUjTOnGCLQgAAJYQMg9F8iQAR0JcDERiwW3717F84pM2bMwMZJHMd169Zt3rx5rG+TDRbqWACTTCwHo1arMRHw8uXL3t7eJiYmlpaWvXv35jjuX//6V2lpqUajQZWgo2xIUsfiKFmXJUBC2GVvPTWcCLSIAFNBkUgEqZNKpRqNRqVSzZo1i+M4bKhra2s7YcKE0tJSFFZeXo4DXCJUA+TD0sjl8rq6OvTHXr58Gb45PXr0gEUYHh7O5mmwNbXZejRCRVA8EWAESAgZCjogAkRAVwJMothUd/Rewln08uXLr776qqWlpbW1NdbmXrBgwcWLF9G3iTLYKGMzRcKkk8vlrAO2pKRkypQpHMfZ2dlhXZvZs2czJ1KorEqlwpqiTKqbKYJOEQGe50kI6TEgAkRAbwLQHqlUysQGQ4BMIMvLy/38/LAdIOTw3XffZbvSy+VyNsrYTNmq+sD2gcrIyHjhhRc4juvZsydWE42Pj4cAY103zDJEhs0MQDZTIp3qmgRICLvmfadWE4GWEmBWGpMciCKWG+V5XiqVzp8/H4uRQrfeeuutv//+m3m+sAsbVwXrkSIeyfLy8iZMmMBxHOsRjY6Ohpoy41LbxQZOqo1zphgi0JgACWFjJhRDBIiAgQSYJkG9SkpKoqKiOI5j+8vPnDmzpKREe19AqVTKrEPtjla5XF5bW4t8CgoKpk2bhn0QsdM9VFCtVmvPuzew0nRZlydAQtjlHwECQARagQBTxHPnzq1evRrjeY6Ojt26dRs1atTRo0d5noejKetNZQdisZiZlSKRaP/+/bAFYVZyHPef//yHFohphZvWdbMkIey6955aTgRajwDEDPkrFIp//etf8PCEK+m0adPOnz+P9UiZZDboKcXuSxcuXHj22Wdxrb29vZ2dXWBgIHplsa9F410PW69RlHNnJUBC2FnvLLWLCLQDAe1OTmw9iHE7pVKZnp4Ok65bt24cx02aNKmoqAhON3V1ddA2tqCMSqWqq6s7fvz4yJEjLS0tzczMMDSYkJCADCsrK1nz2NAgi6EDIqAXARJCvXBRYiJABJojoKkPLAU24FWr1ZjVt2TJElNTU0tLSzs7O47j+vXrl5OTg7VgkEAmk9XW1sJG/PPPP9l+h6ampubm5mz90gZGJOtTZeXSARHQiwAJoV64KDERIAL3IaDt8MKSwqWlpKRk7ty5rJ/TwsLiueeeY3Mq2Fx4jUZz5MiRRx55xKQ+ODk5cRwXERGB3O7cuYODuro6bJTIzFBWHB0QAb0IkBDqhYsSEwEicB8CKpVKJpNhzyNMBETXpUgkwpUff/wxtA0eNK+++urWrVsxs1AulysUiq1btw4YMAD7/ZqamtrY2Kxbtw4mI7pSIZlYhptU8D73g07rQICEUAdIlIQIEAHdCLA1slly+Lzgv2yqQ1xcHPZOwqqkw4YNy8rKwrozJ06ccHZ2xl5OHMeZm5t/8cUXmHrI9qZnmgotZD2lrFA6IAJ6ESAh1AsXJSYCRMAQAmw6BC6WyWRr1qzB/ELI3sSJEw8ePPjLL7+MGTMG8wU5juvVq9fatWtxCdu8wpDi6Roi0CwBEsJm8dBJIkAEjEQAvZpsP8K7d+9+9913mB1vbm5uamo6ePDgvn37YgU1juOeeOKJPXv2aE+xaGb/QiPVkbLpogRICLvojadmE4E2JsCWZNPWs9WrV3McZ21tjfmFHMehs9TV1XX16tXo85TJZDQQ2MY3q6sVR0LY1e44tZcItA8BsVgMoxBbLGk0GolEIhKJ9u7d6+rqamJi0qdPH47j+vfvP2LEiD/++AMbWTQpn+3TACq18xIgIey895ZaRgQ6EgGNRgPHGTb/nc3/++OPP0xNTTGtguO4s2fPokcU1ZfXB7ZUd0dqE9WlkxAgIewkN5KaQQQ6MgG2fJpardbu55RKpVg19Pvvv3d1de3Xr98vv/yiVqvFYnF1dbVIJFKpVGzKREduINXtgSZAQvhA3z6qPBF4MAhg83pWV4VCgU0n2KIzCoXi0KFDmETBlE+tVjNnUTb1gmVCB0TAWARICI1FkvIhAkTgPgQkEgnzHcUEeXYB0zkspa1SqdiWv5hlz1LSAREwOgESQqMjpQyJQNMElEolGxVrOkXrx2It0MZ/hUpunBIxQum7WrwQH33j9eXGvhJwIZ4r7T5nfTPs4ulJCLv4A0DNb10CGo0GLynW3Yet2zEw1vZ/hVorVBN90wvl01njhfjoG68vH+RfW1uL56qBLupbOqUnIaRngAi0IgFmP7FpAFhIrBWLbDZrLP7Z+K/QRY1TIkYofVeLF+Kjb7xh3LQfKp7n272/wbBWdISrSAg7wl2gOnR+ApgVV1dXh/4rfV+UxkovBFoof33TC+XTWeOF+Ogbry8f5kPE1l9le3foWzSl53mehJAeAyLQigSU9QHdodrf7PqOIRkrvVQgCOUvkFwqlL6rxQvx0TdeX27skcVeH2xqJounA70IkBDqhYsSEwH9CKjVarY3AntbicViCGTb/xWqvVBN9E0vlE9njRfio2+8vnx4nheLxdreMQ28cPWtQBdPT0LYxR8Aan4bEZDJZJs3b/7iiy8+++yz1atXf9ZOYY1AEKqOQPI1Qum7WrwQH33j9eW2fv365cuXr1mz5ttvv83Pz+d5Xq1WNxgybKMnu1MUQ0LYKW4jNaJjExCLxX/99Vf//v2xipilpSVbTowOiIABBLRXpPvoo4/Ky8u1O9479q+hI9aOhLAj3hWqU6chgAU2eZ6PiIjgOM7S0tLU1NTCwsJcz2AhEPTMxlwgG73ro2+5xkqvb/31Ta9vPfXNX9/0QvWxtLTs1q0bx3FmZmaWlpavvfZaUVERc0hmsyngooW/neY31RoNISFsDaqUJxH4PwTEYrG3tzfHcWyzIQOMgCYvMRUITSZug0iB6ugd3QZVbdUihBpsrELNzMwaZDV27NiioiKMQ4tEIvb80dghQ9HMAQlhM3DoFBFoKQF4yqhUKh8fHxMTE0tLSxsbm6lTp3rpGT4QCO8IBKHsBbL5QCi9vvEC1dE7Wqhcfeuvb3qhcoXihfIXarBQeqH8heLff/99Ly+vt99+28bGBhs6mpiYvP/++3fv3sVswqqqKp7n4U3Dlq9r6dPcea8nIey895Za1gEIsG/z4OBgDA327NnzwIEDHaBqVIUHmADU7saNG1FRUe7u7iYmJjAQn3rqKZlMduPGDbSNOSo/wE1tk6qTELYJZiqkaxOoq6ubO3cuPt6dnZ1Pnz6NPfZ0/6vQMwjlLJSNUHp944Xy1zdeqFyhfIyVXigfoXih+ugbL5S/UDzP8+hsqKysjI+PNzc35ziud+/eHMc9/vjjYrEY+1vxPE8DhLq8e0gIdaFEaYiAgQTw5a5SqWbPno23lZOT059//mlgdo0uE5qI3ShhG0UI1Uff+DaqbqsVI9ReIxYolUqR27Vr10JDQ2ER4mNr1qxZMpmsrq4OYkldo/fFTkJ4X0SUgAgYToB9j3t5eXEcZ2Ji4uLicuTIEX2X1BJalFmoZkL5C+UjlF7feKH66BsvVK6+9dc3vVC5QvFC+Qu1Vyi9UP5C8XCBUSqV7AH79NNP7e3tOY6zsLDgOO65557DMCFLIFQliqcl1ugZIAKtTgAzKLy8vDD3y97e/tixY/qWKmRhCMUL5a9veqF8hOKF8tc3Xt/8jZVeKB+heH3bJZReKP/m4yF1UqkUU+nfffddeJOi72HmzJmwBdlsiuZz68pnySLsynef2t4WBJRKJc/zsAg5jrOzszty5AizDPBmbIt6UBmdjgC+sWA1YrfLyMhIBwcHExMTJycnjuPeeuuta9eusfW42dIzpaWlPM9XVlZ2OiQGNoiE0EBwdBkR0JEACaGOoCiZvgTwFaVWq1UqFVYrlUqlK1euhH8y/j799NOXLl3CXHupVIqUTBr1LbGzpich7Kx3ltrVUQiQEHaUO9Hp6qEthLALeZ6vqKiYM2cO+h4wLP3RRx+VlpZiKgX2b0JnaVlZWadDYmCDSAgNBEeXEQEdCZAQ6giKkhlAgGkh7EK4xlRXVy9btqxXr15Y1Y/juHHjxt28eRMqiE3taRdfbdokhNo06JgIGJ8ACaHxmVKO/yMAIWRyCIsQJxcsWIA5FfCdmTBhQnV1NU6xdR7+l01X/5eEsKs/AdT+1iZAQtjahCl/Joc8z4tEIkwxvHXrVlxcXN++fTmO69GjB8dxs2fPrq6uxlYVarWavEnZk0NCyFDQARFoFQIkhK2ClTJtigD8QtVqNXpBVSpVamqqiYmJqakpfGeeeuopjBdqb+rbVE5dK46EsGvdb2pt2xMgIWx75l25RDYpoqSkhOf5urq6kJAQNoeV47jXX38dfaRsNkVXxoW2kxDSM0AEWpGARqOBEHp7e2NlZJpH2Iq4u3zWDVbZZhMNlyxZYm1tzXZueuutt9RqtVwub5Ae/JqM7NxoSQg79/2l1rUzARLCdr4BXaz4BhrGhFClUsXHx7u4uMA0tLS0PHXqFNvItwGkBpk0ONsp/0tC2ClvKzWqoxAgIewod6Jr1KOBhjEh5Hn++vXr48ePZxMqsrOzSQjZQ0FCyFDQAREwPgESQuMzpRyFCQgJIQYO0T9vY2NjZ2eXl5dXV1fXID0ybjJSuMzOcIaEsDPcRWpDhyVAQthhb02nrFgDDdO2CKVS6QcffGBhYWFqamplZZWZmUkWIXsGSAgZCjogAsYnQEJofKaUozCBZoTwxo0bbFNMe3v7vLw8EkIGkoSQoaADImB8AiSExmdKOQoTaEYIpVKpr68vVplxcHDIycmprq5ukB4ZNxkpXGZnOENC2BnuIrWhwxIgIeywt6ZTVqyBhrGuUWzSNHv2bNP6YGNjk5+fj/VoGnNokEnjBJ0vhoSw891TalHHItDkhHrtNbE6VnWpNp2LALSQ5/na2to5c+Zg515HR8ecnBzqGmW3moSQoaADItAqBEgIWwUrZaobARJCXTiREOpCidIQAcMJkBAazo6ubDEBEkJdEJIQ6kKJ0hABwwmQEBrOjq5sMQESQl0QkhDqQonSEAHDCZAQGs6OrmwxARJCXRCSEOpCidIQAcMJkBAazo6ubDEBEkJdEJIQ6kKJ0hABwwmQEBrOjq5sMQESQl0QkhDqQonSEAHDCZAQGs6OrmwxARJCXRCSEOpCidIQAQMJ0IR6A8HRZQYRaHIuPCatyuXyDz74ALvV29nZ5ebm0jxCxpiEkKGgAyJgfAIkhMZnSjkKEyAhFGbT3BkSwubo0Dki0EICJIQtBEiX60WAhFAvXCwxCSFDQQdEwPgESAiNz5RyFCZAQijMprkzJITN0aFzRKCFBEgIWwiQLteLAAmhXrhYYhJChoIOiIDxCZAQGp8p5ShMgIRQmE1zZ0gIm6ND54hACwmQELYQIF2uFwESQr1wscQkhAwFHRAB4xMgITQ+U8pRmAAJoTCb5s6QEDZHh84RgRYSaEchVKvVqLxKpeJ5XqVS4S0pk8l4nsdfnuclEgnP8+Xl5UiDuWUqlQrxPM+zfDQajVwuZ0DEYjESY8UAtVqtUCh4nheJROxalIIKqNVqVhNkggtVKhUrAvG4vKKigud5uVxeVlaGeJFIxCqJJqBEnueRlaw+aGeCBKw+UqkUeaK9PM+zGJ7nFQoFqyqLR90Qj5xRnEqlkslkarUaVJEezQcWtuWk9gGSyWSyuro65FlbW8uybfkBCaFhDEkIDeNGVxEBnQi0lxBCsaAcivogk8lUKlVVVZVCoWAvd7yF8UZWKpVVVVWVlZXsZSqTyRQKhUwmY63Aq1+tVsvlcmiPQqGoqKhgKsskTaVSQRFZjFQqFYlErHTg02g0KpVKWR/kcrlIJIJUoOYMsUQiUSgUSqVSrVYzCYd04VqxWMwKktQHdq1arZZIJOwjANWGHDJdZzqHmMrKSlwurQ9MgCUSSWVlJWS1qqoKXwlyubyurg6aWlNTw8SVVaDxwa1btxBZXl7OFLRxMgNi2L3TvpYm1GvTaPKYhLBJLBRJBIxDgEmIt7e3iYkJx3F2dnZHjhxR/y/gJWWcwv5vLtrvRLzf7969iyTs5avRaITcCjEAACAASURBVNhxSUkJzlZVVf3222/FxcVM3iAbbCESlUp18eLFQ4cOnThxIrc+ZGdnHz58+MiRI1ivpLq6GvYiDDiJRKJUKlEHVhzEiZl0TJNQB6janj17Tp069X+b9V8bkemWdhtZMlY0TFgon0gkgokplUrLysp27tyJ9kLmYV+qVCqFQoHa8jxfXV2NPJl2siJ4nt+6devdu3cbV6CiogKWpaqpgKxwFVSTmbPamRt83Lg+zDyllWWaoUpC2AwcOkUEWkqgvYSwuroa71ypVHrnzh2pVKpWqzMzM7/++uujR4+iVUz5eJ5PT09/9dVXL1y4IJPJtm7d2r1795SUFJFIBCOM53moiFKphKn35JNP9ujRw9nZ2c3NrX///gMGDHB2dra3t1+1ahV7v4vrA/7LIvfs2bNr1649e/Zs3759//79W7Zs+f3333ft2rVjx45du3Z9//33e/furaqq0mg0169fHzRo0NSpU2tra6F8EFEYkbAj0ZDq+iCRSKCmarW6trb21q1b2pL58ccfR0VFSaVSmUx28eJFDw+PvLw81ies/TmSkZGxa9eu9evX79+/n+f5srIyLNcJjVEqlRUVFRkZGd26dZs1a5ZSqYRelpaWKhSKzMzMN954QxtsgwdIoVDAvlyyZMkLL7xQXFzcwPZtkF7f/5IQ6ksM6UkIDeNGVxEBnQi0lxCicmz8qaam5oUXXuA4bujQoRzHeXt7M+sQIufl5cVx3JEjR3ie37dvH8dxcXFxyATvVryv0bEplUqvXr1aWFh48eLFkydPHjp06Ex9yMnJuXbtmlKpRFcheymzTsvLly/379/fyckJf7t3796/f39HR0crKyt3d3cPDw9bW9u333775s2b6GB0cXF58cUXtUEzC5JFVlZWHjlyZMiQIaNHjx4wYICnp+cjjzzy+OOPv/jii/fu3cPXgEql8vLyGjduXG1trVqtzs3N5Tju0KFDrBsT/Zw3b94MDQ3lOM7V1XXQoEG2trYffPDB5cuXkUwqlaJDWKPRnDt3rlu3bjExMTzPM8g8z//000/Ozs43b95syhr8bxwbcwXwnJwc7Z5e1iiDDxhz7Ryoa1SbRpPHJIRNYqFIImAcAu0lhEqlEgaZUqksKSl55ZVX+vTps2XLFp7nly5dam9v7+XlhUFBSEt4eLilpeWZM2d4ns/IyDA1NU1NTVUqldruJzKZjHVs8jzPBtJASiQSsR5LyIBGo8FwGrPMKisrx48fv3jx4jt37lRXV9fW1l69evX27dvl5eUymaympiYvL+/s2bNw4ZHL5T169HjppZd4nq+pqYFtyoSQeanI5fIzZ84kJiZ+/PHHK1euXLZs2eeff/7BBx/Y2tqePXuW9XzGx8e//PLLqGpWVpa7u/uBAwcgSxh9lEgkH374IcdxGzZsKC4uLi8v//LLLy0sLJ566in2KKjVaqlUqlKpMjMzOY6LiIiQSCRisRhiplard+7c6erq6u3tHSIQ/Pz8fHx8AgICJk+e7Obmlpubi0FWVkQLD0gIDQNIQmgYN7qKCOhEoL2EkAmVSqXaunUrs/Bg2KWkpJiamv72229s8G/OnDkcxxUUFCgUit27d1tYWCxZsgTChiZUVFSkpKTMnj379ddff/PNN729vV955ZUZM2a8Vx/ef//96dOnz5w5c8aMGW+88cZLL73k7+8Pw445UvI8X1VV9dBDD33++ecYk4MdBp+XsrIyNrbHejh79+49ZcoUZkVpE2eDjsyPVKFQMOk9ePCgh4cHKoDeyMjIyCeeeALWW2FhoZOT07Fjx9B8VGPTpk0mJiZLly5l6HieX7lypZOTU0JCQm1trVQqVSgUqFt2draFhUVsbCyrkkwmk8vlhw4d6tmz56RJk8YKhEmTJo0fP/6JJ55wd3d3dHS8dOkSG3llWbXkgITQMHokhIZxo6uIgE4E2ksI0SUIK2ro0KHjx4/XaDQwp2pra8vKynr06BESEgIlUKvVCxcutLCwuHDhAs/z+/fvt7a2TktLg0XI5h4kJCS88847M2fOnDt37tSpU2Hc9OrVy9zc/NVXX50/f/6MGTNmzpzp6+v7zjvvfPjhh+Xl5cyAg0tIeXn5oEGD1q1bh3E+RLIhQI1GU1tbKxaLYaKJxeI+ffpMmTIFTqpsygeahmvFYjH7L/OFUalUBw4ccHBwuHr1Km6SUqlMS0ubPHkyLNrMzExTU9OcnBzWfJ7nX3jhhR49ekCZUCK+A9zc3CZOnIhBVubYcuzYMQsLi7CwMLVazSrM8/wff/zh4eFx+/ZtoYcDncY8zy9cuNDa2vrKlSvw5hVKr288CaG+xJCehNAwbnQVEdCJgJAQYtimydeWTvneLxGb83f16lV3d/dPPvkEhhde5Wq1OjAwkOO4wYMHDxw4sHfv3q6urk5OTuiW/PPPPzmOW7JkCbsEegaLjfV/isXiv/76a8iQIRzHhYeHsxpBnFhvISw29GTW1tYOGjRo48aN2kNrzHMVigthk8vlMpmsT58+r732Gs/zbNYds/8AFpP5WNFMLHft2tWjRw82AZHn+ZiYmKeffhp+sOfOnXNxcTl16hR8Z+Ag2r179xkzZmA4kw1qKpXKmJgYjuOuXbuGflGUdebMGY7jwsLCUDfWY7xz586ePXuePn26WCDcunXr4sWLtbW1c+bMcXBwuHLlCuZf/s+J+L+zElvyVDR5LfIkr1Ht56TBMQlhAyD0XyJgTALtJYToTlSpVHv27LG2tv7uu+94nmd9j3V1dStWrOA4Likpad26dd98883zzz/v4uKSnZ2tVCoPHjyIrlGNRgNvT7xeVSoVOgbhDnPs2DGO42bMmPHDDz9YWVnNmTPn1q1bTCahnTU1NcwGwsjfuHHjoqOjCwoK8vLyTp48mZWVVVhYmJWVlZeXl5GRkZubu2fPnuLiYkhar169MLCH3ORyOZuV36BHkc15gCbt3bu3d+/eBQUFGJ5Uq9UhISFstC8nJ8fFxeX48eMwTBUKxYEDB6ytrT/77DPWV8zz/L1793ie37t3r4mJyfr16yHtsJLz8vKsra3DwsIABN40IpFo//798LVxFQjOzs7dunUbMGCAmZmZpaXlyZMn8bSREBrzV6d/XiSE+jOjK4iAzgTaUQhR9KZNmziO+/nnn2ELIlIqlW7cuNHU1HTfvn2Yij5//nwHB4ecnBy1Wr1v3z5ra+vU1FTWSkyrx+u+urr65MmTPj4+HMe9/fbbUIvk5GQbG5vBgwcvX74cMiYWi1mfKvKRSqWXL19+6KGHrKysBg4cOGzYsF71wcrKysbGZtCgQQMGDOjfv3+/fv1++OEHTIFwc3PDGCHMRO2VXLQHDpnjJSYC8jz/22+/Pfzww+fPn/f19X3llVe8vb0ffvhhCKFcLs/Ly3N2dsYYIbyBNmzYwHEc5kuw3OANdPbsWTMzs+DgYGgeVifIycmxt7eHRYh4DL7K5fLt27fv2LHjZ4Hw+++/b9++fePGjTvqA2S7pqaGhJA9bO1yQELYLtip0K5CoL2EkJX7448/mpmZbdmyhXn542Dt2rUcx+3cuRO2l7+/v7m5eWFhIc/zv//+u6mpaXx8PGw4pVIplUr37t37xRdfBAYGjh07luO4iRMnbtq0CdYelOPmzZtjxozhOG7IkCH/+te/NmzY8PPPP2dnZ8NjhVlORUVFx48f/+uvv3Jycg4dOoS5HFeuXMnNzd23b19GRsbvv/+OUbfKykp3d/e33npL25bFcwMLValUoge4sLDwyy+/XL9+/erVqz/77LOvv/567ty5Q4cOPXfu3MiRI83MzAYPHuzs7Dxu3DgYfJcuXXJ0dDxx4gT8d3ie37x5M8dx27ZtQ6eoXC6HDapQKA4fPmxpaYmZEmyk8K+//oJFyKQXqs++GJp/vrWtZNAjIWyeWGufJSFsbcKUf5cmwASpwcoyGLZpckTHKLwwgQELoFhYWHz//fcNhHD16tUcx/36668YdRMSQlSmvLx8ypQpmIYYFRV16tQp+IPgJS4SidhoXGFh4erVq8eNG2dlZeXh4bFr1y4MNDIhZMNpKpXq6tWrHMe9//77zAmFFQcN7t279+uvv67td4oEyA0DfrW1tTt27IAADx06tFevXoPrw8SJE4uKisrLy2/fvl1SUuLr6zt58mSMKWZlZTk4OEAIMR0eQvjzzz83EEKlUtm8ENbV1Wk0mpMnT86bNy8gICAkJCQ2NtbPzy9QIISGhmJiRVhYmK+v74IFC+bMmbN27VoSQqM89gZnQkJoMDq6kAjcn0B7CSH6EjUazVdffcUEDwYNLLwvv/yS47g//vgDpo9Q1ygW2+R5/vr169euXWuywUzkMEDIekSvXbsG2WNz/uBawl76V65c8fT0nDFjBuoglUrZhIra2lq5XN6rV69nn32WySTzYUER+IyQSqXffPONubn5pk2bJBIJnDAlEgm0mX1qREVFPfXUU8jh/Pnzjo6ObPqERCL54osvOI77888/2RR7ZiyeO3fOwsKima5Rnud37do1fvz40aNHjxkzZvLkyWPHjh0vEMaMGfPII49Mnjz5scceGz9+/EsvvTRhwgR/f3/GBF9ITXLWJZK1VzsxOcto02jymISwSSwUSQSMQ6C9hBCapFQqMYkQU+nr6uqYT+aaNWvMzc3T0tI2btz4888/CznLQIRgTcK/ETkw7xW2IKf2nAG1Wl1RUcGMPyQuLi5mr2koWXFxMcdxmMVRVVX166+/btiw4bvvvvv6669Xr15dXFw8YMCAZ555BncC0z/QLliiqAnP899++y2bFgkDFCvgoBQ47MTHx8MBVSKR5Obmsq5R+Kzu3bvXyspq/fr12kIIKd23b5+ZmZmQs0xpaSnEFVVizrrM4m98gGqzykP7SQiN83szNBcSQkPJ0XVEQAcC7SWEbKJeZmampaXl8uXLoRBYLJTn+eTkZAsLi4cffnjkyJGDBw8Wmj7B8/ymTZvs7e0HDhw4atSofv36DR8+3MPDw9PTc9iwYf369Rs1alSfPn0GDx48YMCAgQMH9unTZ+DAgcOHDx86dCj8Yj744AO5XJ6VlYV+y2HDhg0cOBAjdq6urmZmZj3rQ79+/VxdXYcOHdqvX79hw4YNHz782LFjjz32GFsOBm6i0FT8lUgkEKHvv//exMRk8+bNUCPm+am9FE5oaOiECRNwxwoKChwdHTMzM9mCpWVlZc7OzrNmzULOTKVUKlV8fLyZmVkz0yfgy8qsXnwuNNY/xLBHBgWxKZIkhIxMuxyQELYLdiq0qxAQEkJjvfia4cj6D4cPHw67im0KIRaLH3roobFjx6ILsaysDF6g+fn5PM8fOnTIxMRk0aJFarW6urr68uXLK1asWLx48bp169asWZOSkrJq1ap/C4SlS5d+/PHHixcvXrVq1bJly5YvX75r1666urobN26sXbv2k08+WbVq1cqVK5cuXZqeng7HlpUrV6anp3/55ZenTp0qLS2tqKi4deuWWCwuLS11c3N74YUXWI9oA4MSDpwqlerbb7/lOA5WL9uDSdt2FIlECQkJU6ZMqaioUKvVZ8+etbOzy87OZv2fPM9PmjRp+PDhmFMIlSotLeV5fsqUKSNHjsRCo7hrPM/n5OTAWUatVsPzBbQLCwvfffddHx+fufXBpz7Mqw/z64Ovr6+Xl5efnx8GFMvLy7GNVDP3sYWnsGI4xly9vLzMzc05juvWrVt+fj4T7wZFMM4N4jvxf0kIO/HNpaa1P4H2EkLYRph1Fxsby3Fcfn4+tsDVaDQZGRkcx23atInNLAwMDLSysioqKuJ5/vDhwxBCpFcqldjGFsu+6MIU/pwYEWRv1draWqVSybah0HaBUavV7BJYfmVlZWq1euDAgdOnT8fse+xtBFsNo5Is52+++cbKymrHjh2wBaFMbK793bt31Wp1QkLCE088AYUrKCiwsbHJyspiZlltbe369es5jtu9ezfUET2We/bscXBwSEpKgh+pthBaWVmFhoZCYHBWLpcXFRV99dVXGzdu3PS/8HV9+Ob/hs2bNz/55JM2NjZ//fUX61vWBawBaUgIdYFGQqgLJUpDBAwk0F5CyIbKNBpNVVVVr1693njjDbQhLy/vqaeeGjFiBEb+6urqamtrQ0JCbGxsIITaFqH2cio7duxYu3bt119//fHHH38mEDZu3Lh+/fpPP/1006ZNNTU10GMMFjKfGplMtnz5cviqSCQSmG7QMKznyVjb29s/99xz2lMGmXShgbgKGjZv3ryN9WHr1q3ffPONv7//c88998wzzzz//PNFRUUpKSljx45Fzvn5+U5OTpmZmaiSUqmsrKxUKpWvvfYax3GZmZnI9uzZs0OHDh0wYAAGSuGkCisqOzvb0tIyJCREoVBgGW7kDOMVcyqwUBwMPvRIq1QqfFLwPO/n52djY1NSUsK6YVmrjXtAQqgLTxJCXShRGiJgIIF2FEK8zTErfMOGDa6urtgyEGuqbdu2DVMsIC2YPlFQUKBWqw8ePMhx3OLFi5EDWn7nzp3XX3/dxsamV69evXv39hAITk5OgwYNsrGx6dev34ULFyCBsK5EIpFMJlMqlSdPnuQ47sMPP4T/C9t6HgXBOuR5/tKlSz169Hj++eerq6tRSbbRPGxByJhUKt29e3e/fv0eeeSRwYMH9+zZs3fv3r169Ro0aNCLL74YGhoaHh5eW1u7aNGiRx99FJMmz5075+zsjOkTsFChRhcuXHjooYfs7e0ff/zxl19+2cHBYeDAgX/++SfWHEChEMKsrCxLS8vg4GAon1KphCIqFIobN24ILK/23+i7d++WlZXdvn37nXfesbKyun37tlQq1baSDXzOhC8jIRRm8/+fISH8/1nQEREwOoH2EkLMIkAnId7gxcXFPj4+TzzxRFJSEluNGo6RYrHYz8/PzMwM40YHDhzQFkK5XA47RtsVBUNxTf6tqKiYPn26nZ3d9evXmbnDDjQazfnz5xssT6qNnXVplpaWfv3119gsqUECZkQivry8vKysrKo+YIoIjnEWicPDw8eNG6fRaMRicX5+vrW19fHjx5lZyXYelkgkW7Zsefvtt2fOnLlmzRo2P5JVQFsIQ0JC2BR7mK07d+40MTFxdHR0EAj29cHFxcXW1tbOzi43N5fl3EoHJIS6gCUh1IUSpSECBhJoLyFki1PL5XKxWMwGoioqKuDWUVpayvajEIvFgYGBlpaWWFkGi24vWrQIssFW9ZTJZHX14b4s3nnnHQcHB3S9VlVVKRQKTDyXSqUSiaSwsNDKyioxMRHbTUgkEri9sPVckD96TeH+ih5aZn5B25hnLKuPXC5nczawL0Rtba1Go6mrq/Pz83vllVcwO6KgoKBbt26ZmZmQdmaQYZk0pvc4qKysxL4WKIUJIRsjhL2Icvft29ezZ8/t27dnaIXD/zf8+eefe/bsycnJ+fPPP4GI3R3WECMekBDqApOEUBdKlIYIGEigHYUQNb548SIOqqur2Ssew12Ix1t+4cKFZmZm2H1Ce4wQ73cohDYCoekB6K6cMmWKg4MDFlfTtt7Qw5mdnc1xXHBwMJNYljNzEMWwHLpJtSPZJZixx1wu2Ux86B8bj2S6GB4e/txzz2ExgUuXLrm4uGRlZUHDmM6xxGxihva0QlSSjRFaW1tjzw3mcKRQKH7++WcPDw+sv8oaBVbM0QYdzvjIaNA0dokRD0gIdYFJQqgLJUpDBAwk0I5CiCWqUe87d+7g/atSqdhCl3jvwxvT29ub47jc3FyVSnXw4EETE5PFixezqW9QUJFIxGyyZnCoVKoZM2YMGTLk77//Ro8oCmKDfydPnrSxsVm4cOGNGzcKCwvz8/PPnDlz9uzZixcvXrp0qbCwMDc399SpU1euXMnPz8emRcgHsoeeXni0ohqoFSbwsYqxReawKaOvry/WGpXJZJhH2KBrFIOpbCMnSCAsNtavCztbo9FkZ2fb2NhEREQwoxmn9u7d6+7ufuDAgbP1oaA+5NeHvPrw119/XagPp06dKiwsLC4u1nYXYpU34gEJoS4wSQh1oURpiICBBNpRCPWqcXZ29q+//lpaWioWi7GXEBZ80SsTJFapVJMnT+Y47s6dOzABIV3Mujp06JCDg0OPHj0GDBjQWyBgYwp3d/f+/fufOnWK7e2gb32g+mq1+ujRo8ePH8ckjZycHI7j9uzZw/xRtc1WoSJgZSJlXl4ex3G+vr5KpRIGpVwuVyqVv/76q4uLS/fu3fsIhH79+vXp02fQoEGOjo5OTk4pKSnMoBQqt4XxTAixCaKZmRnHcY6OjtiXmN0a7VKajNRO0PmOSQg73z2lFnUgAg+KECqVSowd8jx/8eLFoKAgTITXFyUU6/PPP/fz86uqqsLoF8scWqJUKvfs2ZOZmXno0KEjAiEjI+PEiRPHjx/funUr6/+ErOpVJdZHKpPJmOvptWvXoqKirl27xkZJkWfzcshWmKurqysuLv7www9//PFH5liLgsRi8fbt20+dOiXQrCMHDx7cv39/ZmbmkSNHfvvtt8uXL7PRXL3apXtiEkJdWJEQ6kKJ0hABAwk8KEKI9zi6QGUyGfoJDRjBQi+iTCbD0qMNpEuhUMAAgs3RjDHEhuugrA3y0etmsFXlIDnYwherxmBJUpZbM5aQRqORyWSghLrhuwEar1Ao2GcEDoTGUFlZGOzEYG0zHLTTG3ZMQqgLNxJCXShRGiJgIIEHRQghYHgjM/1j5pTujWfGH2YmQA+gr3jpKxQKRML8YvPNGx9oj3FiRLB5i02okrgFcrkcSqatdqyluggtS4PZ9+jp1UaEtiuVSuynCFfYBn8xOUQkErGdQAxrlFBjG8eTEDZm0jiGhLAxE4ohAkYj8KAIYYMG19TU4A3eIF6X/9bV1UmlUswxh1rgXc+MPGRyXzOIVYBJl7bTii41YaOS2onRHQrnUsTDm0Y7TZPH0DyVSiWVSmUymUQiwZwQlhgrA2jPTWSn2AFTU9YoJsYsjXEPSAh14UlCqAslSkMEDCTwoAihQqHQ7vdruZnCXvTaWcEWhCJip8PGhiBioDdQPrlcrp2JvndC+1q2oTzTSObL2vxYHVtqjrULkgYfGQxAymQynIWysnXVtQ/YDBZMw4BqapuV+rbuvulJCO+LiOd5EkJdKFEaImAggQdFCFnz8H7Ha9qAFzRWtGGtxnufmVwNul5Zoc0cQFrQoaotac1c0uAUeiPRuYotk5AAubFhQl3MTTidYvOmqqqqJi9RqVTNcIP9x9aWa1DV1vgvCaEuVEkIdaFEaYiAgQSYJHh7e5uYmHAcZ2dnd+TIEWYlwEgyMHfjXQYLjJk7zAAyoARtuWLeN8gH0/LUajVzPEHzG/+Fdmo0GrbsS/MWm1A9WWWY4GGqPrsvbIY+6iaUD8jAc4d1ZuIARcjlcqSBvcvub4MDmIAsBxTHKilUekviSQh1oUdCqAslSkMEDCcAu8HLy4urDx1TCA1vHl3ZsQmQEOpyf0gIdaFEaYiA4QRICA1nR1e2mAAJoS4ISQh1oURpiIDhBEgIDWdHV7aYAAmhLghJCHWhRGmIgOEESAgNZ0dXtpgACaEuCEkIdaFEaYiA4QRICA1nR1e2mAAJoS4ISQh1oURpiIDhBEgIDWdHV7aYAAmhLghJCHWhRGmIgOEESAgNZ0dXtpgACaEuCEkIdaFEaYiA4QRICA1nR1e2mAAJoS4ISQh1oURpiICBBNjE7Q4+od7A5tFlHZ4ACaEut4iEUBdKlIYIGEiAhNBAcHSZkQiQEOoCkoRQF0qUhggYSICE0EBwdJmRCJAQ6gKShFAXSpSGCBhIgITQQHB0mZEIkBDqApKEUBdKlIYIGEiAhNBAcHSZkQiQEOoCkoRQF0qUhggYSICE0EBwdJmRCJAQ6gKShFAXSpSGCBhIgITQQHB0mZEIkBDqApKEUBdKlIYIGEiAhNBAcHSZkQiQEOoCkoRQF0qUhggYToAm1BvOjq5sMQESQl0QkhDqQonSEAHDCZAQGs6OrmwxARJCXRCSEOpCidIQAcMJkBAazo6ubDEBEkJdEJIQ6kKJ0hABwwmQEBrOjq5sMQESQl0QkhDqQonSEAHDCZAQGs6OrmwxARJCXRCSEOpCidIQAcMJkBAazo6ubDEBEkJdEJIQ6kKJ0hABwwmQEBrOjq5sMQESQl0QkhDqQonSEAHDCZAQGs6OrmwxARJCXRCSEOpCidIQAQMJKBQKqVTK8/zcuXO5+uDs7PzXX3/xPK9Wq1UqlVqtNjBruowI6ExALpdrNBpvb288hHZ2dufPn5dIJBqNpnEeTUY2TtaZYkgIO9PdpLZ0XALYmNfU1NTFxWX//v2oaBd843TcO9TZayaXy728vOzt7W1tbW1sbLKzs9VqdZNPYJORnRsPCWHnvr/Uug5BQKlUent7m5qachzXvXv3o0ePqlQqpVIprw9KpVJdH2Ag4pj+EgEjElAoFOXl5dOnTzcxMTEzM7OyssrMzOR5vknNazKyQ/yQWq0SJISthpYyJgL1BDQajUQimT9/vrm5OcdxLi4uWVlZYIM3HXEiAm1DICAgAF9jdnZ2OTk5JIQMOwkhQ0EHRKC1CCiVygULFkAIu3fv/umnn+bn5585cya3Ppw+ffpMfTh9+nQOBSLQCgROnDhx7NixGTNm4CF0dnY+c+YMCSH7wZMQMhR0QASMTwAuoxqN5qOPPuI4zsHBwcLCYsSIEWPHjh09evSj9WH0/8Jjjz2GGPpLBIxLYMyYMaNHj+7WrRucZezt7bOzs0kI2Q+ehJChoAMiYHwCKpUKIy4BAQEcx9na2uJNZGJiggP6SwTagIC5ublJfbCzs+M4ztHR8cyZM3AlbfzQ0xhhYyYUQwSIQIsISCQSnueXLFliYWGBV56VlZWFhQVGaziOwxsK0siO6YAIGJEAHjxbW1tra2uO49zd3UtLRX6hIAAAHVVJREFUS8kiZD9ssggZCjogAsYnoFKpkOndu3fXrl374osvjhs3burUqc+1cni+nUIrN+s5oWbpW25r5yOUv7HihdorlP9TTz01ZcqUp59+evTo0XPmzDl69GgXNPua+XmTEDYDh04RgZYSkMvlCoUCudTV1V2+fPn8+fM3b9681cqhuJ1CKzfrllCz9C23tfMRyt9Y8ULtFcr/8uXLt2/fLi4uvnjx4p07d/BAyuXylj7fneV6LpoCESACrUYgOTk5Ojo6PDw8NjY2JSUlOTk5NjY2MjIynAIRaEMCEfUhOjo6Pj4+MTExLi4uMjIyLCys1R78ByxjLooCESACrUYgtj5ERkaGhoaGhYXhfRQSEhLTyiGunUIrNytGqFn6ltva+Qjlb6x4ofYK5R8ZGRkSEhIYGBj0vxAeHh4fH99qD/4DljEXSYEIEIFWIxAQEBARERETExMZGRkREREXF5dcH1r7PQHFbfu/7dUufcsVImOsfITyN1a8UD2F8o+KioqPj09KSoqLi4OIRkdHt9pT/+BlTF2jD5gJT9V9sAjExMRER0dHRUVFRERERUXFxMREREQEBwc/eK8KqvGDTGDBggXon0cj4uLioqOjg4ODH6xfU+vVlizCB/npprp3eAKxsbHh4eEhISERERHoJo2KigoPD2/tirfeK6P5nNurXfqWK9QKY+UjlL+x4oXqKZR/UlJScnJyfHw8eiZgULbBcyhUz44WTxah0JND8UTACATi4uLw0kGXFIYJ4+PjhcZ4jBUv1HXW2vHGqr9QPkL1F0ovFN/a+Qjlb6x4fdsVFRUVEhISHBwcERGBLoro6GjYhUZ4yh/8LMhZxlhPJuVDBLoQgZCQEEh7ZGQk/GCDg4PhBYmh0LCwsOTkZIyPhoaGxsXFBQYGJicn+/v7L126NCgoyN/fPy4uLjY2Njg4+N///nd4eHhoaCjzsE1ISADNpKSkwMDAxMTE8PDwhISEmJgYlBITE5OcnBwQEJCWlhZaH+APGRgYGBkZGR0dHRsbGxcXFxERgZxTUlJwClWCE++CBQuY/2RwcHB8fDzkISgoKCIiYvHixb6+vkFBQVFRUWFhYZGRkejojomJQQwuSUpKCg0NXbBgwaJFi+Lj4/39/VFbaFVYWFhcXFxoaGh4eDhrRWBgYGxsbFJSUnR0tK+vb3x8POstT0hIQKdlWFgYnKrCw8PDwsKCgoJwVUpKSlRUVGxsLKoRERGBigEmLC0GPzg4ODEx0d/fPzg4OCUlJTExce7cufHx8QkJCQsXLoyNjU1MTJw/f35UVFRKSoqvr29qampKSsqCBQtiYmLCwsIwth0fH49WxMfHQzuTkpJQkL+/f3p6elRUFG4i6pyWlsZGIuGkk56e7u/vHxQUlJaWlp6eDksUdxNtTEhIQMcJCsVNT09PDwgIiImJCQ0NxcMQFhaGB4NVD3cTbH18fJYvXx4YGBgXFxcQEIDIkJCQyMjIpKSk4ODgZn6fJITNwKFTRIAINE0AgoGXV0xMDLQwNjZ2yZIlQUFBkLfo6OjExMSQkBAIIQyR8PBwPz+/pKSk2NjYwMDA6Ohof3//0NDQkJCQhISE+Ph4vNqCgoLwqo2IiPD391+xYsWHH34YHh6OslJTU/39/SMiIgICAuAGkpyc7OPjEx4enpqaunTp0oCAgLi4uIULF+KS1NTU0NBQqNTixYtRpe3bt588efLGjRu5ublff/11QkICnHv9/PySk5OZZqSlpYWFhS1btiwqKgr9imi7v7//qlWrFi5cGBQUtGjRomXLlnl7eyckJKSlpSGfpKQkyHZoaGhiYiKGhyFyCQkJERERYWFhoaGhS5YsiY6OTk9PDwoKWrx48fz58yHkS5YsgYalpqampaVFR0evWLEiLCxszpw58fHxUFbUhw0/Q9jmzZuXmpoaGBiIV39cXBzkZ86cOREREUuWLEFHPfrqAwICEupDREREUlISskpOTob8oM4M+0cffRQVFeXn55eSkuLv75+amooB74iICOhZampqUFCQn58fE7mkpKS5c+eGhYUtX74cTxIegEWLFvn7+2OYIDExMSUlxc/PD99DaKyfn19gYCB6dENDQxMSEvz8/PA54u/vHxISkpiYGFwfli5dGhkZOX/+/H//+99+fn54rv7zn//4+flFRkampqYGBweHhYUlJiaidU0+0CSETWKhSCJABJojAEGCgMFlH31u/v7++/fvr6ioUCgUJSUlv/32W1paWmpqKpw1oBM+Pj4hISGpqanwHoqOjk5JSVm8eHFoaGhQUFBycjLe4PHx8bGxsZAHKEdKSsqnn37K8zwssMTExH//+9/z5s2DDCclJa1Zs+bGjRvh4eGwJOLi4lJTUyMjIwsKCmCaJCYmenl5xcfH5+fnb9y4cfny5WFhYenp6Tt37szNzZ03bx7elUuXLg0JCfH19T1w4EBxcbFcLq+pqcnOzl61alViYuKaNWvKysqWLl2anJwslUpjYmJWrVpVUlISGxu7cOFCvKZhJoaEhKSlpbGZo3FxcYsWLTp9+jQMr+Dg4OTkZFgwMJKKi4vXrVu3ZMkSdKHji8HLywuVxwsdSpb4v5CQkID84S8aHBycnp5+7969ixcvwvYKDQ1dt27d9evXk5KSvvzyy/Pnz0PkwDYxMTEwMNDf33/RokWffvrp1atX/f39ExISIN6BgYGhoaGLFy8OCAgAeUhsWFhYSkpKSEhIWFhYcXFxWn3w9vZOTExcvHhxbGxsfHx8YGBgVFRUQEAA5C0sLAymfGho6LJly8BZW9EXLlwYGRmZnJz80Ucf4bth5cqV3t7ekZGR8LWOiooKDQ2FuZmYmAijPygoKCEhwd/fH5oXERERXx98fX2TkpIWLlwIoz8qKmrDhg23b98WeqZJCIXIUDwRIAKCBMLDw+F/HxUVhd6qkJCQqKiogoKCy5cvr1q1KjQ0dPny5WfOnLlw4YK3tzf0AMNUaWlp6BeNiorC63LevHn+/v6xsbHR0dGLFi2CN2NCQgJeZzCDIiMj8XpNS0tLSkqKiopasmRJYGAgjD8/P7+IiIj//Oc/Mplszpw5yCcoKGjBggVz5szheT4lJSU9PR057N+/f/v27UuXLj18+HBWVtYff/yRnp5++PDh7du3oxToaEFBQWFh4SeffALZ3rFjB8/zeCnjVb5p06aSkpLQ0NBvvvmmsrIyPDw8JSVl2bJlQUFBoaGh6GkMqw8BAQHp6enBwcFBQUE8z8+fPx/9ov7+/lhyAVYmz/Pr1q3z9fWNjIyMiopKS0sD3qVLl8KqDgoKSkxMDA0NDQ4O9vPzgz0KCxKfJiEhIRs3biwqKqqrq1u5cmVkZGRCQsLq1atrampiYmI2bNggFovhwwypZtMqYmJigoODP//88/T0dD8/P3TVwrCLjIwMDg5et25ddnb2ggULUlNTMQUoICAgPj6e53nUNjw8HOZ7SEgI5mnAymR3E/3Jixcv9vb2XrBgweLFi9HDCQlPT0/HFxW+Y+Lj4/+/9q7sK2317f6lpz3tscoMSSCEhIQxQBBBREQtOPbUUltPrR3UU23tqkPtr2qt84g4MAg4z3r4vtW9lnde9J5cuFxZZHoI75O93713Hj16FAwGQYDrdDq73V5RUcEwDHZbVlZmsVh4ntdoNCClAeUVCgVBEODMLRaLw+Ewm80EQTQ3Ny8uLt51Q5ca4V2VKa0vVaBUgTsrQJIk5sAYhgEByDCMJEnFYtFsNpeVlVVXV1MUZbFY/vnnH6/XW15ePjQ0tL6+vrGxMT8/H41GSZL0+/3n5+cDAwPZbPb4+Njv98tksomJiYGBAYz47e3t09PTTU1NBwcHKysr2Wz26dOnR0dHZWVlgiB0dnZub28Xi8X3798fHR05nc7q6urj4+PZ2dn19fV8Pl9fXw8Edn19nUgk0I20Wu38/LxSqVxeXm5tbdVoNG1tbdXV1SaTaWxsDOdMUZTH4ykUCrW1taIoAgbxPP/y5ctAIBCJRNbX13U6XTQazWQyJEkCbQwNDeXz+fn5+draWpPJ1Nraura2ptfrRVFsaWlZWVnheX5iYqJYLG5tbaHre73eiooKkiRZllWr1fl8PhqNVldX5/P5ycnJ+fn5jY2NWCx27949mqZ7e3unp6fPz8/n5+cDgQBoZ4qibkMbANSWl5c7OzvHxsZGR0cxTwaoRxBEVVVVLpfDlBsmUOvq6ubn5/f29jKZTDAYvLi4QIvq6+tL/Fp+/vy5tbXldrs9Hk+xWPzx48f+/v7y8rLD4aipqRkcHLy+vk4mk4FAYGFhAd/R7OyszWZTq9UsyxIEUV1dvbKysrOzs7u7S9N0LBbb398/OzsbGxsLBoPl5eV+v392djaRSKRSqZGREYPBUFlZ2dbWtrS0lEwmJycnQ6GQRqPp6OjIZrMIipuZmenr60Ob7+vrGx8fl8lknZ2d6+vrFxcXW1tbwWDQbDar1ep4PF4oFBKJxOTkZKFQuOuGLjXCuypTWl+qQKkCd1YAhBXmeEB5OZ3O1tbW9fV1iqLsdjuSBKCOoSiqpaVlbW3N5/NVVVU1NTVtb28LghAMBjOZTHt7O03TXq93c3PT7XaHw+G9vT2WZSsqKtLpdFNTE3pSXV2dx+MJBoOrq6vBYDAUCp2dnblcLpVK9e3bt/X1dZIkGxoaDg8PQ6EQx3Fv375dWloCgtnd3XU6nRaL5cGDBx6PZ2Njw2azgS+F5MThcKjV6p2dHVEUFQqFTqdramo6OzsDb3n//n2n0wlVS3l5eU1Nzc3Njcfjqa2t3dra0mq1HR0dFxcX8Xjc4XCEw+FCoUAQRDQa3d/fhzilrq4ul8thpurk5CQYDMpkMoZhtFqtzWaDcsdoNGYymWfPnoXD4cPDQ0mSKIpqa2vb3d01mUwNDQ3Hx8fV1dVqtbq/vz8ej9fU1AASCYLAsixFUTqdrrKy8ubmJhgMom/xPI8zyWazTqezsbExl8vhCQYRa9Fo9Pr6OhKJMAzT2Ni4vLzMsmwgEDg5OcFu+/v79/b2GIapqam5vr5+/vy5TCb78uVLLpd78OCBKIpgqtva2sbHx61Wq9fr7erqAreJXtve3o63r/A839DQsLq66vV6NRpNfX393t5eQ0NDIBD48eMHTnVsbEwQhIaGhkQi4fP5bDZbXV3d0dERy7I+n+/y8tLv93u93nA4fHBwAAJ5dnY2EAjEYrF0Oi1JEkEQXq83mUyqVKqXL1+m02mv18swzMjISDqdvuuGLjXCuypTWl+qQKkCd1YAQBBiDfx1OBygCqHyuH//viRJkFE4HI7u7u6ZmRn1r8VgMBSLRY/HE4vFUqmUz+d79OgRSZIYLg0GQzKZfPHihdvtPjk5MRgMjY2N2WzWbDYrFIq6urp0Ok2S5Ojo6ODgoFKpxPTP1dWVxWKRJOnk5ATqD7/fn8vl7HY76DuSJK1WKzjVpaUlgiAymUwgEMBw+ezZM5qmFxYW9Hq9Vqv1eDwdHR17e3vQkkiSdHBwUCwWj4+Pl5eXBUE4PT3FtFk6nWZZNhKJrK2tcRxXXl6Ow4miGA6Hs9ksSZJOp9Pv96fTaah1isWiWq0GxUfTtFKphO7DaDRubW21tLQEAoFsNgvFSm1tbTqdVqlUXV1dCwsLOp3u4cOHbrfbZrORJImeDVWRyWSyWCx9fX2Li4sEQSiVytPT09evXxuNxmg0mkwmKYoKhUKpVOqWXTQajR6P5/z8HBrUqqoqnNv4+Hh/fz+0TigjTdOBQKBQKABNejyevb09q9UKppfn+aqqquPj45WVlXg8Hg6HrVar0+mEtDgcDqfTaY1G43A4ent7z8/PV1ZWCoXC9vZ2LpfDo8PNzc3k5OTHjx8bGxuVSuXnz5/Pz8/X1tZWV1fxMbvdjkcfKH1omj44OGhsbHQ6ncVi0el0dnV1ZTKZzc3NdDqdy+X+++8/tOSBgQFYR1paWjY3N++6oUuN8K7KlNaXKlCqwJ0VgGofCk8oWRiGqaqqOj09tdvt0BBCQ59KpYxG4+fPnz9+/AgUwnHc5eWlKIoYl0EMWiyWy8tLt9tN03Q8Hp+env7y5UtnZ6fFYvH5fHt7e3Bf1NTUFAoFt9s9MDDw7t07SCfcbnc6nTYYDLFYbG1tzWq1EgSBwbqsrMzn8+3v74NIxEzYhw8f4vE4x3Ffv36dnZ3t6+szmUyfPn168uQJXA0EQVit1qurq/r6+r/++gtmUI7jenp6RkdHW1pakskkwzBNTU3ZbJZlWa/Xm8lkoHo1mUzn5+eSJDU3NwMFAs/l83kQldDXeDweiqJgP0AOrcViyWazzc3N9fX1Ozs7HMfp9XqQvRRF9ff3Dw8PcxyHBuPxeIC64EklCAI7v76+Pj4+TqVS19fXZ2dnqVSK47hIJHJwcAAQls/n0X1RJUwfymQys9ns8/m2trYEQfjw4cP3798xQRsMBsGmxmKxzc1NHKW6ujqdTjMMY7FYTk5OMM3JcVw4HF5cXNze3o5Go/As0jQtSdLx8THLskqlsr+/f3p6GtJZQRCsVitQo9FobGxsHB4ezmaz0Wj03bt3379/N5lMkPJCPfT06dPFxUWGYWC/6e3t/fz58+jo6OvXr0mSHBoampubg38D8iuSJCcnJ4eGhuCQCQQCmUzmrhu61AjvqkxpfakCpQr8dgV+/vw5MTHR2Ngol8v9fv/c3NzIyAjDMLFYbHd3V61We73epqamo6Mjk8kUCoXOz88jkYher3/z5k0ymeQ4DknQuVzu7OwMgn6MpLCyAaCwLPvkyZNkMgnW6+PHj8CODocDe+Z5XpKkQqEAY2KxWHS5XPARiqKo0Wj+97//vX792m63K5VKn8/377//dnd3u1wu6BhVKpXL5RocHFxaWuru7obBsaWlZXt7u6+v7/Hjx6enpwRB1NfX5/N5hmFCoVCxWMS0aDwe39zc1Ol0jx8/3tnZcbvdHMcNDg5eXV1B7l8sFgFMXS6Xw+GAOxDTaZeXl5W/lsvLS4IgWJYNhUJHR0dqtToSiZycnIiiyPP827dvJyYmaJr2+Xx6vd5oNPp8voqKilevXh0fH2s0GqBnr9ebz+f7+/srKysLhYJGo/H7/cViEenbbrdbp9M5HA6oXXier6ysPD09JUkyEonk83kIgoaGhorFokKhCIVCuVwOnkWv15tOp/H/xcWFIAhdXV3Dw8Nms9lqtU5NTb1584amaY1GgznC3d1dKIFjsVixWJQkSavVPn/+fHNzMxAItLW1zc7OYm8LCwuvXr0KhUIXFxc+n08Uxfb29kKhwPP8bUuGIdJqtebz+cPDQ6PRKAgCHjvACrS0tOzv73Mc9+zZs62tLQiSx8fHNzY24GfFLQd/IbiNUiP87Z96aYNSBUoVuKsCNE339PTk8/mrq6udnZ2hoaFAIFBeXq7X6z99+pTJZFZXVzc2Nurr6/V6PSbbfvz4USgUpqamWltbYRY0m83j4+Pv37+HHL++vn5+fh4tKhwO5/N5zCB+/fp1c3NzY2NjYWFhcXHRZrO1tbWB3iQIIhwO53I5eOBmZmZWV1ej0SgEFC6Xi+f5zs7Oubm5lZWV4eHhjo4OGN0wXQdHttFo7OjoWF1dvb6+vri4mJ2dffnypcPhqKqqSiQSkiRFIpGNjQ2Xy+X3+7e3t6emplZWVkZGRmDrNhqNS0tLqVQqkUiMjIxMTEyYzWZRFJeWlvb392tra4vFot1u93q9JEnC1ZdIJDp+LYlEgmVZ6GCz2awkSX/99de7d+/m5+e3trZmZmYEQfD7/aurqz09PTqdTi6X8zy/u7v74sULpVIJ27vT6QQQb29vX1paqqqqikQiy8vLALjQUv7999/T09MKhYJhGFyOzWbjOC4ej6fT6Z2dnfHx8c3NTafT2dzcvLS0BI1PNBpNpVKwyScSicPDw3A4vLCwkEgklpeXx8bGKisrYcBgWbalpWV9fT0QCJAkqVarx8fHJyYmjo6O1tfXOzs7//jjD5fLNTs7Ozc3t7e3Nzc3J0mSRqPp7u5eW1vb3t5eXFyMxWIEQdTU1KRSKZgXQYkvLCx8+/bN4/GoVCqFQvHly5e1tbXDw8OFhQU8Img0mq6urqOjo2Qy+fXr12w2S1FUIBCYmZmJx+M8z8tkMoVCYbPZSo3wrl90aX2pAqUK/HYFJEmCTQ0P2sh8gdFNpVJBpmE2mx88eMCyLAQOMpnMZrOBa4VpXRCEXC7X3NyMyBWtVuv1em/N7KIoqtXq2tra3t5erVZLUdT79++npqYAKeB/x9E5joOoUq1Ww5agVCrlcjkwhMFgANQDU6dSqRBHcpvVwvM8IlRg9nA4HAipIUkSUn4Y2AmCQKgNhlS/348oHFyjIAg0TcNOx3FcRUUFz/PQ+Lx9+7aqqkoul+MzCH9R/lpsNhsMDOCN4ZewWq02mw2ROjRNw3oB7wGc7DDwwdbCMIxCoYBp7zZaBWoaPBzAOGEwGERRBBBHDA3LsqIo9vT0ALb29fV9//5dpVIplUoYHpRKpVartdvtCoVCqVTCNAIVMcuyiBOC/wTeQUQHaLVak8kkl8shXsXkK+hTl8tlt9uB1dAskRbkdDoVCoXb7VYoFGC2KysrYeqHox+RNxaLRRAEiqI0Go3JZEI8EJ45SJKEK1+lUt2/f99qtcLOX1lZCbcJzPsURZUa4W//1EsblCpQqsBdFdBqtchag1kew81tXgzy1dRqtdvt5nne4/Hs7+/TNI0eo9VqGYZ58uTJzc1Nb2/vrU8cVjy8RVar1aJd2Wy2ycnJfD6fzWanpqYCgYBcLjcYDIikwWiI1guNIqg5u92O7Bs0P0SW4G3J0IZgPgn2dpy8IAgwPqLB8DwPx5vBYIDQEbkwiHpRqVT4GALeBEGAUsNoNCJNDQITvV6v0Wiam5urq6vRNWEDv31TLkVRWAOfnNPphIEdDjlErMFKjy8CB8WrBgGd4WlBG0DRbl9JCNsfHgIMBsNtlg3OCh7Bb9++rayspNPp6enpQCBgMBg8Ho9cLtfr9Q6HA6Z+JAnodDpkGiAEDo0ZcTYMw+BCUGdJkpAgg9aIuwLhZ/fu3TMajfBoYj2YYYIg4LA0mUz4ZtE7kTOn0WiQPwejPRz3yGTAdbEsCwEzwzBg0cFFGwwGmUx2m4BjMBhKjfCuX3RpfakCpQr8dgVu8zAxciG0E3wafALAEzBfm0wmPPUDaUmSJAiCTCZD21Cr1ciWhPJTq9VyHAfdBMJKAOmAkHAgh8Nhs9nQTmiahpsNIz6YOp1OBws/MJDJZILAEmDCbrcjKAC6U5Iky8vLZTIZpDeQdZSVlWF0RtwXkIpOp1OpVDAjwuqOmU70bKg6cQKQC6GR+Hy+8vJy5Iiq1epbghSkKLAROtytQBTC19sLLCsrA2TEBCqaBFA1UK/dbke/xIaAntg/ELYoingm0Ov1ll8LwzCQhnq9XlQJwBoSUKT/4OvDJ5FdYDAYBEFAUCo6mUwmw5wo2jZBEMjSw1YWiwUCH8SZQqN0y0jfpjRQFKVQKJCQZzKZBEGAVshgMFitVp7nRVGEdQRhe7h2WHfwaAKu22Kx6PV6pMywLOtyuSC7vfX/lBrhb//USxuUKlCqwF0VcLlciGDGWIawSpqmEbYCJtPn8/E8j/81Go0kSfAVQCIIqo1lWSSE4WMURSFvTKFQ/Pnnn+DE8I51DOgY8RFfiZapVCqRh3k77iOdRKPReDwe9Fq0KIvFIoqiyWRCSifiUXQ6HYg+m81mtVrlcrlarfZ4PEBaEMoiTZTjODB1NE0rFAqoTjAW0zSNsRsxLsBkQEUmkwlnizPHO5IQeHaLEaHGxBGdTidMcgqFAiGlUI3CrAKPI54YbjMBAILlcjlaglKpJEmSpmmgKMwjymQyh8MBMyUi3EDV4vvChliP/Bqv1wutDQA0LgGNEzw2fJNI+HT/Wm4ND0jtcblcgImY58MhRFEEnsNFoeDorNDW8jyPpgi6FWBdoVA8fPgQ+XA8z0OuLAgCSF3sCorc26w4kKXQExkMBlDN/9/j/w/6NHC1pWRC3AAAAABJRU5ErkJggg==)"
      ]
    }
  ]
}