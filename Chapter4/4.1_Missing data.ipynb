{
  "nbformat": 4,
  "nbformat_minor": 0,
  "metadata": {
    "colab": {
      "name": "4.1_누락된 데이터 다루기.ipynb",
      "provenance": [],
      "collapsed_sections": [],
      "authorship_tag": "ABX9TyMPyeT6vgz4P1HvfIqWdb2b"
    },
    "kernelspec": {
      "name": "python3",
      "display_name": "Python 3"
    },
    "language_info": {
      "name": "python"
    }
  },
  "cells": [
    {
      "cell_type": "markdown",
      "metadata": {
        "id": "_aQEwOGlDdMZ"
      },
      "source": [
        "# 4.1 누락된 데이터 다루기"
      ]
    },
    {
      "cell_type": "markdown",
      "metadata": {
        "id": "leMqo1WOD8iw"
      },
      "source": [
        "훈련 샘플에 하나 이상의 값이 누락된 경우를 자주 볼 수 있다.<br>\n",
        "\n",
        "일반적으로 누락된 값은 **NaN(Not a Number)** 또는 **NULL** 등의 값으로 채워진다. <br>\n",
        "\n",
        "대부분의 수치 계산 라이브러리는 누락된 값을 다룰 수 없거나 무시하면 예상치 못한 결과를 만든다.<br>\n",
        "\n",
        "따라서 **누락된 데이터를 제거하거나 대체해야 한다**."
      ]
    },
    {
      "cell_type": "markdown",
      "metadata": {
        "id": "e2k21GuHDjz4"
      },
      "source": [
        "### 4.1.1 테이블 형태 데이터에서 누락된 값 식별"
      ]
    },
    {
      "cell_type": "code",
      "metadata": {
        "id": "X2WumBBeDjlY"
      },
      "source": [
        "import pandas as pd\n",
        "from io import StringIO"
      ],
      "execution_count": 1,
      "outputs": []
    },
    {
      "cell_type": "code",
      "metadata": {
        "id": "GH6i1otfDK86"
      },
      "source": [
        "csv_data = \\\n",
        "'''A, B, C, D\n",
        "1.0,2.0,3.0,4.0\n",
        "5.0,6.0,,\n",
        ",11.0,12.0,'''\n",
        "# 파이썬 2.7을 사용하는 경우\n",
        "# 다음과 같이 문자열을 유니코드로 변환해야 한다.\n",
        "# csv_data = unicode(csv_data)"
      ],
      "execution_count": 2,
      "outputs": []
    },
    {
      "cell_type": "code",
      "metadata": {
        "colab": {
          "base_uri": "https://localhost:8080/",
          "height": 142
        },
        "id": "ijwDRExXFFsK",
        "outputId": "a13979b9-d339-4801-fe6e-769e4d079159"
      },
      "source": [
        "df = pd.read_csv(StringIO(csv_data)) # StringIO(csv_data)\n",
        "df"
      ],
      "execution_count": 3,
      "outputs": [
        {
          "output_type": "execute_result",
          "data": {
            "text/html": [
              "<div>\n",
              "<style scoped>\n",
              "    .dataframe tbody tr th:only-of-type {\n",
              "        vertical-align: middle;\n",
              "    }\n",
              "\n",
              "    .dataframe tbody tr th {\n",
              "        vertical-align: top;\n",
              "    }\n",
              "\n",
              "    .dataframe thead th {\n",
              "        text-align: right;\n",
              "    }\n",
              "</style>\n",
              "<table border=\"1\" class=\"dataframe\">\n",
              "  <thead>\n",
              "    <tr style=\"text-align: right;\">\n",
              "      <th></th>\n",
              "      <th>A</th>\n",
              "      <th>B</th>\n",
              "      <th>C</th>\n",
              "      <th>D</th>\n",
              "    </tr>\n",
              "  </thead>\n",
              "  <tbody>\n",
              "    <tr>\n",
              "      <th>0</th>\n",
              "      <td>1.0</td>\n",
              "      <td>2.0</td>\n",
              "      <td>3.0</td>\n",
              "      <td>4.0</td>\n",
              "    </tr>\n",
              "    <tr>\n",
              "      <th>1</th>\n",
              "      <td>5.0</td>\n",
              "      <td>6.0</td>\n",
              "      <td>NaN</td>\n",
              "      <td>NaN</td>\n",
              "    </tr>\n",
              "    <tr>\n",
              "      <th>2</th>\n",
              "      <td>NaN</td>\n",
              "      <td>11.0</td>\n",
              "      <td>12.0</td>\n",
              "      <td>NaN</td>\n",
              "    </tr>\n",
              "  </tbody>\n",
              "</table>\n",
              "</div>"
            ],
            "text/plain": [
              "     A     B     C    D\n",
              "0  1.0   2.0   3.0  4.0\n",
              "1  5.0   6.0   NaN  NaN\n",
              "2  NaN  11.0  12.0  NaN"
            ]
          },
          "metadata": {},
          "execution_count": 3
        }
      ]
    },
    {
      "cell_type": "markdown",
      "metadata": {
        "id": "lohw-QOsFinH"
      },
      "source": [
        "**StringIO 함수**를 사용하면 하드 디스크에 있는 일반 CSV 파일처럼 csv_data에 저장된 문자열을 읽어 판다스 DataFrame으로 변환할 수 있다."
      ]
    },
    {
      "cell_type": "code",
      "metadata": {
        "colab": {
          "base_uri": "https://localhost:8080/",
          "height": 142
        },
        "id": "4Gmi62YVFK5Q",
        "outputId": "28606c21-12d1-43cd-ef4b-bc775f443300"
      },
      "source": [
        "df.isnull()"
      ],
      "execution_count": 4,
      "outputs": [
        {
          "output_type": "execute_result",
          "data": {
            "text/html": [
              "<div>\n",
              "<style scoped>\n",
              "    .dataframe tbody tr th:only-of-type {\n",
              "        vertical-align: middle;\n",
              "    }\n",
              "\n",
              "    .dataframe tbody tr th {\n",
              "        vertical-align: top;\n",
              "    }\n",
              "\n",
              "    .dataframe thead th {\n",
              "        text-align: right;\n",
              "    }\n",
              "</style>\n",
              "<table border=\"1\" class=\"dataframe\">\n",
              "  <thead>\n",
              "    <tr style=\"text-align: right;\">\n",
              "      <th></th>\n",
              "      <th>A</th>\n",
              "      <th>B</th>\n",
              "      <th>C</th>\n",
              "      <th>D</th>\n",
              "    </tr>\n",
              "  </thead>\n",
              "  <tbody>\n",
              "    <tr>\n",
              "      <th>0</th>\n",
              "      <td>False</td>\n",
              "      <td>False</td>\n",
              "      <td>False</td>\n",
              "      <td>False</td>\n",
              "    </tr>\n",
              "    <tr>\n",
              "      <th>1</th>\n",
              "      <td>False</td>\n",
              "      <td>False</td>\n",
              "      <td>True</td>\n",
              "      <td>True</td>\n",
              "    </tr>\n",
              "    <tr>\n",
              "      <th>2</th>\n",
              "      <td>True</td>\n",
              "      <td>False</td>\n",
              "      <td>False</td>\n",
              "      <td>True</td>\n",
              "    </tr>\n",
              "  </tbody>\n",
              "</table>\n",
              "</div>"
            ],
            "text/plain": [
              "       A      B      C      D\n",
              "0  False  False  False  False\n",
              "1  False  False   True   True\n",
              "2   True  False  False   True"
            ]
          },
          "metadata": {},
          "execution_count": 4
        }
      ]
    },
    {
      "cell_type": "code",
      "metadata": {
        "colab": {
          "base_uri": "https://localhost:8080/"
        },
        "id": "gnD-6fWtH-F4",
        "outputId": "991ed74b-f9b0-413a-eff9-046807101873"
      },
      "source": [
        "df.isnull().sum()"
      ],
      "execution_count": 5,
      "outputs": [
        {
          "output_type": "execute_result",
          "data": {
            "text/plain": [
              "A     1\n",
              " B    0\n",
              " C    1\n",
              " D    2\n",
              "dtype: int64"
            ]
          },
          "metadata": {},
          "execution_count": 5
        }
      ]
    },
    {
      "cell_type": "markdown",
      "metadata": {
        "id": "mX8yen6NF4ah"
      },
      "source": [
        "**isnull 메소드**는 셀(cell)이 **수치 값을 담고 있는지**(False) 또는 **누락되어 있는지**(True)를 나타내는 불리언 값이 채워진 DataFrame을 반환한다.\n",
        "\n",
        "| |A|B|C|D|\n",
        "|:-:|:-:|:-:|:-:|:-:|\n",
        "|0|False|False|False|False|\n",
        "|1|False|False|True|True|\n",
        "|2|True|False|False|True|\n",
        "\n",
        "<br>\n",
        "\n",
        "- *셀(cell): pandas에서 데이터프레임의 원소를 셀이라고 부른다.*\n",
        "- *isnull 메소드는 셀 값이 None 또는 np.nan(np.NaN)일 경우 True를 반환한다.*\n",
        "- *isnull 메소드의 다른 이름은 isna이다.*\n"
      ]
    },
    {
      "cell_type": "markdown",
      "metadata": {
        "id": "vObRCHnEItID"
      },
      "source": [
        "df.isnull().sum()의 형태로 **sum 메소드**를 사용하면 각 열의 **누락된 값의 개수**를 얻을 수 있다.\n",
        "<br>\n",
        "\n",
        "B 셀에는 누락된 값이 없고, A와 C 셀에는 누락된 값이 한 개, D 셀에는 누락된 값이 두 개 있음을 확인할 수 있다.\n",
        "\n",
        "|cell|bool|\n",
        "|:----:|:----:|\n",
        "| A | 1 |\n",
        "| B | 0 |\n",
        "| C | 1 |\n",
        "| D | 2 |\n",
        "\n",
        "<br>\n",
        "\n",
        "- *pandas의 sum 메소드는 불리언 값 True를 1로 카운팅한다. (numpy의 sum 메소드와 동일하다.)*\n",
        "- *sum 메소드의 axis 매개변수는 0을 기본값으로 가진다.*\n",
        "- *axis가 0일 경우 하나의 행으로, 1일 경우 하나의 열로 더해진다.*"
      ]
    },
    {
      "cell_type": "markdown",
      "metadata": {
        "id": "sWdlYMI6LM3o"
      },
      "source": [
        "### 4.1.2 누락된 값이 있는 훈련 샘플이나 특성 제외"
      ]
    },
    {
      "cell_type": "markdown",
      "metadata": {
        "id": "slP9WQUJLM1j"
      },
      "source": [
        "누락된 데이터를 다루는 가장 쉬운 방법은 데이터셋에서 해당 **훈련 샘플(행)**이나 **특성(열)**을 완전히 **삭제**하는 것이다."
      ]
    },
    {
      "cell_type": "code",
      "metadata": {
        "colab": {
          "base_uri": "https://localhost:8080/",
          "height": 80
        },
        "id": "cxiG-QsANrcr",
        "outputId": "bac9e9a4-8769-4f00-d54f-3f69d4b14fdf"
      },
      "source": [
        "# axis가 0이면 누락된 값이 있는 행(row)을 삭제한다.\n",
        "df.dropna(axis=0)"
      ],
      "execution_count": 6,
      "outputs": [
        {
          "output_type": "execute_result",
          "data": {
            "text/html": [
              "<div>\n",
              "<style scoped>\n",
              "    .dataframe tbody tr th:only-of-type {\n",
              "        vertical-align: middle;\n",
              "    }\n",
              "\n",
              "    .dataframe tbody tr th {\n",
              "        vertical-align: top;\n",
              "    }\n",
              "\n",
              "    .dataframe thead th {\n",
              "        text-align: right;\n",
              "    }\n",
              "</style>\n",
              "<table border=\"1\" class=\"dataframe\">\n",
              "  <thead>\n",
              "    <tr style=\"text-align: right;\">\n",
              "      <th></th>\n",
              "      <th>A</th>\n",
              "      <th>B</th>\n",
              "      <th>C</th>\n",
              "      <th>D</th>\n",
              "    </tr>\n",
              "  </thead>\n",
              "  <tbody>\n",
              "    <tr>\n",
              "      <th>0</th>\n",
              "      <td>1.0</td>\n",
              "      <td>2.0</td>\n",
              "      <td>3.0</td>\n",
              "      <td>4.0</td>\n",
              "    </tr>\n",
              "  </tbody>\n",
              "</table>\n",
              "</div>"
            ],
            "text/plain": [
              "     A    B    C    D\n",
              "0  1.0  2.0  3.0  4.0"
            ]
          },
          "metadata": {},
          "execution_count": 6
        }
      ]
    },
    {
      "cell_type": "code",
      "metadata": {
        "colab": {
          "base_uri": "https://localhost:8080/",
          "height": 142
        },
        "id": "SwXuxHt2N0xb",
        "outputId": "41ebce68-cde7-4ee5-e909-f24be3eb6a18"
      },
      "source": [
        "# axis가 1이면 누락된 값이 있는 열(column)을 삭제한다.\n",
        "df.dropna(axis=1)"
      ],
      "execution_count": 7,
      "outputs": [
        {
          "output_type": "execute_result",
          "data": {
            "text/html": [
              "<div>\n",
              "<style scoped>\n",
              "    .dataframe tbody tr th:only-of-type {\n",
              "        vertical-align: middle;\n",
              "    }\n",
              "\n",
              "    .dataframe tbody tr th {\n",
              "        vertical-align: top;\n",
              "    }\n",
              "\n",
              "    .dataframe thead th {\n",
              "        text-align: right;\n",
              "    }\n",
              "</style>\n",
              "<table border=\"1\" class=\"dataframe\">\n",
              "  <thead>\n",
              "    <tr style=\"text-align: right;\">\n",
              "      <th></th>\n",
              "      <th>B</th>\n",
              "    </tr>\n",
              "  </thead>\n",
              "  <tbody>\n",
              "    <tr>\n",
              "      <th>0</th>\n",
              "      <td>2.0</td>\n",
              "    </tr>\n",
              "    <tr>\n",
              "      <th>1</th>\n",
              "      <td>6.0</td>\n",
              "    </tr>\n",
              "    <tr>\n",
              "      <th>2</th>\n",
              "      <td>11.0</td>\n",
              "    </tr>\n",
              "  </tbody>\n",
              "</table>\n",
              "</div>"
            ],
            "text/plain": [
              "      B\n",
              "0   2.0\n",
              "1   6.0\n",
              "2  11.0"
            ]
          },
          "metadata": {},
          "execution_count": 7
        }
      ]
    },
    {
      "cell_type": "code",
      "metadata": {
        "colab": {
          "base_uri": "https://localhost:8080/",
          "height": 142
        },
        "id": "Ynw3zSLLN8S4",
        "outputId": "57def330-5d0e-4bda-ea44-ed1e0527651e"
      },
      "source": [
        "# 모든 행이 NaN일 때만 행을 삭제한다. (axis의 default가 0이므로 행을 삭제)\n",
        "# 여기서는 모든 값이 NaN인 행이 없기 때문에 전체 배열이 반환된다.\n",
        "# how의 default 값은 'any'\n",
        "df.dropna(how='all')"
      ],
      "execution_count": 8,
      "outputs": [
        {
          "output_type": "execute_result",
          "data": {
            "text/html": [
              "<div>\n",
              "<style scoped>\n",
              "    .dataframe tbody tr th:only-of-type {\n",
              "        vertical-align: middle;\n",
              "    }\n",
              "\n",
              "    .dataframe tbody tr th {\n",
              "        vertical-align: top;\n",
              "    }\n",
              "\n",
              "    .dataframe thead th {\n",
              "        text-align: right;\n",
              "    }\n",
              "</style>\n",
              "<table border=\"1\" class=\"dataframe\">\n",
              "  <thead>\n",
              "    <tr style=\"text-align: right;\">\n",
              "      <th></th>\n",
              "      <th>A</th>\n",
              "      <th>B</th>\n",
              "      <th>C</th>\n",
              "      <th>D</th>\n",
              "    </tr>\n",
              "  </thead>\n",
              "  <tbody>\n",
              "    <tr>\n",
              "      <th>0</th>\n",
              "      <td>1.0</td>\n",
              "      <td>2.0</td>\n",
              "      <td>3.0</td>\n",
              "      <td>4.0</td>\n",
              "    </tr>\n",
              "    <tr>\n",
              "      <th>1</th>\n",
              "      <td>5.0</td>\n",
              "      <td>6.0</td>\n",
              "      <td>NaN</td>\n",
              "      <td>NaN</td>\n",
              "    </tr>\n",
              "    <tr>\n",
              "      <th>2</th>\n",
              "      <td>NaN</td>\n",
              "      <td>11.0</td>\n",
              "      <td>12.0</td>\n",
              "      <td>NaN</td>\n",
              "    </tr>\n",
              "  </tbody>\n",
              "</table>\n",
              "</div>"
            ],
            "text/plain": [
              "     A     B     C    D\n",
              "0  1.0   2.0   3.0  4.0\n",
              "1  5.0   6.0   NaN  NaN\n",
              "2  NaN  11.0  12.0  NaN"
            ]
          },
          "metadata": {},
          "execution_count": 8
        }
      ]
    },
    {
      "cell_type": "code",
      "metadata": {
        "colab": {
          "base_uri": "https://localhost:8080/",
          "height": 80
        },
        "id": "aGBrJJDNP0Vi",
        "outputId": "e438ba99-5537-4a56-cc1c-028ad52d3f1b"
      },
      "source": [
        "# NaN이 아닌 값이 네 개보다 작은 행을 삭제한다.\n",
        "df.dropna(thresh=4)"
      ],
      "execution_count": 9,
      "outputs": [
        {
          "output_type": "execute_result",
          "data": {
            "text/html": [
              "<div>\n",
              "<style scoped>\n",
              "    .dataframe tbody tr th:only-of-type {\n",
              "        vertical-align: middle;\n",
              "    }\n",
              "\n",
              "    .dataframe tbody tr th {\n",
              "        vertical-align: top;\n",
              "    }\n",
              "\n",
              "    .dataframe thead th {\n",
              "        text-align: right;\n",
              "    }\n",
              "</style>\n",
              "<table border=\"1\" class=\"dataframe\">\n",
              "  <thead>\n",
              "    <tr style=\"text-align: right;\">\n",
              "      <th></th>\n",
              "      <th>A</th>\n",
              "      <th>B</th>\n",
              "      <th>C</th>\n",
              "      <th>D</th>\n",
              "    </tr>\n",
              "  </thead>\n",
              "  <tbody>\n",
              "    <tr>\n",
              "      <th>0</th>\n",
              "      <td>1.0</td>\n",
              "      <td>2.0</td>\n",
              "      <td>3.0</td>\n",
              "      <td>4.0</td>\n",
              "    </tr>\n",
              "  </tbody>\n",
              "</table>\n",
              "</div>"
            ],
            "text/plain": [
              "     A    B    C    D\n",
              "0  1.0  2.0  3.0  4.0"
            ]
          },
          "metadata": {},
          "execution_count": 9
        }
      ]
    },
    {
      "cell_type": "code",
      "metadata": {
        "colab": {
          "base_uri": "https://localhost:8080/",
          "height": 111
        },
        "id": "pBEFXuhJQHYA",
        "outputId": "efc50872-9039-4118-a535-9891c473245e"
      },
      "source": [
        "# 특정 열에 NaN이 있는 행만 삭제한다.(여기서는 'A'열)\n",
        "df.dropna(subset=['A'])"
      ],
      "execution_count": 10,
      "outputs": [
        {
          "output_type": "execute_result",
          "data": {
            "text/html": [
              "<div>\n",
              "<style scoped>\n",
              "    .dataframe tbody tr th:only-of-type {\n",
              "        vertical-align: middle;\n",
              "    }\n",
              "\n",
              "    .dataframe tbody tr th {\n",
              "        vertical-align: top;\n",
              "    }\n",
              "\n",
              "    .dataframe thead th {\n",
              "        text-align: right;\n",
              "    }\n",
              "</style>\n",
              "<table border=\"1\" class=\"dataframe\">\n",
              "  <thead>\n",
              "    <tr style=\"text-align: right;\">\n",
              "      <th></th>\n",
              "      <th>A</th>\n",
              "      <th>B</th>\n",
              "      <th>C</th>\n",
              "      <th>D</th>\n",
              "    </tr>\n",
              "  </thead>\n",
              "  <tbody>\n",
              "    <tr>\n",
              "      <th>0</th>\n",
              "      <td>1.0</td>\n",
              "      <td>2.0</td>\n",
              "      <td>3.0</td>\n",
              "      <td>4.0</td>\n",
              "    </tr>\n",
              "    <tr>\n",
              "      <th>1</th>\n",
              "      <td>5.0</td>\n",
              "      <td>6.0</td>\n",
              "      <td>NaN</td>\n",
              "      <td>NaN</td>\n",
              "    </tr>\n",
              "  </tbody>\n",
              "</table>\n",
              "</div>"
            ],
            "text/plain": [
              "     A    B    C    D\n",
              "0  1.0  2.0  3.0  4.0\n",
              "1  5.0  6.0  NaN  NaN"
            ]
          },
          "metadata": {},
          "execution_count": 10
        }
      ]
    },
    {
      "cell_type": "markdown",
      "metadata": {
        "id": "4ZWn_grKUeyz"
      },
      "source": [
        "**누락된 데이터 제거의 단점**<br>\n",
        "\n",
        "- 너무 많은 **데이터**를 제거하면 안정된 분석이 불가능하다.\n",
        "- 너무 많은 **특성 열**을 제거하면 분류기가 클래스를 구분하는 데 필요한 중요한 정보를 잃을 위험이 있다."
      ]
    },
    {
      "cell_type": "code",
      "metadata": {
        "colab": {
          "base_uri": "https://localhost:8080/",
          "height": 142
        },
        "id": "OdeGtBiHLJOO",
        "outputId": "a14be509-0817-43b1-805a-e3095f2a77b8"
      },
      "source": [
        "# 행과 열이 모두 NaN인 DataFrame 생성\n",
        "test_data = \\\n",
        "'''A, B, C, D\n",
        "1.0,2.0,3.0,\n",
        "5.0,6.0,7.0,\n",
        ",,,'''\n",
        "\n",
        "test_df = pd.read_csv(StringIO(test_data))\n",
        "test_df"
      ],
      "execution_count": 11,
      "outputs": [
        {
          "output_type": "execute_result",
          "data": {
            "text/html": [
              "<div>\n",
              "<style scoped>\n",
              "    .dataframe tbody tr th:only-of-type {\n",
              "        vertical-align: middle;\n",
              "    }\n",
              "\n",
              "    .dataframe tbody tr th {\n",
              "        vertical-align: top;\n",
              "    }\n",
              "\n",
              "    .dataframe thead th {\n",
              "        text-align: right;\n",
              "    }\n",
              "</style>\n",
              "<table border=\"1\" class=\"dataframe\">\n",
              "  <thead>\n",
              "    <tr style=\"text-align: right;\">\n",
              "      <th></th>\n",
              "      <th>A</th>\n",
              "      <th>B</th>\n",
              "      <th>C</th>\n",
              "      <th>D</th>\n",
              "    </tr>\n",
              "  </thead>\n",
              "  <tbody>\n",
              "    <tr>\n",
              "      <th>0</th>\n",
              "      <td>1.0</td>\n",
              "      <td>2.0</td>\n",
              "      <td>3.0</td>\n",
              "      <td>NaN</td>\n",
              "    </tr>\n",
              "    <tr>\n",
              "      <th>1</th>\n",
              "      <td>5.0</td>\n",
              "      <td>6.0</td>\n",
              "      <td>7.0</td>\n",
              "      <td>NaN</td>\n",
              "    </tr>\n",
              "    <tr>\n",
              "      <th>2</th>\n",
              "      <td>NaN</td>\n",
              "      <td>NaN</td>\n",
              "      <td>NaN</td>\n",
              "      <td>NaN</td>\n",
              "    </tr>\n",
              "  </tbody>\n",
              "</table>\n",
              "</div>"
            ],
            "text/plain": [
              "     A    B    C   D\n",
              "0  1.0  2.0  3.0 NaN\n",
              "1  5.0  6.0  7.0 NaN\n",
              "2  NaN  NaN  NaN NaN"
            ]
          },
          "metadata": {},
          "execution_count": 11
        }
      ]
    },
    {
      "cell_type": "code",
      "metadata": {
        "colab": {
          "base_uri": "https://localhost:8080/",
          "height": 111
        },
        "id": "sHzrcehYO8YC",
        "outputId": "62ca8042-a482-42f6-bbee-f20dbe178547"
      },
      "source": [
        "# axis가 0이고, how가 all인 경우\n",
        "test_df.dropna(axis=0, how='all')"
      ],
      "execution_count": 12,
      "outputs": [
        {
          "output_type": "execute_result",
          "data": {
            "text/html": [
              "<div>\n",
              "<style scoped>\n",
              "    .dataframe tbody tr th:only-of-type {\n",
              "        vertical-align: middle;\n",
              "    }\n",
              "\n",
              "    .dataframe tbody tr th {\n",
              "        vertical-align: top;\n",
              "    }\n",
              "\n",
              "    .dataframe thead th {\n",
              "        text-align: right;\n",
              "    }\n",
              "</style>\n",
              "<table border=\"1\" class=\"dataframe\">\n",
              "  <thead>\n",
              "    <tr style=\"text-align: right;\">\n",
              "      <th></th>\n",
              "      <th>A</th>\n",
              "      <th>B</th>\n",
              "      <th>C</th>\n",
              "      <th>D</th>\n",
              "    </tr>\n",
              "  </thead>\n",
              "  <tbody>\n",
              "    <tr>\n",
              "      <th>0</th>\n",
              "      <td>1.0</td>\n",
              "      <td>2.0</td>\n",
              "      <td>3.0</td>\n",
              "      <td>NaN</td>\n",
              "    </tr>\n",
              "    <tr>\n",
              "      <th>1</th>\n",
              "      <td>5.0</td>\n",
              "      <td>6.0</td>\n",
              "      <td>7.0</td>\n",
              "      <td>NaN</td>\n",
              "    </tr>\n",
              "  </tbody>\n",
              "</table>\n",
              "</div>"
            ],
            "text/plain": [
              "     A    B    C   D\n",
              "0  1.0  2.0  3.0 NaN\n",
              "1  5.0  6.0  7.0 NaN"
            ]
          },
          "metadata": {},
          "execution_count": 12
        }
      ]
    },
    {
      "cell_type": "code",
      "metadata": {
        "colab": {
          "base_uri": "https://localhost:8080/",
          "height": 142
        },
        "id": "TyyyXU-MPyT5",
        "outputId": "99d9de30-bdea-4571-b785-c8ef978766a0"
      },
      "source": [
        "# axis가 1이고, how가 all인 경우\n",
        "test_df.dropna(axis=1, how='all')"
      ],
      "execution_count": 13,
      "outputs": [
        {
          "output_type": "execute_result",
          "data": {
            "text/html": [
              "<div>\n",
              "<style scoped>\n",
              "    .dataframe tbody tr th:only-of-type {\n",
              "        vertical-align: middle;\n",
              "    }\n",
              "\n",
              "    .dataframe tbody tr th {\n",
              "        vertical-align: top;\n",
              "    }\n",
              "\n",
              "    .dataframe thead th {\n",
              "        text-align: right;\n",
              "    }\n",
              "</style>\n",
              "<table border=\"1\" class=\"dataframe\">\n",
              "  <thead>\n",
              "    <tr style=\"text-align: right;\">\n",
              "      <th></th>\n",
              "      <th>A</th>\n",
              "      <th>B</th>\n",
              "      <th>C</th>\n",
              "    </tr>\n",
              "  </thead>\n",
              "  <tbody>\n",
              "    <tr>\n",
              "      <th>0</th>\n",
              "      <td>1.0</td>\n",
              "      <td>2.0</td>\n",
              "      <td>3.0</td>\n",
              "    </tr>\n",
              "    <tr>\n",
              "      <th>1</th>\n",
              "      <td>5.0</td>\n",
              "      <td>6.0</td>\n",
              "      <td>7.0</td>\n",
              "    </tr>\n",
              "    <tr>\n",
              "      <th>2</th>\n",
              "      <td>NaN</td>\n",
              "      <td>NaN</td>\n",
              "      <td>NaN</td>\n",
              "    </tr>\n",
              "  </tbody>\n",
              "</table>\n",
              "</div>"
            ],
            "text/plain": [
              "     A    B    C\n",
              "0  1.0  2.0  3.0\n",
              "1  5.0  6.0  7.0\n",
              "2  NaN  NaN  NaN"
            ]
          },
          "metadata": {},
          "execution_count": 13
        }
      ]
    },
    {
      "cell_type": "markdown",
      "metadata": {
        "id": "q47in18kVk1x"
      },
      "source": [
        "### 4.1.3 누락된 값 대체"
      ]
    },
    {
      "cell_type": "markdown",
      "metadata": {
        "id": "54U2AcT2V3Fb"
      },
      "source": [
        "유용한 데이터를 많이 잃기 때문에 훈련 샘플이나 특성 열을 통째로 제거하기 어려울 때가 있다.<br>\n",
        "\n",
        "이런 경우에는 **보간(interpolation) 기법**을 사용하여 데이터셋에 있는 다른 훈련 샘플로부터 **누락된 값을 추정**한다.<br><br>\n",
        "\n",
        "\n",
        "가장 흔한 보간 기법은 각 특성 열의 전체 **평균으로 누락된 값을 바꾸는 방법**이다.<br>"
      ]
    },
    {
      "cell_type": "markdown",
      "metadata": {
        "id": "GZjHIVCJQUpY"
      },
      "source": [
        "#### SimpleImputer"
      ]
    },
    {
      "cell_type": "code",
      "metadata": {
        "id": "CFnJ5L1IWff4"
      },
      "source": [
        "from sklearn.impute import SimpleImputer\n",
        "import numpy as np"
      ],
      "execution_count": 38,
      "outputs": []
    },
    {
      "cell_type": "code",
      "metadata": {
        "colab": {
          "base_uri": "https://localhost:8080/"
        },
        "id": "wWU77RogWlWG",
        "outputId": "bec5cd7d-a4de-495b-c522-38cd86301e01"
      },
      "source": [
        "# NaN 값을 각 특성 열에서 계산한 평균으로 바꾸었다.\n",
        "imr = SimpleImputer(missing_values=np.nan, strategy='mean')\n",
        "imr = imr.fit(df.values)    # df.values를 통해 넘파이 배열을 얻을 수 있다.\n",
        "imputed_data = imr.transform(df.values)\n",
        "imputed_data"
      ],
      "execution_count": 39,
      "outputs": [
        {
          "output_type": "execute_result",
          "data": {
            "text/plain": [
              "array([[ 1. ,  2. ,  3. ,  4. ],\n",
              "       [ 5. ,  6. ,  7.5,  4. ],\n",
              "       [ 3. , 11. , 12. ,  4. ]])"
            ]
          },
          "metadata": {},
          "execution_count": 39
        }
      ]
    },
    {
      "cell_type": "markdown",
      "metadata": {
        "id": "IeQz0yYxLM5i"
      },
      "source": [
        "```\n",
        "사이킷런은 넘파이 배열을 다룰 수 있도록 개발되었는데, 대부분의 함수가 DataFrame 객체 입력도 지원한다.\n",
        "\n",
        "판다스의 DataFrame을 사용하여 데이터를 전처리 하는 것이 더 편리하다.\n",
        "하지만 사이킷런 API에서는 넘파이 배열 처리가 더 성숙하기 때문에 가능하면 넘파이 배열을 사용하는 것이 좋다.\n",
        "\n",
        "사이킷런 추정기에 주입하기 전에 DataFrame의 values 속성을 사용하면 넘파이 배열을 얻을 수 있다.\n",
        "위에서 사용한 Imputer가 추정기에 해당한다.\n",
        "```"
      ]
    },
    {
      "cell_type": "markdown",
      "metadata": {
        "id": "YPnDLUy2XxtP"
      },
      "source": [
        "```\n",
        "SimpleImputer():\n",
        "  def __init__(missing_values=np.nan, strategy='mean', fill_value=None, verbose=0, copy=True, add_indicator=False)\n",
        "```\n",
        "\n",
        "**strategy 매개변수**에 설정할 수 있는 값은 mean, median, most_frequent, constant가 있다.<br>\n",
        "- **mean**: 평균 값\n",
        "- **median**: 데이터를 순서대로 나열했을 때 중간에 위치한 값\n",
        "- **most_frequent**: 가장 많이 나타난 값, 범주형 특성 값을 대체할 때 유용하다.\n",
        "- **constant**: fill_value 매개변수에 채우려는 값을 지정한다.\n",
        "<br>"
      ]
    },
    {
      "cell_type": "code",
      "metadata": {
        "colab": {
          "base_uri": "https://localhost:8080/"
        },
        "id": "u7jt62M-J8J_",
        "outputId": "690aa8bb-9511-46b3-d5bc-947c242a47d9"
      },
      "source": [
        "from sklearn.preprocessing import FunctionTransformer\n",
        "ftr_imr = FunctionTransformer(lambda X: imr.fit_transform(X.T).T, validate=False)\n",
        "imputed_data = ftr_imr.fit_transform(df.values)\n",
        "imputed_data"
      ],
      "execution_count": 40,
      "outputs": [
        {
          "output_type": "execute_result",
          "data": {
            "text/plain": [
              "array([[ 1. ,  2. ,  3. ,  4. ],\n",
              "       [ 5. ,  6. ,  5.5,  5.5],\n",
              "       [11.5, 11. , 12. , 11.5]])"
            ]
          },
          "metadata": {},
          "execution_count": 40
        }
      ]
    },
    {
      "cell_type": "markdown",
      "metadata": {
        "id": "YARmdv7RKRkT"
      },
      "source": [
        "SimpleImputer의 기본 동작 방식은 Imputer 클래스의 **axis=0인 열(column) 방향**이다.<br>\n",
        "\n",
        "**행(row) 방향**으로 대체할 값을 계산할 땐 **FunctionTransformer**를 사용한다.<br>\n",
        "\n",
        "위 코드는 입력 행렬의 행과 열을 바꾸어 대체할 값을 계산한 후 다시 변환된 행렬의 열과 행을 바꾼다."
      ]
    },
    {
      "cell_type": "code",
      "metadata": {
        "colab": {
          "base_uri": "https://localhost:8080/"
        },
        "id": "hrsAdsl4KI41",
        "outputId": "b9e29fff-df6b-4992-a2db-add47686cd7e"
      },
      "source": [
        "imr = SimpleImputer(add_indicator=True)\n",
        "imputed_data = imr.fit_transform(df.values)\n",
        "imputed_data"
      ],
      "execution_count": 41,
      "outputs": [
        {
          "output_type": "execute_result",
          "data": {
            "text/plain": [
              "array([[ 1. ,  2. ,  3. ,  4. ,  0. ,  0. ,  0. ],\n",
              "       [ 5. ,  6. ,  7.5,  4. ,  0. ,  1. ,  1. ],\n",
              "       [ 3. , 11. , 12. ,  4. ,  1. ,  0. ,  1. ]])"
            ]
          },
          "metadata": {},
          "execution_count": 41
        }
      ]
    },
    {
      "cell_type": "markdown",
      "metadata": {
        "id": "83ODfqyBL4p6"
      },
      "source": [
        "SimpleImputer 클래스의 **add_indicator 매개변수를 True**로 지정하면 indicator_ 속성이 추가되고,<br> \n",
        "transform 메소드가 **누락된 값의 위치를 포함된 배열을 반환**한다."
      ]
    },
    {
      "cell_type": "code",
      "metadata": {
        "colab": {
          "base_uri": "https://localhost:8080/"
        },
        "id": "DJLjOZHlLt-m",
        "outputId": "36a6fee5-383c-4b64-a8a2-cf9ef1a4de5b"
      },
      "source": [
        "imr.indicator_.features_"
      ],
      "execution_count": 42,
      "outputs": [
        {
          "output_type": "execute_result",
          "data": {
            "text/plain": [
              "array([0, 2, 3])"
            ]
          },
          "metadata": {},
          "execution_count": 42
        }
      ]
    },
    {
      "cell_type": "markdown",
      "metadata": {
        "id": "cc4qjcd_MRBO"
      },
      "source": [
        "추가된 **indicator_ 속성**은 **MissingIndicator 클래스의 객체**이다.<br>\n",
        "\n",
        "MissingIndicator 객체의 **features_ 속성**은 **누락된 값이 있는 특성의 인덱스**를 담고 있다."
      ]
    },
    {
      "cell_type": "code",
      "metadata": {
        "colab": {
          "base_uri": "https://localhost:8080/"
        },
        "id": "nYdGHM2jMQc9",
        "outputId": "a51dd57f-a85d-4296-b91c-da81b81fa7a1"
      },
      "source": [
        "imr.indicator_.fit_transform(df.values)"
      ],
      "execution_count": 43,
      "outputs": [
        {
          "output_type": "execute_result",
          "data": {
            "text/plain": [
              "array([[False, False, False],\n",
              "       [False,  True,  True],\n",
              "       [ True, False,  True]])"
            ]
          },
          "metadata": {},
          "execution_count": 43
        }
      ]
    },
    {
      "cell_type": "markdown",
      "metadata": {
        "id": "P9eO14n8PHBu"
      },
      "source": [
        "MissingIndicator 객체의 **fit_transform 메소드**를 호출하면 features_ 속성에 담긴 특성에서 **누락된 값의 위치를 나타내는 배열을 반환**한다.<br>\n",
        "\n",
        "여기서는 첫 번째, 세 번째, 네 번째 특성의 누락된 값의 위치를 나타냈다."
      ]
    },
    {
      "cell_type": "markdown",
      "metadata": {
        "id": "sL_HD5vXOqcH"
      },
      "source": [
        "```\n",
        ">>> imr.inverse_transform(imputed_data)\n",
        "\n",
        "array([[ 1.,  2.,  3.,  4.],\n",
        "       [ 5.,  6., nan, nan],\n",
        "       [nan, 11., 12., nan]])\n",
        "```\n",
        "\n",
        "**inverse_transform 메소드**를 사용하면 **원본 특성으로 변환**된다.<br>\n",
        "\n",
        "이 기능은 사이킷런 0.24버전에 추가되었다."
      ]
    },
    {
      "cell_type": "markdown",
      "metadata": {
        "id": "AkUvVatcQNEb"
      },
      "source": [
        "####IterativeImputer"
      ]
    },
    {
      "cell_type": "markdown",
      "metadata": {
        "id": "eZ9J1nEfQZRz"
      },
      "source": [
        "SimpleImputer와 IterativeImputer 비교<br><br>\n",
        "**SimpleImputer**는 **한 특성의 통계 값**을 사용하여 누락된 값을 채운다.<br>\n",
        "\n",
        "**IterativeImputer**는 **다른 특성**을 사용하여 누락된 값을 예측한다."
      ]
    },
    {
      "cell_type": "markdown",
      "metadata": {
        "id": "PjcnrLdwSx7M"
      },
      "source": [
        "```\n",
        "def __init__(estimator=None, *, missing_values=np.nan, sample_posterior=False,\n",
        "            max_iter=10, tol=0.001, n_nearest_features=None, initial_strategy='mean', \n",
        "            imputation_order='ascending', skip_complete=False, min_value=-np.inf, \n",
        "            max_value=np.inf, verbose=0, random_state=None, add_indicator=False)\n",
        "```\n",
        "\n",
        "IterativeImputer는 다음 방식으로 **누락된 값이 있는 모든 특성을 순회**한다.\n",
        "<br>\n",
        "\n",
        "1. initial_strategy 매개변수에 지정된 방식으로 **누락된 값을 초기화**한다.\n",
        "2. 누락된 값이 있는 **한 특성을 타깃**으로 삼고 **다른 특성을 사용**해서 모델을 훈련하여 예측한다.<br><br>\n",
        "\n",
        "**initial_strategy 매개변수**에 지정할 수 있는 값은 SimpleImputer와 동일하다.<br>\n",
        "- mean\n",
        "- median\n",
        "- most_frequent\n",
        "- constant\n",
        "<br><br>\n",
        "\n",
        "**예측할 특성을 선택하는 순서**\n",
        "- **ascending**(기본 값): 누락된 값이 가장 적은 특성부터 선택\n",
        "- **descending**: 누락된 값이 가장 큰 특성부터 선택\n",
        "- **roman**: 왼쪽에서 오른쪽으로 선택\n",
        "- **arabic**: 오른쪽에서 왼쪽으로 선택\n",
        "- **random**: 랜덤하게 선택"
      ]
    },
    {
      "cell_type": "markdown",
      "metadata": {
        "id": "xGNciVqrQnvz"
      },
      "source": [
        "```\n",
        "from sklearn.experimental import enable_iterative_imputer\n",
        "from sklearn.impute import IterativeImputer\n",
        "iimr = IterativeImputer()\n",
        "iimr.fit_transform(df.values)\n",
        "```\n",
        "\n",
        "**IterativeImputer 클래스는 아직 실험적**이라 사용하려면 enable_iterative_imputer 모듈도 임포트해서 사용해야한다.<br>\n",
        "\n",
        "위 코드도 실행시켜보고 싶었지만, 버전 문제 때문인지 다음과 같은 오류가 계속 뜬다.<br>\n",
        "\n",
        "```\n",
        "IterativeImputer' object has no attribute '_validate_data'\n",
        "```\n"
      ]
    },
    {
      "cell_type": "code",
      "metadata": {
        "colab": {
          "base_uri": "https://localhost:8080/"
        },
        "id": "-q-1sxeCQ7Ec",
        "outputId": "9e217839-a6ac-4de9-f591-ad5425d44f16"
      },
      "source": [
        "from sklearn.impute import KNNImputer\n",
        "kimr = KNNImputer()\n",
        "kimr.fit_transform(df.values)"
      ],
      "execution_count": 51,
      "outputs": [
        {
          "output_type": "execute_result",
          "data": {
            "text/plain": [
              "array([[ 1. ,  2. ,  3. ,  4. ],\n",
              "       [ 5. ,  6. ,  7.5,  4. ],\n",
              "       [ 3. , 11. , 12. ,  4. ]])"
            ]
          },
          "metadata": {},
          "execution_count": 51
        }
      ]
    },
    {
      "cell_type": "markdown",
      "metadata": {
        "id": "YdguV7mwUotO"
      },
      "source": [
        "```\n",
        "KNNImputer(missing_values=nan, n_neighbors=5, weights='uniform', metric='nan_euclidean', copy=True, add_indicator=False)\n",
        "```\n",
        "\n",
        "**KNNImputer 클래스**는 **k-최근접 이웃 방법을 사용**하여 누락된 값을 채운다.<br>\n",
        "\n",
        "**최근접 이웃의 개수**는 **n_neighbors 매개변수**로 지정한다.(n_neighbors의 기본 값은 5이다.)<br><br>\n",
        "\n",
        "샘플 개수가 n_neighbors보다 작으면 SimpleImputer(strategy='mean')과 결과가 같다."
      ]
    },
    {
      "cell_type": "markdown",
      "metadata": {
        "id": "CBtCDmWZV-1e"
      },
      "source": [
        "#### fillna"
      ]
    },
    {
      "cell_type": "markdown",
      "metadata": {
        "id": "4Bqr2rS2WBMZ"
      },
      "source": [
        "누락된 값을 채우는 더 쉬운 방법은 **판다스의 fillna 메소드**를 사용하는 것이다.<br>\n",
        "\n",
        "fillna 메소드에 **매개변수로 누락된 값을 채울 방법을 전달**하면 된다.<br><br>"
      ]
    },
    {
      "cell_type": "code",
      "metadata": {
        "colab": {
          "base_uri": "https://localhost:8080/",
          "height": 142
        },
        "id": "BcZ_f322WUMa",
        "outputId": "ff79cc6d-8b08-4483-ddf8-602520a38ef9"
      },
      "source": [
        "df.fillna(df.mean())"
      ],
      "execution_count": 62,
      "outputs": [
        {
          "output_type": "execute_result",
          "data": {
            "text/html": [
              "<div>\n",
              "<style scoped>\n",
              "    .dataframe tbody tr th:only-of-type {\n",
              "        vertical-align: middle;\n",
              "    }\n",
              "\n",
              "    .dataframe tbody tr th {\n",
              "        vertical-align: top;\n",
              "    }\n",
              "\n",
              "    .dataframe thead th {\n",
              "        text-align: right;\n",
              "    }\n",
              "</style>\n",
              "<table border=\"1\" class=\"dataframe\">\n",
              "  <thead>\n",
              "    <tr style=\"text-align: right;\">\n",
              "      <th></th>\n",
              "      <th>A</th>\n",
              "      <th>B</th>\n",
              "      <th>C</th>\n",
              "      <th>D</th>\n",
              "    </tr>\n",
              "  </thead>\n",
              "  <tbody>\n",
              "    <tr>\n",
              "      <th>0</th>\n",
              "      <td>1.0</td>\n",
              "      <td>2.0</td>\n",
              "      <td>3.0</td>\n",
              "      <td>4.0</td>\n",
              "    </tr>\n",
              "    <tr>\n",
              "      <th>1</th>\n",
              "      <td>5.0</td>\n",
              "      <td>6.0</td>\n",
              "      <td>7.5</td>\n",
              "      <td>4.0</td>\n",
              "    </tr>\n",
              "    <tr>\n",
              "      <th>2</th>\n",
              "      <td>3.0</td>\n",
              "      <td>11.0</td>\n",
              "      <td>12.0</td>\n",
              "      <td>4.0</td>\n",
              "    </tr>\n",
              "  </tbody>\n",
              "</table>\n",
              "</div>"
            ],
            "text/plain": [
              "     A     B     C    D\n",
              "0  1.0   2.0   3.0  4.0\n",
              "1  5.0   6.0   7.5  4.0\n",
              "2  3.0  11.0  12.0  4.0"
            ]
          },
          "metadata": {},
          "execution_count": 62
        }
      ]
    },
    {
      "cell_type": "markdown",
      "metadata": {
        "id": "gYzLsYdCWhDC"
      },
      "source": [
        "이 코드를 사용하면 **판다스 DataFrame 객체**에서 **바로** 평균값으로 누락된 값을 대체할 수 있다.<br><br>\n",
        "\n",
        "fillna 메소드의 **method 매개변수**를 사용하여 누락된 값을 채울 수도 있다."
      ]
    },
    {
      "cell_type": "code",
      "metadata": {
        "colab": {
          "base_uri": "https://localhost:8080/",
          "height": 142
        },
        "id": "iiL3e676WugW",
        "outputId": "36edd3b0-fa9a-4357-aa5a-d8b9155ffe16"
      },
      "source": [
        "df.fillna(method='bfill') # method='backfill'과 같다."
      ],
      "execution_count": 63,
      "outputs": [
        {
          "output_type": "execute_result",
          "data": {
            "text/html": [
              "<div>\n",
              "<style scoped>\n",
              "    .dataframe tbody tr th:only-of-type {\n",
              "        vertical-align: middle;\n",
              "    }\n",
              "\n",
              "    .dataframe tbody tr th {\n",
              "        vertical-align: top;\n",
              "    }\n",
              "\n",
              "    .dataframe thead th {\n",
              "        text-align: right;\n",
              "    }\n",
              "</style>\n",
              "<table border=\"1\" class=\"dataframe\">\n",
              "  <thead>\n",
              "    <tr style=\"text-align: right;\">\n",
              "      <th></th>\n",
              "      <th>A</th>\n",
              "      <th>B</th>\n",
              "      <th>C</th>\n",
              "      <th>D</th>\n",
              "    </tr>\n",
              "  </thead>\n",
              "  <tbody>\n",
              "    <tr>\n",
              "      <th>0</th>\n",
              "      <td>1.0</td>\n",
              "      <td>2.0</td>\n",
              "      <td>3.0</td>\n",
              "      <td>4.0</td>\n",
              "    </tr>\n",
              "    <tr>\n",
              "      <th>1</th>\n",
              "      <td>5.0</td>\n",
              "      <td>6.0</td>\n",
              "      <td>12.0</td>\n",
              "      <td>NaN</td>\n",
              "    </tr>\n",
              "    <tr>\n",
              "      <th>2</th>\n",
              "      <td>NaN</td>\n",
              "      <td>11.0</td>\n",
              "      <td>12.0</td>\n",
              "      <td>NaN</td>\n",
              "    </tr>\n",
              "  </tbody>\n",
              "</table>\n",
              "</div>"
            ],
            "text/plain": [
              "     A     B     C    D\n",
              "0  1.0   2.0   3.0  4.0\n",
              "1  5.0   6.0  12.0  NaN\n",
              "2  NaN  11.0  12.0  NaN"
            ]
          },
          "metadata": {},
          "execution_count": 63
        }
      ]
    },
    {
      "cell_type": "markdown",
      "metadata": {
        "id": "9A7FoRawW6UM"
      },
      "source": [
        "**'bfill'** 또는 **'backfill'**은 누락된 값을 **다음 행의 값**으로 채운다."
      ]
    },
    {
      "cell_type": "code",
      "metadata": {
        "colab": {
          "base_uri": "https://localhost:8080/",
          "height": 142
        },
        "id": "jBytDutnWywT",
        "outputId": "1fb28c68-5fb4-4ffa-ecd7-a36dac869eb5"
      },
      "source": [
        "df.fillna(method='ffill') # method='pad'와 같다."
      ],
      "execution_count": 64,
      "outputs": [
        {
          "output_type": "execute_result",
          "data": {
            "text/html": [
              "<div>\n",
              "<style scoped>\n",
              "    .dataframe tbody tr th:only-of-type {\n",
              "        vertical-align: middle;\n",
              "    }\n",
              "\n",
              "    .dataframe tbody tr th {\n",
              "        vertical-align: top;\n",
              "    }\n",
              "\n",
              "    .dataframe thead th {\n",
              "        text-align: right;\n",
              "    }\n",
              "</style>\n",
              "<table border=\"1\" class=\"dataframe\">\n",
              "  <thead>\n",
              "    <tr style=\"text-align: right;\">\n",
              "      <th></th>\n",
              "      <th>A</th>\n",
              "      <th>B</th>\n",
              "      <th>C</th>\n",
              "      <th>D</th>\n",
              "    </tr>\n",
              "  </thead>\n",
              "  <tbody>\n",
              "    <tr>\n",
              "      <th>0</th>\n",
              "      <td>1.0</td>\n",
              "      <td>2.0</td>\n",
              "      <td>3.0</td>\n",
              "      <td>4.0</td>\n",
              "    </tr>\n",
              "    <tr>\n",
              "      <th>1</th>\n",
              "      <td>5.0</td>\n",
              "      <td>6.0</td>\n",
              "      <td>3.0</td>\n",
              "      <td>4.0</td>\n",
              "    </tr>\n",
              "    <tr>\n",
              "      <th>2</th>\n",
              "      <td>5.0</td>\n",
              "      <td>11.0</td>\n",
              "      <td>12.0</td>\n",
              "      <td>4.0</td>\n",
              "    </tr>\n",
              "  </tbody>\n",
              "</table>\n",
              "</div>"
            ],
            "text/plain": [
              "     A     B     C    D\n",
              "0  1.0   2.0   3.0  4.0\n",
              "1  5.0   6.0   3.0  4.0\n",
              "2  5.0  11.0  12.0  4.0"
            ]
          },
          "metadata": {},
          "execution_count": 64
        }
      ]
    },
    {
      "cell_type": "markdown",
      "metadata": {
        "id": "42tyuswsW6tl"
      },
      "source": [
        "**'ffill'** 또는 **'pad'**는 누락된 값을 **이전 행의 값**으로 채운다."
      ]
    },
    {
      "cell_type": "code",
      "metadata": {
        "colab": {
          "base_uri": "https://localhost:8080/",
          "height": 142
        },
        "id": "It3tZoy3W2A0",
        "outputId": "226f41c5-6d1d-43a6-ea61-d88ce6788d2f"
      },
      "source": [
        "df.fillna(method='ffill', axis=1)"
      ],
      "execution_count": 65,
      "outputs": [
        {
          "output_type": "execute_result",
          "data": {
            "text/html": [
              "<div>\n",
              "<style scoped>\n",
              "    .dataframe tbody tr th:only-of-type {\n",
              "        vertical-align: middle;\n",
              "    }\n",
              "\n",
              "    .dataframe tbody tr th {\n",
              "        vertical-align: top;\n",
              "    }\n",
              "\n",
              "    .dataframe thead th {\n",
              "        text-align: right;\n",
              "    }\n",
              "</style>\n",
              "<table border=\"1\" class=\"dataframe\">\n",
              "  <thead>\n",
              "    <tr style=\"text-align: right;\">\n",
              "      <th></th>\n",
              "      <th>A</th>\n",
              "      <th>B</th>\n",
              "      <th>C</th>\n",
              "      <th>D</th>\n",
              "    </tr>\n",
              "  </thead>\n",
              "  <tbody>\n",
              "    <tr>\n",
              "      <th>0</th>\n",
              "      <td>1.0</td>\n",
              "      <td>2.0</td>\n",
              "      <td>3.0</td>\n",
              "      <td>4.0</td>\n",
              "    </tr>\n",
              "    <tr>\n",
              "      <th>1</th>\n",
              "      <td>5.0</td>\n",
              "      <td>6.0</td>\n",
              "      <td>6.0</td>\n",
              "      <td>6.0</td>\n",
              "    </tr>\n",
              "    <tr>\n",
              "      <th>2</th>\n",
              "      <td>NaN</td>\n",
              "      <td>11.0</td>\n",
              "      <td>12.0</td>\n",
              "      <td>12.0</td>\n",
              "    </tr>\n",
              "  </tbody>\n",
              "</table>\n",
              "</div>"
            ],
            "text/plain": [
              "     A     B     C     D\n",
              "0  1.0   2.0   3.0   4.0\n",
              "1  5.0   6.0   6.0   6.0\n",
              "2  NaN  11.0  12.0  12.0"
            ]
          },
          "metadata": {},
          "execution_count": 65
        }
      ]
    },
    {
      "cell_type": "markdown",
      "metadata": {
        "id": "EURb3-CYW7Gy"
      },
      "source": [
        "axis의 기본 값은 0으로 행을 사용한다.<br>\n",
        "**열을 사용**하고 싶다면 **axis=1**로 지정하면 된다."
      ]
    }
  ]
}