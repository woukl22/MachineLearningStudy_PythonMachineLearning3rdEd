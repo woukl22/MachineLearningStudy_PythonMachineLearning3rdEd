{
  "nbformat": 4,
  "nbformat_minor": 0,
  "metadata": {
    "colab": {
      "name": "4.3_데이터셋을 훈련 데이터셋과 테스트 데이터셋으로 나누기.ipynb",
      "provenance": [],
      "collapsed_sections": [],
      "toc_visible": true,
      "authorship_tag": "ABX9TyOrgksiTVUdyr11FKCulAXL"
    },
    "kernelspec": {
      "name": "python3",
      "display_name": "Python 3"
    },
    "language_info": {
      "name": "python"
    }
  },
  "cells": [
    {
      "cell_type": "markdown",
      "metadata": {
        "id": "EgHwH66yEslM"
      },
      "source": [
        "# 4.3 데이터셋을 훈련 데이터셋과 테스트 데이터셋으로 나누기"
      ]
    },
    {
      "cell_type": "markdown",
      "metadata": {
        "id": "6Z0RVEkHEwNh"
      },
      "source": [
        "### **Wine 데이터셋**<br>\n",
        "UCI 머신 러닝 저장소에 공개되어 있는 데이터셋이다.<br>\n",
        "https://archive.ics.uci.edu/ml/datasets/Wine<br><br>\n",
        "\n",
        "178개의 와인 샘플과 화학 성분을 나타내는 13개의 특성으로 구성되어 있다."
      ]
    },
    {
      "cell_type": "code",
      "metadata": {
        "id": "NfkQX5RdFt0F"
      },
      "source": [
        "import pandas as pd\n",
        "import numpy as np"
      ],
      "execution_count": 8,
      "outputs": []
    },
    {
      "cell_type": "code",
      "metadata": {
        "id": "KtGyVzCxwBzy",
        "colab": {
          "base_uri": "https://localhost:8080/"
        },
        "outputId": "02426fda-33d5-42ff-ffe3-586c5cf48e63"
      },
      "source": [
        "df_wine = pd.read_csv('https://archive.ics.uci.edu/'\n",
        "                      'ml/machine-learning-databases/'\n",
        "                      'wine/wine.data', header=None)\n",
        "df_wine.columns = ['Class label', 'Alcohol', 'Malic acid', 'Ash',\n",
        "                   'Alcalinity of ash', 'Magnesium',\n",
        "                   'Total phenols', 'Flavanoids',\n",
        "                   'Nonflavanoid phenols',\n",
        "                   'Proanthocyanins',\n",
        "                   'Color intensity', 'Hue',\n",
        "                   'OD280/OD315 of diluted wines',\n",
        "                   'Proline']\n",
        "print('클래스 레이블', np.unique(df_wine['Class label']))"
      ],
      "execution_count": 9,
      "outputs": [
        {
          "output_type": "stream",
          "name": "stdout",
          "text": [
            "클래스 레이블 [1 2 3]\n"
          ]
        }
      ]
    },
    {
      "cell_type": "markdown",
      "metadata": {
        "id": "B3U48FGNGta_"
      },
      "source": [
        "샘플은 1, 2, 3 세 개의 클래스 중 하나에 속한다.<br>\n",
        "\n",
        "이탈리아의 동일한 지역에서 자랐지만, 세 종류는 모두 다른 와인 포도 품종이다. <br>(자세한 내용은 https://archive.ics.uci.edu/ml/machine-learning-databases/wine/wine.names 를 참고하면 된다.)"
      ]
    },
    {
      "cell_type": "code",
      "metadata": {
        "colab": {
          "base_uri": "https://localhost:8080/",
          "height": 436
        },
        "id": "GHuNyVTJFrRy",
        "outputId": "59de0cc2-f6e8-4aec-fcc7-517f6bc07056"
      },
      "source": [
        "df_wine"
      ],
      "execution_count": 10,
      "outputs": [
        {
          "output_type": "execute_result",
          "data": {
            "text/html": [
              "<div>\n",
              "<style scoped>\n",
              "    .dataframe tbody tr th:only-of-type {\n",
              "        vertical-align: middle;\n",
              "    }\n",
              "\n",
              "    .dataframe tbody tr th {\n",
              "        vertical-align: top;\n",
              "    }\n",
              "\n",
              "    .dataframe thead th {\n",
              "        text-align: right;\n",
              "    }\n",
              "</style>\n",
              "<table border=\"1\" class=\"dataframe\">\n",
              "  <thead>\n",
              "    <tr style=\"text-align: right;\">\n",
              "      <th></th>\n",
              "      <th>Class label</th>\n",
              "      <th>Alcohol</th>\n",
              "      <th>Malic acid</th>\n",
              "      <th>Ash</th>\n",
              "      <th>Alcalinity of ash</th>\n",
              "      <th>Magnesium</th>\n",
              "      <th>Total phenols</th>\n",
              "      <th>Flavanoids</th>\n",
              "      <th>Nonflavanoid phenols</th>\n",
              "      <th>Proanthocyanins</th>\n",
              "      <th>Color intensity</th>\n",
              "      <th>Hue</th>\n",
              "      <th>OD280/OD315 of diluted wines</th>\n",
              "      <th>Proline</th>\n",
              "    </tr>\n",
              "  </thead>\n",
              "  <tbody>\n",
              "    <tr>\n",
              "      <th>0</th>\n",
              "      <td>1</td>\n",
              "      <td>14.23</td>\n",
              "      <td>1.71</td>\n",
              "      <td>2.43</td>\n",
              "      <td>15.6</td>\n",
              "      <td>127</td>\n",
              "      <td>2.80</td>\n",
              "      <td>3.06</td>\n",
              "      <td>0.28</td>\n",
              "      <td>2.29</td>\n",
              "      <td>5.64</td>\n",
              "      <td>1.04</td>\n",
              "      <td>3.92</td>\n",
              "      <td>1065</td>\n",
              "    </tr>\n",
              "    <tr>\n",
              "      <th>1</th>\n",
              "      <td>1</td>\n",
              "      <td>13.20</td>\n",
              "      <td>1.78</td>\n",
              "      <td>2.14</td>\n",
              "      <td>11.2</td>\n",
              "      <td>100</td>\n",
              "      <td>2.65</td>\n",
              "      <td>2.76</td>\n",
              "      <td>0.26</td>\n",
              "      <td>1.28</td>\n",
              "      <td>4.38</td>\n",
              "      <td>1.05</td>\n",
              "      <td>3.40</td>\n",
              "      <td>1050</td>\n",
              "    </tr>\n",
              "    <tr>\n",
              "      <th>2</th>\n",
              "      <td>1</td>\n",
              "      <td>13.16</td>\n",
              "      <td>2.36</td>\n",
              "      <td>2.67</td>\n",
              "      <td>18.6</td>\n",
              "      <td>101</td>\n",
              "      <td>2.80</td>\n",
              "      <td>3.24</td>\n",
              "      <td>0.30</td>\n",
              "      <td>2.81</td>\n",
              "      <td>5.68</td>\n",
              "      <td>1.03</td>\n",
              "      <td>3.17</td>\n",
              "      <td>1185</td>\n",
              "    </tr>\n",
              "    <tr>\n",
              "      <th>3</th>\n",
              "      <td>1</td>\n",
              "      <td>14.37</td>\n",
              "      <td>1.95</td>\n",
              "      <td>2.50</td>\n",
              "      <td>16.8</td>\n",
              "      <td>113</td>\n",
              "      <td>3.85</td>\n",
              "      <td>3.49</td>\n",
              "      <td>0.24</td>\n",
              "      <td>2.18</td>\n",
              "      <td>7.80</td>\n",
              "      <td>0.86</td>\n",
              "      <td>3.45</td>\n",
              "      <td>1480</td>\n",
              "    </tr>\n",
              "    <tr>\n",
              "      <th>4</th>\n",
              "      <td>1</td>\n",
              "      <td>13.24</td>\n",
              "      <td>2.59</td>\n",
              "      <td>2.87</td>\n",
              "      <td>21.0</td>\n",
              "      <td>118</td>\n",
              "      <td>2.80</td>\n",
              "      <td>2.69</td>\n",
              "      <td>0.39</td>\n",
              "      <td>1.82</td>\n",
              "      <td>4.32</td>\n",
              "      <td>1.04</td>\n",
              "      <td>2.93</td>\n",
              "      <td>735</td>\n",
              "    </tr>\n",
              "    <tr>\n",
              "      <th>...</th>\n",
              "      <td>...</td>\n",
              "      <td>...</td>\n",
              "      <td>...</td>\n",
              "      <td>...</td>\n",
              "      <td>...</td>\n",
              "      <td>...</td>\n",
              "      <td>...</td>\n",
              "      <td>...</td>\n",
              "      <td>...</td>\n",
              "      <td>...</td>\n",
              "      <td>...</td>\n",
              "      <td>...</td>\n",
              "      <td>...</td>\n",
              "      <td>...</td>\n",
              "    </tr>\n",
              "    <tr>\n",
              "      <th>173</th>\n",
              "      <td>3</td>\n",
              "      <td>13.71</td>\n",
              "      <td>5.65</td>\n",
              "      <td>2.45</td>\n",
              "      <td>20.5</td>\n",
              "      <td>95</td>\n",
              "      <td>1.68</td>\n",
              "      <td>0.61</td>\n",
              "      <td>0.52</td>\n",
              "      <td>1.06</td>\n",
              "      <td>7.70</td>\n",
              "      <td>0.64</td>\n",
              "      <td>1.74</td>\n",
              "      <td>740</td>\n",
              "    </tr>\n",
              "    <tr>\n",
              "      <th>174</th>\n",
              "      <td>3</td>\n",
              "      <td>13.40</td>\n",
              "      <td>3.91</td>\n",
              "      <td>2.48</td>\n",
              "      <td>23.0</td>\n",
              "      <td>102</td>\n",
              "      <td>1.80</td>\n",
              "      <td>0.75</td>\n",
              "      <td>0.43</td>\n",
              "      <td>1.41</td>\n",
              "      <td>7.30</td>\n",
              "      <td>0.70</td>\n",
              "      <td>1.56</td>\n",
              "      <td>750</td>\n",
              "    </tr>\n",
              "    <tr>\n",
              "      <th>175</th>\n",
              "      <td>3</td>\n",
              "      <td>13.27</td>\n",
              "      <td>4.28</td>\n",
              "      <td>2.26</td>\n",
              "      <td>20.0</td>\n",
              "      <td>120</td>\n",
              "      <td>1.59</td>\n",
              "      <td>0.69</td>\n",
              "      <td>0.43</td>\n",
              "      <td>1.35</td>\n",
              "      <td>10.20</td>\n",
              "      <td>0.59</td>\n",
              "      <td>1.56</td>\n",
              "      <td>835</td>\n",
              "    </tr>\n",
              "    <tr>\n",
              "      <th>176</th>\n",
              "      <td>3</td>\n",
              "      <td>13.17</td>\n",
              "      <td>2.59</td>\n",
              "      <td>2.37</td>\n",
              "      <td>20.0</td>\n",
              "      <td>120</td>\n",
              "      <td>1.65</td>\n",
              "      <td>0.68</td>\n",
              "      <td>0.53</td>\n",
              "      <td>1.46</td>\n",
              "      <td>9.30</td>\n",
              "      <td>0.60</td>\n",
              "      <td>1.62</td>\n",
              "      <td>840</td>\n",
              "    </tr>\n",
              "    <tr>\n",
              "      <th>177</th>\n",
              "      <td>3</td>\n",
              "      <td>14.13</td>\n",
              "      <td>4.10</td>\n",
              "      <td>2.74</td>\n",
              "      <td>24.5</td>\n",
              "      <td>96</td>\n",
              "      <td>2.05</td>\n",
              "      <td>0.76</td>\n",
              "      <td>0.56</td>\n",
              "      <td>1.35</td>\n",
              "      <td>9.20</td>\n",
              "      <td>0.61</td>\n",
              "      <td>1.60</td>\n",
              "      <td>560</td>\n",
              "    </tr>\n",
              "  </tbody>\n",
              "</table>\n",
              "<p>178 rows × 14 columns</p>\n",
              "</div>"
            ],
            "text/plain": [
              "     Class label  Alcohol  ...  OD280/OD315 of diluted wines  Proline\n",
              "0              1    14.23  ...                          3.92     1065\n",
              "1              1    13.20  ...                          3.40     1050\n",
              "2              1    13.16  ...                          3.17     1185\n",
              "3              1    14.37  ...                          3.45     1480\n",
              "4              1    13.24  ...                          2.93      735\n",
              "..           ...      ...  ...                           ...      ...\n",
              "173            3    13.71  ...                          1.74      740\n",
              "174            3    13.40  ...                          1.56      750\n",
              "175            3    13.27  ...                          1.56      835\n",
              "176            3    13.17  ...                          1.62      840\n",
              "177            3    14.13  ...                          1.60      560\n",
              "\n",
              "[178 rows x 14 columns]"
            ]
          },
          "metadata": {},
          "execution_count": 10
        }
      ]
    },
    {
      "cell_type": "markdown",
      "metadata": {
        "id": "0Ii-rOIpH5eH"
      },
      "source": [
        "사이킷런의 ```model_selection``` 모듈에 있는 **```train_test_split``` 함수**를 사용하면 간편하게 **랜덤한 훈련 데이터셋**과 **테스트 데이터셋**으로 나눌 수 있다."
      ]
    },
    {
      "cell_type": "code",
      "metadata": {
        "id": "wcMi4RAxF2Ov"
      },
      "source": [
        "from sklearn.model_selection import train_test_split\n",
        "X, y = df_wine.iloc[:, 1:].values, df_wine.iloc[:, 0].values\n",
        "X_train, X_test, y_train, y_test =\\\n",
        "    train_test_split(X, y,\n",
        "                     test_size=0.3,\n",
        "                     random_state=0,\n",
        "                     stratify=y)"
      ],
      "execution_count": 11,
      "outputs": []
    },
    {
      "cell_type": "markdown",
      "metadata": {
        "id": "jfCTCZjgIPli"
      },
      "source": [
        "인덱스 1부터 13까지의 **특성**은 넘파이 배열로 변환하여 **변수 ```X```**에 할당한다.<br>\n",
        "인덱스가 0인 첫 번째 열은 **클래스 레이블**이므로 **변수 ```y```**에 할당한다.<br><br>\n",
        "\n",
        "**```train_test_split``` 함수**를 사용하여 X와 y를 랜덤하게 **훈련 데이터셋과 테스트 데이터셋으로 분할**한다.<br>\n",
        "```test_size=0.3```으로 지정했기 때문에 샘플의 30%가 ```test_X```와 ```test_y```에 할당된다.<br>\n",
        "나머지 샘플 70%는 ```X_train```과 ```y_train```에 할당된다.<br><br>\n",
        "\n",
        "**```stratify``` 매개변수**에 클래스 레이블 배열 y를 전달하면 훈련 데이터셋과 테스트 데이터셋에 있는 **클래스 비율이 원본 데이터셋과 동일하게 유지**된다.\n"
      ]
    },
    {
      "cell_type": "markdown",
      "metadata": {
        "id": "EwYmhPF0VSw0"
      },
      "source": [
        "### **훈련 데이터셋과 테스트 데이터셋의 적절한 비율**"
      ]
    },
    {
      "cell_type": "markdown",
      "metadata": {
        "id": "KKenYzgVVYhM"
      },
      "source": [
        "**실전**에서 가장 많이 사용하는 비율\n",
        "- 60 : 40\n",
        "- 70 : 30\n",
        "- 80 : 20\n",
        "\n",
        "<br>\n",
        "\n",
        "**대용량 데이터셋**의 경우 **90 : 10** 또는 **99 : 1**의 비율로 나누기도 한다.<br>\n",
        "데이터셋에 **10만 개 이상**의 훈련 샘플이 있다면 일반화 성능을 잘 추정하기 위해 **1만 개의 샘플만** 테스트로 떼어 놓아도 괜찮다.<br><br>\n",
        "\n",
        "테스트 데이터셋을 **훈련과 평가 후**에 전체 데이터셋으로 **모델을 다시 훈련**하는 방법도 많이 사용된다.<br>\n",
        "하지만 데이터셋이 **작고 이상치가 들어 있는 경우** 성능은 오히려 **나빠질 수도** 있다."
      ]
    }
  ]
}