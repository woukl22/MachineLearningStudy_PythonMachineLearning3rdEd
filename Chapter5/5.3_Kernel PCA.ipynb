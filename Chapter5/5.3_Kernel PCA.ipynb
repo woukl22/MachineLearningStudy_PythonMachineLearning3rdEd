{
  "nbformat": 4,
  "nbformat_minor": 0,
  "metadata": {
    "colab": {
      "name": "5.3_커널 PCA를 사용하여 비선형 매핑.ipynb",
      "provenance": [],
      "collapsed_sections": [],
      "authorship_tag": "ABX9TyNGH5krtsEPzasrBS6V0ocU"
    },
    "kernelspec": {
      "name": "python3",
      "display_name": "Python 3"
    },
    "language_info": {
      "name": "python"
    }
  },
  "cells": [
    {
      "cell_type": "markdown",
      "metadata": {
        "id": "MK4tXsidgwPg"
      },
      "source": [
        "# **5.3 커널 PCA를 사용하여 비선형 매핑**"
      ]
    },
    {
      "cell_type": "markdown",
      "metadata": {
        "id": "R7DDPdYZg5p7"
      },
      "source": [
        "많은 머신러닝 알고리즘은 입력 데이터가 선형적으로 구분 가능하다고 가정한다.<br>\n",
        "하지만 **실전** 애플리케이션에서는 **비선형 문제**를 더 자주 보게 될 것이다.\n",
        "\n",
        "<br>\n",
        "\n",
        "**비선형 문제를 다룰 때** PCA나 LDA 같은 선형 변환 기법을 사용하기보다 **PCA의 커널화 버전(KPCA)**을 사용하는 것이 더 좋다.<br>\n",
        "**커널 PCA**는 선형적으로 구분되지 않는 데이터를 **선형** 분류기에 적합한 새로운 저차원 부분 공간으로 변환**한다.\n",
        "\n",
        "<br>\n",
        "\n",
        "![image.png](data:image/png;base64,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)\n",
        "\n",
        "<br>\n",
        "커널 PCA는 커널 SVM 개념과 관계가 있다. \n",
        "\n",
        "--- \n",
        "\n",
        "<br>\n"
      ]
    },
    {
      "cell_type": "markdown",
      "metadata": {
        "id": "NgejQBT0iLXB"
      },
      "source": [
        "## **5.3.1 커널 함수와 커널 트릭**"
      ]
    },
    {
      "cell_type": "markdown",
      "metadata": {
        "id": "RxVIMPSclpas"
      },
      "source": [
        "커널 SVM에서 **'비선형 문제를 해결하기 위해 클래스가 선형으로 구분되는 새로운 고차원 특성 공간으로 투영할 수 있다'**는 내용을 배웠다.\n",
        "\n",
        "<br>\n",
        "\n",
        "                                                                k 고차원 부분 공간에 있는 샘플\n",
        "$$x \\in \\mathbb{R}^d$$\n",
        "\n",
        "                                                               를 변환하기 위해 비선형 매핑 함수 φ(phi)를 정의한다.\n",
        "\n",
        "\n",
        "$$\\phi : \\mathbb{R}^d \\rightarrow \\mathbb{R}^k (k >> d)$$\n",
        "\n",
        "\n",
        "<br>\n",
        "\n",
        "**φ(phi) 함수**를 d차원의 원본 데이터셋에서 더 큰 k차원의 특성 공간으로 매핑하기 위해 **원본 특성의 비선형 조합을 만드는 함수**로 생각할 수 있다.\n",
        "\n",
        "<br>\n",
        "\n",
        "ex) **2차원(d=2)의 특성 벡터**가 있으면(**x는 d개의 특성으로 구성된 열 벡터**), 매핑 가능한 3D 공간은 다음과 같다.\n",
        "\n",
        "                                    2차원(d=2)의 특성 벡터 = \n",
        "$$x \\in \\mathbb{R}^d$$\n",
        "\n",
        "\n",
        "                                    매핑 가능한 3D 공간\n",
        "$$x = [x_1, x_2]^T$$\n",
        "$$\\downarrow \\phi$$\n",
        "$$z = [x^2_1, \\sqrt{2 x_1 x_2} , x^2_2]^T$$\n",
        "\n",
        "<br>\n",
        "\n",
        "1. **커널 PCA**를 통한 **비선형 매핑을 수행**하여 데이터를 **고차원 공간으로 변환**한 뒤,\n",
        "2. **고차원 공간에 표준 PCA를 사용**하여 샘플이 선형 분류기로 구분될 수 있는 **저차원 공간으로 데이터를 투영**한다. \n",
        "\n",
        "<br>\n",
        "\n",
        "**단점**<br>\n",
        "계산 비용이 비싸다\n",
        "\n",
        "<br>\n",
        "\n",
        "이 때 **커널 트릭(kernel trick)**이 등장한다.<br>\n",
        "커널 트릭을 사용하면 원본 특성 공간에서 **두 고차원 특성 벡터의 유사도를 계산**할 수 있다.\n",
        "\n",
        "<br>\n"
      ]
    },
    {
      "cell_type": "markdown",
      "metadata": {
        "id": "hBs6MU81q6B-"
      },
      "source": [
        "### **커널 함수**\n",
        "- 두 벡터 사이의 점곱을 계산할 수 있는 함수\n",
        "- 즉, 유사도를 측정할 수 있는 함수\n",
        "\n",
        "<br>\n",
        "\n",
        "**널리 사용되는 커널 함수**\n",
        "- **다항 커널**: *θ는 임계 값이고 P는 사용자가 지정한 거듭제곱이다.*\n",
        "$$\\kappa(x^{(i)}, x^{(j)}) = (x^{(i)T} x^{(j)} + \\theta)^P$$\n",
        "\n",
        "- **하이퍼볼릭 탄젠트**(hyperbolic tangent) (**시그모이드**(sigmoid)) 커널\n",
        "$$\\kappa(x^{(i)}, x^{(j)}) = tanh(\\eta x^{(i)T} x^{(j)} + \\theta)$$\n",
        "\n",
        "- **방사 기저 함수(Radial Basis Function, RBF)** 또는 가우시안 커널\n",
        "$$\\kappa(x^{(i)}, x^{(j)}) = exp(- \\frac{\\|x^{(i)} - x^{(j)}\\|^2}{2 \\sigma^2})$$\n",
        "  - 변수 γ = 1/2σ^2을 도입하여 종종 다음과 같이 쓴다.\n",
        "$$\\kappa(x^{(i)}, x^{(j)}) = exp(-\\gamma\\|x^{(i)} - x^{(j)}\\|^2)$$\n",
        "\n",
        "<br>\n"
      ]
    },
    {
      "cell_type": "markdown",
      "metadata": {
        "id": "o8SbyIlWv2vg"
      },
      "source": [
        "### **RBF 커널 PCA를 구현하기 위한 세 단계**\n",
        "\n",
        "1. **커널(유사도) 행렬 Κ**를 다음 식으로 **계산**한다.\n",
        "$$\\kappa(x^{(i)}, x^{(j)}) = exp(-\\gamma\\|x^{(i)} - x^{(j)}\\|^2)$$\n",
        "\n",
        "  - 샘플의 모든 쌍에 대해 구한다.\n",
        "  - n개의 훈련 샘플이 담긴 데이터셋이라면 각 쌍의 유사도를 담은 대칭 커널 행렬은 ```n×n``` 차원이 된다.\n",
        "\n",
        "$$m_i = \\begin{bmatrix}\n",
        "\\kappa(x^{(1)}, x^{(1)}) \\ \\kappa(x^{(1)}, x^{(2)}) \\ \\cdots \\ \\kappa(x^{(1)}, x^{(n)})\\\\ \n",
        "\\kappa(x^{(2)}, x^{(1)}) \\ \\kappa(x^{(2)}, x^{(2)}) \\ \\cdots \\ \\kappa(x^{(2)}, x^{(n)})\\\\ \n",
        "\\vdots  \\ \\ \\ \\ \\ \\ \\ \\ \\ \\ \\ \\ \\ \\ \\vdots \\ \\ \\ \\ \\ \\ \\ \\ \\ \\ \\ \\ \\ \\ddots \\ \\ \\ \\ \\ \\ \\ \\ \\ \\ \\vdots\\\\ \n",
        "\\kappa(x^{(n)}, x^{(1)}) \\ \\kappa(x^{(n)}, x^{(2)}) \\ \\cdots \\ \\kappa(x^{(n)}, x^{(n)})\\\\ \n",
        "\\end{bmatrix} i \\in \\{1, 2, 3\\}$$\n",
        "\n",
        "<br>\n",
        "\n",
        "2. 다음 식을 사용하여 **커널 행렬 Κ를 중앙에 맞춘다**.\n",
        "$$K' = K - 1_nK - K1_n + 1_nK1_n$$\n",
        "  - 여기서 1_n은 모든 값이 1/n인 n×n차원 행렬이다.(커널 행렬과 같은 차원)\n",
        "  - 사이킷런에는 커널을 중앙에 맞추기 위한 ```KernelCenterer``` 클래스를 제공한다.\n",
        "```\n",
        "from sklearn.preprocessing import KernelCenterer\n",
        "K_centered = KernelCenterer().fit_transform(K)\n",
        "```\n",
        "\n",
        "<br>\n",
        "\n",
        "3. 고윳값 크기대로 **내림차순으로 정렬**하여 중앙에 맞춘 커널 행렬에서 **최상위 k개의 고유 벡터를 고른다.**"
      ]
    }
  ]
}