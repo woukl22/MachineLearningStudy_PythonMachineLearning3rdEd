{
  "nbformat": 4,
  "nbformat_minor": 0,
  "metadata": {
    "colab": {
      "name": "메모장.ipynb",
      "provenance": [],
      "authorship_tag": "ABX9TyMM0vObks4cJgy/ysklAjRr",
      "include_colab_link": true
    },
    "kernelspec": {
      "name": "python3",
      "display_name": "Python 3"
    },
    "language_info": {
      "name": "python"
    }
  },
  "cells": [
    {
      "cell_type": "markdown",
      "metadata": {
        "id": "view-in-github",
        "colab_type": "text"
      },
      "source": [
        "<a href=\"https://colab.research.google.com/github/woukl22/MachineLearningStudy_PythonMachineLearning3rdEd/blob/main/Chapter3/3.3.6_Regularization.ipynb\" target=\"_parent\"><img src=\"https://colab.research.google.com/assets/colab-badge.svg\" alt=\"Open In Colab\"/></a>"
      ]
    },
    {
      "cell_type": "markdown",
      "metadata": {
        "id": "WHMunbVF_9I1"
      },
      "source": [
        "# 3.3.6 규제를 사용하여 과대적합 피하기\n",
        "\n",
        "\n",
        "**과대적합(overfitting)**은 머신 러닝에서 자주 발생하는 문제이다.<br>\n",
        "모델이 훈련 데이터로는 잘 동작하지만 본 적 없는 데이터(**테스트 데이터**)로는 잘 **일반화 되지 않는 현상**이다. <br>\n",
        "모델이 과대적합일 때 **분산(variance)이 크다**고 말한다.<br>\n",
        "\n",
        "**과소적합(underfitting)**일 때는 **편향(bias)이 크다**.<br>\n",
        "훈련 데이터에 있는 패턴을 감지할 정도로 충분히 **모델이 복잡하지 않다**는 것을 의미한다.<br>\n",
        "새로운 데이터(**테스트 데이터**)에서도 **성능이 낮다**.<br><br>\n",
        "\n",
        "**분산:**<br>\n",
        "모델을 여러 번 훈련했을 때 특정 샘플에 대한 **예측의 일관성(또는 변동성)을 측정**한다.\n",
        "\n",
        "**편향:**<br>\n",
        "다른 훈련 데이터셋에서 여러 번 훈련했을 때 **예측이 정확한 값에서 얼마나 벗어났는지 측정**한다.<br><br>\n",
        "\n",
        "좋은 **편향-분산 트레이드오프(tradeoff)**를 찾는 한 가지 방법은 **규제(regularization)**를 사용하여 **모델의 복잡도를 조정**하는 것이다.\n",
        "\n",
        "\n",
        "**규제**:<br>\n",
        "**과도한 파라미터**(가중치) **값**을 **제한**하기 위해 **추가적인 정보**(편향)를 **주입**하는 개념<br>\n",
        "가장 널리 사용하는 규제 형태는 **L2 규제**이며, 규제 **하이퍼파라미터**는 **λ**이다.<br>\n",
        "규제가 잘 동작하려면 **모든 특성이 비슷한 스케일**을 가져야 한다. (정규화가 필요함)<br><br><br>\n",
        "\n",
        "#### - **규제 매개변수에 따른 가중치 크기의 변화**"
      ]
    },
    {
      "cell_type": "code",
      "metadata": {
        "colab": {
          "base_uri": "https://localhost:8080/",
          "height": 283
        },
        "id": "Rh4Bse-041K5",
        "outputId": "5fb7aec1-7ff1-488f-ac10-0395acf9df52"
      },
      "source": [
        "# 로지스틱 회귀의 비용 함수는 규제 항을 추가해서 규제를 적용한다.\n",
        "# 규제 항은 모델 훈련 과정에서 가중치를 줄이는 역할을 한다.\n",
        "\n",
        "weights, params = [], []\n",
        "for c in np.arange(-5, 5):\n",
        "  lr = LogisticRegression(C=10.**c, random_state=1, multi_class='ovr')    # 매개변수 C는 규제 하이퍼파라미터 λ의 역수이다.\n",
        "  lr.fit(X_train_std, y_train)                                            # 역 규제 파라미터 C의 값을 감소시키면 규제 강도가 증가한다.\n",
        "  weights.append(lr.coef_[1])\n",
        "  params.append(10.**c)\n",
        "weights = np.array(weights)\n",
        "plt.plot(params, weights[:, 0],\n",
        "         label='petal length')\n",
        "plt.plot(params, weights[:, 1], linestyle='--',\n",
        "         label='petal width')\n",
        "plt.ylabel('weight coefficient')\n",
        "plt.xlabel('C')\n",
        "plt.legend(loc='upper left')\n",
        "plt.xscale('log')\n",
        "plt.show()"
      ],
      "execution_count": null,
      "outputs": [
        {
          "output_type": "display_data",
          "data": {
            "image/png": "[encoded data removed]",
            "text/plain": [
              "<Figure size 432x288 with 1 Axes>"
            ]
          },
          "metadata": {
            "tags": [],
            "needs_background": "light"
          }
        }
      ]
    },
    {
      "cell_type": "markdown",
      "metadata": {
        "id": "MP99GbEg737-"
      },
      "source": [
        "그래프에서 볼 수 있듯이 매개변수 **C가 감소**하면 **가중치 절댓값이 줄어든다**.<br>\n",
        "즉, **규제 강도가 증가**한다."
      ]
    }
  ]
}