{
  "nbformat": 4,
  "nbformat_minor": 0,
  "metadata": {
    "colab": {
      "name": "Untitled0.ipynb",
      "provenance": [],
      "authorship_tag": "ABX9TyO07VVrFNtijfh5dXdt+WVf",
      "include_colab_link": true
    },
    "kernelspec": {
      "name": "python3",
      "display_name": "Python 3"
    },
    "language_info": {
      "name": "python"
    }
  },
  "cells": [
    {
      "cell_type": "markdown",
      "metadata": {
        "id": "view-in-github",
        "colab_type": "text"
      },
      "source": [
        "<a href=\"https://colab.research.google.com/github/woukl22/MachineLearningStudy_PythonMachineLearning3rdEd/blob/main/3.3.3_Logistic%20Regression_Cost%20function%20graph.ipynb\" target=\"_parent\"><img src=\"https://colab.research.google.com/assets/colab-badge.svg\" alt=\"Open In Colab\"/></a>"
      ]
    },
    {
      "cell_type": "markdown",
      "metadata": {
        "id": "uL_Brau_0Jhf"
      },
      "source": [
        "# 3.3.3 로지스틱 비용함수의 가중치 학습\n",
        "\n",
        "#### - **시그모이드 활성화 대비 로지스틱 비용 그래프**"
      ]
    },
    {
      "cell_type": "code",
      "metadata": {
        "colab": {
          "base_uri": "https://localhost:8080/",
          "height": 297
        },
        "id": "3oKTF-2L0XaX",
        "outputId": "ffc9af72-5bc0-4859-b2bb-afdab3b22615"
      },
      "source": [
        "# φ(z) 값에 대한 분류 비용\n",
        "\n",
        "def cost_1(z):\n",
        "  return - np.log(sigmoid(z))\n",
        "\n",
        "def cost_0(z):\n",
        "  return - np.log(1 - sigmoid(z))\n",
        "\n",
        "z = np.arange(-10, 10, 0.1)\n",
        "phi_z = sigmoid(z)\n",
        "c1 = [cost_1(x) for x in z]\n",
        "plt.plot(phi_z, c1, label='J(w) y=1일 때')\n",
        "c0 = [cost_0(x) for x in z]\n",
        "plt.plot(phi_z, c0, linestyle='--', label='J(w) y=0일 때')\n",
        "plt.ylim(0.0, 5.1)\n",
        "plt.xlim([0, 1])\n",
        "plt.xlabel('$\\phi$(z)')\n",
        "plt.ylabel('J(w)')\n",
        "plt.tight_layout()\n",
        "plt.show()"
      ],
      "execution_count": null,
      "outputs": [
        {
          "output_type": "display_data",
          "data": {
            "image/png": "[encoded data removed]",
            "text/plain": [
              "<Figure size 432x288 with 1 Axes>"
            ]
          },
          "metadata": {
            "tags": [],
            "needs_background": "light"
          }
        }
      ]
    },
    {
      "cell_type": "markdown",
      "metadata": {
        "id": "n8i0zVAC1ANR"
      },
      "source": [
        "x축은 0에서 1까지 범위의 **시그모이드 활성화 값**이고,<br>\n",
        "y축은 해당하는 **로지스틱 비용**이다.<br><br>\n",
        "클래스 **1**에 속한 샘플(**실선**)은 **정확히 예측**하면 **비용이 0**에 가까워진다.<br>\n",
        "클래스 **0**에 속한 샘플(**점선**)은 y=0으로 **정확히 예측**하면 y축의 **비용이 0**에 가까워진다.<br>\n",
        "예측이 **잘못**되면 **비용이 무한대**가 되며, **잘못된 예측에 점점 더 큰 비용을 부여**한다."
      ]
    }
  ]
}
