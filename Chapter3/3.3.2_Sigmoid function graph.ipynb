{
  "nbformat": 4,
  "nbformat_minor": 0,
  "metadata": {
    "colab": {
      "name": "3.3.ipynb",
      "provenance": [],
      "authorship_tag": "ABX9TyM+kJxzjjowfwmVnI9y1ZfO",
      "include_colab_link": true
    },
    "kernelspec": {
      "name": "python3",
      "display_name": "Python 3"
    },
    "language_info": {
      "name": "python"
    }
  },
  "cells": [
    {
      "cell_type": "markdown",
      "metadata": {
        "id": "view-in-github",
        "colab_type": "text"
      },
      "source": [
        "<a href=\"https://colab.research.google.com/github/woukl22/MachineLearningStudy_PythonMachineLearning3rdEd/blob/main/3.3.2_Sigmoid%20function%20graph.ipynb\" target=\"_parent\"><img src=\"https://colab.research.google.com/assets/colab-badge.svg\" alt=\"Open In Colab\"/></a>"
      ]
    },
    {
      "cell_type": "markdown",
      "metadata": {
        "id": "bi9RA0q4tMxv"
      },
      "source": [
        "# 3.3.2 다중클래스를 위한 로지스틱 회귀\n",
        "\n",
        "#### - ***시그모이드 함수 그리기***"
      ]
    },
    {
      "cell_type": "code",
      "metadata": {
        "colab": {
          "base_uri": "https://localhost:8080/",
          "height": 297
        },
        "id": "6u76OiSjtJ9H",
        "outputId": "22a37ab7-7ced-4f08-9a8c-2eed558346be"
      },
      "source": [
        "import matplotlib.pyplot as plt\n",
        "import numpy as np\n",
        "\n",
        "def sigmoid(z):\n",
        "  return 1.0 / (1.0 + np.exp(-z))\n",
        "\n",
        "z = np.arange(-7, 7, 0.1)\n",
        "phi_z = sigmoid(z)\n",
        "plt.plot(z, phi_z)\n",
        "plt.axvline(0.0, color='k')\n",
        "plt.ylim(-0.1, 1.1)\n",
        "plt.xlabel('z')\n",
        "plt.ylabel('$\\phi (z)$')\n",
        "\n",
        "# y축의 눈금과 격자선\n",
        "plt.yticks([0.0, 0.5, 1.0])\n",
        "ax = plt.gca()\n",
        "ax.yaxis.grid(True)\n",
        "plt.tight_layout()\n",
        "plt.show()"
      ],
      "execution_count": 1,
      "outputs": [
        {
          "output_type": "display_data",
          "data": {
            "image/png": "[encoded data removed]",
            "text/plain": [
              "<Figure size 432x288 with 1 Axes>"
            ]
          },
          "metadata": {
            "tags": [],
            "needs_background": "light"
          }
        }
      ]
    },
    {
      "cell_type": "markdown",
      "metadata": {
        "id": "FpWrJ55_uTlw"
      },
      "source": [
        "z가 무한대로 가면**(z -> ∞)** φ(z)는 **1**에 가까워진다.<br>\n",
        "z가 음의 무한대로 가면**(z -> -∞)** φ(z)는 **0**에 수렴한다.<br>\n",
        "중간은 **φ(0) = 0.5**이다.\n",
        "\n",
        "시그모이드 함수는 **실수 입력 값을 [0, 1] 사이의 값으로 변환**한다."
      ]
    }
  ]
}
