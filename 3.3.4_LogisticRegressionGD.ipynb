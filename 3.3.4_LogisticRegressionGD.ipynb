{
  "nbformat": 4,
  "nbformat_minor": 0,
  "metadata": {
    "colab": {
      "name": "Untitled0.ipynb",
      "provenance": [],
      "authorship_tag": "ABX9TyM7rieSvyLenOKVfhApLkoa",
      "include_colab_link": true
    },
    "kernelspec": {
      "name": "python3",
      "display_name": "Python 3"
    },
    "language_info": {
      "name": "python"
    }
  },
  "cells": [
    {
      "cell_type": "markdown",
      "metadata": {
        "id": "view-in-github",
        "colab_type": "text"
      },
      "source": [
        "<a href=\"https://colab.research.google.com/github/woukl22/MachineLearningStudy_PythonMachineLearning3rdEd/blob/main/3.3.4_LogisticRegressionGD.ipynb\" target=\"_parent\"><img src=\"https://colab.research.google.com/assets/colab-badge.svg\" alt=\"Open In Colab\"/></a>"
      ]
    },
    {
      "cell_type": "markdown",
      "metadata": {
        "id": "P-eew5ql3aX4"
      },
      "source": [
        "# 3.3.4 아달린 구현을 로지스틱 회귀 알고리즘으로 변경\n",
        "\n",
        "#### - **로지스틱 회귀 구현**"
      ]
    },
    {
      "cell_type": "code",
      "metadata": {
        "id": "iVqNSlYT0_G7"
      },
      "source": [
        "# 로지스틱 회귀를 구현하려면 아달린 구현에서 비용 함수 J를 새로운 비용 함수로 바꾸기만 하면 된다.\n",
        "\n",
        "class LogisticRegressionGD(object):\n",
        "  \"\"\"경사 하강법을 사용한 로지스틱 회귀 분류기\n",
        "\n",
        "  매개변수\n",
        "  ----------\n",
        "  eta : float\n",
        "    학습률 (0.0과 1.0 사이)\n",
        "  n_iter: int\n",
        "    훈련 데이터셋 반복 횟수\n",
        "  random_state : int\n",
        "    가중치 무작위 초기화를 위한 난수 생성기 시드\n",
        "\n",
        "  속성\n",
        "  ---------\n",
        "  w_ : 1d-array\n",
        "    학습된 가중치\n",
        "  cost_ : list\n",
        "    에프코마다 누적된 로지스틱 비용 함수 값\n",
        "\n",
        "  \"\"\"\n",
        "  def __init__(self, eta=0.05, n_iter=100, random_state=1):\n",
        "    self.eta = eta\n",
        "    self.n_iter = n_iter\n",
        "    self.random_state = random_state\n",
        "\n",
        "  def fit(self, X, y):\n",
        "    \"\"\"훈련 데이터 학습\n",
        "\n",
        "    매개변수\n",
        "    ----------\n",
        "    X : {array-like}, shape = [n_samples, n_features]\n",
        "      n_samples개의 샘플과 n_features개의 특성으로 이루어진 훈련 데이터\n",
        "    y : array-like, shape = [n_samples]\n",
        "      타깃 값\n",
        "\n",
        "    반환값\n",
        "    --------\n",
        "    self : object\n",
        "\n",
        "    \"\"\"\n",
        "    rgen = np.random.RandomState(self.random_state)\n",
        "    self.w_ = rgen.normal(loc=0.0, scale=0.01, size=1 + X.shape[1])\n",
        "    self.cost_ = []\n",
        "\n",
        "    for i in range(self.n_iter):\n",
        "      net_input = self.net_input(X)\n",
        "      output = self.activation(net_input)\n",
        "      errors = (y - output)\n",
        "      self.w_[1:] += self.eta * X.T.dot(errors)\n",
        "      self.w_[0] += self.eta * errors.sum()\n",
        "\n",
        "      # 제곱 오차합 대신 로지스틱 비용을 계산합니다\n",
        "      cost = (-y.dot(np.log(output)) - ((1-y).dot(np.log(1 - output))))\n",
        "      self.cost_.append(cost)\n",
        "    return self\n",
        "  \n",
        "  def net_input(self, X):\n",
        "    \"\"\"최종 입력 계산\"\"\"\n",
        "    return np.dot(X, self.w_[1:]) + self.w_[0]\n",
        "  \n",
        "  def activation(self, z):\n",
        "    \"\"\"로지스틱 시그모이드 활성화 계산\"\"\"\n",
        "    return 1. / (1. + np.exp(-np.clip(z, -250, 250)))\n",
        "  \n",
        "  def predict(self, X):\n",
        "    \"\"\"단위 계단 함수를 사용하여 클래스 레이블을 반환합니다\"\"\"\n",
        "    return np.where(self.net_input(X) >= 0.0, 1, 0)\n",
        "    # 다음과 동일합니다\n",
        "    # return np.where(self.activation(self.net_input(X)) >= 0.5, 1, 0)"
      ],
      "execution_count": null,
      "outputs": []
    },
    {
      "cell_type": "markdown",
      "metadata": {
        "id": "qiu0gZXp5cAT"
      },
      "source": [
        "직접 구현한 로지스틱 모델은 이진 분류 모델에만 적용할 수 있다.<br><br>\n",
        "\n",
        "#### - **로지스틱 모델이 만든 결정 경계**\n",
        "\n",
        "*(Iris-setosa와 Iris-versicolor 붓꽃 분류)*"
      ]
    },
    {
      "cell_type": "code",
      "metadata": {
        "colab": {
          "base_uri": "https://localhost:8080/",
          "height": 297
        },
        "id": "UWPCCXIy5XBz",
        "outputId": "632a4bcf-0c3f-41e8-8d34-b6ec555bc2f2"
      },
      "source": [
        "X_train_01_subset = X_train[(y_train == 0) | (y_train == 1)]\n",
        "y_train_01_subset = y_train[(y_train == 0) | (y_train == 1)]\n",
        "\n",
        "lrgd = LogisticRegressionGD(eta=0.05, n_iter=1000, random_state=1)\n",
        "lrgd.fit(X_train_01_subset, y_train_01_subset)\n",
        "\n",
        "plot_decision_regions(X=X_train_01_subset,\n",
        "                      y=y_train_01_subset,\n",
        "                      classifier=lrgd)\n",
        "plt.xlabel('petal length [standardized]')\n",
        "plt.ylabel('petal width [standardized]')\n",
        "plt.legend(loc='upper left')\n",
        "plt.tight_layout()\n",
        "plt.show()"
      ],
      "execution_count": null,
      "outputs": [
        {
          "output_type": "display_data",
          "data": {
            "image/png": "[encoded data removed]",
            "text/plain": [
              "<Figure size 432x288 with 1 Axes>"
            ]
          },
          "metadata": {
            "tags": [],
            "needs_background": "light"
          }
        }
      ]
    }
  ]
}